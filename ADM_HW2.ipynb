{
  "cells": [
    {
      "cell_type": "markdown",
      "metadata": {
        "id": "Ru2YAJa6aSL7"
      },
      "source": [
        "# The Best Books of All Time\n",
        "## Homework for Algorithmic Methods of Data Mining and Laboratory 2023/2024\n",
        "\n",
        "**Students:**\n",
        "\n",
        "- Di Giammarco - 1838403 - digiammarco.1838403@studenti.uniroma1.it\n",
        "- Pazzini Matteo - 1868953 -pazzini.1868953@studenti.uniroma1.it\n",
        "- Satarova Begaiym - 2056861 - satarova.2056861@studenti.uniroma1.it"
      ]
    },
    {
      "cell_type": "code",
      "execution_count": 3,
      "metadata": {
        "ExecuteTime": {
          "end_time": "2023-10-31T17:29:46.410713961Z",
          "start_time": "2023-10-31T17:29:45.759675479Z"
        },
        "id": "eHjQZ8KgNKV1"
      },
      "outputs": [],
      "source": [
        "import pandas as pd\n",
        "import numpy as np\n"
      ]
    },
    {
      "cell_type": "markdown",
      "metadata": {
        "id": "PDUbgtK7NKWB"
      },
      "source": [
        "## [RQ1]\n",
        "Exploratory Data Analysis (EDA) - Before working on your research questions, you should provide meaningful statistical summaries through visualizations and tabular tools to understand your data."
      ]
    },
    {
      "cell_type": "markdown",
      "metadata": {
        "id": "o5LTXt_ENKWI"
      },
      "source": [
        "### Analyze the data"
      ]
    },
    {
      "cell_type": "markdown",
      "metadata": {
        "id": "wdab4JeONKWJ"
      },
      "source": [
        "First thing first, let's load the two datasets."
      ]
    },
    {
      "cell_type": "code",
      "execution_count": 2,
      "metadata": {
        "ExecuteTime": {
          "end_time": "2023-10-31T17:30:12.860464548Z",
          "start_time": "2023-10-31T17:29:50.905036176Z"
        },
        "id": "DYC0qwpMNKWK"
      },
      "outputs": [],
      "source": [
        "data_auth = pd.read_json('lighter_authors.json',lines=True)\n",
        "data_auth.drop([\"about\",\"image_url\"],axis=1,inplace=True)"
      ]
    },
    {
      "cell_type": "code",
      "execution_count": 4,
      "metadata": {
        "ExecuteTime": {
          "end_time": "2023-10-31T17:19:04.627665408Z",
          "start_time": "2023-10-31T17:11:57.301746208Z"
        },
        "id": "rlDDJ05MNKWM"
      },
      "outputs": [],
      "source": [
        "data_books = pd.read_json('lighter_books.json',lines=True,chunksize=100000)\n",
        "TOTAL_DF = pd.DataFrame()\n",
        "for chunk in data_books:  #drop columns that are not useful or that are redundant\n",
        "    PARTIAL_DATA = chunk[['id', 'title', 'authors', 'author_name', 'author_id', 'work_id','language', 'average_rating', 'rating_dist',\n",
        "       'ratings_count', 'text_reviews_count', 'publication_date',\n",
        "       'original_publication_date', 'format','num_pages']]\n",
        "    TOTAL_DF = pd.concat([TOTAL_DF,PARTIAL_DATA])\n"
      ]
    },
    {
      "cell_type": "markdown",
      "metadata": {
        "id": "58T6eZk-NKWS"
      },
      "source": [
        "As we can see, TOTAL_DF must be loaded in chunks since it's nearly impossible to read it in one go. Also, useless columns are dropped since they don't add anything to the data analysis. Columns containg descriptions or url (in general \"strings\") are extremely heavy on the memory, and unless we are performing operations on such columns we can drop them."
      ]
    },
    {
      "cell_type": "code",
      "execution_count": 5,
      "metadata": {
        "id": "DXNTf1PDNKWW",
        "outputId": "07656378-92c6-4c77-cc1d-1f3b92883e62"
      },
      "outputs": [
        {
          "data": {
            "text/html": [
              "<div>\n",
              "<style scoped>\n",
              "    .dataframe tbody tr th:only-of-type {\n",
              "        vertical-align: middle;\n",
              "    }\n",
              "\n",
              "    .dataframe tbody tr th {\n",
              "        vertical-align: top;\n",
              "    }\n",
              "\n",
              "    .dataframe thead th {\n",
              "        text-align: right;\n",
              "    }\n",
              "</style>\n",
              "<table border=\"1\" class=\"dataframe\">\n",
              "  <thead>\n",
              "    <tr style=\"text-align: right;\">\n",
              "      <th></th>\n",
              "      <th>ratings_count</th>\n",
              "      <th>average_rating</th>\n",
              "      <th>text_reviews_count</th>\n",
              "      <th>work_ids</th>\n",
              "      <th>book_ids</th>\n",
              "      <th>works_count</th>\n",
              "      <th>id</th>\n",
              "      <th>name</th>\n",
              "      <th>gender</th>\n",
              "      <th>fans_count</th>\n",
              "    </tr>\n",
              "  </thead>\n",
              "  <tbody>\n",
              "    <tr>\n",
              "      <th>0</th>\n",
              "      <td>2862064</td>\n",
              "      <td>4.19</td>\n",
              "      <td>62681</td>\n",
              "      <td>[3078186, 135328, 1877624, 74123, 3078120, 104...</td>\n",
              "      <td>[386162, 13, 8695, 8694, 6091075, 365, 569429,...</td>\n",
              "      <td>106</td>\n",
              "      <td>4</td>\n",
              "      <td>Douglas Adams</td>\n",
              "      <td>male</td>\n",
              "      <td>19826</td>\n",
              "    </tr>\n",
              "    <tr>\n",
              "      <th>1</th>\n",
              "      <td>1417316</td>\n",
              "      <td>4.02</td>\n",
              "      <td>84176</td>\n",
              "      <td>[613469, 2305997, 940892, 2611786, 7800569, 31...</td>\n",
              "      <td>[9791, 21, 28, 24, 7507825, 27, 10538, 25, 26,...</td>\n",
              "      <td>75</td>\n",
              "      <td>7</td>\n",
              "      <td>Bill Bryson</td>\n",
              "      <td>male</td>\n",
              "      <td>16144</td>\n",
              "    </tr>\n",
              "    <tr>\n",
              "      <th>2</th>\n",
              "      <td>56159</td>\n",
              "      <td>4.53</td>\n",
              "      <td>352</td>\n",
              "      <td>[17150, 808427, 20487307, 90550, 25460625, 171...</td>\n",
              "      <td>[349254, 15222, 14833682, 15221, 18126815, 152...</td>\n",
              "      <td>14</td>\n",
              "      <td>10</td>\n",
              "      <td>Jude Fisher</td>\n",
              "      <td>female</td>\n",
              "      <td>60</td>\n",
              "    </tr>\n",
              "    <tr>\n",
              "      <th>3</th>\n",
              "      <td>3302</td>\n",
              "      <td>3.79</td>\n",
              "      <td>480</td>\n",
              "      <td>[4417, 14300808, 14780, 3796968, 44703121, 103...</td>\n",
              "      <td>[40, 9416484, 12482, 3753106, 26889789, 104764...</td>\n",
              "      <td>45</td>\n",
              "      <td>12</td>\n",
              "      <td>James Hamilton-Paterson</td>\n",
              "      <td>male</td>\n",
              "      <td>72</td>\n",
              "    </tr>\n",
              "    <tr>\n",
              "      <th>4</th>\n",
              "      <td>7979</td>\n",
              "      <td>3.60</td>\n",
              "      <td>772</td>\n",
              "      <td>[13330815, 19109351, 42306244, 72694240, 26291...</td>\n",
              "      <td>[8466327, 15739968, 22756778, 51026133, 260451...</td>\n",
              "      <td>61</td>\n",
              "      <td>14</td>\n",
              "      <td>Mark Watson</td>\n",
              "      <td>male</td>\n",
              "      <td>179</td>\n",
              "    </tr>\n",
              "  </tbody>\n",
              "</table>\n",
              "</div>"
            ],
            "text/plain": [
              "   ratings_count  average_rating  text_reviews_count  \\\n",
              "0        2862064            4.19               62681   \n",
              "1        1417316            4.02               84176   \n",
              "2          56159            4.53                 352   \n",
              "3           3302            3.79                 480   \n",
              "4           7979            3.60                 772   \n",
              "\n",
              "                                            work_ids  \\\n",
              "0  [3078186, 135328, 1877624, 74123, 3078120, 104...   \n",
              "1  [613469, 2305997, 940892, 2611786, 7800569, 31...   \n",
              "2  [17150, 808427, 20487307, 90550, 25460625, 171...   \n",
              "3  [4417, 14300808, 14780, 3796968, 44703121, 103...   \n",
              "4  [13330815, 19109351, 42306244, 72694240, 26291...   \n",
              "\n",
              "                                            book_ids  works_count  id  \\\n",
              "0  [386162, 13, 8695, 8694, 6091075, 365, 569429,...          106   4   \n",
              "1  [9791, 21, 28, 24, 7507825, 27, 10538, 25, 26,...           75   7   \n",
              "2  [349254, 15222, 14833682, 15221, 18126815, 152...           14  10   \n",
              "3  [40, 9416484, 12482, 3753106, 26889789, 104764...           45  12   \n",
              "4  [8466327, 15739968, 22756778, 51026133, 260451...           61  14   \n",
              "\n",
              "                      name  gender  fans_count  \n",
              "0            Douglas Adams    male       19826  \n",
              "1              Bill Bryson    male       16144  \n",
              "2              Jude Fisher  female          60  \n",
              "3  James Hamilton-Paterson    male          72  \n",
              "4              Mark Watson    male         179  "
            ]
          },
          "execution_count": 5,
          "metadata": {},
          "output_type": "execute_result"
        }
      ],
      "source": [
        "data_auth.head()"
      ]
    },
    {
      "cell_type": "code",
      "execution_count": 6,
      "metadata": {
        "id": "E4rO_6IkNKWa",
        "outputId": "96475802-38a0-42dc-a1be-7ab0403ae432"
      },
      "outputs": [
        {
          "data": {
            "text/html": [
              "<div>\n",
              "<style scoped>\n",
              "    .dataframe tbody tr th:only-of-type {\n",
              "        vertical-align: middle;\n",
              "    }\n",
              "\n",
              "    .dataframe tbody tr th {\n",
              "        vertical-align: top;\n",
              "    }\n",
              "\n",
              "    .dataframe thead th {\n",
              "        text-align: right;\n",
              "    }\n",
              "</style>\n",
              "<table border=\"1\" class=\"dataframe\">\n",
              "  <thead>\n",
              "    <tr style=\"text-align: right;\">\n",
              "      <th></th>\n",
              "      <th>id</th>\n",
              "      <th>title</th>\n",
              "      <th>authors</th>\n",
              "      <th>author_name</th>\n",
              "      <th>author_id</th>\n",
              "      <th>work_id</th>\n",
              "      <th>language</th>\n",
              "      <th>average_rating</th>\n",
              "      <th>rating_dist</th>\n",
              "      <th>ratings_count</th>\n",
              "      <th>text_reviews_count</th>\n",
              "      <th>publication_date</th>\n",
              "      <th>original_publication_date</th>\n",
              "      <th>format</th>\n",
              "      <th>num_pages</th>\n",
              "    </tr>\n",
              "  </thead>\n",
              "  <tbody>\n",
              "    <tr>\n",
              "      <th>0</th>\n",
              "      <td>2</td>\n",
              "      <td>Harry Potter and the Order of the Phoenix (Har...</td>\n",
              "      <td>[{'id': '1077326', 'name': 'J.K. Rowling', 'ro...</td>\n",
              "      <td>J.K. Rowling</td>\n",
              "      <td>1077326</td>\n",
              "      <td>2809203</td>\n",
              "      <td>eng</td>\n",
              "      <td>4.50</td>\n",
              "      <td>5:1674064|4:664833|3:231195|2:41699|1:16215|to...</td>\n",
              "      <td>2628006</td>\n",
              "      <td>44716</td>\n",
              "      <td>2004-09</td>\n",
              "      <td>2003-06-21</td>\n",
              "      <td>Paperback</td>\n",
              "      <td>870</td>\n",
              "    </tr>\n",
              "    <tr>\n",
              "      <th>1</th>\n",
              "      <td>3</td>\n",
              "      <td>Harry Potter and the Sorcerer's Stone (Harry P...</td>\n",
              "      <td>[{'id': '1077326', 'name': 'J.K. Rowling', 'ro...</td>\n",
              "      <td>J.K. Rowling</td>\n",
              "      <td>1077326</td>\n",
              "      <td>4640799</td>\n",
              "      <td>eng</td>\n",
              "      <td>4.48</td>\n",
              "      <td>5:4801606|4:1681521|3:623286|2:145898|1:125040...</td>\n",
              "      <td>7377351</td>\n",
              "      <td>116930</td>\n",
              "      <td>2003-11-01</td>\n",
              "      <td>1997-06-26</td>\n",
              "      <td>Hardcover</td>\n",
              "      <td>309</td>\n",
              "    </tr>\n",
              "    <tr>\n",
              "      <th>2</th>\n",
              "      <td>4</td>\n",
              "      <td>Harry Potter and the Chamber of Secrets (Harry...</td>\n",
              "      <td>None</td>\n",
              "      <td>J.K. Rowling</td>\n",
              "      <td>1077326</td>\n",
              "      <td>6231171</td>\n",
              "      <td>eng</td>\n",
              "      <td>4.43</td>\n",
              "      <td>5:1690166|4:781011|3:313727|2:54687|1:15453|to...</td>\n",
              "      <td>2855044</td>\n",
              "      <td>55286</td>\n",
              "      <td>2003-11-01</td>\n",
              "      <td>1998-07-02</td>\n",
              "      <td>Hardcover</td>\n",
              "      <td>352</td>\n",
              "    </tr>\n",
              "    <tr>\n",
              "      <th>3</th>\n",
              "      <td>5</td>\n",
              "      <td>Harry Potter and the Prisoner of Azkaban (Harr...</td>\n",
              "      <td>[{'id': '1077326', 'name': 'J.K. Rowling', 'ro...</td>\n",
              "      <td>J.K. Rowling</td>\n",
              "      <td>1077326</td>\n",
              "      <td>2402163</td>\n",
              "      <td>eng</td>\n",
              "      <td>4.57</td>\n",
              "      <td>5:1994597|4:696545|3:212678|2:28915|1:13959|to...</td>\n",
              "      <td>2946694</td>\n",
              "      <td>58023</td>\n",
              "      <td>2004-05-01</td>\n",
              "      <td>1999-07-08</td>\n",
              "      <td>Mass Market Paperback</td>\n",
              "      <td>435</td>\n",
              "    </tr>\n",
              "    <tr>\n",
              "      <th>4</th>\n",
              "      <td>6</td>\n",
              "      <td>Harry Potter and the Goblet of Fire (Harry Pot...</td>\n",
              "      <td>[{'id': '1077326', 'name': 'J.K. Rowling', 'ro...</td>\n",
              "      <td>J.K. Rowling</td>\n",
              "      <td>1077326</td>\n",
              "      <td>3046572</td>\n",
              "      <td>eng</td>\n",
              "      <td>4.56</td>\n",
              "      <td>5:1808039|4:663849|3:193604|2:27759|1:12425|to...</td>\n",
              "      <td>2705676</td>\n",
              "      <td>48637</td>\n",
              "      <td>2002-09-28</td>\n",
              "      <td>2000-07-08</td>\n",
              "      <td>Paperback</td>\n",
              "      <td>734</td>\n",
              "    </tr>\n",
              "  </tbody>\n",
              "</table>\n",
              "</div>"
            ],
            "text/plain": [
              "   id                                              title  \\\n",
              "0   2  Harry Potter and the Order of the Phoenix (Har...   \n",
              "1   3  Harry Potter and the Sorcerer's Stone (Harry P...   \n",
              "2   4  Harry Potter and the Chamber of Secrets (Harry...   \n",
              "3   5  Harry Potter and the Prisoner of Azkaban (Harr...   \n",
              "4   6  Harry Potter and the Goblet of Fire (Harry Pot...   \n",
              "\n",
              "                                             authors   author_name  author_id  \\\n",
              "0  [{'id': '1077326', 'name': 'J.K. Rowling', 'ro...  J.K. Rowling    1077326   \n",
              "1  [{'id': '1077326', 'name': 'J.K. Rowling', 'ro...  J.K. Rowling    1077326   \n",
              "2                                               None  J.K. Rowling    1077326   \n",
              "3  [{'id': '1077326', 'name': 'J.K. Rowling', 'ro...  J.K. Rowling    1077326   \n",
              "4  [{'id': '1077326', 'name': 'J.K. Rowling', 'ro...  J.K. Rowling    1077326   \n",
              "\n",
              "   work_id language  average_rating  \\\n",
              "0  2809203      eng            4.50   \n",
              "1  4640799      eng            4.48   \n",
              "2  6231171      eng            4.43   \n",
              "3  2402163      eng            4.57   \n",
              "4  3046572      eng            4.56   \n",
              "\n",
              "                                         rating_dist  ratings_count  \\\n",
              "0  5:1674064|4:664833|3:231195|2:41699|1:16215|to...        2628006   \n",
              "1  5:4801606|4:1681521|3:623286|2:145898|1:125040...        7377351   \n",
              "2  5:1690166|4:781011|3:313727|2:54687|1:15453|to...        2855044   \n",
              "3  5:1994597|4:696545|3:212678|2:28915|1:13959|to...        2946694   \n",
              "4  5:1808039|4:663849|3:193604|2:27759|1:12425|to...        2705676   \n",
              "\n",
              "   text_reviews_count publication_date original_publication_date  \\\n",
              "0               44716          2004-09                2003-06-21   \n",
              "1              116930       2003-11-01                1997-06-26   \n",
              "2               55286       2003-11-01                1998-07-02   \n",
              "3               58023       2004-05-01                1999-07-08   \n",
              "4               48637       2002-09-28                2000-07-08   \n",
              "\n",
              "                  format num_pages  \n",
              "0              Paperback       870  \n",
              "1              Hardcover       309  \n",
              "2              Hardcover       352  \n",
              "3  Mass Market Paperback       435  \n",
              "4              Paperback       734  "
            ]
          },
          "execution_count": 6,
          "metadata": {},
          "output_type": "execute_result"
        }
      ],
      "source": [
        "TOTAL_DF.head()"
      ]
    },
    {
      "cell_type": "code",
      "execution_count": 7,
      "metadata": {
        "id": "0KHZw43qNKWc",
        "outputId": "88f36ae3-9ac9-4b28-85bf-55fc35d2bd0d"
      },
      "outputs": [
        {
          "name": "stdout",
          "output_type": "stream",
          "text": [
            "<class 'pandas.core.frame.DataFrame'>\n",
            "RangeIndex: 351767 entries, 0 to 351766\n",
            "Data columns (total 10 columns):\n",
            " #   Column              Non-Null Count   Dtype  \n",
            "---  ------              --------------   -----  \n",
            " 0   ratings_count       351767 non-null  int64  \n",
            " 1   average_rating      351767 non-null  float64\n",
            " 2   text_reviews_count  351767 non-null  int64  \n",
            " 3   work_ids            351767 non-null  object \n",
            " 4   book_ids            351767 non-null  object \n",
            " 5   works_count         351767 non-null  int64  \n",
            " 6   id                  351767 non-null  int64  \n",
            " 7   name                351767 non-null  object \n",
            " 8   gender              351767 non-null  object \n",
            " 9   fans_count          351767 non-null  int64  \n",
            "dtypes: float64(1), int64(5), object(4)\n",
            "memory usage: 26.8+ MB\n"
          ]
        }
      ],
      "source": [
        "data_auth.info()"
      ]
    },
    {
      "cell_type": "code",
      "execution_count": 8,
      "metadata": {
        "id": "PNuaETmXNKWd",
        "outputId": "5c0071c4-ce54-4de6-843c-3d8bb5e16f4b"
      },
      "outputs": [
        {
          "name": "stdout",
          "output_type": "stream",
          "text": [
            "<class 'pandas.core.frame.DataFrame'>\n",
            "RangeIndex: 7027431 entries, 0 to 7027430\n",
            "Data columns (total 15 columns):\n",
            " #   Column                     Dtype  \n",
            "---  ------                     -----  \n",
            " 0   id                         int64  \n",
            " 1   title                      object \n",
            " 2   authors                    object \n",
            " 3   author_name                object \n",
            " 4   author_id                  int64  \n",
            " 5   work_id                    int64  \n",
            " 6   language                   object \n",
            " 7   average_rating             float64\n",
            " 8   rating_dist                object \n",
            " 9   ratings_count              int64  \n",
            " 10  text_reviews_count         int64  \n",
            " 11  publication_date           object \n",
            " 12  original_publication_date  object \n",
            " 13  format                     object \n",
            " 14  num_pages                  object \n",
            "dtypes: float64(1), int64(5), object(9)\n",
            "memory usage: 804.2+ MB\n"
          ]
        }
      ],
      "source": [
        "TOTAL_DF.info()"
      ]
    },
    {
      "cell_type": "markdown",
      "metadata": {
        "id": "MTIO_RVqNKWe"
      },
      "source": [
        "Let's now take a look at the NAN values, if any"
      ]
    },
    {
      "cell_type": "code",
      "execution_count": 9,
      "metadata": {
        "id": "6DfPiEDcNKWe",
        "outputId": "66976c52-9282-466a-a527-d940a9570bd7"
      },
      "outputs": [
        {
          "data": {
            "text/plain": [
              "id                            0.000000\n",
              "title                         0.000000\n",
              "authors                      76.254253\n",
              "author_name                   0.000000\n",
              "author_id                     0.000000\n",
              "work_id                       0.000000\n",
              "language                      0.000000\n",
              "average_rating                0.000000\n",
              "rating_dist                   0.000000\n",
              "ratings_count                 0.000000\n",
              "text_reviews_count            0.000000\n",
              "publication_date              0.000000\n",
              "original_publication_date     0.000000\n",
              "format                        0.000000\n",
              "num_pages                     0.000000\n",
              "dtype: float64"
            ]
          },
          "execution_count": 9,
          "metadata": {},
          "output_type": "execute_result"
        }
      ],
      "source": [
        "(TOTAL_DF.isnull().sum()/len(TOTAL_DF))*100"
      ]
    },
    {
      "cell_type": "markdown",
      "metadata": {
        "id": "A6ZgA-IsNKWf"
      },
      "source": [
        "More than 76% of the \"authors\" are missing, but that column lists every author that has contributed to a specific book, so the percentage makes sense if we think that usually just one person works on a book"
      ]
    },
    {
      "cell_type": "markdown",
      "metadata": {
        "id": "lGPpvIzGNKWg"
      },
      "source": [
        "### Statistics summary"
      ]
    },
    {
      "cell_type": "code",
      "execution_count": 10,
      "metadata": {
        "id": "qJy2rjidNKWh",
        "outputId": "25c1a860-2e36-40ce-da42-d751adbf74f4"
      },
      "outputs": [
        {
          "data": {
            "text/html": [
              "<div>\n",
              "<style scoped>\n",
              "    .dataframe tbody tr th:only-of-type {\n",
              "        vertical-align: middle;\n",
              "    }\n",
              "\n",
              "    .dataframe tbody tr th {\n",
              "        vertical-align: top;\n",
              "    }\n",
              "\n",
              "    .dataframe thead th {\n",
              "        text-align: right;\n",
              "    }\n",
              "</style>\n",
              "<table border=\"1\" class=\"dataframe\">\n",
              "  <thead>\n",
              "    <tr style=\"text-align: right;\">\n",
              "      <th></th>\n",
              "      <th>ratings_count</th>\n",
              "      <th>average_rating</th>\n",
              "      <th>text_reviews_count</th>\n",
              "      <th>works_count</th>\n",
              "      <th>id</th>\n",
              "      <th>fans_count</th>\n",
              "    </tr>\n",
              "  </thead>\n",
              "  <tbody>\n",
              "    <tr>\n",
              "      <th>count</th>\n",
              "      <td>3.517670e+05</td>\n",
              "      <td>351767.000000</td>\n",
              "      <td>351767.000000</td>\n",
              "      <td>3.517670e+05</td>\n",
              "      <td>3.517670e+05</td>\n",
              "      <td>351767.000000</td>\n",
              "    </tr>\n",
              "    <tr>\n",
              "      <th>mean</th>\n",
              "      <td>4.770586e+03</td>\n",
              "      <td>3.651194</td>\n",
              "      <td>330.993243</td>\n",
              "      <td>2.593714e+01</td>\n",
              "      <td>7.751861e+06</td>\n",
              "      <td>111.615731</td>\n",
              "    </tr>\n",
              "    <tr>\n",
              "      <th>std</th>\n",
              "      <td>9.769395e+04</td>\n",
              "      <td>1.211482</td>\n",
              "      <td>3857.539191</td>\n",
              "      <td>3.066083e+03</td>\n",
              "      <td>6.578409e+06</td>\n",
              "      <td>2661.018139</td>\n",
              "    </tr>\n",
              "    <tr>\n",
              "      <th>min</th>\n",
              "      <td>-4.100000e+01</td>\n",
              "      <td>-31.000000</td>\n",
              "      <td>0.000000</td>\n",
              "      <td>0.000000e+00</td>\n",
              "      <td>4.000000e+00</td>\n",
              "      <td>-33.000000</td>\n",
              "    </tr>\n",
              "    <tr>\n",
              "      <th>25%</th>\n",
              "      <td>6.000000e+00</td>\n",
              "      <td>3.600000</td>\n",
              "      <td>1.000000</td>\n",
              "      <td>2.000000e+00</td>\n",
              "      <td>1.535315e+06</td>\n",
              "      <td>1.000000</td>\n",
              "    </tr>\n",
              "    <tr>\n",
              "      <th>50%</th>\n",
              "      <td>3.900000e+01</td>\n",
              "      <td>3.950000</td>\n",
              "      <td>8.000000</td>\n",
              "      <td>6.000000e+00</td>\n",
              "      <td>6.470396e+06</td>\n",
              "      <td>4.000000</td>\n",
              "    </tr>\n",
              "    <tr>\n",
              "      <th>75%</th>\n",
              "      <td>3.100000e+02</td>\n",
              "      <td>4.250000</td>\n",
              "      <td>53.000000</td>\n",
              "      <td>1.500000e+01</td>\n",
              "      <td>1.434041e+07</td>\n",
              "      <td>20.000000</td>\n",
              "    </tr>\n",
              "    <tr>\n",
              "      <th>max</th>\n",
              "      <td>2.700375e+07</td>\n",
              "      <td>5.000000</td>\n",
              "      <td>608956.000000</td>\n",
              "      <td>1.775176e+06</td>\n",
              "      <td>2.124802e+07</td>\n",
              "      <td>766035.000000</td>\n",
              "    </tr>\n",
              "  </tbody>\n",
              "</table>\n",
              "</div>"
            ],
            "text/plain": [
              "       ratings_count  average_rating  text_reviews_count   works_count  \\\n",
              "count   3.517670e+05   351767.000000       351767.000000  3.517670e+05   \n",
              "mean    4.770586e+03        3.651194          330.993243  2.593714e+01   \n",
              "std     9.769395e+04        1.211482         3857.539191  3.066083e+03   \n",
              "min    -4.100000e+01      -31.000000            0.000000  0.000000e+00   \n",
              "25%     6.000000e+00        3.600000            1.000000  2.000000e+00   \n",
              "50%     3.900000e+01        3.950000            8.000000  6.000000e+00   \n",
              "75%     3.100000e+02        4.250000           53.000000  1.500000e+01   \n",
              "max     2.700375e+07        5.000000       608956.000000  1.775176e+06   \n",
              "\n",
              "                 id     fans_count  \n",
              "count  3.517670e+05  351767.000000  \n",
              "mean   7.751861e+06     111.615731  \n",
              "std    6.578409e+06    2661.018139  \n",
              "min    4.000000e+00     -33.000000  \n",
              "25%    1.535315e+06       1.000000  \n",
              "50%    6.470396e+06       4.000000  \n",
              "75%    1.434041e+07      20.000000  \n",
              "max    2.124802e+07  766035.000000  "
            ]
          },
          "execution_count": 10,
          "metadata": {},
          "output_type": "execute_result"
        }
      ],
      "source": [
        "data_auth.describe()"
      ]
    },
    {
      "cell_type": "code",
      "execution_count": 11,
      "metadata": {
        "id": "4dKmurZmNKWi",
        "outputId": "e53910b1-4c43-475e-a0b5-73c32c3594ce"
      },
      "outputs": [
        {
          "data": {
            "text/html": [
              "<div>\n",
              "<style scoped>\n",
              "    .dataframe tbody tr th:only-of-type {\n",
              "        vertical-align: middle;\n",
              "    }\n",
              "\n",
              "    .dataframe tbody tr th {\n",
              "        vertical-align: top;\n",
              "    }\n",
              "\n",
              "    .dataframe thead th {\n",
              "        text-align: right;\n",
              "    }\n",
              "</style>\n",
              "<table border=\"1\" class=\"dataframe\">\n",
              "  <thead>\n",
              "    <tr style=\"text-align: right;\">\n",
              "      <th></th>\n",
              "      <th>id</th>\n",
              "      <th>author_id</th>\n",
              "      <th>work_id</th>\n",
              "      <th>average_rating</th>\n",
              "      <th>ratings_count</th>\n",
              "      <th>text_reviews_count</th>\n",
              "    </tr>\n",
              "  </thead>\n",
              "  <tbody>\n",
              "    <tr>\n",
              "      <th>count</th>\n",
              "      <td>7.027431e+06</td>\n",
              "      <td>7.027431e+06</td>\n",
              "      <td>7.027431e+06</td>\n",
              "      <td>7.027431e+06</td>\n",
              "      <td>7.027431e+06</td>\n",
              "      <td>7.027431e+06</td>\n",
              "    </tr>\n",
              "    <tr>\n",
              "      <th>mean</th>\n",
              "      <td>1.326720e+07</td>\n",
              "      <td>1.977793e+06</td>\n",
              "      <td>1.398533e+07</td>\n",
              "      <td>3.306188e+00</td>\n",
              "      <td>1.945861e+04</td>\n",
              "      <td>6.417258e+02</td>\n",
              "    </tr>\n",
              "    <tr>\n",
              "      <th>std</th>\n",
              "      <td>7.637922e+06</td>\n",
              "      <td>3.210660e+06</td>\n",
              "      <td>1.535637e+07</td>\n",
              "      <td>1.435734e+00</td>\n",
              "      <td>1.609008e+05</td>\n",
              "      <td>4.169806e+03</td>\n",
              "    </tr>\n",
              "    <tr>\n",
              "      <th>min</th>\n",
              "      <td>2.000000e+00</td>\n",
              "      <td>4.000000e+00</td>\n",
              "      <td>6.200000e+01</td>\n",
              "      <td>0.000000e+00</td>\n",
              "      <td>0.000000e+00</td>\n",
              "      <td>0.000000e+00</td>\n",
              "    </tr>\n",
              "    <tr>\n",
              "      <th>25%</th>\n",
              "      <td>6.937444e+06</td>\n",
              "      <td>3.368200e+04</td>\n",
              "      <td>1.564717e+06</td>\n",
              "      <td>3.360000e+00</td>\n",
              "      <td>3.000000e+00</td>\n",
              "      <td>0.000000e+00</td>\n",
              "    </tr>\n",
              "    <tr>\n",
              "      <th>50%</th>\n",
              "      <td>1.422732e+07</td>\n",
              "      <td>2.499460e+05</td>\n",
              "      <td>6.759579e+06</td>\n",
              "      <td>3.810000e+00</td>\n",
              "      <td>4.500000e+01</td>\n",
              "      <td>5.000000e+00</td>\n",
              "    </tr>\n",
              "    <tr>\n",
              "      <th>75%</th>\n",
              "      <td>1.953942e+07</td>\n",
              "      <td>3.239281e+06</td>\n",
              "      <td>2.198795e+07</td>\n",
              "      <td>4.080000e+00</td>\n",
              "      <td>7.710000e+02</td>\n",
              "      <td>6.400000e+01</td>\n",
              "    </tr>\n",
              "    <tr>\n",
              "      <th>max</th>\n",
              "      <td>2.552102e+07</td>\n",
              "      <td>2.124802e+07</td>\n",
              "      <td>8.972161e+07</td>\n",
              "      <td>5.000000e+00</td>\n",
              "      <td>7.400639e+06</td>\n",
              "      <td>1.745240e+05</td>\n",
              "    </tr>\n",
              "  </tbody>\n",
              "</table>\n",
              "</div>"
            ],
            "text/plain": [
              "                 id     author_id       work_id  average_rating  \\\n",
              "count  7.027431e+06  7.027431e+06  7.027431e+06    7.027431e+06   \n",
              "mean   1.326720e+07  1.977793e+06  1.398533e+07    3.306188e+00   \n",
              "std    7.637922e+06  3.210660e+06  1.535637e+07    1.435734e+00   \n",
              "min    2.000000e+00  4.000000e+00  6.200000e+01    0.000000e+00   \n",
              "25%    6.937444e+06  3.368200e+04  1.564717e+06    3.360000e+00   \n",
              "50%    1.422732e+07  2.499460e+05  6.759579e+06    3.810000e+00   \n",
              "75%    1.953942e+07  3.239281e+06  2.198795e+07    4.080000e+00   \n",
              "max    2.552102e+07  2.124802e+07  8.972161e+07    5.000000e+00   \n",
              "\n",
              "       ratings_count  text_reviews_count  \n",
              "count   7.027431e+06        7.027431e+06  \n",
              "mean    1.945861e+04        6.417258e+02  \n",
              "std     1.609008e+05        4.169806e+03  \n",
              "min     0.000000e+00        0.000000e+00  \n",
              "25%     3.000000e+00        0.000000e+00  \n",
              "50%     4.500000e+01        5.000000e+00  \n",
              "75%     7.710000e+02        6.400000e+01  \n",
              "max     7.400639e+06        1.745240e+05  "
            ]
          },
          "execution_count": 11,
          "metadata": {},
          "output_type": "execute_result"
        }
      ],
      "source": [
        "TOTAL_DF.describe()"
      ]
    },
    {
      "cell_type": "code",
      "execution_count": 12,
      "metadata": {
        "id": "0oo_gMn4NKWj"
      },
      "outputs": [],
      "source": [
        "USABLE_DF = TOTAL_DF.copy() #create a copy of the dataset\n"
      ]
    },
    {
      "cell_type": "markdown",
      "metadata": {
        "id": "bwnsvcUnNKWj"
      },
      "source": [
        "In data_auth there's something wrong with the min, so we need to drop some values"
      ]
    },
    {
      "cell_type": "code",
      "execution_count": 13,
      "metadata": {
        "id": "VoAt2B0hNKWj"
      },
      "outputs": [],
      "source": [
        "data_auth = data_auth.loc[(data_auth[\"ratings_count\"]>=0) & (data_auth[\"average_rating\"] >=1) & (data_auth[\"fans_count\"] >=0)]"
      ]
    },
    {
      "cell_type": "markdown",
      "metadata": {
        "id": "OHDDqdiWNKWk"
      },
      "source": [
        "The dataset will be cleaned more during each and every question"
      ]
    },
    {
      "cell_type": "markdown",
      "metadata": {
        "id": "xO4rOkF9NKWk"
      },
      "source": [
        "## [RQ2] Let’s finally dig into this vast dataset, retrieving some vital information:"
      ]
    },
    {
      "cell_type": "markdown",
      "metadata": {
        "id": "YW0wDtl8NKWl"
      },
      "source": [
        "###Plot the number of books for each author in descending order"
      ]
    },
    {
      "cell_type": "code",
      "execution_count": 14,
      "metadata": {
        "ExecuteTime": {
          "end_time": "2023-10-31T17:30:14.741616216Z",
          "start_time": "2023-10-31T17:30:12.959444661Z"
        },
        "id": "5sAFI1cqNKWl",
        "outputId": "a920b646-27b2-4d29-c503-4e00b6028003"
      },
      "outputs": [
        {
          "data": {
            "text/plain": [
              "<Axes: xlabel='name'>"
            ]
          },
          "execution_count": 14,
          "metadata": {},
          "output_type": "execute_result"
        },
        {
          "data": {
            "image/png": "[encoded data removed]",
            "text/plain": [
              "<Figure size 640x480 with 1 Axes>"
            ]
          },
          "metadata": {},
          "output_type": "display_data"
        }
      ],
      "source": [
        "nb_books = data_auth[[\"name\",\"works_count\"]]\n",
        "nb_books = nb_books.sort_values(by=\"works_count\",ascending=False).iloc[1:21]\n",
        "nb_books.plot(x=\"name\",kind=\"bar\")"
      ]
    },
    {
      "cell_type": "markdown",
      "metadata": {
        "id": "7Sx-bKQnNKWm"
      },
      "source": [
        "As we can see, not every author is a person(some are Institutions). Also, we printed the first 20 in descending order to give an idea of the scale. Technically the first author was \"NOT A BOOK\" with more than 1.5 million books, but as specified in the \"about\" section, \"this profile was created to segregate those items which have ISBNs or ASINs but are not considered part of our catalog\""
      ]
    },
    {
      "cell_type": "markdown",
      "metadata": {
        "id": "FNB1NWnqNKWm"
      },
      "source": [
        "###Which book has the highest number of reviews?"
      ]
    },
    {
      "cell_type": "code",
      "execution_count": 15,
      "metadata": {
        "id": "CNDrl-fyNKWm"
      },
      "outputs": [],
      "source": [
        "USABLE_DF = USABLE_DF.loc[USABLE_DF[\"average_rating\"] >=1]"
      ]
    },
    {
      "cell_type": "code",
      "execution_count": 16,
      "metadata": {
        "ExecuteTime": {
          "end_time": "2023-10-31T17:30:31.279627964Z",
          "start_time": "2023-10-31T17:30:30.304610699Z"
        },
        "id": "MBIHIblHNKWm",
        "outputId": "804b189d-3234-4d09-d59c-85a42354fe49"
      },
      "outputs": [
        {
          "name": "stdout",
          "output_type": "stream",
          "text": [
            "The book with the highest number of reviews is Harry Potter und der Stein der Weisen (Harry Potter,#1)\n"
          ]
        }
      ],
      "source": [
        "rating_counts_book = USABLE_DF[[\"title\",\"ratings_count\"]]\n",
        "rating_counts_book = rating_counts_book.sort_values(by=\"ratings_count\",ascending=False).iloc[0][0]\n",
        "print(\"The book with the highest number of reviews is\", rating_counts_book)"
      ]
    },
    {
      "cell_type": "markdown",
      "metadata": {
        "id": "Y5MV6_MyNKWn"
      },
      "source": [
        "###Which are the top ten and ten worst books concerning the average score?"
      ]
    },
    {
      "cell_type": "code",
      "execution_count": 17,
      "metadata": {
        "colab": {
          "base_uri": "https://localhost:8080/",
          "height": 262
        },
        "id": "y7GW22JfNKWn",
        "outputId": "c230bc01-c375-4b86-ad9c-60f0ed48625f"
      },
      "outputs": [
        {
          "name": "stdout",
          "output_type": "stream",
          "text": [
            "                                                     title  average_rating\n",
            "2877874                                         Sin Killer             5.0\n",
            "3667969                                          White Oak             5.0\n",
            "318798   Bratty Brothers and Selfish Sisters: All about...             5.0\n",
            "5340272                        The Princess and the Popper             5.0\n",
            "1604861                                             D.N.A.             5.0\n",
            "6084871                                   Jahrhundertspiel             5.0\n",
            "6084876                                     Ties that bind             5.0\n",
            "6084885                                      Rund der Hund             5.0\n",
            "5340260                              Medieval Tile Designs             5.0\n",
            "1604840  Life Application Bible: New Testament: The Liv...             5.0\n",
            "                                                     title  average_rating\n",
            "2524320                            Sensual Phrase Chapters             1.0\n",
            "5739507       Successful Affiliate Marketing for Merchants             1.0\n",
            "3259488  Trace Diagram: Mathematics, Linear Algebra, Mu...             1.0\n",
            "3259489  Spin network: Physics, Quantum Mechanics, Matr...             1.0\n",
            "1992060  Fantastic Brain Games: Develop Your Mental Agi...             1.0\n",
            "4498524      Job Jabs: A 'Gotcha' Book-Book #1 in a Series             1.0\n",
            "345377   Strange Visitors (Stories for the Telling (Big...             1.0\n",
            "3259527                                       The Big Race             1.0\n",
            "5739185  Good Questions Have Small Groups Talking -- James             1.0\n",
            "2632510                                    The God of Love             1.0\n"
          ]
        }
      ],
      "source": [
        "Highest_score = USABLE_DF.sort_values(by=\"average_rating\",ascending=False).iloc[:10]\n",
        "Lowest_score = USABLE_DF.sort_values(by=\"average_rating\").iloc[:10]\n",
        "#Highest_score[[\"name\",\"average_score\"]].\n",
        "print(Highest_score[[\"title\",\"average_rating\"]])\n",
        "print(Lowest_score[[\"title\",\"average_rating\"]])"
      ]
    },
    {
      "cell_type": "markdown",
      "metadata": {
        "id": "icqSJdIwNKWo"
      },
      "source": [
        "As we can see, 1 and 5 ratings are present and taken into consideration"
      ]
    },
    {
      "cell_type": "markdown",
      "metadata": {
        "id": "DtlCfHi1NKWo"
      },
      "source": [
        "###Explore the different languages in the book’s dataset, providing a proper chart summarizing how these languages are distributed throughout our virtual library."
      ]
    },
    {
      "cell_type": "code",
      "execution_count": 18,
      "metadata": {
        "id": "qqv3kkA9NKWo",
        "outputId": "fce6540a-473f-404a-9bed-5664ce31e9c3"
      },
      "outputs": [
        {
          "data": {
            "text/plain": [
              "<Axes: ylabel='count'>"
            ]
          },
          "execution_count": 18,
          "metadata": {},
          "output_type": "execute_result"
        },
        {
          "data": {
            "image/png": "[encoded data removed]",
            "text/plain": [
              "<Figure size 640x480 with 1 Axes>"
            ]
          },
          "metadata": {},
          "output_type": "display_data"
        }
      ],
      "source": [
        "languages = USABLE_DF.loc[USABLE_DF[\"language\"]!='',:]\n",
        "languages = languages[\"language\"]\n",
        "languages.value_counts()[:10].plot.pie()"
      ]
    },
    {
      "cell_type": "markdown",
      "metadata": {
        "id": "LIgttsLhNKWp"
      },
      "source": [
        "With a pie chart it's easy to see that the majority of books are written in english"
      ]
    },
    {
      "cell_type": "markdown",
      "metadata": {
        "id": "mvhZ4XORNKWp"
      },
      "source": [
        "###How many books have more than 250 pages?"
      ]
    },
    {
      "cell_type": "code",
      "execution_count": 19,
      "metadata": {
        "id": "ybfqVnWxNKWq",
        "outputId": "a4364229-18ea-4836-a732-b6f6f976a683"
      },
      "outputs": [
        {
          "name": "stdout",
          "output_type": "stream",
          "text": [
            "The number of books with over 250 pages is 1651330\n"
          ]
        }
      ],
      "source": [
        "Number_books = USABLE_DF.loc[USABLE_DF[\"num_pages\"]!='',:]  #with this, we filter out everything that is not a number\n",
        "\n",
        "filtered = Number_books[Number_books[\"num_pages\"] > 250]\n",
        "print(\"The number of books with over 250 pages is\",filtered[\"num_pages\"].count())"
      ]
    },
    {
      "cell_type": "markdown",
      "metadata": {
        "id": "gJ_xIqDvNKWq"
      },
      "source": [
        "###Plot the distribution of the fans count for the 50 most prolific authors (the ones who have written more books)"
      ]
    },
    {
      "cell_type": "code",
      "execution_count": 20,
      "metadata": {
        "colab": {
          "base_uri": "https://localhost:8080/",
          "height": 245
        },
        "id": "LIqAfYsJNKWq",
        "outputId": "e4e88732-9673-47fb-de6c-72498eafff4c"
      },
      "outputs": [
        {
          "data": {
            "text/plain": [
              "<Axes: xlabel='name'>"
            ]
          },
          "execution_count": 20,
          "metadata": {},
          "output_type": "execute_result"
        },
        {
          "data": {
            "image/png": "[encoded data removed]",
            "text/plain": [
              "<Figure size 2000x500 with 1 Axes>"
            ]
          },
          "metadata": {},
          "output_type": "display_data"
        }
      ],
      "source": [
        "p_o = data_auth[[\"name\",\"works_count\",\"fans_count\"]]\n",
        "Prolific_authors = p_o.sort_values(by=\"works_count\",ascending=False).iloc[1:51]\n",
        "Prolific_authors[[\"name\",\"fans_count\"]].plot(x=\"name\",y=\"fans_count\",kind=\"bar\",figsize=(20,5))\n"
      ]
    },
    {
      "cell_type": "markdown",
      "metadata": {
        "id": "2Kty7oipNKWr"
      },
      "source": [
        "Even though they have more books, we notice that the amount of fans of \"U.S Congress\" is way less than (for instance) \"William Shakespeare\""
      ]
    },
    {
      "cell_type": "markdown",
      "metadata": {
        "id": "ix3Jx1yGNKW0"
      },
      "source": [
        "## [RQ3] Let’s have a historical look at the dataset!\n",
        "\n",
        "\n",
        "\n"
      ]
    },
    {
      "cell_type": "markdown",
      "metadata": {
        "id": "jYetdNPtcjTM"
      },
      "source": [
        "### Write a function that takes as input a year and returns as output the following information:\n",
        "\n",
        "   - The number of books published that year.\n",
        "\n",
        "   - The total number of pages written that year.\n",
        "\n",
        "   - The most prolific month of that year.\n",
        "\n",
        "   - The longest book written that year."
      ]
    },
    {
      "cell_type": "code",
      "execution_count": 21,
      "metadata": {
        "id": "avrSjCrQft8N"
      },
      "outputs": [],
      "source": [
        "USABLE_DF_1 = TOTAL_DF.copy()"
      ]
    },
    {
      "cell_type": "code",
      "execution_count": 22,
      "metadata": {
        "id": "3i19NMZHNKW0"
      },
      "outputs": [],
      "source": [
        "USABLE_DF_1['num_pages'] = USABLE_DF_1['num_pages'].replace(\"\", np.nan) # turns the \"\" values into nan in the column num_pages\n",
        "USABLE_DF_1['num_pages'] = USABLE_DF_1['num_pages'].astype('Int64') # turns the STRING MM into INT\n",
        "USABLE_DF_1['average_rating'] = USABLE_DF_1['average_rating'].replace(0, np.nan) # turns the 0 values into nan in the column average_rating"
      ]
    },
    {
      "cell_type": "code",
      "execution_count": 23,
      "metadata": {
        "id": "aV8s24bfNKW0"
      },
      "outputs": [],
      "source": [
        "import calendar\n",
        "def year_info(year):\n",
        "    year_df = USABLE_DF_1[USABLE_DF_1['year'] == year]\n",
        "    num_books = year_df['title'].count() # number of books published that year\n",
        "    total_pages = year_df['num_pages'].astype('Int64').fillna(0).sum() # total number of pages written that year considering NA as 0\n",
        "    most_prolific_month = year_df['month'].value_counts().idxmax() #most prolific month of that year.\n",
        "    longest_book = year_df.loc[year_df['num_pages'].idxmax()]['title'] # longest book written that year.\n",
        "    month_name = calendar.month_name[most_prolific_month]\n",
        "\n",
        "    print(f\"In the year {year} a total of {num_books} books have been published.\\n The total number of pages written in that year is {total_pages}, the most prolific month was {month_name}. \\n Lastly, the longest book was '{longest_book}'\")"
      ]
    },
    {
      "cell_type": "code",
      "execution_count": 24,
      "metadata": {
        "id": "tFkFxxdcNKW1"
      },
      "outputs": [],
      "source": [
        "USABLE_DF_1 = USABLE_DF_1.loc[USABLE_DF_1[\"publication_date\"]!='',:] #we take all the rows besides the empty ones\n",
        "#only YYYY,YYY,YY,Y,YYYY-MM-DD,YYY-MM-DD,YYYY-MM, YYY-MM\n",
        "USABLE_DF_1 = USABLE_DF_1[USABLE_DF_1.publication_date.str.contains(r'^\\d{1}$|^\\d{2}$|^\\d{3}$|^\\d{4}$|^\\d{4}-\\d{2}-\\d{2}$|^\\d{3}-\\d{2}-\\d{2}$|^\\d{4}-\\d{2}$|^\\d{3}-\\d{2}$')]"
      ]
    },
    {
      "cell_type": "code",
      "execution_count": 25,
      "metadata": {
        "id": "2mJPCM4SNKW2"
      },
      "outputs": [],
      "source": [
        "USABLE_DF_1['year'] = USABLE_DF_1['publication_date'].str.split('-').str[0] #take only the years out of the Regex\n",
        "USABLE_DF_1['year'] = USABLE_DF_1['year'].astype(int) # turns the STRING YYYY into INT\n",
        "USABLE_DF_1 = USABLE_DF_1[USABLE_DF_1['year'] < 2023] #takes the values before 2023"
      ]
    },
    {
      "cell_type": "code",
      "execution_count": 26,
      "metadata": {
        "id": "VJmkKDySNKW3"
      },
      "outputs": [],
      "source": [
        "USABLE_DF_1['month'] = USABLE_DF_1['publication_date'].str.split('-').str[1] #take only the months out of the Regex\n",
        "USABLE_DF_1['month'] = USABLE_DF_1['month'].astype('Int64') # turns the STRING MM into INT\n",
        "USABLE_DF_1 = USABLE_DF_1[(USABLE_DF_1['month'] >= 1) & (USABLE_DF_1['month'] <= 12)] #takes the values between 1 and 12"
      ]
    },
    {
      "cell_type": "code",
      "execution_count": 27,
      "metadata": {
        "id": "5b0hkLVCcaKR"
      },
      "outputs": [
        {
          "name": "stdout",
          "output_type": "stream",
          "text": [
            "In the year 2000 a total of 74920 books have been published.\n",
            " The total number of pages written in that year is 15239836, the most prolific month was January. \n",
            " Lastly, the longest book was 'When All You've Ever Wanted Isn't Enough / Harold S. Kushner'\n"
          ]
        }
      ],
      "source": [
        "#Example\n",
        "year_info(2000)"
      ]
    },
    {
      "cell_type": "markdown",
      "metadata": {
        "id": "yIHRMj-yNKW3"
      },
      "source": [
        "### Use this function to build your data frame: the primary key will be a year, and the required information will be the attributes within the row. Finally, show the head and the tail of this new data frame considering the first ten years registered and the last ten years."
      ]
    },
    {
      "cell_type": "code",
      "execution_count": 28,
      "metadata": {
        "id": "vB8ItVJONKW4"
      },
      "outputs": [],
      "source": [
        "#Here is the same function as before but without the long print and just a return\n",
        "def year_info(year):\n",
        "    year_df = USABLE_DF_1[USABLE_DF_1['year'] == year]\n",
        "    num_books = year_df['title'].count() # number of books published that year\n",
        "    total_pages = year_df['num_pages'].astype('Int64').fillna(0).sum() # total number of pages written that year considering NA as 0\n",
        "    most_prolific_month = year_df['month'].value_counts().idxmax() #most prolific month of that year.\n",
        "    longest_book = year_df.loc[year_df['num_pages'].idxmax()]['title'] # longest book written that year.\n",
        "\n",
        "    return num_books, total_pages, most_prolific_month, longest_book"
      ]
    },
    {
      "cell_type": "code",
      "execution_count": 29,
      "metadata": {
        "id": "rqltgQXNNKW5"
      },
      "outputs": [],
      "source": [
        "def add_to_df():\n",
        "    n = int(input(\"How many years would you like to write? \"))\n",
        "    data_dict = {}\n",
        "    for i in range(n):\n",
        "        new_year = int(input(\"Please give me a year: \"))\n",
        "        year_data = year_info(new_year)\n",
        "        data_dict[new_year] = {\n",
        "            'num_books': year_data[0],\n",
        "            'total_pages': year_data[1],\n",
        "            'most_prolific_month': year_data[2],\n",
        "            'longest_book': year_data[3]\n",
        "        }\n",
        "    new_df = pd.DataFrame.from_dict(data_dict, orient='index') #create a dataframe from the dictionary\n",
        "    new_df.index.name = 'Year' #name of the index is 'Year'\n",
        "    print(f\"Congrats, you created this DataFrame:\\n{new_df}\\n\\n Here is head(10):\\n{new_df.head(10)}\\n\\n And here is the tail(10): \\n{new_df.tail(10)}\")"
      ]
    },
    {
      "cell_type": "code",
      "execution_count": 30,
      "metadata": {
        "id": "Pc4AayIdNKW7",
        "outputId": "14f439f7-a5e3-4f7b-e946-a29553dfb7ef"
      },
      "outputs": [
        {
          "ename": "ValueError",
          "evalue": "invalid literal for int() with base 10: ''",
          "output_type": "error",
          "traceback": [
            "\u001b[1;31m---------------------------------------------------------------------------\u001b[0m",
            "\u001b[1;31mValueError\u001b[0m                                Traceback (most recent call last)",
            "\u001b[1;32mc:\\Users\\Matt\\Desktop\\HMW_2\\ADM_HW2.ipynb Cell 53\u001b[0m line \u001b[0;36m1\n\u001b[1;32m----> <a href='vscode-notebook-cell:/c%3A/Users/Matt/Desktop/HMW_2/ADM_HW2.ipynb#Y105sZmlsZQ%3D%3D?line=0'>1</a>\u001b[0m add_to_df()\n",
            "\u001b[1;32mc:\\Users\\Matt\\Desktop\\HMW_2\\ADM_HW2.ipynb Cell 53\u001b[0m line \u001b[0;36m2\n\u001b[0;32m      <a href='vscode-notebook-cell:/c%3A/Users/Matt/Desktop/HMW_2/ADM_HW2.ipynb#Y105sZmlsZQ%3D%3D?line=0'>1</a>\u001b[0m \u001b[39mdef\u001b[39;00m \u001b[39madd_to_df\u001b[39m():\n\u001b[1;32m----> <a href='vscode-notebook-cell:/c%3A/Users/Matt/Desktop/HMW_2/ADM_HW2.ipynb#Y105sZmlsZQ%3D%3D?line=1'>2</a>\u001b[0m     n \u001b[39m=\u001b[39m \u001b[39mint\u001b[39;49m(\u001b[39minput\u001b[39;49m(\u001b[39m\"\u001b[39;49m\u001b[39mHow many years would you like to write? \u001b[39;49m\u001b[39m\"\u001b[39;49m))\n\u001b[0;32m      <a href='vscode-notebook-cell:/c%3A/Users/Matt/Desktop/HMW_2/ADM_HW2.ipynb#Y105sZmlsZQ%3D%3D?line=2'>3</a>\u001b[0m     data_dict \u001b[39m=\u001b[39m {}\n\u001b[0;32m      <a href='vscode-notebook-cell:/c%3A/Users/Matt/Desktop/HMW_2/ADM_HW2.ipynb#Y105sZmlsZQ%3D%3D?line=3'>4</a>\u001b[0m     \u001b[39mfor\u001b[39;00m i \u001b[39min\u001b[39;00m \u001b[39mrange\u001b[39m(n):\n",
            "\u001b[1;31mValueError\u001b[0m: invalid literal for int() with base 10: ''"
          ]
        }
      ],
      "source": [
        "add_to_df()\n"
      ]
    },
    {
      "cell_type": "markdown",
      "metadata": {
        "id": "ZFqJtIl0c32W"
      },
      "source": [
        "### Ask ChatGPT or any other LLM chatbot tool to implement this function and compare your work with the one the bot gave you as an answer. Does the chatbot implementation work? Please test it out and verify the correctness of the implementation, explaining the process you followed to prove it."
      ]
    },
    {
      "cell_type": "code",
      "execution_count": 32,
      "metadata": {
        "id": "hSeRaOjOc6kU"
      },
      "outputs": [],
      "source": [
        "#CHATGPT code:\n",
        "import pandas as pd\n",
        "\n",
        "def get_yearly_info(year):\n",
        "    # Filter the DataFrame for the given year\n",
        "    yearly_df = USABLE_DF_1[USABLE_DF_1['year'] == year]\n",
        "\n",
        "    # Number of books published that year\n",
        "    num_books = yearly_df.shape[0]\n",
        "\n",
        "    # Total number of pages written that year\n",
        "    total_pages = yearly_df['num_pages'].sum()\n",
        "\n",
        "    # Find the most prolific month of that year\n",
        "    month_counts = yearly_df['month'].value_counts()\n",
        "    most_prolific_month = month_counts.idxmax()\n",
        "    most_prolific_month_count = month_counts.max()\n",
        "\n",
        "    # Find the longest book written that year\n",
        "    longest_book = yearly_df[yearly_df['num_pages'] == yearly_df['num_pages'].max()]\n",
        "\n",
        "    if not longest_book.empty:\n",
        "        longest_book_title = longest_book.iloc[0]['title']\n",
        "        longest_book_pages = longest_book.iloc[0]['num_pages']\n",
        "    else:\n",
        "        longest_book_title = \"N/A\"\n",
        "        longest_book_pages = 0\n",
        "\n",
        "    return {\n",
        "        \"Year\": year,\n",
        "        \"Number of Books Published\": num_books,\n",
        "        \"Total Number of Pages Written\": total_pages,\n",
        "        \"Most Prolific Month\": most_prolific_month,\n",
        "        \"Books Published in Most Prolific Month\": most_prolific_month_count,\n",
        "        \"Longest Book Title\": longest_book_title,\n",
        "        \"Longest Book Pages\": longest_book_pages\n",
        "    }"
      ]
    },
    {
      "cell_type": "markdown",
      "metadata": {
        "id": "rh8evVXyc-tF"
      },
      "source": [
        "The chatbot implementation works\n",
        "In order to test it out and verify the correctness of the implementation we'll use both the functions and check if they have the same answer"
      ]
    },
    {
      "cell_type": "code",
      "execution_count": 33,
      "metadata": {
        "id": "tUu3s9QDc_r3"
      },
      "outputs": [
        {
          "name": "stdout",
          "output_type": "stream",
          "text": [
            "{'Year': 2021, 'Number of Books Published': 200, 'Total Number of Pages Written': 47114, 'Most Prolific Month': 1, 'Books Published in Most Prolific Month': 75, 'Longest Book Title': 'Policing', 'Longest Book Pages': 1736}\n",
            "200 47114 1 Policing\n"
          ]
        }
      ],
      "source": [
        "year = 2021\n",
        "#CHATGPT\n",
        "year_info_chat = get_yearly_info(year)\n",
        "print(year_info_chat)\n",
        "#OURS\n",
        "year_info_ours = year_info(year)\n",
        "num_books, total_pages, most_prolific_month, longest_book = year_info_ours\n",
        "print(num_books, total_pages, most_prolific_month, longest_book)"
      ]
    },
    {
      "cell_type": "markdown",
      "metadata": {
        "id": "pvuGuke8NKW7"
      },
      "source": [
        "## [RQ4] Quirks questions about consistency. In most cases, we will not have a consistent dataset, and the one we are dealing with is no exception. So, let's enhance our analysis."
      ]
    },
    {
      "cell_type": "markdown",
      "metadata": {
        "id": "9DiDDbs5NKW8"
      },
      "source": [
        "### You should be sure there are no eponymous (different authors who have precisely the same name) in the author's dataset. Is it true?\n"
      ]
    },
    {
      "cell_type": "code",
      "execution_count": 34,
      "metadata": {
        "id": "s1B3dF0uNKW8"
      },
      "outputs": [],
      "source": [
        "import difflib\n",
        "\n",
        "\n",
        "def remove_similar_names(data_auth):\n",
        "    '''\n",
        "    Using difflib we can compute the difference between two hashable strings. The higher the ratio, the\n",
        "    more similar the strings are. If the threshold is extremely high (95% in this case), then the name is\n",
        "    pretty much the same. By creating a list of similar name, we can drop that list from the original df\n",
        "    '''\n",
        "\n",
        "    similar_names = set()\n",
        "    Unique = data_auth[\"name\"].drop_duplicates().dropna().tolist()\n",
        "\n",
        "\n",
        "    for name1, name2 in zip(Unique, Unique[1:]):\n",
        "\n",
        "        similarity = difflib.SequenceMatcher(None, name1, name2).ratio()\n",
        "\n",
        "        if (similarity > 0.95):\n",
        "            similar_names.add(name1)\n",
        "            similar_names.add(name2)\n",
        "\n",
        "    filtered_data = data_auth[~data_auth['name'].isin(similar_names)]\n",
        "\n",
        "    return filtered_data\n",
        "\n",
        "data_auth = remove_similar_names(data_auth)\n",
        "\n"
      ]
    },
    {
      "cell_type": "markdown",
      "metadata": {
        "id": "epgtmv3vNKW9"
      },
      "source": [
        "The answer is no. There are eponymous in our dataset"
      ]
    },
    {
      "cell_type": "markdown",
      "metadata": {
        "id": "mlIBLmalNKW9"
      },
      "source": [
        "### Write a function that, given a list of author_id, outputs a dictionary where each author_id is a key, and the related value is a list with the names of all the books the author has written."
      ]
    },
    {
      "cell_type": "code",
      "execution_count": 35,
      "metadata": {
        "id": "d4Y9XralNKW9",
        "is_executing": true,
        "outputId": "9e338695-c31b-46e3-c441-586d722ceba7"
      },
      "outputs": [
        {
          "name": "stdout",
          "output_type": "stream",
          "text": [
            "{1077326: ['Harry Potter and the Order of the Phoenix (Harry Potter, #5)', \"Harry Potter and the Sorcerer's Stone (Harry Potter, #1)\", 'Harry Potter and the Chamber of Secrets (Harry Potter, #2)', 'Harry Potter and the Prisoner of Azkaban (Harry Potter, #3)', 'Harry Potter and the Goblet of Fire (Harry Potter, #4)', 'The Harry Potter Collection (Harry Potter, #1-6)', 'Harry Potter Boxed Set, Books 1-5 (Harry Potter, #1-5)', 'Harry Potter Collection (Harry Potter, #1-6)', 'Harry Potter Schoolbooks Box Set: Two Classic Books from the Library of Hogwarts School of Witchcraft and Wizardry', 'Harry Potter and the Half-Blood Prince (Harry Potter, #6)', 'Harry Potter et la Chambre des Secrets (Harry Potter, #2)', 'Harry Potter y la piedra filosofal (Harry Potter, #1)', 'Harry Potter Y La Piedra Filosofal (Harry Potter, #1)', \"Harry Potter and the Philosopher's Stone\", 'Harry Potter and the Prisoner of Azkaban (Harry Potter, #3)', '混血王子的背叛 (哈利波特, #6)', '火盃的考驗 (哈利波特, #4)', 'Harry Potter y la piedra filosofal (Harry Potter, #1)', \"Harry Potter à l'école des sorciers (Harry Potter, #1)\", 'Harry Potter y el misterio del príncipe (Harry Potter, #6)', 'Harry Potter y la cámara secreta (Harry Potter, #2)', 'Harry Potter y la Orden del Fénix (Harry Potter, #5)', 'Harrius Potter et Philosophi Lapis', 'Harry Potter and the Chamber of Secrets (Harry Potter, #2)', 'Harrius Potter et Camera Secretorum', 'Harry Potter et la Chambre des Secrets (Harry Potter, #2)', 'Harry Potter and the Order of the Phoenix', 'Harry Potter y la Orden del Fénix (Harry Potter, #5)', \"Harry Potter Et L'ordre De Phenix (Harry Potter, #5)\", 'Гарри Поттер и Орден Феникса (Гарри Поттер #5)', '해리포터와 불사조 기사단 [Part 1 of 5]', \"Harry Potter and the Sorcerer's Stone (Harry Potter, #1)\", 'Harry Potter and the Goblet of Fire (Harry Potter, #4)', 'Harry Potter und die Kammer des Schreckens (Harry Potter, #2)', 'Harry Potter und der Gefangene von Askaban (Harry Potter, #3)', 'Harry Potter ve Sırlar Odası (Harry Potter, #2)', 'Harry Potter und der Feuerkelch (Harry Potter, #4)', 'Harry Potter und der Gefangene von Askaban (Harry Potter, #3)', 'Harry Potter ve Felsefe Taşı', \"Harry Potter and the Philosopher's Stone (Harry Potter, #1)\", 'Harry Potter y la piedra filosofal (Harry Potter, #1)', 'Гарри Поттер и философский камень (Гарри Поттер #1)', 'Harry Potter e il Calice di Fuoco (Harry Potter, #4)', 'Harry Potter and the Goblet of Fire (Harry Potter, #4)', 'Harry Potter und der Stein der Weisen (Harry Potter, #1)', 'Harry Potter Boxed Set (Harry Potter, #1-4)', 'Harry Potter y el prisionero de Azkaban (Harry Potter, #3)', 'Ἄρειος Ποτὴρ καὶ ἡ τοῦ φιλοσόφου λίθος (Ἅρειος Ποτῆρ #1)', 'Harry Potter y el cáliz de fuego (Harry Potter, #4)', \"Harry Potter et le Prisonnier d'Azkaban (Harry Potter, #3)\", 'Harry Potter and the Prisoner of Azkaban (Harry Potter, #3)', 'Harry Potter and the Goblet of Fire (Harry Potter, #4)', 'Harry Potter and the Chamber of Secrets (Harry Potter, #2)', 'Harry Potter and the Chamber of Secrets (Harry Potter, #2)', \"Harry Potter and the Philosopher's Stone (Harry Potter, #1)\", 'Harri Potter a Maen yr Athronydd (Harry Potter, #1)', 'Harry Potter e la Pietra Filosofale', \"Harry Potter and the Philosopher's Stone (Harry Potter, #1)\", '해리 포터와 마법사의 돌 2 (Harry Potter #1, part 2 of 2)', \"Harry Potter and the Philosopher's Stone (Harry Potter, #1)\", 'Harrius Potter et Philosophi Lapis', \"Harry Potter and the Philosopher's Stone (Harry Potter, #1)\", \"Harry Potter and the Philosopher's Stone (Harry Potter, #1)\", 'הארי פוטר ואבן החכמים (Harry Potter, #1)', '해리 포터와 마법사의 돌 1 (Harry Potter #1, part 1 of 2)', \"Harry Potter and the Philosopher's Stone\", \"Harry Potter and the Philosopher's Stone (Harry Potter, #1)\", \"Harry Potter and the Philosopher's Stone (Harry Potter, #1)\", \"Harry Potter and the Philosopher's Stone (Harry Potter, #1)\", 'Harry Potter and the Goblet of Fire (Harry Potter, #4)', 'Гарри Поттер и Кубок огня (Гарри Поттер #4)', 'هاري بوتر وكأس النار (Harry Potter, #4)', 'Harry Potter y el cáliz de fuego (Harry Potter, #4)', 'Harry Potter and the Half-Blood Prince (Harry Potter, #6)', 'هاري بوتر وسجين أزكابان (Harry Potter, #3)', \"Harry Potter Et Le Prisonnier D'azkaban (Harry Potter, #3)\", 'Harry Potter aur Azkaban ka Qaidi (Harry Potter, #3)', 'Haris Poteris ir Azkabano kalinys (Haris Poteris, #3)', 'Harry Potter and the Chamber of Secrets (Harry Potter, #2)', 'Harry Potter and the Chamber of Secrets (Harry Potter, #2)', 'Harry Potter und der Feuerkelch (Harry Potter, #4)', 'Harry Potter agus an Órchloch', 'Гарри Поттер и узник Азкабана (Гарри Поттер #3)', \"Harry Potter et l'Ordre du Phénix (Harry Potter #5)\", 'هاري بوتر وجماعة العنقاء (Harry Potter, #5)', 'Harry Potter and the Order of the Phoenix', '해리포터와 불사조 기사단 [Part 5 of 5]', '해리포터와 불사조 기사단 [Part 3 of 5]', '해리포터와 불사조 기사단 [Part 2 of 5]', '해리포터와 불사조 기사단 [Part 4 of 5]', 'Harry Potter and the Order of the Phoenix', 'Harry Potter and the Order of the Phoenix (Harry Potter, #5)', '哈利·波特与凤凰社 (哈利·波特 #5)', 'Harry Potter y la Orden Del Fenix', 'Harry Potter und der Orden des Phoenix', \"Harry Potter e l'Ordine della Fenice\", 'Harry Potter and the Half-blood Prince (Harry Potter, #6)', 'Harry Potter et le Prince de Sang-Mêlé (Harry Potter, #6)', 'Harry Potter und der Halbblutprinz (Harry Potter, #6)', 'Harry Potter et le Prince de Sang Mele (Harry Potter, #6)', 'Гарри Поттер и Принц-полукровка (Гарри Поттер #6)', 'Harry Potter and the Half-Blood Prince (Harry Potter, #6)', '哈利·波特与混血王子 (哈利·波特 #6)', 'Harry Potter e il Principe Mezzosangue (Harry Potter, #6)', 'Harry Potter und der Halbblutprinz (Harry Potter, #6)', 'Harry Potter and the Deathly Hallows (Harry Potter, #7)', \"Harry Potter and the Sorcerer's Stone (Harry Potter, #1)\", 'Harry Potter and the Prisoner of Azkaban (Harry Potter, #3)', 'Harry Potter Boxed Set (Harry Potter, #1-3)', 'Harry Potter and the Chamber of Secrets (Harry Potter, #2)', \"Harry Potter and the Philosopher's Stone (Harry Potter, #1)\", 'Harry Potter et la chambre des secrets (Harry Potter, #2)', 'Harry Potter e a Câmara Secreta (Harry Potter, #2)', '해리 포터와 비밀의 방 1 (Harry Potter #2, part 1 of 2)', 'Harry Potter y la Camara Secreta (Harry Potter, #2)', 'Harry Potter aur Razon ka Kamra (Harry Potter, #2)', '해리 포터와 비밀의 방 2 (Harry Potter #2, part 2 of 2)', '해리포터와 아즈카반의 죄수 Vol. 2 of 2', \"Harry Potter et le prisonnier d'Azkaban\", 'Harry Potter y el prisionero de Azkabán (Harry Potter, #3)', 'Harry Potter and the Order of the Phoenix (Harry Potter, #5)', \"Harry Potter and the Sorcerer's Stone (Harry Potter, #1)\", 'هاري بوتر وحجر الفيلسوف (Harry Potter, #1)', 'Harry Potter y la piedra filosofal (Harry Potter, #1)', 'Harry Potter y la Cámara Secreta (Harry Potter, #2)', 'Harry Potter y el Prisionero de Azkaban (Harry Potter, #3)', 'Harry Potter y el Cáliz de Fuego (Harry Potter, #4)', 'Harry Potter y la Orden del Fénix (Harry Potter, #5)', 'Harry Potter y el misterio del príncipe (Harry Potter, #6)', 'Harry Potter and the Half-Blood Prince (Harry Potter, #6)', 'Harry Potter y El Prisionero de Azkaban (Harry Potter, #3)', 'The Harry Potter Collection 1-4 (Harry Potter, #1-4)', 'Quidditch Through The Ages And Fantastic Beasts And Where To Find Them', 'Harry Potter et la Coupe de Feu (Harry Potter, #4)', 'Harry Potter y el Caliz de Fuego (Harry Potter, #4)', 'Harry Potter y el cáliz de fuego (Harry Potter, #4)', '해리포터와 불의 잔 (Vol 2 of 4)', '해리포터와 불의 잔 (Vol 4 of 4)', '해리포터와 불의 잔 (Vol 3 of 4)', 'Haris Poteris ir Ugnies Taurė (Haris Poteris, #4)', '해리포터와 불의 잔 (Vol 1 of 4)', '哈利·波特与火焰杯 (哈利·波特 #4)', 'Harry Potter y el misterio del principe (Harry Potter, #6)', 'The Harry Potter Collection (Harry Potter, #1-4)', 'Harry Potter and the Order of the Phoenix', 'Harry Potter and the Order of the Phoenix (Harry Potter, #5)', 'Harry Potter and the Order of the Phoenix (Harry Potter, #5)', 'Harry Potter et la Chambre des Secrets (Harry Potter, #2)', \"Harry Potter and the Sorcerer's Stone (Harry Potter, #1)\", \"Harry Potter et l'Ordre du Phénix (Harry Potter, #5)\", 'Harry Potter and the Deathly Hallows (Harry Potter, #7)', 'Harry Potter und der Stein der Weisen (Harry Potter, #1)', 'Harry Potter Y El Prisionero De Azkaban (Harry Potter, #3)', 'Harry Potter and the Half-Blood Prince (Harry Potter, #6)', 'Harry Potter und der Stein der Weisen (Harry Potter, #1)', 'Harry Potter und der Stein der Weisen (Harry Potter, #1)', 'Harry Potter und die Kammer des Schreckens (Harry Potter, #2)', 'Harry Potter und die Kammer des Schreckens (Harry Potter, #2)', 'Harry Potter und die Kammer des Schreckens (Harry Potter, #2)', 'Harry Potter und der Gefangene von Askaban (Harry Potter, #3)', 'Harry Potter und der Feuerkelch (Harry Potter, #4)', 'Harry Potter Y La Orden Del Fenix (Harry Potter, #5)', 'Harry Potter y La Orden del Fénix (Harry Potter, #5)', 'Harry Potter und der Stein der Weisen (Harry Potter, #1)', 'Harry Potter und die Kammer des Schreckens (Harry Potter, #2)', 'Harry Potter y la piedra filosofal (Harry Potter, #1)', \"Harry Potter and the Sorcerer's Stone (Harry Potter, #1)\", \"Harry Potter et l'Ordre du Phénix (Harry Potter, #5)\", 'Harry Potter e a Ordem da Fênix (Harry Potter, #5)', 'Harry Potter Aur Aag Ka Piyalah (Harry Potter, #4)', 'Harry Potter en die Towenaar se Steen (Harry Potter, #1)', \"Harry Potter and the Philosopher's Stone (Harry Potter, #1)\", 'Harry Potter e il Prigioniero di Azkaban', 'Harry Potter and the Half-Blood Prince (Harry Potter, #6)', 'Harry Potter and the Chamber of Secrets (Harry Potter, #2)', \"Harry Potter and the Sorcerer's Stone (Harry Potter, #1)\", \"Harry Potter and the Sorcerer's Stone (Harry Potter, #1)\", '哈利·波特与密室 (哈利·波特 #2)', 'Harry Potter and the Chamber of Secrets (Harry Potter, #2)', '해리포터와 혼혈왕자 2 (해리포터 #6, Vol. 2 of 4)', 'Harry Potter and the Prisoner of Azkaban (Harry Potter, #3)', 'Harry Potter e il prigioniero di Azkaban (Harry Potter, #3)', \"Harry Potter à l'école des sorciers (Harry Potter, #1)\", 'हैरी पॉटर और पारस पत्थर (हैरी पॉटर #1)', '神秘的魔法石 (哈利波特, #1)', '해리포터와 아즈카반의 죄수 Vol. 1 of 2', 'Harry Potter Boxed Set (Harry Potter, #1-5)', 'Harry Potter and the Chamber of Secrets (Harry Potter, #2)', \"Harry Potter and the Philosopher's Stone (Harry Potter, #1)\", 'Harry Potter e la camera dei segreti (Harry Potter, #2)', \"Harry Potter et le prisonnier d'Azkaban (Harry Potter, #3)\", 'Harry Potter and the Prisoner of Azkaban (Harry Potter, #3)', 'Harry Potter a vězeň z Azkabanu (Harry Potter, #3)', 'Harry Potter y la piedra filosofal (Harry Potter, #1)', 'Harry Potter y La Piedra Filosofal (Harry Potter, #1)', 'Harry Potter y la piedra filosofal (Harry Potter, #1)', 'Harry Potter y la piedra filosofal (Harry Potter, #1)', 'Harry Potter y la piedra filosofal (Harry Potter, #1)', 'Harry Potter and the Prisoner of Azkaban (Harry Potter, #3)', 'Harry Potter Box Set (Harry Potter, #1-3)', 'Harry Potter Boxed Set (Harry Potter, #1-5)', 'Harry Potter Box Set (Harry Potter, #1-5)', 'Harry Potter y el Caliz de Fuego (Harry Potter, #4)', 'Harry Potter y la Orden del Fénix (Harry Potter, #5)', 'Harry Potter y El Prisionero de Azkaban (Harry Potter, #3)', 'Harry Potter y la Cámara Secreta (Harry Potter, #2)', 'Harry Potter and the Order of the Phoenix', 'Harry Potter and the Prisoner of Azkaban (Harry Potter, #3)', 'Harry Potter and the Goblet of Fire (Harry Potter, #4)', 'Harry Potter and the Order of the Phoenix', 'Harry Potter, coffret 4 volumes (Harry Potter, #1-4)', 'Harry Potter Og Flammernes Pokal (Harry Potter, #4)', '해리포터와 혼혈왕자 1 (해리포터 #6, Vol. 1 of 4)', '해리포터와 혼혈왕자 3 (해리포터 #6, Vol. 3 of 4)', 'Harry Potter and the Half-Blood Prince (Harry Potter, #6)', 'Harry Potter and the Prisoner of Azkaban (Harry Potter, #3)', 'Harry Potter and the Chamber of Secrets (Harry Potter, #2)', 'Harry Potter and the Goblet of Fire (Harry Potter, #4)', \"Harry Potter and the Sorcerer's Stone (Harry Potter, #1)\", 'Harry Potter and the Prisoner of Azkaban (Harry Potter, #3)', 'Harry Potter and the Order of the Phoenix (Harry Potter, #5)', 'Harry Potter and the Chamber of Secrets', 'Harry Potter y El Prisionero de Azkaban (Harry Potter, #3)', 'Harry Potter y el cáliz de fuego (Harry Potter, #4)', 'Harry Potter y el Caliz de Fuego (Harry Potter, #4)', 'هاري بوتر و حرجة أل أسر (هاري بوتر #2)', 'Harry Potter and the Order of the Phoenix (Harry Potter, #5)', 'Harry Potter y la cámara secreta (Harry Potter #2)', 'Harry Potter y el prisionero de Azkaban (Harry Potter, #3)', 'Harry Potter and the Prisoner of Azkaban (Harry Potter, #3)', 'Harry Potter Ve Azkaban Tutsağı (Harry Potter, #3)', 'Harry Potter and the Goblet of Fire (Harry Potter, #4)', 'Harry Potter e o Prisioneiro de Azkaban (Harry Potter, #3)', \"Harry Potter: Harry Potter à L'Ecole Des Sorciers / Harry Potter Et La Chambre Des Secrets / Harry Potter Et Le Prisonnaire D'Azkaban / Harry Potter et la Coupe de Feu (Harry Potter, #1-4)\", 'Гарри Поттер и Тайная комната (Гарри Поттер #2)', 'Haris Poteris ir Paslapčių Kambarys (Haris Poteris, #2)', 'Harry Potter et la Chambre des Secrets (Harry Potter, #2)', 'Harry Potter y la cámara secreta', 'Harry Potter e o Enigma do Príncipe (Harry Potter, #6)', \"Harry Potter à l'école des sorciers (Harry Potter, #1)\", 'Harry Potter Y El Prisionero De Azkaban (Harry Potter, #3)', 'Harry Potter and the Order of the Phoenix (Harry Potter, #5)', 'Harry Potter and the Order of the Phoenix (Harry Potter, #5)', 'Harry Potter and the Prisoner of Azkaban (Harry Potter, #3)', 'The Harry Potter Quartet Collection (Harry Potter, #1-4)', 'Harry Potter and the Prisoner of Azkaban (Harry Potter, #3)', 'Harry Potter y la Orden del Fenix', 'Harry Potter y la cámara secreta (Harry Potter, #2)', 'Harry Potter and the Deathly Hallows (Harry Potter, #7)', 'Harry Potter and the Deathly Hallows (Harry Potter, #7)', 'Harry Potter and the Chamber of Secrets (Harry Potter, #2)', 'Haris Poteris ir Išminties Akmuo (Haris Poteris, #1)', 'Quidditch Through the Ages & Fantastic Beasts and Where to Find Them', 'Harry Potter. Magisches Tagebuch. Ausgabe Grün', 'Harry Potter und der Stein der Weisen (Harry Potter, #1)', 'Harry Potter and the Order of the Phoenix (Harry Potter, #5)', 'Harry Potter and the Deathly Hallows (Harry Potter, #7)', 'Harry Potter and the Order of the Phoenix (Harry Potter, #5)', 'Harry Potter and the Goblet of Fire (Harry Potter, #4)', '鳳凰會的密令 (哈利波特, #5)', 'Harry Potter et la Coupe de Feu (Harry Potter, #4)', 'Harry Potter and the Chamber of Secrets (Harry Potter, #2)', \"Harry Potter and the Sorcerer's Stone (Harry Potter, #1)\", \"Harry Potter and the Philosopher's Stone (Harry Potter, #1)\", 'Harry Potter and the Chamber of Secrets (Harry Potter, #2)', 'Harry Potter and the Goblet of Fire (Harry Potter, #4)', 'Harry Potter and the Prisoner of Azkaban (Harry Potter, #3)', 'Harry Potter and the Chamber of Secrets (Harry Potter, #2)', 'Harry Potter und die Kammer des Schreckens (Harry Potter, #2)', \"Harry Potter and the Sorcerer's Stone (Harry Potter, #1)\", 'Harry Potter and the Half-Blood Prince (Harry Potter, #6)', '哈利·波特与魔法石 (哈利·波特 #1)', '哈利·波特与阿兹卡班的囚徒 (哈利·波特 #3)', 'Harry Potter y el Caliz de Fuego (Harry Potter, #4)', 'Harry Potter und der Feuerkelch (Harry Potter, #4)', 'Harry Potter Boxed Set (Harry Potter, #1-4)', 'Harry Potter et la Chambre des Secrets (Harry Potter, #2)', 'Harry Potter Boxed Set (Harry Potter, #1-6)', 'Harry Potter Boxed Set (Harry Potter, #1-6)', 'Harry Potter and the Chamber of Secrets (Harry Potter, #2)', 'Harry Potter y el misterio del príncipe', \"Harry Potter and the Sorcerer's Stone (Harry Potter, #1)\", 'Harry Potter agus an Órchloch', \"Harry Potter and the Philosopher's Stone (Harry Potter, #1)\", \"Harry Potter et le prisonnier d'Azkaban (Harry Potter, #3)\", 'Harry Potter et la Coupe de Feu (Harry Potter, #4)', 'Harry Potter y la cámara secreta (Harry Potter, #2)', 'Harry Potter and the Prisoner of Azkaban (Harry Potter, #3)', 'Harry Potter and the Goblet of Fire (Harry Potter, #4)', 'Harry Potter und der Feuerkelch (Harry Potter, #4)', 'Harry Potter and the Goblet of Fire (Harry Potter, #4)', 'Harry Potter and the Order of the Phoenix', 'Harry Potter und der Stein der Weisen (Harry Potter, #1)', 'Harry Potter and the Deathly Hallows (Harry Potter, #7)', 'Harry Potter and the Deathly Hallows (Harry Potter, #7)', 'Harry Potter and the Half-Blood Prince (Harry Potter, #6)', 'Harry Potter (Harry Potter, #1-6)', \"Harry Potter and the Philosopher's Stone\", 'Harry Potter and the Half-Blood Prince (Harry Potter, #6)', 'Harry Potter and the Order of the Phoenix (Harry Potter, #5)', 'Harry Potter and the Deathly Hallows (Harry Potter, #7)', 'Harry Potter and the Chamber of Secrets (Harry Potter, #2)', 'Harry Potter and the Order of the Phoenix (Harry Potter, #5)', 'Harry Potter and the Goblet of Fire (Harry Potter, #4)', 'Harry Potter and the Prisoner of Azkaban (Harry Potter, #3)', 'Harry Potter and the Prisoner of Azkaban (Harry Potter, #3)', 'Harry Potter and the Prisoner of Azkaban (Harry Potter, #3)', 'Harry Potter and the Prisoner of Azkaban (Harry Potter, #3)', 'Harry Potter and the Deathly Hallows (Harry Potter, #7)', 'Harry Potter and the Deathly Hallows (Harry Potter, #7)', 'Harry Potter and the Deathly Hallows (Harry Potter, #7)', \"Harry Potter and the Philosopher's Stone\", 'Harry Potter and the Chamber of Secrets (Harry Potter, #2)', 'Harry Potter and the Chamber of Secrets (Harry Potter, #2)', 'Harry Potter and the Chamber of Secrets (Harry Potter, #2)', 'Harrius Potter et Camera Secretorum', 'Harry Potter and the Chamber of Secrets', 'Harry Potter and the Chamber of Secrets (Harry Potter, #2)', 'Harry Potter and the Chamber of Secrets (Harry Potter, #2)', 'Harry Potter and the Chamber of Secrets (Harry Potter, #2)', 'Harry Potter and the Prisoner of Azkaban (Harry Potter, #3)', 'Harry Potter und der Halbblutprinz (Harry Potter, #6)', 'Harry Potter und der Halbblutprinz (Harry Potter, #6)', 'Harry Potter und der Gefangene von Askaban (Harry Potter, #3)', 'Harry Potter und der Stein der Weisen (Harry Potter, #1)', 'Harry Potter und der Orden des Phönix (Harry Potter, #5)', 'Harry Potter und die Kammer des Schreckens (Harry Potter, #2)', 'Harry Potter et le Prince de Sang-Mêlé (Harry Potter, #6)', 'Harry Potter et le Prince de Sang-Mêlé (Harry Potter, #6)', 'Harry Potter und der Gefangene von Askaban (Harry Potter, #3)', 'Harry Potter und die Kammer des Schreckens (Harry Potter, #2)', 'Harry Potter und der Orden des Phönix (Harry Potter, #5)', 'Harry Potter und der Halbblutprinz (Harry Potter, #6)', 'Harry Potter und der Orden des Phönix', 'Harry Potter und der Feuerkelch (Harry Potter, #4)', 'Harry Potter und der Orden des Phönix (Harry Potter, #5)', 'Harry Potter und der Gefangene von Askaban (Harry Potter, #3)', 'Harry Potter und der Orden des Phönix (Harry Potter, #5)', 'Harry Potter un de Wunnersteen (Harry Potter, #1)', 'Harry Potter und der Orden des Phönix (Harry Potter, #5)', 'Harry Potter und die Kammer des Schreckens (Harry Potter, #2)', 'Harry Potter and the Half-Blood Prince (Harry Potter, #6)', 'Harry Potter and the Half-Blood Prince (Harry Potter, #6)', 'Harry Potter and the Half-Blood Prince (Harry Potter, #6)', 'Harry Potter and the Half-Blood Prince (Harry Potter, #6)', 'Harry Potter und der Stein der Weisen (Harry Potter, #1)', \"Harry Potter and the Philosopher's Stone (Harry Potter, #1)\", 'Ἅρειος Ποτῆρ καὶ ἡ τοῦ φιλοσόφου λίθος (Ἅρειος Ποτῆρ #1)', \"Harry Potter and the Philosopher's Stone (Harry Potter, #1)\", \"Harry Potter and the Philosopher's Stone (Harry Potter, #1)\", \"Harry Potter and the Philosopher's Stone (Harry Potter, #1)\", 'Harry Potter and the Order of the Phoenix', 'Harry Potter Series Box Set (Harry Potter, #1-7)', \"Harry Potter and the Sorcerer's Stone (Harry Potter, #1)\", \"Harry Potter and the Sorcerer's Stone (Harry Potter, #1)\", \"Harry Potter and the Sorcerer's Stone (Harry Potter, #1)\", 'Harry Potter and the Prisoner of Azkaban (Harry Potter, #3)', 'Harry Potter and the Goblet of Fire (Harry Potter, #4)', 'Harry Potter and the Half-Blood Prince (Harry Potter, #6)', 'Harry Potter and the Order of the Phoenix (Harry Potter, #5)', 'Harry Potter and the Prisoner of Azkaban (Harry Potter, #3)', 'Harry Potter and the Prisoner of Azkaban (Harry Potter, #3)', 'Harry Potter and the Prisoner of Azkaban (Harry Potter, #3)', 'Harry Potter and the Prisoner of Azkaban (Harry Potter, #3)', 'Harry Potter and the Goblet of Fire (Harry Potter, #4)', 'Harry Potter and the Goblet of Fire (Harry Potter, #4)', 'Harry Potter and the Goblet of Fire (Harry Potter, #4)', 'Harry Potter and the Goblet of Fire (Harry Potter, #4)', 'Harry Potter and the Order of the Phoenix (Harry Potter, #5)', 'Harry Potter and the Half-Blood Prince (Harry Potter, #6)', 'Harry Potter and the Half-Blood Prince (Harry Potter, #6)', 'Harry Potter and the Goblet of Fire (Harry Potter, #4)', 'Harry Potter Box Set (Harry Potter, #1-6)', \"Harry Potter and the Sorcerer's Stone (Harry Potter, #1)\", 'Harry Potter en de Gevangene van Azkaban (Harry Potter, #3)', 'Harry Potter and the Goblet of Fire (Harry Potter, #4)', 'Harry Potter and the Goblet of Fire (Harry Potter, #4)', 'ハリー・ポッターと賢者の石 (ハリー・ポッターシリーズ #1)', 'Harry Potter and the Prisoner of Azkaban (Harry Potter, #3)', 'Harry Potter and the Goblet of Fire (Harry Potter, #4)', 'Harry Potter and the Goblet of Fire (Harry Potter, #4)', 'Harry Potter and the Deathly Hallows (Harry Potter, #7)', \"Harry Potter à l'École des Sorciers (Harry Potter, #1)\", 'Harry Potter ja puoliverinen prinssi (Harry Potter, #6)', 'Harry Potter and the Deathly Hallows (Harry Potter, #7)', \"Harry Potter and the Sorcerer's Stone (Harry Potter, #1)\", 'Harry Potter and the Goblet of Fire (Harry Potter, #4)', 'Harry Potter and the Chamber of Secrets (Harry Potter, #2)', 'Harry Potter ja Feeniksin kilta (Harry Potter, #5)', \"Harry Potter à l'école des sorciers (Harry Potter, #1)\", \"Harry Potter and the Sorcerer's Stone (Harry Potter, #1)\", 'Harry Potter and the Prisoner of Azkaban (Harry Potter, #3)', \"Harry Potter and the Philosopher's Stone (Harry Potter, #1)\", 'Complete Harry Potter Boxed Set', 'Harry Potter and the Order of the Phoenix', 'Harry Potter and the Prisoner of Azkaban (Harry Potter, #3)', 'Harry Potter Adult Edition Box Set (Harry Potter, #1-4)', 'Harry Potter y El Prisionero de Azkaban (Harry Potter, #3)', 'Harry Potter y el prisionero de Azkaban (Harry Potter, #3)', 'Harry Potter y el prisionero de Azkaban (Harry Potter, #3)', 'Harry Potter y la Orden del Fénix', 'Harry Potter y El Misterio del Principe (Harry Potter, #6)', 'Harry Potter y la cámara secreta (Harry Potter, #2)', 'Harry Potter and the Chamber of Secrets (Harry Potter, #2)', \"Harry Potter a l'ecole des sorciers (Harry Potter, #1)\", 'Harry Potter and the Half-Blood Prince (Harry Potter, #6)', 'Harry Potter en de Steen der Wijzen (Harry Potter, #1)', 'Harry Potter and the Chamber of Secrets (Harry Potter, #2)', 'Harry Potter and the Chamber of Secrets (Harry Potter, #2)', 'Harry Potter and the Goblet of Fire (Harry Potter, #4)', 'Harry Potter and the Order of the Phoenix', 'Harry Potter and the Goblet of Fire', 'Harry Potter en de Vuurbeker (Harry Potter, #4)', 'Harry Potter and the Order of the Phoenix', 'Harry Potter and the Prisoner of Azkaban (Harry Potter, #3)', 'Harry Potter y la piedra filosofal (Harry Potter, #1)', \"Harry Potter et L'Ordre du Phenix (Harry Potter, #5)\", 'Harry Potter i Zakon Feniksa (Harry Potter, #5)', 'Harry Potter i Czara Ognia (Harry Potter, #4)', 'Harry Potter and the Prisoner of Azkaban (Harry Potter, #3)', 'Harry Potter and the Prisoner of Azkaban (Harry Potter, #3)', 'Harry Potter and the Half-Blood Prince (Harry Potter, #6)', \"Harry Potter à l'école des sorciers (Harry Potter, #1)\", 'Harry Potter and the Goblet of Fire (Harry Potter, #4)', 'Harry Potter and the Order of the Phoenix', 'Harry Potter and the Goblet of Fire (Harry Potter, #4)', 'Harry Potter et le Prince de Sang-Mêlé (Harry Potter, #6)', 'Harrys Zauberbox (Harry Potter, #1-4)', 'Harry Potter und die Heiligtümer des Todes (Harry Potter, #7)', 'Harry Potter und die Heiligtümer des Todes', 'Harry Potter und der Stein der Weisen (Harry Potter, #1)', 'Harry Potter und der Stein der Weisen (Harry Potter, #1)', 'Harry Potter und die Kammer des Schreckens (Harry Potter, #2)', 'Harry Potter und die Kammer des Schreckens (Harry Potter, #2)', 'Harry Potter och hemligheternas kammare (Harry Potter, #2)', 'Harry Potter und der Gefangene von Askaban (Harry Potter, #3)', 'Harry Potter und der Gefangene von Askaban (Harry Potter, #3)', 'Harry Potter und der Feuerkelch (Harry Potter, #4)', 'Harry Potter und der Feuerkelch (Harry Potter, #4)', 'Harry Potter und der Feuerkelch (Harry Potter, #4)', 'Harry Potter und der Feuerkelch (Harry Potter, #4)', 'Harry Potter and the Order of the Phoenix (Harry Potter, #5)', 'Harry Potter and the Half-Blood Prince (Harry Potter, #6)', 'Harry Potter and the Half-Blood Prince (Harry Potter, #6)', 'Harry Potter and the Order of the Phoenix (Harry Potter, #5)', 'Harry Potter i Kamień Filozoficzny (Harry Potter, #1)', 'هری پاتر و زندانی آزکابان', 'هري پاتر و جام آتش (جلد اول)', 'هری پاتر و محفل ققنوس - کتاب پنجم جلد یک از سه', 'هری پاتر و شاهزاده دورگه:  مجموعه دوجلدی', 'Harry Potter and the Goblet of Fire (Harry Potter, #4)', 'Harry Potter and the Chamber of Secrets (Harry Potter, #2)', 'Harry Potter and the Prisoner of Azkaban (Harry Potter, #3)', 'Harry Potter and the Chamber of Secrets (Harry Potter, #2)', 'Harry Potter and the Half-Blood Prince (Harry Potter, #6)', \"Harry Potter and the Philosopher's Stone (Harry Potter, #1)\", \"Harry Potter and the Sorcerer's Stone (Harry Potter, #1)\", 'Harry Potter and the Order of the Phoenix (Harry Potter, #5, Part 1)', \"Harry Potter and the Sorcerer's Stone (Harry Potter, #1)\", 'Harry Potter and the Chamber of Secrets (Harry Potter, #2)', 'Harry Potter Box Set (Harry Potter, #1-4)', 'Harry Potter Boxed Set (Harry Potter, #1-5)', 'Harry Potter et la Coupe de Feu (Harry Potter, #4)', 'Harry Potter y la piedra filosofal (Harry Potter, #1)', 'Harry Potter e la pietra filosofale (Harry Potter, #1)', 'Harry Potter et la Coupe de Feu : Épreuves pour jeunes sorciers', 'Harry Potter & the Half-Blood Prince (Harry Potter, #6)', 'Harry Potter i Komnata Tajemnic (Harry Potter, #2)', 'Harry Potter Un De Grulig Kamer', \"Harry Potter a l'ecole des sorciers ; Harry Potter et la chambre des secrets ; Harry Potter et le prisonnier d'Azkaban (Harry Potter, #1-3)\", 'Harry Potter and the Prisoner of Azkaban - Harry Potter dan Tawanan Azkaban (Harry Potter, #3)', 'Harry Potter and the Goblet of Fire - Harry Potter dan Piala Api (Harry Potter, #4)', 'Harry Potter and The Half-Blood Prince - Harry Potter dan Pangeran Berdarah-Campuran (Harry Potter, #6)', 'Harry Potter y la piedra filosofal', 'Harry Potter y la piedra filosofal (Harry Potter, #1)', 'Harry Potter und die Kammer des Schreckens (Harry Potter, #2)', 'Harry Potter und der Halbblutprinz (Harry Potter, #6)', 'Harry Potter e la Camera dei Segreti (Harry Potter, #2)', 'Гарри Поттер и тайная комната', 'Harry Potter y el Cáliz de Fuego (Harry Potter, #4)', 'Harry Potter and the Goblet of Fire (Harry Potter, #4)', 'Harry Potter und der Halbblutprinz (Harry Potter, #6)', 'Harry Potter og halvblodsprinsen (Harry Potter, #6)', 'Harry Potter e la pietra filosofale (Harry Potter, #1)', 'Harry Potter y la cámara secreta (Harry Potter, #2)', \"Harry Potter and the Philosopher's Stone (Harry Potter, #1)\", 'Гарри Поттер и философский камень (Harry Potter, #1)', 'Гарри Поттер и философский камень', 'Harry Potter and the Prisoner of Azkaban (Harry Potter, #3)', 'Harry Potter and the Deathly Hallows (Harry Potter, #7)', 'Harry Potter and the Deathly Hallows (Harry Potter, #7)', \"Harry Potter and the Sorcerer's Stone | dengan Batu Hikmat (Harry Potter, #1)\", 'Harry Potter Dan Bilik Rahsia (Harry Potter, #2)', 'Harry Potter and the Goblet of Fire (Harry Potter, #4)', 'Harry Potter y el cáliz de fuego (Harry Potter, #4)', \"Harry Potter and the Sorcerer's Stone - Harry Potter dan Batu Bertuah (Harry Potter, #1)\", 'Harry Potter and the Chamber of Secrets - Harry Potter dan Kamar Rahasia (Harry Potter, #2)', 'ハリー・ポッターと謎のプリンス [上下巻セット] (ハリー・ポッターシリーズ #第六巻)', 'ハリー・ポッターと不死鳥の騎士団  (ハリー・ポッターシリーズ #第五巻)', 'ハリー・ポッターと賢者の石 (ハリー・ポッターシリーズ #1)', 'ハリー・ポッターと秘密の部屋 (ハリー・ポッターシリーズ #2)', 'ハリー・ポッターとアズカバンの囚人 (ハリー・ポッターシリーズ #3)', 'ハリー・ポッターと炎のゴブレット [上下巻セット] (ハリー・ポッターシリーズ #第四巻)', 'Harry Potter und der Feuerkelch (Harry Potter, #4)', 'The Complete Harry Potter Collection Box Set (Harry Potter, #1-7)', 'Harry Potter Boxed Set (Harry Potter, #1-7)', 'Harry Potter en de Halfbloed Prins (Harry Potter, #6)', 'Harri Potter maen yr Athronydd', 'Harry Potter and the Goblet of Fire (Harry Potter, #4)', 'Harry Potter and the Order of the Phoenix (Harry Potter, #5)', 'Harry Potter and the Order of the Phoenix', 'Harry Potter and the Order of the Phoenix', 'هري پاتر و قديسين مرگبار', 'Harry Potter i Komnata Tajemnic (Harry Potter, #2)', 'Harry Potter i Książę Półkrwi (Harry Potter, #6)', 'Harry Potter i Kamień Filozoficzny (Harry Potter, #1)', 'Harry Potter i więzień Azkabanu (Harry Potter, #3)', 'Harry Potter i Czara Ognia (Harry Potter, #4)', 'Harry Potter i Zakon Feniksa (Harry Potter, #5)', 'ハリー・ポッターと炎のゴブレット (ハリー・ポッターシリーズ #4)', 'ハリー・ポッターとアズカバンの囚人 (ハリー・ポッターシリーズ #3)', 'ハリー・ポッターと秘密の部屋 (ハリー・ポッターシリーズ #2)', 'Harry Potter and the Goblet of Fire (Harry Potter, #4)', 'Harry Potter und der Orden des Phönix (Harry Potter, #5)', 'Harry Potter e o Cálice de Fogo (Harry Potter, #4)', \"Harry Potter and the Philosopher's Stone (Harry Potter, #1)\", 'Harry Potter e a Pedra Filosofal (Harry Potter, #1)', 'Harry Potter und die Heiligtümer des Todes', 'แฮร์รี่ พอตเตอร์กับเจ้าชายเลือดผสม (Harry Potter, #6)', 'Harry Potter and the Half-Blood Prince (Harry Potter, #6)', 'Harry Potter dan Orde Phoenix', 'Harry Potter and the Chamber of Secrets (Harry Potter, #2)', 'Harry Potter och fången från Azkaban (Harry Potter, #3)', 'Harry Potter och de vises sten (Harry Potter, #1)', 'Harry Potter och den flammande bägaren (Harry Potter, #4)', 'Harry Potter ve Ateş Kadehi (Harry Potter, #4)', 'Harry Potter og Fonixordenen', 'Harry Potter Tin: \"The Philosopher\\'s Stone\", \"The Chamber of Secrets\", \"The Prisoner of Azkaban\" (Harry Potter, #1-3)', 'Harry Potter y la Orden del Fenix', 'Harry Potter och Fenixorden (Harry Potter, #5)', 'Harry Potter och halvblodsprinsen (Harry Potter, #6)', 'Harry Potter and the Half-Blood Prince (Harry Potter, #6)', 'Harry Potter Box Set (Harry Potter, #1-4)', 'Harry Potter Adult Boxed Set (Harry Potter, #1-5)', 'Harry Potter och dödsrelikerna (Harry Potter, #7)', 'הארי פוטר וגביע האש (Harry Potter, #4)', 'Harry Potter et les Reliques de la Mort (Harry Potter #7)', 'هری پاتر و يادگاران مرگ: جلد اول', 'Harry Potter Audio Collection (Harry Potter, #1-7)', 'Harry Potter and the Chamber of Secrets (Harry Potter, #2)', \"Harry Potter i el pres d'Azkaban (Harry Potter, #3)\", 'Harry Potter and the Goblet of Fire (Harry Potter, #4)', 'Les Mondes Magiques de Harry Potter - du Livre 1 au Livre 7 Nouvelle Edition', 'Harry Potter en de Steen der Wijzen (Harry Potter, #1)', 'Harry Potter en de Gevangene van Azkaban (Harry Potter, #3)', 'Harry Potter und die Heiligtümer des Todes (Harry Potter, #7)', 'Harry Potter and the Chamber of Secrets (Harry Potter, #2)', 'Harry Potter and the Deathly Hallows (Harry Potter, #7)', 'Harry Potter and the Deathly Hallows (Harry Potter, #7)', 'Harry Potter and the Deathly Hallows (Harry Potter, #7)', \"Comic Relief Harry Potter's School Book Pack\", 'Harry Potter och de vises sten (Harry Potter, #1)', 'Harry Potter och de vises sten (Harry Potter, #1)', 'Harry Potter and the Deathly Hallows (Harry Potter, #7)', 'Harry Potter et les Reliques de la Mort (Harry Potter, #7)', 'Harry Potter and the Deathly Hallows (Harry Potter, #7)', \"Harry Potter and the Sorcerer's Stone (Harry Potter, #1)\", 'ハリー・ポッターと死の秘宝  [上下巻セット] (ハリー・ポッターシリーズ #第七巻)', 'Harry Potter and the Chamber of Secrets', 'Harry Potter i więzień Azkabanu (Harry Potter, #3)', 'Harry Potter and the Deathly Hallows (Harry Potter, #7)', 'Harry Potter und die Heiligtümer des Todes', 'Гарри Поттер и узник Азкабана (Harry Potter, #3)', 'Harry Potter and the Order of the Phoenix (Harry Potter, #5)', 'The Harry Potter trilogy (Harry Potter, #1-3)', '哈利·波特与死亡圣器 (哈利·波特 #7)', 'Harry Potter and the Deathly Hallows (Harry Potter, #7)', 'Harry Potter and the Deathly Hallows (Harry Potter, #7)', 'Harry Potter y La Camara Secreta (Harry Potter, #2)', \"Harry Potter and the Philosopher's Stone (Harry Potter, #1)\", 'Harry Potter y las Reliquias de la Muerte (Harry Potter, #7)', 'Harry Potter og Føniksordenen (Harry Potter, #5)', 'Harry Potter och hemligheternas kammare (Harry Potter, #2)', 'Harry Potter og mysteriekammeret', 'Harry Potter und der Gefangene von Askaban (Harry Potter, #3)', 'Harry Potter et la Coupe de Feu (Harry Potter, #4)', 'Harry Potter y las reliquias de la muerte (Harry Potter, #7)', 'Harry Potter e os Talismãs da Morte (Harry Potter, #7)', 'Harry Potter ve Zümrüdüanka Yoldaşlığı (Harry Potter, #5)', 'Harry Potter y La Camara Secreta (Harry Potter, #2)', 'Harry Potter and the Chamber of Secrets (Harry Potter, #2)', 'Harry Potter Audio Collection (Harry Potter, #1-5)', 'Harry Potter and the Order of the Phoenix (Harry Potter, #5)', 'Harry Potter and the Deathly Hallows (Harry Potter, #7)', 'Harry Potter dan Relikui Kematian (Harry Potter, #7)', 'Harry Potter i la Pedra Filosofal (Harry Potter, #1)', 'Harry Potter e a Ordem da Fénix (Harry Potter, #5)', \"Harry Potter and the Sorcerer's Stone (Harry Potter, #1)\", 'Harry Potter and the Deathly Hallows (Harry Potter, #7)', 'Harry Potter e a Câmara dos Segredos (Harry Potter, #2)', 'Harry Potter en de Geheime Kamer (Harry Potter, #2)', 'Harry Potter en de Vuurbeker (Harry Potter, #4)', 'Harry Potter en de Orde van de Feniks (Harry Potter, #5)', 'Harry Potter en de Halfbloed Prins (Harry Potter, #6)', 'Harry Potter en de Relieken van de Dood (Harry Potter, #7)', 'هری پاتر و پرنس نیمه اصیل', 'Harry Potter och fången från Azkaban (Harry Potter, #3)', 'Harry Potter og Føniksordenen (Harry Potter, #5)', 'Harry Potter en de Orde van de Feniks (Harry Potter, #5)', 'ハリー・ポッターと不死鳥の騎士団 [上下巻セット] (ハリー・ポッターシリーズ #5)', 'Harry Potter and the Chamber of Secrets (Harry Potter, #2)', \"Harry Potter and the Sorcerer's Stone (Harry Potter, #1)\", 'Harry Potter and the Prisoner of Azkaban', 'Harry Potter and the Chamber of Secrets (Harry Potter, #2)', 'Harry Potter Y La Piedra Filosofal (Harry Potter, #1)', 'Harry Potter and the Goblet of Fire (Harry Potter, #4)', 'Harry Potter ja kuoleman varjelukset (Harry Potter, #7)', 'Harry Potter y las Reliquias de la Muerte (Harry Potter, #7)', 'हैरी पॉटर और अज्काबान का कैदी (हैरी पॉटर #3)', 'Harry Potter Box Set (Harry Potter, #1-5)', 'Harry Potter and the Chamber of Secrets (Harry Potter, #2)', 'Harry Potter e i doni della morte (Harry Potter, #7)', 'Harry Potter and the Goblet of Fire (Harry Potter, #4)', 'Harry Potter ja viisasten kivi (Harry Potter, #1)', 'Harry Potter ja Azkabanin vanki (Harry Potter, #3)', 'Harry Potter ja salaisuuksien kammio (Harry Potter, #2)', 'Harry Potter ja liekehtivä pikari (Harry Potter, #4)', 'Harry Potter e il prigioniero di Azkaban', 'Harry Potter y La Piedra Filosofal (Harry Potter, #1)', 'Harry Potter en die Orde van die Feniks (Harry Potter, #5)', 'Harry Potter und die Kammer des Schreckens (Harry Potter, #2)', 'Гарри Поттер и дары смерти (Гарри Поттер #7)', 'Harry Potter e il Principe Mezzosangue (Harry Potter, #6)', \"Harry Potter e l'Ordine della Fenice (Harry Potter, #5)\", 'हैरी पॉटर और आग का प्याला (हैरी पॉटर #4)', '해리 포터와 죽음의 성물 1 (Harry Potter, #7)', '해리 포터와 죽음의 성물 4 (Harry Potter, #7)', '해리 포터와 죽음의 성물 2 (Harry Potter, #7)', '해리 포터와 죽음의 성물 3 (Harry Potter, #7)', 'Harry Potter e a Pedra Filosofal (Harry Potter, #1)', 'Harry Potter e o Prisioneiro de Azkaban (Harry Potter, #3)', 'Harry Potter e o Cálice de Fogo (Harry Potter, #4)', 'Harry Potter e o Príncipe Misterioso (Harry Potter, #6)', 'Harry Potter og De Vises Sten (Harry Potter, #1)', 'Harry Potter und der Halbblutprinz (Harry Potter, #6)', 'Harry Potter und der Orden des Phönix (Harry Potter, #5)', 'Harry Potter: 7 Bände im Schuber', 'Harry Potter et les Reliques de la Mort (Harry Potter, #7)', \"Harry Potter à l'école des sorciers (Harry Potter, #1)\", 'Harry Potter and the Prisoner of Azkaban (Harry Potter, #3)', 'Harry Potter - The Complete Story: Collected Audio Edition (Harry Potter, #1-7)', 'Harry Potter en de Geheime Kamer (Harry Potter, #2)', \"What's Your Story? (Postcard Collection)\", 'Harry Potter and the Half-Blood Prince (Harry Potter, #6)', 'Harry Potter and the Chamber of Secrets (Harry Potter, #2)', 'The Tales of Beedle the Bard', 'The Tales of Beedle the Bard (Hogwarts Library)', 'The Tales of Beedle the Bard', 'Harry Potter és a Halál Ereklyéi (Harry Potter, #7)', \"Harry Potter à l'école des sorciers (Harry Potter, #1)\", 'Harry Potter and the Chamber of Secrets (Harry Potter, #2)', 'Harry Potter and the Order of the Phoenix (Harry Potter, #5)', 'هری پاتر و تالار اسرار', 'هری پاتر و زندانی ازكابان', 'هري پاتر و جام آتش', 'Harry Potter And The Half Blood Prince (Harry Potter #6)', 'Harry Potter and the Chamber of Secrets (Harry Potter, #2)', 'Ο Χάρι Πότερ και η φιλοσοφική λίθος (Χάρι Πότερ, #1)', 'Ο Χάρι Πότερ και η κάμαρα με τα μυστικά (Χάρι Πότερ, #2)', 'Ο Χάρι Πότερ και ο αιχμάλωτος του Αζκαμπάν (Χάρι Πότερ, #3)', 'Ο Χάρι Πότερ και το κύπελλο της φωτιάς (Χάρι Πότερ, #4)', 'Ο Χάρι Πότερ και το τάγμα του Φοίνικα (Χάρι Πότερ, #5)', 'Ο Χάρι Πότερ και ο ημίαιμος πρίγκιψ (Χάρι Πότερ, #6)', 'Ο Χάρι Πότερ και οι κλήροι του θανάτου (Χάρι Πότερ, #7)', 'Harry Potter e as Relíquias da Morte (Harry Potter, #7)', 'Harry Potter und die Kammer des Schreckens (Harry Potter, #2)', 'Harry Potter Adult Boxed Set (Harry Potter, #1-7)', 'Harry Potter ve Büyülü Taş', 'Harry Potter and the Prisoner of Azkaban (Harry Potter, #3)', 'Harry Potter and the Goblet of Fire (Harry Potter, #4)', 'Harry Potter and the Half-Blood Prince (Harry Potter, #6)', 'Harry Potter and the Half-blood Prince (Harry Potter, #6)', 'Harry Potter Boxed Set (Harry Potter, #1-7)', 'Harry Potter and the Deathly Hallows (Harry Potter, #7)', 'Coffret Collector Harry Potter (Harry Potter, #1-7)', 'Harry Potter und der Stein der Weisen (Harry Potter, #1)', 'Die Märchen von Beedle dem Barden (Harry Potter Companion Books, #3)', \"Harry Potter and the Sorcerer's Stone (Harry Potter, #1)\", 'Harry Potter and the Order of the Phoenix - Harry Potter dan Orde Phoenix (Harry Potter, #5)', '死神的聖物 (哈利波特, #7)', 'Harry Potter und der Gefangene von Askaban (Harry Potter, #3)', 'Harry Potter und der Feuerkelch (Harry Potter, #4)', 'Harry Potter und der Orden des Phönix (Harry Potter, #5)', 'Les Contes de Beedle Le Barde', 'Harry Potter Boxset (Harry Potter, #1-7)', 'Harry Potter a vězeň z Azkabanu (Harry Potter, #3)', '해리 포터 1편-4편 세트 전10권', 'Harry Potter en de Vuurbeker (Harry Potter, #4)', 'Harry Potter i Insygnia Śmierci (Harry Potter, #7)', 'Harry Potter i Darovi Smrti (Harry Potter, #7)', 'Harry Potter and the Prisoner of Azkaban (Harry Potter, #3)', 'Los cuentos de Beedle el Bardo', 'Les Contes De Beedle Le Barde', 'Harry Potter y el Caliz de Fuego (Harry Potter, #4)', 'The Tales of Beedle the Bard', 'Os Contos de Beedle o Bardo', 'Harry Potter och de vises sten (Harry Potter, #1)', 'Harry Potter y las reliquias de la muerte', 'Les Contes de Beedle le Barde', 'The Tales of Beedle the Bard (Braille): Grade 2', 'The Tales of Beedle the Bard', 'Os Contos de Beedle, o Bardo', 'Сказки барда Бидля (Harry Potter Companion Books, #3)', 'Harry Potter and the Chamber of Secrets (Harry Potter, #2)', 'Harry Potter y la Orden del Fénix (Harry Potter, #5)', \"Harry Potter and the Sorcerer's Stone (Harry Potter, #1)\", \"Baśnie barda Beedle'a\", 'Harry Potter et la Chambre des Secrets (Harry Potter, #2)', 'Harry Potter und der Gefangene von Askaban', 'Bajky barda Beedleho', '吟遊詩人ビードルの物語', 'Harry Potter und der Stein der Weisen (Harry Potter, #1)', 'นิทานของบีเดิลยอดกวี', 'Os Contos de Beedle, o Bardo', 'هری پاتر و يادگاران مرگ، مجموعه دوجلدی', 'هری پاتر و یادگاران مرگ: جلد دوم', 'Harry Potter i Książę Półkrwi (Harry Potter, #6)', '吟遊詩人皮陀故事集', 'هری پاتر و سنگ جادو', 'هری پاتر و حُفره اسرارآمیز', 'هری پاتر و جام آتش', 'هری پاتر و شاهزاده ی دورگه: جلد 1 از 2', 'Harry Potter und die Heiligtümer des Todes', 'Harry Potter und die Heiligtümer des Todes', 'הארי פוטר והנסיך חצוי-הדם (Harry Potter, #6)', 'Harry Potter Boxset (Harry Potter, #1-7)', 'De Vertelsels van Baker de Bard (Uit de Schoolbibliotheek van Zweinstein, #3)', 'Harry Potter y El Caliz de Fuego (Harry Potter, #4)', 'Những Chuyện Kể Của Beedle Người Hát Rong', 'הארי פוטר ומסדר עוף החול', 'הארי פוטר ואוצרות המוות (Harry Potter, #7)', 'The Tales of Beedle The Bard: Kisah-Kisah Beedle Si Juru Cerita', 'Harry Potter i la cambra secreta (Harry Potter, #2)', 'Harry Potter a Fénixův řád (Harry Potter, #5)', 'Harry Potter a Kámen mudrců (Harry Potter, #1)', 'Harry Potter a Ohnivý pohár (Harry Potter, #4)', 'Harry Potter a princ dvojí krve (Harry Potter, #6)', 'Harry Potter a relikvie smrti (Harry Potter, #7)', 'Harry Potter a Tajemná komnata (Harry Potter, #2)', 'Harry Potter ve Ölüm Yadigârları (Harry Potter, #7)', 'هاري بوتر ومقدسات الموت', 'Harry Potter and the Order of the Phoenix (Harry Potter, #5)', 'Harry Potter et la Chambre des Secrets (Harry Potter, #2)', 'Harry Potter und die Heiligtümer des Todes', 'Harry Potter und der Feuerkelch (Harry Potter, #4)', 'Harry Potter og Fangen fra Azkaban (Harry Potter, #3)', 'Bajky barda Beedleho', '해리포터와 혼혈왕자 4 (해리포터 #6, Vol. 4 of 4)', 'Harry Potter et le Prince de Sang-Mêlé (Harry Potter #6)', 'Harry Potter and the Half-Blood Prince (Harry Potter, #6)', 'ハリー・ポッターと炎のゴブレット 上', 'Harry Potter ve Ateş Kadehi (Harry Potter, #4)', '음유시인비들이야기 : 룬문자로된원본을헤르미온느 그레인저가 번역하다', 'Harry Potter dan Pangeran Berdarah Campuran (Harry Potter, #6)', 'Harry Potter và Hoàng Tử Lai (Harry Potter, #6)', 'Harry Potter and the Deathly Hallows', 'הארי פוטר ואבן החכמים (הארי פוטר, #1)', 'Harry Potter and the Chamber of Secrets (Harry Potter, #2)', 'Harry Potter og ildbegeret (Harry Potter, #4)', 'Bajke barda Beedlea (Harry Potter)', 'Harry Potter and the Chamber of Secrets (Harry Potter, #2)', 'Harry Potter and the Goblet of Fire (Harry Potter, #4)', 'Harry Potter og de vises stein', 'Harry Potter En Die Skatte Van Die Dood', 'Harry Potter et la Coupe de Feu', 'Harry Potter et la Coupe de Feu', 'Harry Potter and the Order of the Phoenix', 'Harry Potter and the Order of the Phoenix (Harry Potter, #5)', \"Harry Potter et l'Ordre du Phénix (Harry Potter #5)\", 'Harry Potter og De Vises Sten', 'Harry Potter og fangen fra Azkaban', 'Harry Potter og Fønixordenen', 'Harry Potter a Tajemna komnata (Harry Potter, #2)', 'Die Märchen von Beedle dem Barden', 'Le Fiabe di Beda il Bardo', 'Harry Potter and the Deathly Hallows (Harry Potter, #7)', 'Harry Potter ve Sırlar Odası (Harry Potter, #2)', 'Harry Potter i Insygnia Śmierci (Harry Potter, #7)', 'Harry Potter a Ohnivý pohár (Harry Potter, #4)', 'Harry Potter a Kámen mudrců (Harry Potter, #1)', 'Harry Potter a Tajemná komnata (Harry Potter, #2)', 'Хари Потер и Ред феникса 2 [Hari Poter i red Feniksa 2] (Hari Poter/Хари Потер, #5)', 'Хари Потер и Ред феникса 1 [Hari Poter i red Feniksa 1] (Хари Потер/Hari Poter, #5)', 'Harry Potter i Dvorana tajni (Hari Poter, #2)', 'Harry Potter y la piedra filosofal (Harry Potter, #1)', 'Harry Potter a Dary Smrti', 'Harry Potter en de Relieken van de Dood (Harry Potter, #7)', \"Harry Potter et l'Ordre du Phénix\", 'Harry Potter en de Steen der Wijzen (Harry Potter, #1)', 'Harry Potter en de Steen der Wijzen', 'Harry Potter ja saladuste kamber (Harry Potter #2)', 'Harry Potter et la Chambre des Secrets (Harry Potter, #2)', 'Хари Потър и Философският камък (Хари Потър, #1)', 'Хари Потър и Стаята на тайните (Хари Потър, #2)', 'Хари Потър и Огненият бокал (Хари Потър, #4)', 'Harry Potter Und Der Orden Des Phönix (Harry Potter #5)', 'Harry Potter y el misterio del Príncipe (Harry Potter, #6)', 'Хари Потър и Орденът на феникса (Хари Потър, #5)', 'Хари Потър и Нечистокръвния принц (Хари Потър, #6)', 'Хари Потър и Даровете на смъртта (Хари Потър, #7)', 'Die Märchen von Beedle dem Barden', 'Harry Potter e o preso de Azkaban (Harry Potter, #3)', 'Harry Potter y las Reliquias de la Muerte (Harry Potter, #7)', 'Harry Potter og Hemmelighedernes Kammer (Harry Potter, #2)', 'Harry Potter and the Chamber of Secrets (Harry Potter #2)', 'Harry Potter Und Der Halbblutprinz', 'Harry Potter und der Halbblutprinz (Harry Potter, #6)', 'Harry Potter und der Halbblutprinz', 'Harry Potter e il calice di fuoco', 'Harry Potter Box Set (Harry Potter, #1-4)', 'قصه های بیدل نقال', \"Harry Potter à l'école des sorciers (Harry Potter, #1)\", 'Harry Potter and the Deathly Hallows (Harry Potter #7)', \"Harry Potter and the Philosopher's Stone (Harry Potter, #1)\", 'Гаррі Поттер і таємна кімната (Гаррі Поттер, #2)', 'Гаррі Поттер і в’язень Азкабану (Гаррі Поттер, #3)', 'Гаррі Поттер і келих вогню (Гаррі Поттер, #4)', 'Гаррі Поттер і Орден Фенікса (Гаррі Поттер, #5)', 'Гаррі Поттер і напівкровний Принц (Гаррі Поттер, #6)', 'Гаррі Поттер і смертельні реліквії (Гаррі Поттер, #7)', 'Harry Potter e a Pedra Filosofal (Harry Potter, #1)', 'Harry Potter e a Câmara dos Segredos (Harry Potter, #2)', 'Harry Potter och hemligheternas kammare (Harry Potter, #2)', 'Harry Potter and the Order of the Phoenix', 'Harry Potter and the Order of the Phoenix', 'هاري بوتر وحجرة الأسرار (Harry Potter, #2)', 'هاري بوتر والأمير الهجين', 'Harry Potter y la Orden del Fénix', \"Harry Potter and the Philosopher's Stone (Harry Potter, #1)\", 'Harry Potter and the Order of the Phoenix (Harry Potter, #5)', 'Harry Potter Set: Signature Edition (Harry Potter, #1-7)', 'แฮรี่ พ็อตเตอร์กับเครื่องรางยมทูต (Harry Potter, #7)', 'Harry Potter and the Goblet of Fire (Harry Potter, #4)', 'Harry Potter and the Chamber of Secrets (Harry Potter, #2)', 'Гарри Поттер и Тайная комната (Harry Potter, #2)', 'Гарри Поттер и узник Азкабана (Гарри Поттер #3)', \"Harry Potter and the Philosopher's Stone\", 'Harry Potter y el Prisionero de Askaban - Flipbook', 'Harry Potter en de Relieken van de dood', 'Harry Potter und die Heiligtümer des Todes (Harry Potter, #7)', 'Хари Потър и философският камък (Хари Потър, #1)', 'Хари Потър и затворникът от Азкабан (Хари Потър, #3)', 'Хари Потър и Орденът на феникса (Хари Потър, #5)', 'Приказките на барда Бийдъл', 'Harry Potter en de geheime kamer', 'Harry Potter en de Vuurbeker', 'Harry Potter en de Vuurbeker', 'Harry Potter en de orde van de Feniks', 'Harry Potter en de Orde van de Feniks', 'Harry Potter und die Heiligtümer des Todes (Harry Potter, #7)', '哈利·波特与阿兹喀班囚徒 (Harry Potter #3)', 'هری پاتر و اکسیر جاودانگی (Harry Potter, #1)', 'هری پاتر و محفل ققنوس - کتاب پنجم جلد دو از سه (Harry Potter #5-2)', 'هری پاتر و فرمان ققنوس - کتاب پنجم جلد سه از سه', 'هری پاتر و فرمان ققنوس - کتاب پنجم (Harry Potter, #5)', 'هری پاتر و شاهزاده ی دورگه کتاب 6: جلد دو از دو', 'Harry Potter y las reliquias de la muerte (Harry Potter, #7)', 'Los cuentos de Beedle el Bardo (Biblioteca de Hogwarts, #3)', 'Harry Potter og Fønixordenen (Harry Potter #5)', 'Harry Potter og Halvblodsprinsen (Harry Potter # 6)', 'Harry Potter og Dødsregalierne (Harry Potter # 7)', 'هري پاتر و تالار اسرار', 'Harijs Poters un noslēpumu kambaris (Harijs Poters, #2)', 'Harry Potter und der Halbblutprinz (Harry Potter, #6)', 'Harry Potter y el cáliz de fuego', 'แฮร์รี่ พอตเตอร์กับนักโทษแห่งอัซคาบัน (Harry Potter, #3)', 'Harry Potter och hemligheternas kammare (Harry Potter, #2)', 'Harry Potter och fången från Azkaban (Harry Potter, #3)', 'แฮร์รี่ พอตเตอร์กับเครื่องรางยมทูต (Harry Potter, #7)', 'แฮร์รี่ พอตเตอร์กับภาคีนกฟีนิกซ์ (Harry Potter, #5)', 'แฮร์รี่ พอตเตอร์กับห้องแห่งความลับ (Harry Potter, #2)', 'แฮร์รี่ พอตเตอร์กับศิลาอาถรรพ์ (Harry Potter, #1)', 'Harry Potter y la piedra filosofal (Harry Potter, #1)', 'Les contes de Beedle le barde', 'Harry Potter ve Felsefe Taşı (Harry Potter, #1)', 'Harry Potter and the Half-Blood Prince (Harry Potter, #6)', 'Harry Potter and the Prisoner of Azkaban (Harry Potter, #3)', 'Harry Potter and the Deathly Hallows (Harry Potter, #7)', \"Harry Potter and the Philosopher's Stone (Harry Potter, #1)\", 'Harry Potter Boxed Set 1-3 (Harry Potter, #1-3)', 'Harry Potter and the Deathly Hallows (Harry Potter, #7)', 'Harry Potter and the Half-Blood Prince (Harry Potter, #6)', 'Harry Potter: The Prequel (Harry Potter, #0.5)', 'Harry Potter und der Orden des Phönix', 'Harry Potter and the Chamber of Secrets (Harry Potter, #2)', 'Harry Potter a Kámen mudrců (Harry Potter, #1)', 'Harry Potter a Tajemná komnata (Harry Potter, #2)', 'Harry Potter og De vises stein', 'Harri Potter A Maen Yr Athronydd (Harry Potter #1)', 'Quidditch a través de los tiempos', 'Harry Potter und der Orden des Phönix (Harry Potter, #5)', 'Harry Potter and the Deathly Hallows (Harry Potter, #7)', 'Harry Potter und der Feuerkelch (Harry Potter, #4)', 'Harry Potter And The Chamber Of Secrets', 'Harry Potter: in 7 Bänden (Harry Potter, #1-7)', 'Harry Potter - Das große Hörbuch', 'แฮร์รี่ พอตเตอร์ กับถ้วยอัคนี', 'Гаррі Поттер і філософський камінь (Гаррі Поттер, #1)', 'Harry Potter i plameni pehar (Harry Potter, #4)', \"Harry Potter e l'Ordine della Fenice (Harry Potter, #5)\", 'Harry Potter und die Heiligtümer des Todes (Harry Potter, #7)', \"Harry Potter i l'orde del Fènix (Harry Potter, #5)\", 'Harry Potter e la camera dei segreti', 'Harry Potter e la pietra filosofale (Harry Potter, #1)', 'Harry Potter e la pietra filosofale', 'Harry Potter e il Principe Mezzosangue (Harry Potter, #6)', 'Harry Potter i el calze de foc (Harry Potter, #4)', 'Harry Potter i el misteri del Príncep (Harry Potter, #6)', 'Harry Potter i les relíquies de la Mort (Harry Potter, #7)', 'Harry Potter Audio Boxed Set', 'Harry Potter i Red Feniksa (Harry Potter, #5)', 'Harry Potter i Princ Miješane Krvi (Harry Potter, #6)', 'Harry Potter ja tulepeeker (Harry Potter #4)', 'Гарри Поттер и узник Азкабана (Гарри Поттер #3)', 'ハリー・ポッターと死の秘宝  [上下巻セット] (ハリー・ポッターシリーズ #7)', 'Harry Potter şi Pocalul de Foc (Harry Potter, #4)', 'Harry Potter and the Order of the Phoenix (#5)', 'Harry Potter y la cámara secreta', 'Harry Potter och de vises sten (Harry Potter, #1)', 'Harry Potter és az Azkabani Fogoly (Harry Potter, #3)', 'Harry Potter y la cámara secreta (Harry Potter, #2)', 'Harry Potter y el Prisionero de Azkaban', 'Harry Potter und der Orden des Phönix', 'Harry Potter e o Prisioneiro de Azkaban (Harry Potter, #3)', 'Harry Potter en die Kamer van Geheimenisse', 'Harry Potter e i doni della morte', '阿兹卡班的逃犯 (哈利波特, #3)', 'Harry Potter und der Gefangene von Askaban', '消失的密室 (哈利波特, #2)', 'Harry Potter y El Caliz de Fuego', 'Harry Potter ve Azkaban Tutsağı (Harry Potter, #3)', 'Harry Potter og dødstalismanene (Harry Potter, # 7)', 'Harry Potter ja liekehtivä pikari (Harry Potter, #4)', 'Harry Potter og fangen fra Azkaban', \"Harry Potter et Le Prisonnier d'Azkaban (Harry Potter #3)\", 'Harry Potter und die Heiligtümer des Todes (Harry Potter, #7)', 'Harry Potter i kamen mudraca (Harry Potter, #1)', 'Harry Potter i odaja tajni (Harry Potter, #2)', 'Harry Potter i zatočenik Azkabana (Harry Potter, #3)', 'هاري بوتر و مقدسات الموت', 'Harry Potter and the Half-Blood Prince (Harry Potter, #6)', 'Harry Potter og de vises stein (Harry Potter, #1)', 'Harry Potter i la Pedra Filosofal (Harry Potter, #1)', 'Harry Potter i la cambra secreta (Harry Potter, #2)', 'Haris Poteris ir Fenikso brolija (Haris Poteris, #5)', 'Haris Poteris ir Netikras Princas (Haris Poteris, #6)', 'Haris Poteris ir Mirties relikvijos (Haris Poteris, #7)', 'Harry Potter y el misterio del príncipe (Harry Potter, #6)', 'Harry Potter y la cámara secreta', 'Harry Potter and the Prisoner of Azkaban', 'Harry Potter Og Flammernes Pokal', 'Harry Potter Und Der Gefangene Von Askaban', 'Harry Potter and the Prisoner of Azkaban (Harry Potter, #3)', 'Harry Potter and the Goblet of Fire (Harry Potter, #4)', 'Harry Potter And The Prisoner Of Azkaban (Harry Potter)', 'Harry Potter Boxset (Harry Potter, #1-7)', 'Harry Potter şi Camera Secretelor (Harry Potter, #2)', 'Harry Potter and the Prisoner of Azkaban (Harry Potter, #3)', 'Harry Potter and the Chamber of Secrets', 'Harry Potter Và Hòn Đá Phù Thủy (Harry Potter, #1)', 'Harry Potter e as Relíquias da Morte (Harry Potter, #7)', 'Harry Potter ve Melez Prens (Harry Potter, #6)', 'Harry Potter e a Câmara Secreta (Harry Potter, #2)', 'Гарри Поттер и Кубок огня (Гарри Поттер #4)', '哈利•波特 [共4册]', 'Harry Potter e la pietra filosofale (Harry Potter #1)', 'Harry Potter y la Piedra Filosofal (Harry Potter, #1)', 'Harry Potter e i doni della morte (Harry Potter, #7)', 'Harry Potter and the prisoner of Azkaban', 'Harry Potter and the Deathly Hallows', 'Harry Potter: Kamen modrosti  (Harry Potter, #1)', 'Harry Potter: Dvorana skrivnosti  (Harry Potter, #2)', 'Harry Potter en die Beker vol Vuur', 'Harry Potter en die gevangene van Azkaban', 'Harry Potter en de Geheime Kamer (Harry Potter #2)', 'Harry Potter en de Orde van de Feniks (Harry Potter #5)', 'Harry Potter en de Gevangene van Azkaban (Harry Potter #3)', 'Harry Potter en de Halfbloed Prins (Harry Potter #6)', 'Harry Potter en de Vuurbeker (Harry Potter #4)', 'Harry Potter en de Steen der Wijzen', 'Harry Potter en de Relieken van de Dood (Harry Potter #7)', 'Harry Potter y el misterio del príncipe (Harry Potter, #6)', 'Harry Potter a Kameň mudrcov (Harry Potter, #1)', 'Harry Potter a Tajomná komnata', 'Harry Potter a Väzeň z Azkabanu', 'Harry Potter a Ohnivá čaša', 'Harry Potter a Fénixov rád', 'Harry Potter a Polovičný princ', 'Harry Potter and the Prisoner of Azkaban', 'Harry Potter y la cámara secreta', 'Harry Potter y la Cámara Secreta', 'Harry Potter şi Prizonierul din Azkaban (Harry Potter, #3)', 'Barden Beedles Eventyr', 'Harry Potter şi Piatra Filozofală (Harry Potter, #1)', 'Harry Potter Signature Boxed Set', 'Harry Potter et le Prince de Sang-Mêlé (Harry Potter, #6)', 'Harry Potter and the Chamber of Secrets', 'Harry Potter and the Prisoner of Azkaban', 'Harry Potter and the Goblet of Fire', 'Harry Potter e la pietra filosofale', 'Harry Potter und der Stein der Weisen', \"Ozan Beedle'ın Hikayeleri\", 'Harry Potter e a Pedra Filosofal', 'Harry Potter y la piedra filosofal (Harry Potter, #1)', 'Harry Potter y El Misterio del Príncipe (Harry Potter, #6)', 'Harry Potter and the Order of the Phoenix', 'Harry Potter és a Főnix Rendje (Harry Potter, #5)', 'Harry Potter and the Half-Blood Prince', 'Harry Potter Và Hội Phượng Hoàng (Harry Potter, #5)', 'Harry Potter Và Chiếc Cốc Lửa (Harry Potter, #4)', 'Harry Potter Và Phòng Chứa Bí Mật  (Harry Potter, #2)', 'Harry Potter Và Bảo Bối Tử Thần (Harry Potter, #7)', 'Harry Potter and the Deathly Hallows', 'Harry Potter i zatvorenik iz Askabana', 'Harry Potter e a pedra filosofal (Harry Potter, #1)', 'Harry Potter e la pietra filosofale', 'Harry Potter et la Chambre des Secrets (Harry Potter, #2)', 'Harry Potter Et La Chambre Des Secrets', \"Harry Potter et l'Ordre du Phénix\", \"Harry Potter à l'école des sorciers (Harry Potter, #1)\", 'Harry Potter e la camera dei segreti', 'Harry Potter e la camera dei segreti', 'Harry Potter: La pietra filosofale-La camera dei segreti-Il prigioniero di Azkaban', 'Harry Potter et les Reliques de la Mort', 'Harry Potter ja tarkade kivi (Harry Potter, #1)', 'Harry Potter ja Azkabani vang (Harry Potter, #3)', 'Harry Potter ja Fööniksi Ordu (Harry Potter, #5)', 'Harry Potter ja segavereline prints (Harry Potter, #6)', 'Harry Potter ja surma vägised (Harry Potter #7)', 'Harry Potter et la Coupe de Fe', 'Harry Potter og ildbegeret (Harry Potter #4)', \"Harry Potter and The Sorcerer's Stone\", 'हैरी पॉटर और रहस्यमयी तहख़ाना (हैरी पॉटर #2)', 'Гарри Поттер и Принц-полукровка  (Гарри Поттер #6)', 'Harry Potter és a Titkok Kamrája', 'Harry Potter és a Bölcsek Köve (Harry Potter, #1)', 'Harry Potter és a Tűz Serlege (Harry Potter, #4)', 'Harry Potter és a Félvér Herceg (Harry Potter, #6)', 'Harry Potter şi Camera Secretelor (Harry Potter, #2)', \"Harry Potter et le Prisonnier d'Azkaban\", 'Harry Potter și Prințul Semipur (Harry Potter, #6)', 'Harry Potter et la Coupe de Feu', 'Harry Potter og Halvblodsprinsen', 'Harijs Poters un Jauktasiņu princis', '诗翁彼豆故事集 : 赫敏・格兰杰译自如尼文', 'Harry Potter e la camera dei segreti', 'Harry Potter. Cofanetto', 'Harry Potter And The Prisoner Of Azkaban', 'Harijs Poters un filozofu akmens', 'Harijs Poters un Azkabanas gūsteknis', 'Harijs Poters un Uguns biķeris', 'Harry Potter en de gevangene van Azkaban', 'Harry Potter og mysteriekammeret', 'Harry Potter și Talismanele Morții (Harry Potter, #7)', \"Harry Potter and the Sorcerer's Stone\", 'Harry Potter i Relikvije Smrti (Harry Potter, #7)', 'Harry Potter and the Order of the Phoenix  (Harry Potter, #5)', 'Harry Potter and the Deathly Hallows: Harry Potter dan Relikui Kematian (Harry Potter, #7)', 'Οι ιστορίες του Μπιντλ του Βάρδου', \"Harry Potter and the Philosopher's Stone (Harry Potter, #1)\", 'Harry Potter og fanginn frá Azkaban', 'Гарри Поттер и философский камень (Гарри Поттер #1)', 'Harry Potter Và Tên Tù Nhân Ngục Azkaban (Harry Potter, #3)', 'Harry Potter şi Ordinul Phoenix  (Harry Potter, #5)', 'Harry Potter i el misteri del Príncep', \"Harry Potter i l'orde del Fènix\", 'Harry Potter i el calze de foc', \"Harry Potter i el pres d'Azkaban\", 'Harijs Poters un Nāves Dāvesti (Harry Potter, #7)', 'Harry Potter ja puoliverinen prinssi  (Harry Potter, #6)', 'The Casual Vacancy', 'Harry Potter y la cámara secreta (Harry Potter, #2)', 'Harry Potter eta Azkabango presoa', 'Hari Poter i Kamen mudrosti (Harry Potter, #1)', 'Harry Potter eta Suaren Kopa', 'Harry Potter and the Deathly Hallows (Harry Potter, #7)', 'Harry Potter and the Half-blood Prince (Harry Potter, #6)', 'Harry Potter and the Goblet of Fire (Harry Potter, #4)', 'Harry Potter and the Order of the Phoenix (Harry Potter, #5)', 'Harry Potter and the Prisoner of Azkaban (Harry Potter, #3)', \"Harry Potter and the Philosopher's Stone (Harry Potter, #1)\", 'Harry Potter and the Chamber of Secrets (Harry Potter, #2)', \"Harry Potter and the Sorcerer's Stone (Harry Potter, # 1)\", 'Harry Potter and the Order of the Phoenix', \"Harry Potter and the Sorcerer's Stone (Harry Potter, #1)\", 'Harry Potter and the Chamber of Secrets (Harry Potter, #2)', 'Harry Potter and the Prisoner of Azkaban (Harry Potter, #3)', 'Harry Potter and the Goblet of Fire (Harry Potter, #4)', 'Harry Potter and the Order of the Phoenix (Harry Potter, #5)', 'Harry Potter and the Half-Blood Prince (Harry Potter, #6)', 'Harry Potter and the Deathly Hallows (Harry Potter, #7)', 'Harry Potter and the Order of the Phoenix (Harry Potter, #5)', 'Harry Potter and the Prisoner of Azkaban (Harry Potter, #3)', 'Harry Potter and the Deathly Hallows (Harry Potter, #7)', 'Harry Potter and the Goblet of Fire (Harry Potter, #4)', 'Harry Potter and the Half-Blood Prince (Harry Potter, #6)', 'Harry Potter and the Chamber of Secrets (Harry Potter, #2)', \"Harry Potter and the Philosopher's Stone (Harry Potter, # 1)\", 'Harry Potter and the Chamber of Secrets', 'Harry Potter and the Prisoner of Azkaban', 'Harry Potter and the Goblet of Fire (Harry Potter, #4)', 'Harry Potter and the Order of the Phoenix (Harry Potter #5)', 'Harry Potter and the Half-Blood Prince', 'Harry Potter and the Deathly Hallows', '哈利•波特 [套装共7册]', 'Harry Potter och fången från Azkaban (Harry Potter, #3)', \"Harry Potter and the Philosopher's Stone (Harry Potter, #1)\", 'The Casual Vacancy', \"Harry Potter and the Sorcerer's Stone (Harry Potter, #1)\", 'The Casual Vacancy', 'Siuntio Silosäkeen tarinat', 'The Casual Vacancy', 'The Casual Vacancy', 'The Casual Vacancy', 'Harry Potter and the Order of the Phoenix Book 5 Part 1', 'Harry Potter and the Chamber of Secrets (Harry Potter, #2)', 'Harry Potter and the Goblet of Fire (Harry Potter #4)', 'Harry Potter and the Prisoner of Azkaban (Harry Potter, #3)', \"Harry Potter and the Philosopher's Stone\", 'Harry Potter and the Chamber of Secrets', 'Harry Potter and the Prisoner of Azkaban', 'Harry Potter and the Goblet of Fire', 'Harry Potter and the Half-Blood Prince', 'Harry Potter and the Deathly Hallows', 'Harry Potter and the Order of the Phoenix (Harry Potter, #5)', 'Harry Potter and the Prisoner of Azkaban (Harry Potter, #3)', 'הארי פוטר וחדר הסודות', \"Harry Potter and the Sorcerer's Stone (Harry Potter, #1)\", 'The Casual Vacancy', \"Harry Potter à l'école des sorciers (Harry Potter, #1)\", 'Harry Potter y la Cámara Secreta (Harry Potter #2)', 'Harry Potter y el Prisionero de Azkaban', \"Bard Beedle'i lood\", 'Harry Potter and the Deathly Hallows', 'הארי פוטר והאסיר מאזקבאן (Harry Potter, #3)', 'The Casual Vacancy', \"Harry Potter and the Philosopher's Stone (Harry Potter, #1)\", 'Harry Potter y la Cámara de los secretos', 'Harry Potter y la orden del fénix', 'Poveştile Bardului Beedle', 'Harry Potter şi Piatra Filozofală (Harry Potter, #1)', 'Harry Potter e il prigioniero di Azkaban', 'Harry Potter og Hemmelighedernes Kammer (Harry Potter #2)', 'Harry Potter og Fangen fra Azkaban (Harry Potter #3)', 'Harry Potter og Flammernes Pokal (Harry Potter #4)', 'Harry Potter e os Talismas da Morte (Harry Potter, #7)', 'Harry Potter and the Goblet of Fire', 'Harry Potter and the Chamber of Secrets (Harry Potter, #2)', 'Harry Potter y El Caliz de Fuego', \"Harry Potter Et le Prisonnier D'Azkaban\", 'Harry Potter og Flammernes Pokal (Harry Potter, #4)', 'Harry Potter og De Vises Sten (Harry Potter, #1)', 'Ein plötzlicher Todesfall', \"Harry Potter and the Philosopher's Stone (Harry Potter, #1)\", 'Хари Потер и Реликвиите на Смртта (Harry Potter #7)', \"Harry Potter à l'École des Sorciers\", 'Harry Potter e il calice di fuoco', 'Harry Potter and the Goblet of Fire (Harry Potter, #4)', 'Harry Potter and the Order of the Phoenix (Harry Potter, #5)', \"Harry Potter and the Sorcerer's Stone (Harry Potter, #1)\", 'Harry Potter and the Prisoner of Azkaban (Harry Potter, #3)', 'Harry Potter y la piedra filosofal', \"Harry Potter en de Stien fan 'e Wizen\", 'The Casual Vacancy', 'Harry Potter e la pietra filosofale (Harry Potter, #1)', 'Harry Potter e la camera dei segreti (Harry Potter, #2)', 'Harry Potter e il prigioniero di Azkaban (Harry Potter, #3)', 'Harry Potter e il calice di fuoco (Harry Potter, #4)', \"Harry Potter e l'Ordine della Fenice (Harry Potter, #5)\", 'Harry Potter e il Principe Mezzosangue (Harry Potter, #6)', 'Harry Potter e i doni della morte', 'Harry Potter y la Cámara Secreta (Harry Potter, #2)', 'Harry Potter and the Chamber of Secrets (Harry Potter, #2)', 'Вакантен пост', 'Een goede raad', 'Harry Potter and the Deathly Hallows (Harry Potter, #7)', 'Harry Potter and the Goblet of Fire (Harry Potter, #4)', 'Rozprávky barda Beedla', 'Une place à prendre', 'The Casual Vacancy', 'The Casual Vacancy', 'هری پاتر و زندانی آزکابان', 'Harry Potter i Czara Ognia (Harry Potter, #4)', 'Harry Potter y la piedra filosofal', 'Harry Potter e la Pietra Filosofale', 'The Casual Vacancy', 'Las Llaves Voladoras', 'Harry Potter i Komnata Tajemnic (Harry Potter, #2)', 'Las 142 Escaleras de Hogwarts', 'Harry Potter y el misterio del príncipe (Harry Potter, #6)', 'Harry Potter y las Reliquias de la Muerte (Harry Potter #7)', 'Hari Poter i Dvorana tajni (Harry Potter, #2)', 'Hari Poter i Red feniksa (Harry Potter, #5)', 'Harry Potter i Polukrvni princ (Harry Potter, #6)', 'Hari Poter i Vatreni pehar (Harry Potter, #4)', 'Hari Poter i Zatvorenik iz Askabana (Harry Potter, #3)', 'Een goede raad', 'Harry Potter and the Order of the Phoenix (Harry Potter, #5)', 'Trafny wybór', 'Harry Potter und der Stein der Weisen (Harry Potter, #1)', 'Harry Potter a Ohnivý pohár (Harry Potter, #4)', 'Harry Potter a vězeň z Azkabanu (Harry Potter, #3)', 'מעשיות בידל הפייטן', 'Une place à prendre', 'Une place à prendre', 'Ein plötzlicher Todesfall', 'Ein plötzlicher Todesfall', 'Ein plötzlicher Todesfall', 'Een goede raad', 'Harry Potter og Fønixordenen (Harry Potter, #5)', 'Harry Potter és a bölcsek köve (Harry Potter, #1)', 'Ένας ξαφνικός θάνατος', 'Harry Potter og Halvblodsprinsen (Harry Potter, #6)', 'Uma Morte Súbita', 'Harry Potter og fangen fra Azkaban (Harry Potter, #3)', 'Harry Potter og dødsregalierne (Harry Potter #7)', 'Harijs Poters un Fēniksa Ordenis (Harry Potter #5)', 'Harijs Poters un Fēniksa Ordenis (2. daļa)', 'Harry Potter és a Bölcsek Köve (Harry Potter, #1)', 'ハリー・ポッターと賢者の石 1-1 (ハリー・ポッター文庫)', 'Harry Potter and the Prisoner of Azkaban (Harry Potter, #3)', 'Morte Súbita', 'Upražnjeno mesto', 'The Tales of Beedle the Bard (Hogwarts Library)', 'Harry Potter i Zakon Feniksa (Harry Potter, #5)', 'Harry Potter i Zakon Feniksa (Harry Potter, #5)', 'Paikka vapaana', 'Harry Potter e a Câmara Secreta (Harry Potter, #2)', 'Moarte subită', 'Harry Potter e o Prisioneiro de  Azkaban (Harry Potter, #3)', 'Harry Potter e o Cálice de Fogo (Harry Potter, #4)', 'Den tomme stolen', 'Harry Potter e a Ordem da Fênix', 'Harry Potter e o Enigma do Príncipe (Harry Potter, #6)', 'Harry Potter e as Relíquias da Morte (Harry Potter, #7)', 'Ein plötzlicher Todesfall', 'Harry Potter és a Titkok Kamrája (Harry Potter, #2)', 'Harry Potter és a Tűz Serlege (Harry Potter, #4)', 'Trafny wybór', 'Il seggio vacante', 'ハリー・ポッターと賢者の石 [オーディオブック第１巻]', 'ハリー・ポッターと秘密の部屋\\u3000[オーディオブック第二巻]', 'Harry Potter és a Főnix Rendje', 'Den tomma stolen', 'Harry Potter y El Prisionero de Azkaban (Harry Potter, #3)', 'The Tales of Beedle the Bard', 'Trafny wybór', 'Una vacante imprevista', 'Harry Potter és a Félvér Herceg (Harry Potter, #6)', 'Harry Potter y la Cámara Secreta', 'The Casual Vacancy - Perebutan Kursi Kosong', 'The Hogwarts Library', 'La vacant imprevista', 'Harry Potter and the Prisoner of Azkaban (Harry Potter, #3)', 'Harry Potter e a Pedra Filosofal', 'Il seggio vacante', 'Harry Potter and the Half-Blood Prince (Harry Potter, #6)', 'Harry Potter y la piedra filosofal (Harry Potter #1)', 'Den Tomme Plads', \"Harry Potter e l'Ordine della Fenice\", 'هارى بوتر و الأمير الهجين', '(#هارى بوتر ومقدسات الموت (هارى بوتر, 7', 'The Casual Vacancy', 'Una vacante imprevista', 'Una vacante imprevista', 'La vacant imprevista', 'La vacant imprevista', 'Una vacante imprevista', 'Bardo Bidlio poringės', 'Harry Potter and the Order of the Phoenix (Harry Potter, #5)', 'Átmeneti üresedés', 'Una vacante imprevista', 'Harry Potter y la Orden del Fénix (Harry Potter, #5)', 'Hlaupið í skarðið', 'Harry Potter és a Bölcsek Köve (Harry Potter, #1)', 'Harry Potter és az azkabani fogoly (Harry Potter, #3)', 'Harry Potter és a Tűz Serlege (Harry Potter, #4)', 'Harry Potter and the Deathly Hallows (Harry Potter, #7)', 'Prijevremeni izbori', 'Harry Potter und die Kammer des Schreckens', 'Harry Potter und der Gefangene von Askaban (Harry Potter, #3)', 'Harry Potter e as reliquias da morte (Harry Potter, #7)', 'Harry Potter y la piedra filosofal', 'Il seggio vacante', 'Dziesminieka Ķestera pasakas', 'Harry Potter eta sorgin-harria (Harry Potter, #1)', 'The Casual Vacancy', 'Upražnjeno mjesto', 'Harry Potter i odaja tajni (Harry Potter, #2)', 'Harry Potter ja Viisasten Kivi (Harry Potter, #1)', 'A kviddics évszázadai', 'Harry Potter y la camara secreta', 'The Casual Vacancy', 'Nejaušā vakance', 'כיסא פנוי', 'Harry Potter a Dary smrti (Harry Potter, #7)', 'Harry Potter and the Deathly Hallows (Harry Potter, #7)', 'Harry Potter and the Half-Blood Prince (Harry Potter, #6)', 'Harry Potter and the Half-Blood Prince (Harry Potter, #6)', 'Harry Potter și Pocalul de Foc (Harry Potter, #4)', 'Harry Potter și Ordinul Phoenix', 'Harry Potter e a Câmara dos Segredos (Harry Potter, #2)', 'The Tales of Beedle the Bard', 'Harry Potter and the Deathly Hallows (Harry Potter, #7)', 'Harry Potter and the Half-Blood Prince (Harry Potter, #6)', 'Harry Potter and the Order of the Phoenix (Harry Potter, #5)', 'Harry Potter and the Goblet of Fire (Harry Potter, #4)', 'Harry Potter and the Prisoner of Azkaban (Harry Potter, #3)', 'Harry Potter and the Chamber of Secrets (Harry Potter, #2)', \"Harry Potter and the Sorcerer's Stone (Harry Potter, #1)\", 'Случайная вакансия', 'Случайная вакансия', 'Harry Potter og Dødsregalierne (Harry Potter, #7)', 'Harry Potter og Halvblodsprinsen (Harry Potter, #6)', 'Prázdné místo', 'მგოსანი ბიდლის ზღაპრები', 'Harry Potter og Dødsregalierne (Harry Potter #7)', 'Prázdne miesto', 'The Casual Vacancy', 'The Tales of Beedle the Bard', 'Harry Potter dengan Banduan Azkaban', 'Harry Potter og de vises sten (Harry Potter #1)', 'Harry Potter: Jetnik iz Azkabana (Harry Potter, #3)', 'Harry Potter: Ognjeni kelih (Harry Potter, #4)', 'Harry Potter: Feniksov red (Harry Potter, #5)', 'Harry Potter: Polkrvni princ (Harry Potter, #6)', 'Harry Potter: Svetinje smrti (Harry Potter, #7)', '臨時空缺', 'Harry Potter a kámen mudrců', 'Harry Potter a Tajemná komnata (Harry Potter, #2)', 'Harry Potter a vězeň z Azkabanu', 'Boş Koltuk', 'Harry Potter și camera secretelor', 'Несподівана вакансія', 'Harry Potter e a Câmara Secreta', 'هاري بوتر و الأمير الهجين', 'Harry Potter and the Order of the Phoenix (Harry Potter, #5)', \"Harry Potter à l'école des sorciers (Harry Potter #1)\", 'Harry Potter et la Chambre des Secrets', \"Harry Potter et le Prisonnier d'Azkaban (Harry Potter, #3)\", 'เก้าอี้ว่าง', 'Harry Potter y la cámara secreta (Harry Potter, #2)', 'Harry Potter und der Gefangene von Askaban (Harry Potter, #3)', 'The Casual Vacancy', 'Harry Potter and the Deathly Hallows (Harry Potter, #7)', 'Khoảng trống', 'Harry Potter et la Coupe de Feu (Harry Potter, #4)', 'Harry Potter ja Viisasten Kivi (Harry Potter, #1)', 'Harry Potter und die Kammer des Schreckens (Harry Potter, #2)', 'Harry Potter i la pedra filosofal (Harry Potter, #1)', 'Harry Potter and the Goblet of Fire (Harry Potter, #4)', 'Harry Potter and the Deathly Hallows (Harry Potter, #7)', 'Harry Potter and the Deathly Hallows (Harry Potter, #7)', 'Harry Potter-Schuber (Harry Potter, #1-7)', 'Harry Potter y la piedra filosofal (Harry Potter, #1)', 'Harry Potter dhe Guri Filozofal (Harry Potter, #1)', 'Harry Potter dhe i Burgosuri i Azkabanit (Harry Potter, #3)', 'Harry Potter dhe Kupa e Zjarrit (Harry Potter, #4)', 'Harry Potter dhe Urdhri i Feniksit', 'Harry Potter and the Half-Blood Prince (Harry Potter, #6)', 'Harry Potter dhe Dhoma e të fshehtave (Harry Potter, #2)', 'Harry Potter dhe i burgosuri i Azkabanit, (Harry Potter, #3)', 'Harry Potter and the Deathly Hallows', 'Harry Potter ha maen ar furien', \"Harry Potter and the Philosopher's Stone (Harry Potter, #1)\", 'Harry Potter and the Chamber of Secrets', 'The Casual Vacancy', \"Harry Potter and the Sorcerer's Stone\", 'Harry Potter and the Chamber of Secrets', 'Harry Potter and the Prisoner of Azkaban', 'Harry Potter and the Goblet of Fire', 'Harry Potter and the Order of the Phoenix', 'Harry Potter and the Half-Blood Prince', 'Harry Potter and the Deathly Hallows', 'Ootamatu võimalus', 'Harry Potter i kamen mudrosti (Harry Potter, #1)', 'Harry Potter og De Vises Sten (Harry Potter, #1)', 'Harry Potter og Hemmelighedernes Kammer (Harry Potter, #2)', 'Harry Potter og Fangen fra Azkaban (Harry Potter, #3)', 'Harry Potter og Flammernes Pokal (Harry Potter, #4)', 'Harry Potter og Fønixordenen', 'Harry Potter e il Principe Mezzosangue (Harry Potter, #6)', \"Harry Potter à l'école des sorciers (Harry Potter, #1)\", 'Казки Барда Бідла (Harry Potter Companion Books #3)', 'Nadomestne volitve', 'منصب شاغر', 'Ein plötzlicher Todesfall', 'Harry Potter i Komnata Tajemnic (Harry Potter, #2)', 'Harry Potter and the Prisoner of Azkaban (Harry Potter, #3)', 'Harry Potter en de Relieken van de Dood (Harry Potter #7)', 'Harry Potter and the Goblet of Fire (Harry Potter, #4)', 'Harry Potter y el cáliz de fuego (Harry Potter, #4)', 'Harry Potter dalam Piala Api', 'Harry Potter dengan Putera Berdarah Kacukan (Harry Potter, #6)', 'Harry Potter dengan Azimat Maut (Harry Potter, #7)', 'Il seggio vacante', 'Harry Potter e a Pedra Filosofal (Harry Potter, #1)', 'افسانه های بیدل قصه گو', 'هری پاتر و نبرد عشق و خشم', \"Harry Potter and the Philosopher's Stone\", 'Harry Potter and the Prisoner of Azkaban (Harry Potter, #3)', 'Harry Potter and the Chamber of Secrets (Harry Potter, #2)', 'Harry Potter: The magical adventure begins . . .  (Harry Potter, #1-3)', 'Harry Potter y la piedra filosofal (Harry Potter, #1)', 'Harry Potter i Czara Ognia (Harry Potter, #4)', 'The Casual Vacancy', 'Der Ruf des Kuckucks (Cormoran Strike, #1)', 'ჰარი პოტერი და ფილოსოფიური ქვა (ჰარი პოტერი, #1)', 'Paikka vapaana', 'Harry Potter and the Goblet of Fire (Harry Potter, #4)', 'Harry Potter Box Set, Books 1 - 7 : Adult Cloth', 'کوییدیچ در گذر زمان', 'Harry Potter and the Order of the Phoenix (Harry Potter, #5)', 'Harry Potter y las Reliquias de la Muerte (Harry Potter #7)', 'Harry Potter e i Doni della Morte (Harry Potter, #7)', 'Harry Potter and the Half-Blood Prince (Harry Potter, #6)', 'Una vacante imprevista', 'แฮร์รี่ พอตเตอร์กับนักโทษอัซคาบัน', \"Harry Potter and the Philosopher's Stone\", 'Harry Potter ve Sırlar Odası (Harry Potter, #2)', 'Harry Potter: The Complete Series (Harry Potter, #1-7)', 'Harry Potter ja Tarkade Kivi (Harry Potter, #1)', 'Harry Potter ja Azkabani Vang (Harry Potter, #3)', 'Coleção Harry Potter (Harry Potter, #1-7)', 'Harry Potter and the Prisoner of Azkaban (Harry Potter, #3)', 'Harry Potter e o Cálice de Fogo (Harry Potter, #4)', 'Harry Potter e a Ordem da Fênix (Harry Potter, #5)', 'Harry Potter and the Deathly Hallows (Harry Potter, #7)', 'Harry Potter a Kámen mudrců (Harry Potter #1)', 'Harry Potter e la pietra filosofale (Harry Potter, #1)', 'Une place à prendre', 'เก้าอี้ว่าง', 'Harry Potter and the Chamber of Secrets (Harry Potter, #2)', 'Harry Potter and the Half-Blood Prince (Harry Potter, #6)', 'Harry Potter und der Kammer des Schreckens (Harry Potter, #2)', 'Bogar bárd meséi', 'Harry Potter és a Bölcsek Köve (Harry Potter, #1)', 'Harry Potter and the Goblet of Fire (Harry Potter, #4)', 'Harry Potter and the Prisoner of Azkaban (Harry Potter, #3)', 'Harry Potter and the Chamber of Secrets (Harry Potter, #2)', 'Harry Potter a Ohnivý pohár (Harry Potter, #4)', \"Harry Potter and the Sorcerer's Stone (Harry Potter, #1)\", 'Harry Potter and the Goblet of Fire (Harry Potter, #4)', 'Harry Potter i Insygnia Śmierci', 'แฮร์รี่ พอตเตอร์กับเจ้าชายเลือดผสม (Harry Potter #6)', 'خلأ موقت', 'Harry Potter and the Chamber of Secrets (Harry Potter, #2)', 'Harry Potter and the Prisoner of Azkaban (Harry Potter, #3)', 'Harry Potter and the Half-Blood Prince (Harry Potter, #6)', 'Harry Potter and the Deathly Hallows (Harry Potter, #7)', 'ハリー・ポッターとアズカバンの囚人 3-1', 'The Casual Vacancy', 'Harry Potter and the Order of the Phoenix (Harry Potter, #5)', 'Harry Potter: The Complete Collection (Harry Potter, #1-7)', 'The Tales of Beedle the Bard', 'Harry Potter und der Stein der Weisen', 'منصب شاغر', 'Harry Potter şi Piatra Filozofală (Harry Potter, #1)', 'ﻫیری پوٹر اور پارس پتھر', \"L'Appel du coucou\", 'Harry Potter und die Heiligtümer des Todes (Harry Potter #7)', 'Harry Potter si camera secretelor (Harry Potter, #2)', \"Harry Potter i l'Ordre del Fènix (Harry Potter, #5)\", 'Harry Potter i la cambra secreta (Harry Potter, #2)', \"Harry Potter i el pres d'Azkaban (Harry Potter, #3)\", 'Harry Potter și prizonierul din Azkaban (Harry Potter, #3)', 'Harry Potter y la piedra filosofal', '캐주얼 베이컨시 1', '캐주얼 베이컨시 2', 'Chemarea cucului (Cormoran Strike, #1)', 'Hogwarts Library', 'Harry Potter si pocalul de foc (Harry Potter, #4)', 'ハリー・ポッターと賢者の石 (ハリー・ポッターシリーズ #1)', 'カジュアル・ベイカンシー\\u3000突然の空席\\u30001', 'カジュアル・ベイカンシー\\u3000突然の空席\\u30002', '哈利·波特与凤凰社', 'Harry Potter und der Halbblutprinz (Buch 6)', \"Harry Potter et le Prisonnier d'Azkaban (Harry Potter, #3)\", 'Die Märchen von Beedle dem Barden', 'Harry Potter und der Feuerkelch', 'Harry Potter und der Orden des Phönix (Harry Potter #5)', 'Harry Potter und der Stein der Weisen', 'Harry Potter und die Kammer des Schreckens (Buch 2)', 'Harry Potter si Ordinul Phoenix', 'Harry Potter e o Príncipe Misterioso (livro 6)', 'Harry Potter e o Prisioneiro de Azkaban (Harry Potter, #3)', 'Harry Potter e o Cálice de Fogo (Harry Potter, #4)', 'Harry Potter e a Ordem da Fénix (Harry Potter, #5)', 'Harry Potter e o Príncipe Misterioso (Harry Potter, #6)', 'O Chamado do Cuco', 'Harry Potter y la cámara secreta', 'Harry Potter Box Set', 'Fantastic Beasts and Where to Find Them', 'Quidditch Through the Ages', 'ハリー・ポッターと賢者の石 (Harry Potter, #1)', 'ハリー・ポッターとアズカバンの囚人 (ハリー・ポッターシリーズ #3)', 'ハリー・ポッターと不死鳥の騎士団', 'カジュアル・ベイカンシー\\u3000突然の空席\\u3000Ｉ・ＩＩ', 'ハリー・ポッターと秘密の部屋', 'ハリー・ポッターと炎のゴブレット (ハリー・ポッターシリーズ #4)', 'ハリー・ポッターと謎のプリンス (ハリー・ポッターシリーズ #6)', 'ハリー・ポッターと死の秘宝 (ハリー・ポッターシリーズ #7)', 'Harry Potter y el prisionero de Azkaban (Libro 3)', 'Harry Potter y el cáliz de fuego (Harry Potter, #4)', 'Wołanie kukułki (Cormoran Strike, #1)', 'Harry Potter şi Prinţul Semipur (Harry Potter, #6)', 'The Tales of Beedle the Bard', 'Harry Potter et la Chambre des Secrets (Tome 2)', 'Netikėta vakansija', 'Harry Potter i dvorana tajni (Harry Potter, #2)', 'Harry Potter i Zatvorenik iz Askabana (Hari Poter, #3)', 'Harry Potter i Vatreni pehar (Hari Poter, #4)', 'Harry Potter et les Reliques de la Mort', 'Harry Potter i Red feniksa (Hari Poter, #5)', 'Harry Potter i Polukrvni Princ (Hari Poter, #6)', 'Ein plötzlicher Todesfall', \"Harry Potter et l'Ordre du Phénix (Harry Potter #5)\", 'Harry Potter e a Pedra Filosofal (Harry Potter, #1)', 'Morte Súbita', 'Harry Potter si Talismanele mortii (Harry Potter, #7)', \"L'Appel du coucou\", 'Harry Potter e a Ordem da Fênix', 'Harry Potter et le Prince de Sang-Mêlé (Harry Potter #6)', 'Harry Potter y la Orden del Fénix', 'Harry Potter e a Pedra Filosofal (Harry Potter, #1)', 'Les Contes de Beedle le Barde', 'Harry Potter og de Vises Stein (Harry Potter, #1)', 'Animales fantásticos y dónde encontrarlos', 'Harry Potter e o enigma do Príncipe', 'Harry Potter e o prisioneiro de Azkaban', 'Harry Potter e o Cálice de Fogo', 'Harry Potter e a Câmara Secreta (Harry Potter, #2)', 'Nadomestne volitve', 'Harry Potter e as Relíquias da Morte (Harry Potter #7)', 'Monstros Fantásticos e Onde Encontrá-los', \"Harry Potter - L'intégrale\", '해리포터와 불사조 기사단 [Part 1 of 5]', 'The Hogwarts Library', 'Harry Potter und der Stein der Weisen (Harry Potter,#1)', 'Den tomma stolen', 'Harry Potter and the Deathly Hallows (Harry Potter, #7)', 'Harry Potter and the Prisoner of Azkaban', 'Harry Potter and the Deathly Hallows (Harry Potter #7)', 'Harry Potter and the Deathly Hallows (Harry Potter, #7)', 'Harry Potter and the Deathly Hallows', 'Harry Potter Box Set', 'Harry Potter und der Feuerkelch (Harry Potter, #4)', 'Harry Potter Box Set', \"Harry Potter and the Philosopher's Stone, Chamber of Secrets, Prisoner of Azkaban\", 'Harry Potter Boxed Set', 'Harry Potter and the Goblet of Fire', 'Harry Potter and the Goblet of Fire (Harry Potter, #4)', 'Harry Potter and the Prisoner of Azkaban (Harry Potter, #3)', 'Harry Potter und der Orden des Phönix', 'Гарри Поттер и дары смерти (Гарри Поттер #7)', '哈利·波特与死亡圣器 (哈利·波特 #7)', 'Ο Χάρι Πότερ και οι κλήροι του θανάτου (Χάρι Πότερ, #7)', 'The Casual Vacancy', 'Harry Potter a Kámen mudrců (Harry Potter, #1)', 'Harry Potter a Tajemná komnata (Harry Potter, #2)', 'Harry Potter und der Halbblutprinz (Harry Potter, #6)', 'ハリー・ポッターと謎のプリンス [上下巻セット] (ハリー・ポッターシリーズ #6)', 'Harry Potter och fången från Azkaban (Harry Potter, #3)', 'Os Contos de Beedle, o Bardo', 'Il seggio vacante', 'Harry Potter et le Prince de Sang-Mêlé', 'Harry Potter e o Prisioneiro de Azkaban (livro 3)', \"Harry Potter and the Sorcerer's Stone\", 'Harry Potter és a bölcsek köve (Harry Potter, #1)', 'Harry Potter és a Titkok Kamrája (Harry Potter, #2)', 'Harry Potter and the Prisoner of Azkaban (Harry Potter, #3)', 'Harry Potter en de Geheime Kamer', 'Harry Potter e a Pedra Filosofal (Harry Potter, #1)', 'Harry Potter e o Enigma do Príncipe (Harry Potter, #6)', 'Harry Potter and the Order of the Phoenix', \"Harry Potter et le Prisonnier d'Azkaban (Harry Potter #3)\", 'Harry Potters Schatkluis (Harry Potter, #1-7)', 'Harry Potter en de Vuurbeker', 'Harry Potter Boxed Set (Harry Potter, #1-4)', 'Haris Poteris ir Azkabano kalinys (Harry Potter, #3)', 'Harry Potter en de Orde van de Feniks', 'Rastësisht një vend bosh', 'Harrius Potter et Camera Secretorum', 'Hārī Būtir wa-kaʼs al-nār', 'Harry Potter and the Goblet of Fire', 'Гарри Поттер и Философский камень (Harry Potter, # 1)', 'Harry Potter Box Set, Books 1-7', 'Harry Potter i la pedra filosofal', 'Trafny Wybór', '吟遊詩人ビードルの物語', 'Harry Potter and the Half-Blood Prince', 'Harry Potter and the Deathly Hallows', 'Harry Potter and the Goblet of Fire (Harry Potter, #4)', 'Harry Potter & the Order of the Phoenix', 'Harry Potter and the Half-Blood Prince', 'Harry Potter and the Half-Blood Prince', 'Harry Potter and the Chamber of Secrets', 'Harry Potter and the Prisoner of Azkaban', 'Harry Potter and the Goblet of Fire (Book 4 Part 2)', 'Harry Potter and the Order of the Phoenix (Book 5 - Part 2)', 'Harry Potter and the Deathly Hallows', 'Harry Potter and the Chamber of Secrets', 'Harry Potter & the Deathly Hallows', 'Harry Potter and the Half-Blood Prince', 'Harry Potter and the Goblet of Fire', 'Harry Potter og dødstalismanene (Harry Potter, # 7)', 'Harry Potter en de Halfbloed Prins', 'Harry Potter en de Relieken van de Dood', 'De Vertelsels van Baker de Bard', 'Harry Potter And The Goblet Of Fire', 'Harry Potter en de relieken van de dood (Harry Potter #7)', 'Harry Potter und der Gefangene von Askaban', 'Harry Potter and the Deathly Hallows (Harry Potter #7)', \"Harry Potter and the Philosopher's Stone (Harry Potter, #1)\", 'Гарри Поттер. 7 волшебных книг', 'Harry Potter and the Deathly Hallows (Harry Potter, #7)', 'harry potter y la camera secreta', 'Boş Koltuk', 'Harry Potter y el cáliz de fuego (Harry Potter, #4)', 'The Casual Vacancy', 'Los cuentos de Beedle el bardo', \"Harry Potter à l'École des Sorciers (Harry Potter, #1)\", 'แฮร์รี่ พอตเตอร์ กับศิลาอาถรรพ์', 'แฮร์รี่ พอตเตอร์ กับเครื่องรางยมทูต', 'แฮร์รี่ พอตเตอร์ กับห้องแห่งความลับ', 'แฮร์รี่ พอตเตอร์ กับนักโทษแห่งอัซคาบัน', 'แฮร์รี่ พอตเตอร์ กับถ้วยอัคนี', 'แฮร์รี่ พอตเตอร์ กับเจ้าชายเลือดผสม', 'แฮร์รี่ พอตเตอร์ กับภาคีนกฟีนิกซ์', 'Harry Potter and the Prisoner of Azkaban (Harry Potter, #3)', 'Гарри Поттер и Тайная комната (Harry Potter #2)', \"Harry Potter et le Prisonnier d'Azkaban\", 'Den tomma stolen', 'Harry Potter and the Chamber of Secrets (Harry Potter, #2)', 'Harry Potter and the Prisoner of Azkaban (Harry Potter, #3)', 'Harry Potter and the Goblet of Fire (Harry Potter, #4)', 'Harry Potter and the Order of the Phoenix (Harry Potter, #5)', 'Harry Potter and the Half-Blood Prince (Harry Potter, #6)', 'Harry Potter and the Deathly Hallows (Harry Potter, #7)', 'Harry Potter Boxed Set: The Complete Collection', 'Harry Potter og Halvblodsprinsen (Harry Potter #6)', 'The Tales of Beedle the Bard (Hogwarts Library)', \"Harry Potter and the Sorcerer's Stone (Harry Potter #1)\", 'Harry Potter e la Pietra Filosofale (Harry Potter, #1)', 'Harry Potter e la Camera dei Segreti (Harry Potter, #2)', 'Harry Potter e il Prigioniero di Azkaban (Harry Potter, #3)', 'Harry Potter e il Calice di Fuoco (Harry Potter, #4)', \"Harry Potter e l'Ordine della Fenice (Harry Potter, #5)\", 'Harry Potter e il Principe Mezzosangue (Harry Potter, #6)', 'Harry Potter e i Doni della Morte (Harry Potter, #7)', 'Harry Potter et les Reliques de la Mort', 'Harry Potter e a Câmara Secreta (Harry Potter, #2)', 'Harry Potter e o Prisioneiro de Azkaban (Harry Potter, #3)', 'Harry Potter e o Cálice De Fogo (Harry Potter, #4)', 'Harry Potter e a Ordem da Fênix (Harry Potter, #5)', 'Harry Potter e o Enigma do Príncipe (Harry Potter, #6)', 'Harry Potter e As Relíquias da Morte (Harry Potter, #7)', 'Harry Potter and the Prisoner of Azkaban (Harry Potter, #3)', \"Harry Potter and the Sorcerer's Stone; and the Chamber of Secrets; and the Prisoner of Azkaban (Volumes 1-3)\", 'Harry Potter and the Goblet of Fire', 'Harry Potter och den flammande bägaren (Harry Potter, #4)', 'Harry Potter and the Prisoner of Azkaban', 'Harry Potter and the Prisoner of Azkaban', 'Casual Vacancy', 'ハリー・ポッターと賢者の石 1-2', 'Гарри Поттер и Философский камень (Гарри Поттер #1)', 'Harry Potter et la Coupe de Feu (Harry Potter, #4)', 'Harry Potter och de vises sten (Harry Potter 1)', 'The Tales of Beedle the Bard', 'হ্যারি পটার অ্যান্ড দি ফিলসফারস স্টোন (হ্যারি পটার, #১)', 'Harry Potter and the Half-Blood Prince', 'Harry Potter e la pietra filosofale (Harry Potter, #1)', 'Harry Potter e la camera dei segreti (Harry Potter, #2)', 'Harry Potter e il prigioniero di Azkaban', 'Harry Potter e il calice di fuoco', \"Harry Potter e l'ordine della fenice\", 'Harry Potter e il principe mezzosangue', 'Harry Potter e i doni della morte', 'Harry Potter és a bölcsek köve', 'The Casual Vacancy', 'هاري بوتر والأمير الهجين [Hārī Būtir wa-al-amīr al-hajīn]', 'Harry Potter et la Chambre des Secrets (Harry Potter #2)', 'Harry Potter 1-5 box set', 'Harry Potter And The Order Of The Phoenix', 'Harry Potter und die Heiligtümer des Todes (Harry Potter, #7)', 'Harry Potter and the Half-Blood Prince (Harry Potter, #6)', 'ჰარი პოტერი და საიდუმლო ოთახი (Harry Potter, #2)', 'ჰარი პოტერი და აზკაბანის ტყვე (Harry Potter, #3)', 'ჰარი პოტერი და ცეცხლოვანი თასი (Harry Potter, #4)', 'ჰარი პოტერი და ფენიქსის ორდენი', 'Harry Potter and the Prisoner of Azkaban', 'Гарри Поттер и узник Азкабана (Harry Potter #3)', 'Harry Potter und der Orden des Phoenix', 'Harry Potter and the Half-Blood Prince', 'Harry Potter und die Heiligtümer des Todes (Harry Potter, #7)', 'Harry Potter and the Deathly Hallows (Harry potter #7)', 'The Complete Harry Potter Collection', 'Harry Potter E-Book-Gesamtausgabe, Band 1 bis 7', 'Hogvortska Biblioteka', 'Pripovesti Barda Bidla', 'Los cuentos de Beedle el Bardo', 'Harry Potter e la Pietra Filosofale (Harry Potter, #1)', 'Harry Potter Boxed Set (Volumes 1-4)', 'Harry Potter y la cámara secreta (Harry Potter, #2)', 'Harry Potter and the Goblet of Fire', 'ハリー・ポッターと賢者の石 (Harry Potter, #1)', 'Harry Potter y la Orden del Fénix (Harry Potter, #5)', 'Harry Potter et la Chambre des Secrets (Harry Potter, #2)', \"Harry Potter and the Philosopher's Stone (Harry Potter, #1)\", 'Harry Potter and the Chamber of Secrets (Harry Potter, #2)', 'Harry Potter and the Prisoner of Azkaban (Harry Potter, #3)', 'Harry Potter and the Goblet of Fire (Harry Potter, #4)', 'Harry Potter and the Order of the Phoenix (Harry Potter, #5)', 'Harry Potter and the Half-Blood Prince (Harry Potter, #6)', 'Harry Potter and the Deathly Hallows (Harry Potter, #7)', 'Harry Potter, Tome : Coffret collector', 'Harry Potter és az azkabani fogoly (Harry Potter, #3)', 'Harry Potter y la Piedra Filosofal (Harry Potter, #1)', 'Хари Потер и Kамен мудрости (књига 1)', 'Хари Потер и Дворана тајни (књига 2)', 'Хари Потер и затвореник из Аскабана  (књига 3)', 'Хари Потер и Ватрени пехар (књига 4)', 'Хари Потер и Ред феникса 1  (књига 5, том 1)', 'Хари Потер и Ред феникса 2 (књига 5, том 2)', 'Morte Súbita', 'Harry Potter i kamen mudraca (Harry Potter, #1)', 'Harry Potter and the Prisoner of Azkaban (Harry Potter, #3)', 'Harry Potter Dalam Piala Api (Harry Potter, #4)', 'Harry Potter Dalam Kumpulan Phoenix', 'Harry Potter Dengan Putera Berdarah Kacukan', 'Harry Potter Dengan Azimat Maut', 'Ο Χάρι Πότερ και η φιλοσοφική λίθος (Χάρι Πότερ, #1)', 'Ο Χάρι Πότερ και η κάμαρα με τα μυστικά (Χάρι Πότερ, #2)', 'Ο Χάρι Πότερ και ο αιχμάλωτος του Αζκαμπάν (Χάρι Πότερ, #3)', 'Ο Χάρι Πότερ και το κύπελλο της φωτιάς (Χάρι Πότερ, #4)', 'Ο Χάρι Πότερ και το τάγμα του Φοίνικα (Χάρι Πότερ, #5)', 'Ο Χάρι Πότερ και ο ημίαιμος πρίγκιψ (Χάρι Πότερ, #6)', 'Harry Potter og hemmelighedernes Kammer', 'Harry Potter i odaja tajni (Harry Potter, #2)', 'Гарри Поттер и Кубок Огня (Гарри Поттер #4)', 'Il seggio vacante', 'হ্যারি পটার অ্যান্ড দ্য হাফ-ব্লাড প্রিন্স (হ্যারি পটার, #৬)', 'The Casual Vacancy', 'Гарри Поттер и Кубок Огня (Harry Potter #4)', 'Harry Potter und der Stein der Weisen (Harry Potter, #1)', 'Harry Potter i zatočenik Azkabana (Harry Potter, #3)', 'ハリー・ポッターとアズカバンの囚人 (Harry Potter #3)', 'Harry Potter 1-5 Cloth Box Set', 'جلد اول)هري پاتر و جام آتش)', 'ハリー・ポッターとアズカバンの囚人 3-2', \"Harry Potter and the Philosopher's Stone (Harry Potter #1)\", 'De vertelsels van Baker de Bard', 'Harry Potter i plameni pehar (Harry Potter, #4)', 'ハリーポッターと秘密の部屋', 'Harry Potter e a Pedra Filosofal (Harry Potter, #1)', 'Harry Potter Boxed Set: The Complete Collection', 'Harry Potter og eldbikarinn (Harry Potter, #4)', 'Harry Potter i Red feniksa (Harry Potter, #5)', 'Harry Potter și Ordinul Phoenix (Harry Potter, #5)', 'Harry Potter e a Ordem da Fénix (Harry Potter, #5)', 'Harry Potter e o Cálice de Fogo (Harry Potter, #4)', 'Harry Potter e o Príncipe Misterioso (Harry Potter, #6)', 'Harry Potter e os Talismãs da Morte (Harry Potter, #7)', 'Harry Potter e a Câmara dos Segredos (Harry Potter, #2)', 'Harry Potter e o Prisioneiro de Azkaban (Harry Potter, #3)', 'Harry Potter e o Prisioneiro de Azkaban (Harry Potter, #3)', 'Harry Potter y la piedra filosofal (Harry Potter, #1)', 'Harry Potter y la cámara secreta (Harry Potter, #2)', 'Harry Potter i princ miješane krvi (Harry Potter, #6)', 'Harry Potter y la piedra filosofal (Harry Potter, #1)', 'Harry Potter e o Cálice de Fogo (Harry Potter, #4)', 'ハリー・ポッターと賢者の石 1-I', 'ハリー・ポッターと賢者の石 1-II', 'Harry Potter en de Steen der Wijzen', 'Very Good Lives: The Fringe Benefits of Failure and the Importance of Imagination', 'Harry Potter and the Chamber of Secrets', 'Harry Potter and the Prisoner of Azkaban', 'Harry Potter and the Goblet of Fire', 'Harry Potter and the Order of the Phoenix', 'Гарри Поттер и Орден Феникса', 'Harry Potter and the Half-Blood Prince', 'Harry Potter i Darovi smrti (Harry Potter, #7)', 'Harry Potter en de Geheime Kamer', 'Harry Potter en de Gevangene van Azkaban', 'Harry Potter en de Vuurbeker', 'Harry Potter en de Orde van de Feniks', 'Harry Potter en de Halfbloed Prins', 'Harry Potter en de Relieken van de Dood', 'Harry Potter and the Deathly Hallows', 'The Complete Harry Potter Collection', 'Les Contes de Beedle le Barde', 'Povestile Bardului Beedle', 'Harry Potter și Piatra Filozofală  (Harry Potter, #1)', 'Harry Potter şi Piatra Filozofală (Harry Potter, #1)', 'Harry Potter og viskusteinninn  (Harry Potter, #1)', 'Harry Potter og ildbegeret (Harry Potter #4)', 'Une place à prendre', 'هری پاتر و جام آتش 2', 'Harry Potter og De Vises Sten (Harry Potter, #1)', 'Le fiabe di Beda il Bardo', 'Harry Potter en de Vuurbeker', 'Eserleku Hutsa', \"Harry Potter and the Sorcerer's Stone (Harry Potter, #1)\", \"Harry Potter and the Philosopher's Stone (Harry Potter, #1)\", 'Átmeneti üresedés', 'The Casual Vacancy', 'Harry Potter and the Chamber of Secrets', 'The Casual Vacancy', 'Very Good Lives: The Fringe Benefits of Failure and the Importance of Imagination', 'Harry Potter and the Prisoner of Azkaban', 'The Casual Vacancy', 'Harry Potter: La serie completa (Harry Potter, #1-7)', 'Harry Potter ane Parasmani (Harry Potter, #1)', 'カジュアル・ベイカンシー 突然の空席 1', 'ハリー・ポッターと賢者の石 (Harry Potter, #1)', 'Harry Potter and the Order of the Phoenix (Harry Potter #5)', 'Harry Potter: la saga completa', 'Harry Potter: Magical Skies: Enchanted Scene with Transfers', \"Harry Potter and the Philosopher's Stone\", 'Harry Potter and the Half-Blood Prince', 'Harry Potter und die Kammer des Schreckens (Harry Potter, #2)', 'Harry Potter og Flammernes Pokal (Harry Potter, #4)', 'The Casual Vacancy', 'The Tales of Beedle the Bard : Structured Audiobook', 'Harry Potter ja saladuste kamber (Harry Potter, #2)', 'Harry Potter y el prisionero de Azkaban (Harry Potter, #3)', 'Harry Potter y el cáliz de fuego (Harry Potter, #4)', 'Harry Potter y la orden del fénix (Harry Potter, #5)', 'Harry Potter y el misterio del príncipe (Harry Potter, #6)', 'Harry Potter y las reliquias de la muerte (Harry Potter, #7)', 'Harry Potter ve Felsefe Taşı (Harry Potter, #1)', 'Harry Potter ve Ateş Kadehi (Harry Potter, #4)', 'Harry Potter ve Azkaban Tutsağı (Harry Potter, #3)', 'Harry Potter ve Zümrüdüanka Yoldaşlığı (Harry Potter, #5)', 'Harry Potter ve Melez Prens (Harry Potter, #6)', 'Harry Potter ve Ölüm Yadigarları (Harry Potter, #7)', 'Гарри Поттер и Принц-полукровка (Harry Potter #6)', 'Den Harry Potter an den Alchimistesteen (Harry Potter, #1)', 'Den Harry Potter an dem Salazar säi Sall (Harry Potter, #2)', \"Harry Potter and the Philosopher's Stone (Harry Potter #1)\", 'Harry Potter and the Order of the Phoenix (Harry Potter, #5)', 'Harry Potter et la Chambre des Secrets', 'Harry Potter e i doni de la morte', 'Harry Potter e la Camera des Segreti', 'हैरी पॉटर और मायापंछी का समूह (हैरी पॉटर #5)', 'هارى بوتر و حجر الفليسوف', 'هارى بوتر وسجين أزكابان', 'هارى بوتر و مقدسات الموت', 'Harry Potter and the Deathly Hallows (Harry Potter, #7)', 'Hari Poter kaj la Ŝtono de la Saĝuloj (Hari Potter, #1)', '해리포터와 마법사의 돌 (해리포터 #1)', 'Harry Potter y el misterio del principe (Harry Potter #6)', \"Harry Potter à l'école des sorciers\", \"Harry Potter et le Prisonnier d'Azkaban\", 'Harry Potter i Kamen mudrosti (Hari Poter, #1)', 'Harry Potter và hòn đá phù thủy (Harry Potter, #6)', 'Harry Potter und die Kammer des Schreckens (Harry Potter, #2)', 'Harry Potter und der Stein der Weisen (Harry Potter, #1)', 'Harry Potter und der Gefangene von Askaban (Harry Potter, #3)', '哈利·波特与魔法石 (哈利·波特 #1)', 'Harry Potter und der Stein der Weisen (Harry Potter, #1)', 'The Tales of Beedle the Bard', 'Den tomme stolen', 'Very Good Lives: The Fringe Benefits of Failure and the Importance of Imagination', 'La colección completa de libros electrónicos de Harry Potter', 'Een goede raad', 'Harry Potter and the Goblet of Fire (Book 4 - Part 1 - 9 Audio CD set)', 'Harry Potter e o Cálice de Fogo (livro 4)', 'Harry Potter e a Ordem da Fénix (Harry Potter #5)', 'Very Good Lives: The Fringe Benefits of Failure and the Importance of Imagination', 'Гарри Поттер и Дары Смерти (Harry Potter #7)', 'Harry Potter og de vises stein (Harry Potter, #1)', \"Harry Potter et le Prisonnier d'Azkaban (Harry Potter, #3)\", 'Harry Potter y la piedra filosofal (Harry Potter, #1)', \"Harry Potter and the Sorcerer's Stone (Harry Potter, #1)\", 'Harry Potter and the Chamber of Secrets (Harry Potter, #2)', 'Harry Potter and the Prisoner of Azkaban (Harry Potter, #3)', 'Very Good Lives: The Fringe Benefits of Failure and the Importance of Imagination', 'Harry Potter and the Deathly Hallows (Harry Potter, #7)', 'Harry Potter and the Chamber of Secrets (Harry Potter, #2)', 'Harry Potter and the Prisoner of Azkaban (Harry Potter, #3)', 'Harry Potter and the Goblet of Fire (Harry Potter, #4)', 'Harry Potter And The Order Of The Phoenix (Harry Potter, #5)', 'Harry Potter and the Half-Blood Prince (Harry Potter, #6)', 'Harry Potter og ildbegeret (Harry Potter, #4)', 'Harry Potter y el prisionero de Azkaban (Harry Potter, #3)', 'Harry Potter y el cáliz de fuego (Harry Potter, #4)', 'Harry Potter y la Orden del Fénix (Harry Potter, #5)', 'Harry Potter y el misterio del príncipe (Harry Potter, #6)', 'Harry Potter y las Reliquias de la Muerte (Harry Potter, #7)', 'Harry Potter Và Hòn Đá Phù Thủy (Harry Potter, #1)', 'Harry Potter Và Tên Tù Nhân Ngục Azkaban (Harry Potter, #3)', 'Harry Potter Và Chiếc Cốc Lửa (Harry Potter, #4)', 'Harry Potter và Hoàng Tử Lai (Harry Potter, #6)', 'Harry Potter Và Bảo Bối Tử Thần (Harry Potter, #7)', \"Harry Potter and the Philosopher's Stone (Harry Potter, #1)\", 'Harry Potter dan Batu Bertuah (Harry Potter, #1)', 'Harry Potter y la cámara secreta (Harry Potter, #2)', 'Harry Potter og Hemmelighedernes Kammer', 'Den Tomme Stolen', 'ハリー・ポッターシリーズコレクション', 'The Casual Vacancy', 'Harry Potter en de Gevangene van Azkaban (Harry Potter #3)', 'Une place à prendre']}\n"
          ]
        }
      ],
      "source": [
        "def Information(authors_id_list):   #author list in input\n",
        "    author_info = {}\n",
        "    for ids in authors_id_list:\n",
        "        infor = USABLE_DF[USABLE_DF.author_id==ids]  #filter only the id that we need from the USABLE_DF, and then create a list with the book names associated to that id\n",
        "        infor=infor[\"title\"].to_list()\n",
        "        author_info[ids] = infor #create the dictionary with id as key and list as value\n",
        "    return author_info\n",
        "\n",
        "test = Information([1077326])  #Just a test to check if works\n",
        "print(test)"
      ]
    },
    {
      "cell_type": "markdown",
      "metadata": {
        "id": "OG5wjFYXNKW-"
      },
      "source": [
        "### What is the longest book title among the books of the top 20 authors regarding their average rating? Is it the longest book title overall?"
      ]
    },
    {
      "cell_type": "code",
      "execution_count": 36,
      "metadata": {
        "id": "RFYCCCbINKW-",
        "outputId": "712db7a2-f480-45a7-e61d-6c9ac9f78ca8"
      },
      "outputs": [
        {
          "data": {
            "text/plain": [
              "1106403    66\n",
              "318798     62\n",
              "1604840    55\n",
              "1604794    47\n",
              "5340239    44\n",
              "1604815    39\n",
              "6386361    33\n",
              "2734565    30\n",
              "5340272    27\n",
              "1604797    23\n",
              "5340260    21\n",
              "6084871    16\n",
              "6084876    14\n",
              "6662098    13\n",
              "6084885    13\n",
              "1604809    12\n",
              "6386378    10\n",
              "2877874    10\n",
              "3667969     9\n",
              "1604861     6\n",
              "Name: title, dtype: int64"
            ]
          },
          "execution_count": 36,
          "metadata": {},
          "output_type": "execute_result"
        }
      ],
      "source": [
        "Books_avg = USABLE_DF.sort_values(by=\"average_rating\",ascending=False).iloc[:20] #Sort by average rating and select the top 20\n",
        "\n",
        "def sorter(x):          #Use a sorter function to compute the string lenght\n",
        "    return sorted(x, key=len, reverse=True)\n",
        "\n",
        "Books_avg[\"title\"].apply(sorter).str.len().sort_values(ascending=False) #apply the sorter function defined before, compute the string lenght and then sort everything."
      ]
    },
    {
      "cell_type": "code",
      "execution_count": 38,
      "metadata": {
        "id": "BPL5gJ_MNKW_",
        "outputId": "3582c620-0913-467c-984c-425015852488"
      },
      "outputs": [
        {
          "data": {
            "text/plain": [
              "3130026    255\n",
              "3255694    255\n",
              "3242976    255\n",
              "5824179    255\n",
              "3243055    255\n",
              "3243056    255\n",
              "5819152    255\n",
              "4628083    255\n",
              "3244882    255\n",
              "3244997    255\n",
              "Name: title, dtype: int64"
            ]
          },
          "execution_count": 38,
          "metadata": {},
          "output_type": "execute_result"
        }
      ],
      "source": [
        "Books_avg = USABLE_DF.sort_values(by=\"average_rating\",ascending=False) #call Boooks_avg a second time, but on the entire dataset\n",
        "Books_avg[\"title\"].apply(sorter).str.len().sort_values(ascending=False).iloc[:10] #As we can see it's not the longest title (and the top 10 is truncated to 255)\n"
      ]
    },
    {
      "cell_type": "markdown",
      "metadata": {
        "id": "XmB0TafQNKW_"
      },
      "source": [
        "### What is the shortest overall book title in the dataset? If you find something strange, provide a comment on what happened and an alternative answer.\n"
      ]
    },
    {
      "cell_type": "code",
      "execution_count": 39,
      "metadata": {
        "id": "cQpez1sONKW_",
        "outputId": "c7d0d3b8-911f-4551-8fcb-2b79b958ef77"
      },
      "outputs": [
        {
          "data": {
            "text/plain": [
              "2551271    0\n",
              "3004231    0\n",
              "2455300    0\n",
              "3031872    0\n",
              "3031871    0\n",
              "2492844    1\n",
              "3409607    1\n",
              "56483      1\n",
              "710631     1\n",
              "863545     1\n",
              "Name: title, dtype: int64"
            ]
          },
          "execution_count": 39,
          "metadata": {},
          "output_type": "execute_result"
        }
      ],
      "source": [
        "Books_avg[\"title\"].apply(sorter).str.len().sort_values(ascending=True).iloc[:10]"
      ]
    },
    {
      "cell_type": "markdown",
      "metadata": {
        "id": "XbBOht2fNKXC"
      },
      "source": [
        "As we can see, the shortest book title lenght is 0. This is can happen if no title is provided for a book. This means that books with title lenght 1 are the shortest."
      ]
    },
    {
      "cell_type": "markdown",
      "metadata": {
        "id": "u43f3OGeiult"
      },
      "source": [
        "## [RQ5] We can consider the authors with the most fans to be influential. Let’s have a deeper look."
      ]
    },
    {
      "cell_type": "markdown",
      "metadata": {
        "id": "xWaJBbR-ixYq"
      },
      "source": [
        "###Plot the top 10 most influential authors regarding their fan count and number of books. Who is the most influential author?"
      ]
    },
    {
      "cell_type": "code",
      "execution_count": null,
      "metadata": {
        "id": "Yt7fHGR1i7IS"
      },
      "outputs": [],
      "source": [
        "import matplotlib.pyplot as plt\n",
        "\n",
        "# Grouping and aggregating data by number of fans and number of books by author\n",
        "influential_author = USABLE_DF.groupby(['author_id', 'author_name']).agg({\n",
        "    'fans_count': 'sum',\n",
        "    'title': 'count'\n",
        "}).reset_index()\n",
        "\n",
        "# Sort authors by number of fans and number of books\n",
        "top_10_f = influential_author.sort_values(by='fans_count', ascending=False).head(10)\n",
        "top_10_b = influential_author.sort_values(by='title', ascending=False).head(10)\n",
        "\n",
        "# Plot the top 10 authors by fan count\n",
        "plt.figure(figsize=(15, 9))\n",
        "plt.subplot(2, 1, 2)\n",
        "plt.barh(top_10_f['author_name'], top_10_f['fans_count'])\n",
        "plt.xlabel('Fan Count')\n",
        "plt.title('Top 10 Authors by The Fan Count')\n",
        "\n",
        "# Plot the top 10 authors by number of books\n",
        "plt.subplot(1, 2, 2)\n",
        "plt.barh(top_10_b['author_name'], top_10_b['title'])\n",
        "plt.xlabel('Number of Books')\n",
        "plt.title('Top 10 Authors by The Number of Books')\n",
        "\n",
        "plt.tight_layout()\n",
        "plt.show()\n"
      ]
    },
    {
      "cell_type": "markdown",
      "metadata": {
        "id": "LeONu1sfjDgO"
      },
      "source": [
        "We see two horizontal bar graphs next to each other. The left one shows the top 10 authors by number of fans, and the right one shows the top 10 authors by number of books they have written. The most influential author can be determined based on our preferences: by number of fans, by number of books, or a combination of both.\n",
        "\n",
        "Here's how we can determine the most influential author based on our criteria."
      ]
    },
    {
      "cell_type": "markdown",
      "metadata": {
        "id": "6ezyMLFVjGGb"
      },
      "source": [
        "###Have they published any series of books? If any, extract the longest series name among these authors."
      ]
    },
    {
      "cell_type": "code",
      "execution_count": null,
      "metadata": {
        "id": "Bi6hV-SEizjT"
      },
      "outputs": [],
      "source": [
        "# including only books with series information\n",
        "books_with_series = USABLE_DF[USABLE_DF['series'] != '']\n",
        "\n",
        "# the number of books for each author in each series\n",
        "author_series_count = books_with_series.groupby(['author_id', 'author_name', 'series']).size().reset_index(name='book_count')\n",
        "\n",
        "# the author with the longest series name\n",
        "longest_series_author = author_series_count.sort_values(by='series', key=lambda x: x.str.len(), ascending=False).iloc[0]\n",
        "\n",
        "print(f\"The author with the longest series name is '{longest_series_author['series']}' by {longest_series_author['author_name']}.\")\n"
      ]
    },
    {
      "cell_type": "markdown",
      "metadata": {
        "id": "lsDQmmS0jK2B"
      },
      "source": [
        "###How many of these authors have been published in different formats? Provide a meaningful chart on the distribution of the formats and comment on it."
      ]
    },
    {
      "cell_type": "code",
      "execution_count": null,
      "metadata": {
        "id": "xzMTIs--jNjn"
      },
      "outputs": [],
      "source": [
        "# Filter the dataset to include authors\n",
        "authors_with_multiple_formats = USABLE_DF[USABLE_DF.duplicated(subset=['author_id', 'format'], keep=False)]\n",
        "\n",
        "# Group the data by author and format to count the number of books in each format for each author\n",
        "author_format_counts = authors_with_multiple_formats.groupby(['author_id', 'author_name', 'format']).size().reset_index(name='book_count')\n",
        "\n",
        "# Create a bar chart to visualize the distribution of formats\n",
        "plt.figure(figsize=(15, 9))\n",
        "plt.bar(author_format_count['format'], author_format_count['book_count'])\n",
        "plt.xlabel('Book Format')\n",
        "plt.ylabel('Number of Books')\n",
        "plt.title('Distribution of Formats for Authors with Multiple Formats')\n",
        "\n",
        "plt.xticks(rotation=50, ha='right')\n",
        "plt.tight_layout()\n",
        "\n",
        "plt.show()\n"
      ]
    },
    {
      "cell_type": "markdown",
      "metadata": {
        "id": "EGUWweG-jSTV"
      },
      "source": [
        "###Provide information about the general response from readers (number of fans, average rating, number of reviews, etc.), divide the authors by gender, and comment about anything eventually related to “structural bias.” You may want to have a look at the following recommended readings:\n",
        "\n",
        "- https://bhm.scholasticahq.com/article/38021\n",
        "\n",
        "- https://priyanka-ddit.medium.com/how-to-deal-with-imbalanced-dataset-86de86c49\n",
        "\n",
        "- https://compass.onlinelibrary.wiley.com/doi/10.1111/soc4.12962\n"
      ]
    },
    {
      "cell_type": "code",
      "execution_count": null,
      "metadata": {
        "id": "ZthdZfoijRON"
      },
      "outputs": [],
      "source": [
        "# Filter the dataset to include relevant columns and author gender (if available)\n",
        "relevant_columns = ['fans_count', 'average_rating', 'text_reviews_count', 'author_gender']\n",
        "data_for_analysis = USABLE_DF[relevant_columns].copy()\n",
        "\n",
        "# Group the data by author gender and calculate summary statistics\n",
        "gender_summary = data_for_analysis.groupby('author_gender').agg({\n",
        "    'fans_count': 'mean',\n",
        "    'average_rating': 'mean',\n",
        "    'text_reviews_count': 'mean'\n",
        "}).reset_index()\n",
        "\n",
        "# Create bar charts to visualize the response from readers for each gender\n",
        "plt.figure(figsize=(15, 9))\n",
        "plt.subplot(2, 2, 1)\n",
        "plt.bar(gender_summary['author_gender'], gender_summary['fans_count'])\n",
        "plt.xlabel('Author Gender')\n",
        "plt.ylabel('Average Number of Fans')\n",
        "plt.title('Average Number of Fans by Author Gender')\n",
        "\n",
        "plt.subplot(2, 2, 1)\n",
        "plt.bar(gender_summary['author_gender'], gender_summary['average_rating'])\n",
        "plt.xlabel('Author Gender')\n",
        "plt.ylabel('Average Rating')\n",
        "plt.title('Average Rating by Author Gender')\n",
        "\n",
        "plt.subplot(2, 1, 3)\n",
        "plt.bar(gender_summary['author_gender'], gender_summary['text_reviews_count'])\n",
        "plt.xlabel('Author Gender')\n",
        "plt.ylabel('Average Number of Text Reviews')\n",
        "plt.title('Average Number of Text Reviews by Author Gender')\n",
        "\n",
        "plt.tight_layout()\n",
        "plt.show()\n"
      ]
    },
    {
      "cell_type": "markdown",
      "metadata": {
        "id": "87kNTL0-jWWC"
      },
      "source": [
        "Here's a prompt generated by ChatGPT:\n",
        "\n",
        "\"Can you provide information and insights on the topic of structural bias in data analysis? I'm interested in understanding what structural bias is, how it can affect data analysis, and best practices for identifying and mitigating bias in datasets and analysis processes.\"\n",
        "\n",
        "Response:\n",
        "\"Structural bias in data analysis refers to biases that are inherent in the data, data collection processes, or analytical methods, which can lead to unfair or inaccurate results. This bias can result from historical inequalities, data collection methods, or the framing of research questions. It is essential to recognize and address structural bias to ensure fair and unbiased analysis.\n",
        "\n",
        "Structural bias can manifest in various ways, such as underrepresentation of certain groups in the dataset, sampling biases, or biases in algorithmic decision-making. This can lead to unfair outcomes, such as discrimination or inequities in decision-making.\n",
        "\n",
        "To identify and mitigate structural bias, data analysts should:\n",
        "\n",
        "Be aware of potential biases in data sources and collection methods.\n",
        "Use diverse and representative datasets whenever possible.\n",
        "Implement fairness-aware algorithms and models to reduce bias.\n",
        "Regularly assess the impact of bias on analysis outcomes.\n",
        "Addressing structural bias is crucial for ethical and fair data analysis and decision-making.\""
      ]
    },
    {
      "cell_type": "markdown",
      "metadata": {
        "id": "aNHPrwOhjZ06"
      },
      "source": [
        "## [RQ6] For this question, consider the top 10 authors concerning the number of fans again."
      ]
    },
    {
      "cell_type": "markdown",
      "metadata": {
        "id": "2y9t3jnoja1q"
      },
      "source": [
        " ### Provide the average time gap between two subsequent publications for a series of books and those not belonging to a series. What do you expect to see, and what is the actual answer to this question?"
      ]
    },
    {
      "cell_type": "code",
      "execution_count": null,
      "metadata": {
        "id": "oCqBmqT6jey4"
      },
      "outputs": [],
      "source": [
        "# filtering ilter the dataset for the top 10 authors with the most fans\n",
        "top_10_authors = data_auth.sort_values(by='fans_count', ascending=False).head(10)\n",
        "top_10_author_ids = top_10_authors['author_id']\n",
        "\n",
        "# Filtering the dataset to include books by these top 10 authors\n",
        "top_10_books = USABLE_DF[USABLE_DF['author_id'].isin(top_10_author_ids)]\n",
        "\n",
        "# Merging books into series and non-series\n",
        "series_books = top_10_books[top_10_books['series'] != '']\n",
        "non_series_books = top_10_books[top_10_books['series'] == '']\n",
        "\n",
        "# the time gap between publications\n",
        "series_books['publication_date'] = pd.to_datetime(series_books['publication_date'])\n",
        "non_series_books['publication_date'] = pd.to_datetime(non_series_books['publication_date'])\n",
        "\n",
        "# Sorting by publication date\n",
        "series_books = series_books.sort_values(by=['author_id', 'publication_date'])\n",
        "non_series_books = non_series_books.sort_values(by=['author_id', 'publication_date'])\n",
        "\n",
        "# time gaps\n",
        "series_books['time_gap'] = series_books.groupby('author_id')['publication_date'].diff().dt.days\n",
        "non_series_books['time_gap'] = non_series_books.groupby('author_id')['publication_date'].diff().dt.days\n",
        "\n",
        "# computing the average time gap\n",
        "average_time_gap_series = series_books['time_gap'].mean()\n",
        "average_time_gap_non_series = non_series_books['time_gap'].mean()\n",
        "\n",
        "print(f\"Average time gap between publications for series of books: {average_time_gap_series} days\")\n",
        "print(f\"Average time gap between publications for non-series books: {average_time_gap_non_series} days\")\n"
      ]
    },
    {
      "cell_type": "markdown",
      "metadata": {
        "id": "yi3jfMYBjgwb"
      },
      "source": [
        "###For each of the authors, give a convenient plot showing how many books has the given author published UP TO a given year. Are these authors contemporary with each other? Can you notice a range of years where their production rate was higher?"
      ]
    },
    {
      "cell_type": "code",
      "execution_count": null,
      "metadata": {
        "id": "AEq_z5xsjjir"
      },
      "outputs": [],
      "source": [
        "#filtering to include books by the authors of interest\n",
        "authors_of_interest = [author_id_1, author_id_2, author_id_3]  # Replace with the author IDs you want to analyze\n",
        "books_by_authors = USABLE_DF[USABLE_DF['author_id'].isin(authors_of_interest)]\n",
        "\n",
        "# grouping by author and publication year\n",
        "author_year_counts = books_by_authors.groupby(['author_id', 'author_name', 'year']).size().reset_index(name='book_count')\n",
        "\n",
        "author_year_counts['cumulative_count'] = author_year_counts.groupby('author_id')['book_count'].cumsum()\n",
        "\n",
        "plt.figure(figsize=(15, 9))\n",
        "\n",
        "for author_id, group in author_year_counts.groupby('author_id'):\n",
        "    plt.plot(group['year'], group['cumulative_count'], label=f'Author {author_id}')\n",
        "\n",
        "plt.xlabel('Publication Year')\n",
        "plt.ylabel('Cumulative Books Published')\n",
        "plt.title('Cumulative Books Published Over Time for Authors')\n",
        "plt.legend()\n",
        "\n",
        "plt.show()\n"
      ]
    },
    {
      "cell_type": "markdown",
      "metadata": {
        "id": "hZCpIReIjnUR"
      },
      "source": [
        "To construct a graph showing the number of books published by each author up to a certain year and to assess whether these authors are contemporaries of each other, as well as to identify periods with higher levels of output, the following steps can be followed:\n",
        "\n",
        "Filter the dataset to include books by authors of interest.\n",
        "Group the data by author and year of publication to count the number of books published by each author in each year.\n",
        "Create a cumulative count of the number of books published for each author.\n",
        "Graph the cumulative count of books for each author over time."
      ]
    },
    {
      "cell_type": "markdown",
      "metadata": {
        "id": "symIx3yVNKXC"
      },
      "source": [
        "## [RQ7] Estimating probabilities is a core skill for a data scientist: show us your best!\n",
        "\n",
        "\n"
      ]
    },
    {
      "cell_type": "markdown",
      "metadata": {
        "id": "UzesNb-tNKXD"
      },
      "source": [
        "### Estimate the probability that a book has over 30% of the ratings above 4.\n"
      ]
    },
    {
      "cell_type": "code",
      "execution_count": 46,
      "metadata": {
        "id": "J6VrwC4MNKXE",
        "outputId": "3bd0a642-b69e-43c6-a89b-5d00c71266ad"
      },
      "outputs": [
        {
          "name": "stdout",
          "output_type": "stream",
          "text": [
            "The percentage of books that satisfy the request is 94.1\n"
          ]
        },
        {
          "data": {
            "text/plain": [
              "'\\nRead how the ratings are distributed, and the input should be something like 5:1000 | 4: 200 | 3: 100 | 2: 200 | 1: 50. Let us filter the number of rating\\nthat are >=4 (so rating_45 = sum(rating 4 and 5)). Compute the percentage (rating_45 / total_ratings)*100 and that is for just one book. Compute it for every book and filter\\nhow many books verify this condition. To estimate the final probabilty: (#number of books that verify the condition / #total books)*100\\n'"
            ]
          },
          "execution_count": 46,
          "metadata": {},
          "output_type": "execute_result"
        }
      ],
      "source": [
        "import re\n",
        "\n",
        "usable_ratings = USABLE_DF.loc[USABLE_DF[\"ratings_count\"]>0]  #To avoid division by zero\n",
        "\n",
        "ratings = usable_ratings[\"rating_dist\"]\n",
        "count = int()\n",
        "\n",
        "regex_pattern = r'(?<=\\:)[0-9]+' #positive lookbehind for special character \":\" and number identification\n",
        "for rating in ratings:\n",
        "    matched_list = re.findall(regex_pattern,rating)\n",
        "    if len(matched_list) == 6:\n",
        "        desired_rating_percentage = round(((int(matched_list[0])+int(matched_list[1]))/int(matched_list[5]))*100,2) #first and second element of the list are 5 and 4 rating\n",
        "    if desired_rating_percentage > 30:\n",
        "        count+=1\n",
        "\n",
        "print(\"The percentage of books that satisfy the request is\",round(count/len(ratings)*100,2) )\n",
        "\n",
        "'''\n",
        "Read how the ratings are distributed, and the input should be something like 5:1000 | 4: 200 | 3: 100 | 2: 200 | 1: 50. Let us filter the number of rating\n",
        "that are >=4 (so rating_45 = sum(rating 4 and 5)). Compute the percentage (rating_45 / total_ratings)*100 and that is for just one book. Compute it for every book and filter\n",
        "how many books verify this condition. To estimate the final probabilty: (#number of books that verify the condition / #total books)*100\n",
        "'''"
      ]
    },
    {
      "cell_type": "markdown",
      "metadata": {
        "id": "cRXSGI0iNKXE"
      },
      "source": [
        "### Estimate the probability that an author publishes a new book within two years from its last work.\n"
      ]
    },
    {
      "cell_type": "code",
      "execution_count": 47,
      "metadata": {
        "id": "9d4Pao9sNKXF",
        "outputId": "a6350cdc-fe9b-41a2-a0ee-0e00f9935fb8"
      },
      "outputs": [
        {
          "name": "stdout",
          "output_type": "stream",
          "text": [
            "Probability of an author publishing a new book within two years from the last work: 73.68\n"
          ]
        }
      ],
      "source": [
        "\n",
        "USABLE_DF = USABLE_DF.loc[USABLE_DF[\"publication_date\"]!='',:] #we take all the rows besides the empty ones\n",
        "#only YYYY,YYY,YY,Y,YYYY-MM-DD,YYY-MM-DD,YYYY-MM, YYY-MM\n",
        "USABLE_DF = USABLE_DF[USABLE_DF.publication_date.str.contains(r'^\\d{1}$|^\\d{2}$|^\\d{3}$|^\\d{4}$|^\\d{4}-\\d{2}-\\d{2}$|^\\d{3}-\\d{2}-\\d{2}$|^\\d{4}-\\d{2}$|^\\d{3}-\\d{2}$')]\n",
        "#add a new column FROM RQ3 with the years\n",
        "USABLE_DF['year'] = USABLE_DF['publication_date'].str.split('-').str[0] #take only the years out of the Regex\n",
        "USABLE_DF['year'] = USABLE_DF['year'].astype(int) # turns the STRING YYYY into INT\n",
        "USABLE_DF = USABLE_DF[USABLE_DF['year'] < 2023] #takes the values before 2023\n",
        "\n",
        "# Sort the data by author and publication date\n",
        "USABLE_DF = USABLE_DF.sort_values(['author_id', 'year'])\n",
        "\n",
        "# Calculate time difference between consecutive works for each author\n",
        "USABLE_DF['Time_Difference'] = USABLE_DF.groupby('author_id')['year'].diff()\n",
        "\n",
        "# Determine authors with a time gap of <= 2 years\n",
        "authors_within_two_years = USABLE_DF[USABLE_DF['Time_Difference'] <= 2]['author_id'].unique()\n",
        "\n",
        "# Calculate the probability\n",
        "total_authors = USABLE_DF['author_id'].nunique()\n",
        "authors_within_two_years_count = len(authors_within_two_years)\n",
        "probability = (authors_within_two_years_count / total_authors) * 100\n",
        "\n",
        "print(f\"Probability of an author publishing a new book within two years from the last work: {probability:.2f}\")\n"
      ]
    },
    {
      "cell_type": "markdown",
      "metadata": {
        "id": "I98FHEY4NKXF"
      },
      "source": [
        "### In the file list.json, you will find a peculiar list named \"The Worst Books of All Time.\" Estimate the probability of a book being included in this list, knowing it has  more than 700 pages.\n"
      ]
    },
    {
      "cell_type": "code",
      "execution_count": 48,
      "metadata": {
        "id": "Tk0cZn_2NKXG"
      },
      "outputs": [],
      "source": [
        "data_list = pd.read_json('list.json',lines=True,chunksize=10000)\n",
        "total_data_list = pd.DataFrame()\n",
        "for chunk in data_list:  #drop columns that are not useful or that are redundant\n",
        "    PARTIAL_DATA = chunk[['id','title','num_pages','num_books','books']]\n",
        "    total_data_list = pd.concat([total_data_list,PARTIAL_DATA])"
      ]
    },
    {
      "cell_type": "markdown",
      "metadata": {
        "id": "R6oV_qDINKXG"
      },
      "source": [
        "First of all, we need to load the series.json (in chunks)"
      ]
    },
    {
      "cell_type": "markdown",
      "metadata": {
        "id": "phfWsTLPNKXH"
      },
      "source": [
        "Using the conditional probability formula, if $X$ and $Y$ are events,$P(X|Y) = P(X\\cap Y)/P(Y)$. We can compute all of the probabilities. $P(Y)$ is the number of books with more than 700 pages and $P(X \\cap Y)$ is the probability that a book has more than 700 page and that is in the list."
      ]
    },
    {
      "cell_type": "code",
      "execution_count": null,
      "metadata": {
        "id": "Q3fAjek1NKXI"
      },
      "outputs": [],
      "source": [
        "worst_books = total_data_list.loc[total_data_list.title == \"The Worst Books of All Time\"]\n",
        "\n",
        "over700_books = USABLE_DF[USABLE_DF[\"num_pages\"]>=700].work_id.tolist() #create a list of work_ids (books) that verify the condition\n",
        "\n",
        "books_count = int()\n",
        "\n",
        "for element in (worst_books.books[0]):      #for every element\n",
        "    control_id = int(element[\"book_id\"])\n",
        "    if control_id in over700_books:\n",
        "        books_count += 1\n",
        "print(books_count)\n",
        "\n",
        "#Compute the probability\n",
        "print(\"The probability of P(X|Y) is\",round(books_count/len(over700_books)*100,3),\"%\")"
      ]
    },
    {
      "cell_type": "markdown",
      "metadata": {
        "id": "YQ345xQ-NKXI"
      },
      "source": [
        "### Are the events X=’Being Included in The Worst Books of All Time list’ and Y=’Having more than 700 pages’ independent? Explain how you have obtained your answer.\n"
      ]
    },
    {
      "cell_type": "markdown",
      "metadata": {
        "id": "jTe-U_OZNKXK"
      },
      "source": [
        "By definition, if X and Y are events, then they are independent if $P(X \\cap Y) = P(X)*P(Y)$. We can compute both of this probabilities. $P(Y)$ is probability that a book has more than 700 pages, whereas $P(X)$ is the probability of being included in that specific list. We can compute the probability of the intersection $P(X \\cap Y)$ and check if the equality holds."
      ]
    },
    {
      "cell_type": "code",
      "execution_count": null,
      "metadata": {
        "id": "dYebOuIMNKXL",
        "outputId": "6e7eec03-8ffd-4e42-8e34-52d53812c762"
      },
      "outputs": [
        {
          "name": "stdout",
          "output_type": "stream",
          "text": [
            "The probability of the intersection is 9.66770175526793e-06\n",
            "The probability of the product is 8.745365413502889e-09\n"
          ]
        }
      ],
      "source": [
        "print(\"The probability of the intersection is\", books_count/len(USABLE_DF))\n",
        "print(\"The probability of the product is\",len(worst_books)/len(USABLE_DF)*(len(over700_books)/len(USABLE_DF)))"
      ]
    },
    {
      "cell_type": "markdown",
      "metadata": {
        "id": "3xkJRR7NNKXL"
      },
      "source": [
        "As we can see, the two probabilities are different, so we can conclude that $X$ and $Y$ are not independent"
      ]
    },
    {
      "cell_type": "markdown",
      "metadata": {
        "id": "JhKmOUUOer0u"
      },
      "source": [
        "## [RQ8] Charts, statistical tests, and analysis methods are splendid tools to illustrate your data-driven decisions to check whether a hypothesis is correct."
      ]
    },
    {
      "cell_type": "markdown",
      "metadata": {
        "id": "Vwm0zaw5ewQu"
      },
      "source": [
        "### Can you demonstrate that readers usually rate the longest books as the worst?"
      ]
    },
    {
      "cell_type": "code",
      "execution_count": 54,
      "metadata": {
        "id": "P5E_tuN3fCLt"
      },
      "outputs": [],
      "source": [
        "USABLE_DF_2 = TOTAL_DF.copy()"
      ]
    },
    {
      "cell_type": "code",
      "execution_count": 55,
      "metadata": {
        "id": "AXH1xFvIfSxy"
      },
      "outputs": [],
      "source": [
        "USABLE_DF_2['num_pages'] = USABLE_DF_2['num_pages'].replace(\"\", np.nan) # turns the \"\" values into nan in the column num_pages\n",
        "USABLE_DF_2['num_pages'] = USABLE_DF_2['num_pages'].astype('Int64') # turns the STRING MM into INT\n",
        "USABLE_DF_2['average_rating'] = USABLE_DF_2['average_rating'].replace(0, np.nan) # turns the 0 values into nan in the column average_rating"
      ]
    },
    {
      "cell_type": "code",
      "execution_count": 56,
      "metadata": {
        "id": "ONOcDsy2fc-f"
      },
      "outputs": [],
      "source": [
        "USABLE_DF_2['num_pages'] = USABLE_DF_2['num_pages'].astype(float)\n",
        "USABLE_DF_2 = USABLE_DF_2.sort_values(by = \"num_pages\", ascending = False)\n",
        "USABLE_DF_2 = USABLE_DF_2.dropna(subset=['num_pages']) #delete the Nan\n",
        "USABLE_DF_2 = USABLE_DF_2.iloc[8:] # delete the outliers - Outliers can heavily influence regression coefficients, leading to an inaccurate representation of the data and if the outliers result from measurement errors or exceptional conditions that are not relevant to the analysis's objectives, their removal can be justified.\n",
        "USABLE_DF_2 = USABLE_DF_2.dropna(subset=['average_rating']) #delete the Nan\n"
      ]
    },
    {
      "cell_type": "code",
      "execution_count": 57,
      "metadata": {
        "id": "Zwt-sZpcgrRn"
      },
      "outputs": [
        {
          "name": "stdout",
          "output_type": "stream",
          "text": [
            "Correlation between book length(num_pages) and average_rating: 0.034255192154122135\n"
          ]
        },
        {
          "data": {
            "image/png": "[encoded data removed]",
            "text/plain": [
              "<Figure size 640x480 with 1 Axes>"
            ]
          },
          "metadata": {},
          "output_type": "display_data"
        }
      ],
      "source": [
        "import matplotlib.pyplot as plt\n",
        "from scipy.stats import linregress\n",
        "\n",
        "correlation = USABLE_DF_2['num_pages'].corr(USABLE_DF_2['average_rating'])\n",
        "print(f\"Correlation between book length(num_pages) and average_rating: {correlation}\")\n",
        "\n",
        "# Regression line\n",
        "slope, intercept, r_value, p_value, std_err = linregress(USABLE_DF_2['num_pages'], USABLE_DF_2['average_rating'])\n",
        "line = slope * USABLE_DF_2['num_pages'] + intercept\n",
        "\n",
        "# Now we plot it to have a visual representation of the relationship between the 2 values\n",
        "plt.scatter(USABLE_DF_2['num_pages'], USABLE_DF_2['average_rating']) #Data points\n",
        "plt.plot(USABLE_DF_2['num_pages'], line, color='red', label=f'Regression Line (Correlation: {correlation:.2f})')\n",
        "plt.xlabel(\"Number of Pages\")\n",
        "plt.ylabel(\"Average Rating\")\n",
        "plt.ylim(0,10)\n",
        "plt.title(\"Correlation between Number of Pages and Average Rating\")\n",
        "plt.legend()\n",
        "plt.show()"
      ]
    },
    {
      "cell_type": "markdown",
      "metadata": {
        "id": "rXDjjzPdg0zS"
      },
      "source": [
        "The correlation between book length (in terms of the number of pages) and average ratings is 0.03425519215412229. This value is very close to zero, indicating a very weak positive correlation between book length and average ratings.\n",
        "\n",
        "Therefore, based on the calculated correlation, we cannot demonstrate that readers tend to rate the longest books as the worst. There is no significant correlation between book length and average ratings, and thus, we cannot conclude that longer books are rated lower by readers."
      ]
    },
    {
      "cell_type": "markdown",
      "metadata": {
        "id": "KL_Dr0pdg30T"
      },
      "source": [
        "### Compare the average rate distribution for English and non-English books with a proper statistical procedure. What can you conclude about those two groups?"
      ]
    },
    {
      "cell_type": "code",
      "execution_count": 58,
      "metadata": {
        "id": "QAYhQ2wIg5Dt"
      },
      "outputs": [
        {
          "data": {
            "text/plain": [
              "language\n",
              "eng      785930\n",
              "en-US     60511\n",
              "en-GB     43510\n",
              "en-CA      1038\n",
              "en          175\n",
              "enm         100\n",
              "Name: count, dtype: int64"
            ]
          },
          "execution_count": 58,
          "metadata": {},
          "output_type": "execute_result"
        }
      ],
      "source": [
        "USABLE_DF_2['language'][USABLE_DF_2['language'].str.contains('^en', na=False)].value_counts() #there are different types of english languages"
      ]
    },
    {
      "cell_type": "code",
      "execution_count": 59,
      "metadata": {
        "id": "p6kuiQWIg_Cl"
      },
      "outputs": [
        {
          "data": {
            "text/html": [
              "<div>\n",
              "<style scoped>\n",
              "    .dataframe tbody tr th:only-of-type {\n",
              "        vertical-align: middle;\n",
              "    }\n",
              "\n",
              "    .dataframe tbody tr th {\n",
              "        vertical-align: top;\n",
              "    }\n",
              "\n",
              "    .dataframe thead th {\n",
              "        text-align: right;\n",
              "    }\n",
              "</style>\n",
              "<table border=\"1\" class=\"dataframe\">\n",
              "  <thead>\n",
              "    <tr style=\"text-align: right;\">\n",
              "      <th></th>\n",
              "      <th>id</th>\n",
              "      <th>title</th>\n",
              "      <th>authors</th>\n",
              "      <th>author_name</th>\n",
              "      <th>author_id</th>\n",
              "      <th>work_id</th>\n",
              "      <th>language</th>\n",
              "      <th>average_rating</th>\n",
              "      <th>rating_dist</th>\n",
              "      <th>ratings_count</th>\n",
              "      <th>text_reviews_count</th>\n",
              "      <th>publication_date</th>\n",
              "      <th>original_publication_date</th>\n",
              "      <th>format</th>\n",
              "      <th>num_pages</th>\n",
              "    </tr>\n",
              "  </thead>\n",
              "  <tbody>\n",
              "    <tr>\n",
              "      <th>1318454</th>\n",
              "      <td>4334280</td>\n",
              "      <td>Holy Bible KJV</td>\n",
              "      <td>None</td>\n",
              "      <td>Anonymous</td>\n",
              "      <td>5158478</td>\n",
              "      <td>6405906</td>\n",
              "      <td>enm</td>\n",
              "      <td>4.41</td>\n",
              "      <td>5:164923|4:19454|3:15611|2:9181|1:13488|total:...</td>\n",
              "      <td>222657</td>\n",
              "      <td>5633</td>\n",
              "      <td>1908</td>\n",
              "      <td>1611</td>\n",
              "      <td>King James English</td>\n",
              "      <td>1610.0</td>\n",
              "    </tr>\n",
              "    <tr>\n",
              "      <th>1692</th>\n",
              "      <td>2711</td>\n",
              "      <td>The Riverside Chaucer</td>\n",
              "      <td>[{'id': '1838', 'name': 'Geoffrey Chaucer', 'r...</td>\n",
              "      <td>Geoffrey Chaucer</td>\n",
              "      <td>1838</td>\n",
              "      <td>71772</td>\n",
              "      <td>enm</td>\n",
              "      <td>4.19</td>\n",
              "      <td>5:3961|4:2345|3:1398|2:330|1:127|total:8161</td>\n",
              "      <td>8161</td>\n",
              "      <td>182</td>\n",
              "      <td>1987-12-12</td>\n",
              "      <td>1986-12-12</td>\n",
              "      <td>Hardcover</td>\n",
              "      <td>1327.0</td>\n",
              "    </tr>\n",
              "    <tr>\n",
              "      <th>1195786</th>\n",
              "      <td>3505109</td>\n",
              "      <td>The Riverside Chaucer</td>\n",
              "      <td>[{'id': '1838', 'name': 'Geoffrey Chaucer', 'r...</td>\n",
              "      <td>Geoffrey Chaucer</td>\n",
              "      <td>1838</td>\n",
              "      <td>71772</td>\n",
              "      <td>enm</td>\n",
              "      <td>4.19</td>\n",
              "      <td>5:3956|4:2343|3:1395|2:330|1:128|total:8152</td>\n",
              "      <td>8152</td>\n",
              "      <td>181</td>\n",
              "      <td>2008-12-22</td>\n",
              "      <td>1986-12-12</td>\n",
              "      <td>Paperback</td>\n",
              "      <td>1327.0</td>\n",
              "    </tr>\n",
              "    <tr>\n",
              "      <th>45292</th>\n",
              "      <td>74178</td>\n",
              "      <td>The Riverside Chaucer</td>\n",
              "      <td>[{'id': '1838', 'name': 'Geoffrey Chaucer', 'r...</td>\n",
              "      <td>Geoffrey Chaucer</td>\n",
              "      <td>1838</td>\n",
              "      <td>71772</td>\n",
              "      <td>enm</td>\n",
              "      <td>4.19</td>\n",
              "      <td>5:3956|4:2342|3:1395|2:330|1:128|total:8151</td>\n",
              "      <td>8151</td>\n",
              "      <td>180</td>\n",
              "      <td>1988-03-24</td>\n",
              "      <td>1986-12-12</td>\n",
              "      <td>Unknown Binding</td>\n",
              "      <td>1327.0</td>\n",
              "    </tr>\n",
              "    <tr>\n",
              "      <th>1493882</th>\n",
              "      <td>5945346</td>\n",
              "      <td>The Works of Shakespeare</td>\n",
              "      <td>None</td>\n",
              "      <td>William Shakespeare</td>\n",
              "      <td>947</td>\n",
              "      <td>55023367</td>\n",
              "      <td>enm</td>\n",
              "      <td>4.57</td>\n",
              "      <td>5:892|4:294|3:90|2:17|1:9|total:1302</td>\n",
              "      <td>1302</td>\n",
              "      <td>34</td>\n",
              "      <td>1944</td>\n",
              "      <td>1957-01-01</td>\n",
              "      <td>Hardcover</td>\n",
              "      <td>1312.0</td>\n",
              "    </tr>\n",
              "    <tr>\n",
              "      <th>...</th>\n",
              "      <td>...</td>\n",
              "      <td>...</td>\n",
              "      <td>...</td>\n",
              "      <td>...</td>\n",
              "      <td>...</td>\n",
              "      <td>...</td>\n",
              "      <td>...</td>\n",
              "      <td>...</td>\n",
              "      <td>...</td>\n",
              "      <td>...</td>\n",
              "      <td>...</td>\n",
              "      <td>...</td>\n",
              "      <td>...</td>\n",
              "      <td>...</td>\n",
              "      <td>...</td>\n",
              "    </tr>\n",
              "    <tr>\n",
              "      <th>1650342</th>\n",
              "      <td>6544244</td>\n",
              "      <td>How To Tame A Rake</td>\n",
              "      <td>None</td>\n",
              "      <td>Maggi Andersen</td>\n",
              "      <td>2786221</td>\n",
              "      <td>6736527</td>\n",
              "      <td>enm</td>\n",
              "      <td>3.58</td>\n",
              "      <td>5:47|4:60|3:42|2:28|1:9|total:186</td>\n",
              "      <td>186</td>\n",
              "      <td>13</td>\n",
              "      <td>2009-02-01</td>\n",
              "      <td>2009</td>\n",
              "      <td>ebook</td>\n",
              "      <td>69.0</td>\n",
              "    </tr>\n",
              "    <tr>\n",
              "      <th>4993176</th>\n",
              "      <td>18858025</td>\n",
              "      <td>The Most Piteous Tale of the Morte Arthur Saun...</td>\n",
              "      <td>None</td>\n",
              "      <td>Thomas Malory</td>\n",
              "      <td>53519</td>\n",
              "      <td>26832706</td>\n",
              "      <td>enm</td>\n",
              "      <td>3.67</td>\n",
              "      <td>5:1|4:3|3:1|2:1|1:0|total:6</td>\n",
              "      <td>6</td>\n",
              "      <td>0</td>\n",
              "      <td>1485</td>\n",
              "      <td>1485-01-01</td>\n",
              "      <td>Hardcover</td>\n",
              "      <td>66.0</td>\n",
              "    </tr>\n",
              "    <tr>\n",
              "      <th>4955350</th>\n",
              "      <td>18758561</td>\n",
              "      <td>The Book of Sir Launcelot and Queen Guinevere</td>\n",
              "      <td>None</td>\n",
              "      <td>Thomas Malory</td>\n",
              "      <td>53519</td>\n",
              "      <td>26652825</td>\n",
              "      <td>enm</td>\n",
              "      <td>4.20</td>\n",
              "      <td>5:5|4:3|3:1|2:1|1:0|total:10</td>\n",
              "      <td>10</td>\n",
              "      <td>1</td>\n",
              "      <td>1485</td>\n",
              "      <td>1485</td>\n",
              "      <td>Hardcover</td>\n",
              "      <td>65.0</td>\n",
              "    </tr>\n",
              "    <tr>\n",
              "      <th>1688667</th>\n",
              "      <td>6649087</td>\n",
              "      <td>Caxton’s Book of Curtesye (E-Book)</td>\n",
              "      <td>[{'id': '301997', 'name': 'William Caxton', 'r...</td>\n",
              "      <td>William Caxton</td>\n",
              "      <td>301997</td>\n",
              "      <td>6843654</td>\n",
              "      <td>enm</td>\n",
              "      <td>4.20</td>\n",
              "      <td>5:2|4:2|3:1|2:0|1:0|total:5</td>\n",
              "      <td>5</td>\n",
              "      <td>0</td>\n",
              "      <td>1868</td>\n",
              "      <td>1487</td>\n",
              "      <td>ebook</td>\n",
              "      <td>57.0</td>\n",
              "    </tr>\n",
              "    <tr>\n",
              "      <th>3601656</th>\n",
              "      <td>14740584</td>\n",
              "      <td>The Parliament of Fowls</td>\n",
              "      <td>None</td>\n",
              "      <td>Geoffrey Chaucer</td>\n",
              "      <td>1838</td>\n",
              "      <td>4484574</td>\n",
              "      <td>enm</td>\n",
              "      <td>3.71</td>\n",
              "      <td>5:82|4:129|3:116|2:24|1:7|total:358</td>\n",
              "      <td>358</td>\n",
              "      <td>13</td>\n",
              "      <td></td>\n",
              "      <td>1383</td>\n",
              "      <td>Library Binding</td>\n",
              "      <td>12.0</td>\n",
              "    </tr>\n",
              "  </tbody>\n",
              "</table>\n",
              "<p>100 rows × 15 columns</p>\n",
              "</div>"
            ],
            "text/plain": [
              "               id                                              title  \\\n",
              "1318454   4334280                                     Holy Bible KJV   \n",
              "1692         2711                              The Riverside Chaucer   \n",
              "1195786   3505109                              The Riverside Chaucer   \n",
              "45292       74178                              The Riverside Chaucer   \n",
              "1493882   5945346                           The Works of Shakespeare   \n",
              "...           ...                                                ...   \n",
              "1650342   6544244                                 How To Tame A Rake   \n",
              "4993176  18858025  The Most Piteous Tale of the Morte Arthur Saun...   \n",
              "4955350  18758561      The Book of Sir Launcelot and Queen Guinevere   \n",
              "1688667   6649087                 Caxton’s Book of Curtesye (E-Book)   \n",
              "3601656  14740584                            The Parliament of Fowls   \n",
              "\n",
              "                                                   authors  \\\n",
              "1318454                                               None   \n",
              "1692     [{'id': '1838', 'name': 'Geoffrey Chaucer', 'r...   \n",
              "1195786  [{'id': '1838', 'name': 'Geoffrey Chaucer', 'r...   \n",
              "45292    [{'id': '1838', 'name': 'Geoffrey Chaucer', 'r...   \n",
              "1493882                                               None   \n",
              "...                                                    ...   \n",
              "1650342                                               None   \n",
              "4993176                                               None   \n",
              "4955350                                               None   \n",
              "1688667  [{'id': '301997', 'name': 'William Caxton', 'r...   \n",
              "3601656                                               None   \n",
              "\n",
              "                 author_name  author_id   work_id language  average_rating  \\\n",
              "1318454            Anonymous    5158478   6405906      enm            4.41   \n",
              "1692        Geoffrey Chaucer       1838     71772      enm            4.19   \n",
              "1195786     Geoffrey Chaucer       1838     71772      enm            4.19   \n",
              "45292       Geoffrey Chaucer       1838     71772      enm            4.19   \n",
              "1493882  William Shakespeare        947  55023367      enm            4.57   \n",
              "...                      ...        ...       ...      ...             ...   \n",
              "1650342       Maggi Andersen    2786221   6736527      enm            3.58   \n",
              "4993176        Thomas Malory      53519  26832706      enm            3.67   \n",
              "4955350        Thomas Malory      53519  26652825      enm            4.20   \n",
              "1688667       William Caxton     301997   6843654      enm            4.20   \n",
              "3601656     Geoffrey Chaucer       1838   4484574      enm            3.71   \n",
              "\n",
              "                                               rating_dist  ratings_count  \\\n",
              "1318454  5:164923|4:19454|3:15611|2:9181|1:13488|total:...         222657   \n",
              "1692           5:3961|4:2345|3:1398|2:330|1:127|total:8161           8161   \n",
              "1195786        5:3956|4:2343|3:1395|2:330|1:128|total:8152           8152   \n",
              "45292          5:3956|4:2342|3:1395|2:330|1:128|total:8151           8151   \n",
              "1493882               5:892|4:294|3:90|2:17|1:9|total:1302           1302   \n",
              "...                                                    ...            ...   \n",
              "1650342                  5:47|4:60|3:42|2:28|1:9|total:186            186   \n",
              "4993176                        5:1|4:3|3:1|2:1|1:0|total:6              6   \n",
              "4955350                       5:5|4:3|3:1|2:1|1:0|total:10             10   \n",
              "1688667                        5:2|4:2|3:1|2:0|1:0|total:5              5   \n",
              "3601656                5:82|4:129|3:116|2:24|1:7|total:358            358   \n",
              "\n",
              "         text_reviews_count publication_date original_publication_date  \\\n",
              "1318454                5633             1908                      1611   \n",
              "1692                    182       1987-12-12                1986-12-12   \n",
              "1195786                 181       2008-12-22                1986-12-12   \n",
              "45292                   180       1988-03-24                1986-12-12   \n",
              "1493882                  34             1944                1957-01-01   \n",
              "...                     ...              ...                       ...   \n",
              "1650342                  13       2009-02-01                      2009   \n",
              "4993176                   0             1485                1485-01-01   \n",
              "4955350                   1             1485                      1485   \n",
              "1688667                   0             1868                      1487   \n",
              "3601656                  13                                       1383   \n",
              "\n",
              "                     format  num_pages  \n",
              "1318454  King James English     1610.0  \n",
              "1692              Hardcover     1327.0  \n",
              "1195786           Paperback     1327.0  \n",
              "45292       Unknown Binding     1327.0  \n",
              "1493882           Hardcover     1312.0  \n",
              "...                     ...        ...  \n",
              "1650342               ebook       69.0  \n",
              "4993176           Hardcover       66.0  \n",
              "4955350           Hardcover       65.0  \n",
              "1688667               ebook       57.0  \n",
              "3601656     Library Binding       12.0  \n",
              "\n",
              "[100 rows x 15 columns]"
            ]
          },
          "execution_count": 59,
          "metadata": {},
          "output_type": "execute_result"
        }
      ],
      "source": [
        "USABLE_DF_2[USABLE_DF_2['language'] == \"enm\"] #also these books are in english"
      ]
    },
    {
      "cell_type": "code",
      "execution_count": 60,
      "metadata": {
        "id": "KdFNGCx8hCN8"
      },
      "outputs": [
        {
          "name": "stdout",
          "output_type": "stream",
          "text": [
            "t-statistic: 92.00\n",
            "P-value: 0.0000\n",
            "There is a significant difference in the average rating between English and non-English books.\n"
          ]
        }
      ],
      "source": [
        "import scipy.stats as stats\n",
        "\n",
        "english_books = USABLE_DF_2['language'].str.contains('^en', na=False)\n",
        "non_english_books = USABLE_DF_2[~english_books]\n",
        "\n",
        "#Perform a two-sample t-test to compare the average rating of English and non-English books\n",
        "t_stat, p_value = stats.ttest_ind(USABLE_DF_2.loc[english_books, 'average_rating'], USABLE_DF_2.loc[~english_books, 'average_rating'], equal_var=False)\n",
        "\n",
        "# Check if the p-value is statistically significant\n",
        "alpha = 0.05  #significance level\n",
        "if p_value < alpha:\n",
        "    conclusion = \"There is a significant difference in the average rating between English and non-English books.\"\n",
        "else:\n",
        "    conclusion = \"There is no significant difference in the average rating between English and non-English books.\"\n",
        "\n",
        "print(f\"t-statistic: {t_stat:.2f}\")\n",
        "print(f\"P-value: {p_value:.4f}\")\n",
        "print(conclusion)"
      ]
    },
    {
      "cell_type": "markdown",
      "metadata": {
        "id": "45uFffNMhIUa"
      },
      "source": [
        "The t-test was chosen as the appropriate statistical method to compare the average rating distribution of English and non-English books. It is well-suited for comparing means between two groups, as we aimed to determine if there was a significant difference in average ratings between the two language groups. The t-test assumes normally distributed data and provides interpretable results, such as the t-statistic and p-value. In this case, the analysis revealed a highly significant difference, supported by a very low p-value (p < 0.0001). This implies that, on average, there is a substantial distinction in book ratings between the two language groups.\n",
        "\n",
        "Here are some possible reasons for this result:\n",
        "- Readers may have varying preferences and expectations for English and non-English books\n",
        "\n",
        "- Cultural and linguistic factors could influence how books are perceived, affecting their average ratings"
      ]
    },
    {
      "cell_type": "markdown",
      "metadata": {
        "id": "hMTiy4w5hMEP"
      },
      "source": [
        "###About the two groups in the previous question, extract helpful statistics like mode, mean, median, and quartiles, explaining their role in a box plot."
      ]
    },
    {
      "cell_type": "code",
      "execution_count": 61,
      "metadata": {
        "id": "jhDoFZOEhJBs"
      },
      "outputs": [
        {
          "data": {
            "text/plain": [
              "count    891264.000000\n",
              "mean          3.900291\n",
              "std           0.452270\n",
              "min           1.000000\n",
              "25%           3.670000\n",
              "50%           3.920000\n",
              "75%           4.140000\n",
              "max           5.000000\n",
              "Name: average_rating, dtype: float64"
            ]
          },
          "execution_count": 61,
          "metadata": {},
          "output_type": "execute_result"
        }
      ],
      "source": [
        "USABLE_DF_2.loc[english_books, 'average_rating'].describe()"
      ]
    },
    {
      "cell_type": "code",
      "execution_count": 62,
      "metadata": {
        "id": "dXBe3y00hSCL"
      },
      "outputs": [
        {
          "data": {
            "text/plain": [
              "count    2.542744e+06\n",
              "mean     3.847405e+00\n",
              "std      5.065757e-01\n",
              "min      1.000000e+00\n",
              "25%      3.600000e+00\n",
              "50%      3.880000e+00\n",
              "75%      4.120000e+00\n",
              "max      5.000000e+00\n",
              "Name: average_rating, dtype: float64"
            ]
          },
          "execution_count": 62,
          "metadata": {},
          "output_type": "execute_result"
        }
      ],
      "source": [
        "USABLE_DF_2.loc[~english_books, 'average_rating'].describe()"
      ]
    },
    {
      "cell_type": "code",
      "execution_count": 63,
      "metadata": {
        "id": "xQGnJRRyhUDy"
      },
      "outputs": [
        {
          "data": {
            "image/png": "[encoded data removed]",
            "text/plain": [
              "<Figure size 640x480 with 1 Axes>"
            ]
          },
          "metadata": {},
          "output_type": "display_data"
        }
      ],
      "source": [
        "import matplotlib.pyplot as plt\n",
        "\n",
        "# Data for box plot\n",
        "data_to_plot = [USABLE_DF_2.loc[english_books, 'average_rating'], USABLE_DF_2.loc[~english_books, 'average_rating']]\n",
        "\n",
        "# Labels for the box plot\n",
        "labels = ['English Books', 'Non-English Books']\n",
        "\n",
        "# Boxplot colors\n",
        "boxplot_colors = ['blue', 'green']\n",
        "\n",
        "# Create a box plot\n",
        "box = plt.boxplot(data_to_plot, labels=labels, patch_artist=True)\n",
        "\n",
        "#Box colors\n",
        "for patch, color in zip(box['boxes'], boxplot_colors):\n",
        "    patch.set_facecolor(color)\n",
        "\n",
        "# Add labels and title\n",
        "plt.xlabel('Language')\n",
        "plt.ylabel('Average Rating')\n",
        "plt.title('Box Plot of Average Ratings for English and Non-English Books')\n",
        "\n",
        "# Add medians, Q1, and Q3 to the plot\n",
        "#The whiskers are the two lines outside the box, that go from the minimum to the lower quartile (the start of the box) and then from the upper quartile (the end of the box) to the maximum.\n",
        "medians = [box['medians'][0].get_ydata()[0], box['medians'][1].get_ydata()[0]]\n",
        "q1 = [box['whiskers'][0].get_ydata()[1], box['whiskers'][2].get_ydata()[1]]\n",
        "q3 = [box['whiskers'][1].get_ydata()[1], box['whiskers'][3].get_ydata()[1]]\n",
        "\n",
        "for i in range(len(labels)):\n",
        "    plt.text(i + 1, medians[i], f'Median: {medians[i]:.2f}', verticalalignment='bottom', fontsize=10, color='black')\n",
        "    plt.text(i + 1, q1[i], f'Q1: {q1[i]:.2f}', verticalalignment='bottom', fontsize=10, color='black')\n",
        "    plt.text(i + 1, q3[i], f'Q3: {q3[i]:.2f}', verticalalignment='top', fontsize=10, color='black')\n",
        "\n",
        "# Show the plot\n",
        "plt.show()"
      ]
    },
    {
      "cell_type": "markdown",
      "metadata": {
        "id": "D9P7Chnqhd1_"
      },
      "source": [
        "For books in **English**:\n",
        "\n",
        "- Mean: The mean is approximately 3.9003, which is the average of the average ratings for English books.\n",
        "- Median: The median is 3.9200, which is the middle value in the sorted list of average ratings for English books. Half of the values are above this, and half are below.\n",
        "- Quartiles: The 25th percentile (Q1) is 3.6700, the 75th percentile (Q3) is 4.1400. Quartiles provide information about the spread of data. Q1 represents the lower 25% of the data, and Q3 represents the upper 25% of the data. The interquartile range (IQR) is Q3 - Q1, which measures the spread of the middle 50% of the data.\n",
        "\n",
        "For books **not** in **English**:\n",
        "\n",
        "- Mean: The mean is approximately 3.8474, which is the average of the average ratings for books not in English.\n",
        "- Median: The median is 3.8800, which is the middle value in the sorted list of average ratings for books not in English. Half of the values are above this, and half are below.\n",
        "- Quartiles: The 25th percentile (Q1) is 3.6000, the 75th percentile (Q3) is 4.1200. Similar to the English books, these quartiles provide insights into the spread of data for books not in English.\n",
        "\n",
        "These statistics are helpful for understanding the central tendency (mean and median) and the spread (quartiles) of the average ratings for both groups. In a box plot, the central box represents the interquartile range (IQR) and the line inside the box represents the median. Outliers can be identified as data points beyond the \"whiskers\" of the box plot, helping to visualize the distribution of the data for each group."
      ]
    },
    {
      "cell_type": "markdown",
      "metadata": {
        "id": "a_eyXEdnhhiV"
      },
      "source": [
        "###It seems reasonable to assume that authors with more fans should have more reviews, but maybe their fans are a bit lazy. Confirm or reject this with a convenient statistical test or a predictive model."
      ]
    },
    {
      "cell_type": "code",
      "execution_count": 65,
      "metadata": {
        "id": "9aMcL3DXhi3M"
      },
      "outputs": [],
      "source": [
        "data_authors = pd.read_json('lighter_authors.json', lines = True)"
      ]
    },
    {
      "cell_type": "code",
      "execution_count": 66,
      "metadata": {
        "id": "gp_i0m5Ihm44"
      },
      "outputs": [],
      "source": [
        "data_authors.drop([\"about\",\"image_url\"],axis=1,inplace=True)"
      ]
    },
    {
      "cell_type": "code",
      "execution_count": 67,
      "metadata": {
        "id": "K-T_guhwhozm"
      },
      "outputs": [],
      "source": [
        "data_authors = data_authors.loc[(data_authors[\"ratings_count\"]>=0) & (data_authors[\"average_rating\"] >=1) & (data_authors[\"fans_count\"] >=0)]"
      ]
    },
    {
      "cell_type": "code",
      "execution_count": 68,
      "metadata": {
        "id": "niNauaLHhqEn"
      },
      "outputs": [
        {
          "data": {
            "text/plain": [
              "0.6946060255339124"
            ]
          },
          "execution_count": 68,
          "metadata": {},
          "output_type": "execute_result"
        }
      ],
      "source": [
        "correlation = data_authors['fans_count'].corr(data_authors['text_reviews_count'])\n",
        "correlation"
      ]
    },
    {
      "cell_type": "code",
      "execution_count": 69,
      "metadata": {
        "id": "4RVgMAzjhsE-"
      },
      "outputs": [],
      "source": [
        "import statsmodels.api as sm\n",
        "\n",
        "# Model for fans_count vs text_reviews_count\n",
        "X_text_reviews = data_authors['fans_count']\n",
        "y_text_reviews = data_authors['text_reviews_count']\n",
        "X_text_reviews = sm.add_constant(X_text_reviews)\n",
        "model_text_reviews = sm.OLS(y_text_reviews, X_text_reviews).fit()\n",
        "p_value = model_text_reviews.pvalues['fans_count']"
      ]
    },
    {
      "cell_type": "code",
      "execution_count": 70,
      "metadata": {
        "id": "lsUfJAvvhtsb"
      },
      "outputs": [
        {
          "data": {
            "text/plain": [
              "0.0"
            ]
          },
          "execution_count": 70,
          "metadata": {},
          "output_type": "execute_result"
        }
      ],
      "source": [
        "p_value"
      ]
    },
    {
      "cell_type": "code",
      "execution_count": 71,
      "metadata": {
        "id": "8Ai1V45Whuts"
      },
      "outputs": [
        {
          "data": {
            "image/png": "[encoded data removed]",
            "text/plain": [
              "<Figure size 1000x600 with 1 Axes>"
            ]
          },
          "metadata": {},
          "output_type": "display_data"
        }
      ],
      "source": [
        "import seaborn as sns\n",
        "import matplotlib.pyplot as plt\n",
        "\n",
        "# Model for fans_count vs ratings_count\n",
        "X_ratings_count = data_authors['fans_count']\n",
        "y_ratings_count = data_authors['ratings_count']\n",
        "X_ratings_count = sm.add_constant(X_ratings_count)\n",
        "model_ratings_count = sm.OLS(y_ratings_count, X_ratings_count).fit()\n",
        "\n",
        "plt.figure(figsize=(10, 6)) #scatterplot and dimensions\n",
        "\n",
        "# Regression Line for fans_count vs text_reviews_count\n",
        "sns.regplot(x = X_text_reviews['fans_count'], y = y_text_reviews, color = 'blue', label = 'Fans vs Text Reviews')\n",
        "\n",
        "# Regression line for fans_count vs ratings_count\n",
        "sns.regplot(x = X_ratings_count['fans_count'], y = y_ratings_count, color = 'red', label = 'Fans vs Ratings')\n",
        "\n",
        "plt.legend()\n",
        "plt.xlabel('Fans Count')\n",
        "plt.ylabel('Counts')\n",
        "plt.title('Regression Analysis: Fans Count vs Text Reviews and Ratings Count')\n",
        "plt.show()"
      ]
    },
    {
      "cell_type": "markdown",
      "metadata": {
        "id": "ky1ayfQdhxXs"
      },
      "source": [
        "The correlation of 0.6946060255339133 between the number of fans and the number of reviews for authors is positive and quite strong, indicating a clear positive relationship. Importantly, the p-value is 0, showing that this relationship is highly statistically significant. A p-value of 0 means there is an extremely low chance of observing such a strong correlation between these variables by random chance. This provides robust statistical evidence that the number of fans is indeed connected to the number of reviews for authors.\n",
        "\n",
        "Based on these results, it's safe to say that authors with more fans tend to receive more reviews, and we can confidently dismiss the notion that fans are \"lazy.\" The relationship between the number of fans and the number of reviews is evidently significant and positive.\n",
        "\n",
        "However, to dig deeper into this topic, we also created another regression model, comparing fans_count to ratings_count. Upon comparing both regression lines, it becomes clear that there is a stronger relationship between fans_count and ratings_count compared to fans_count and text_reviews_count. Therefore, one could argue that, in reality, fans might be somewhat less active in terms of leaving text reviews."
      ]
    },
    {
      "cell_type": "markdown",
      "metadata": {
        "id": "tJnCXf1Fh4Ab"
      },
      "source": [
        "###Provide a short survey about helpful statistical tests in data analysis and mining: focus on hypothesis design and the difference between parametric and nonparametric tests, explaining the reasons behind the choice of one of these two tests.\n"
      ]
    },
    {
      "cell_type": "markdown",
      "metadata": {
        "id": "iHTsauuzh1b6"
      },
      "source": [
        "----------------------------------------------\n",
        "**STATISTICAL TESTS**\n",
        "\n",
        "Statistical tests are fundamental in data analysis and mining, enabling the extraction of meaningful insights and informed decision-making. They serve as tools for researchers and analysts to assess the statistical significance of patterns, relationships, and disparities within datasets, aiding systematic data exploration.\n",
        "\n",
        "The t-Test is used to compare the means of two groups, identifying if there are significant differences. The Chi-Square Test, on the other hand, is used to examine the independence between two categorical variables. These tests play a crucial role in evaluating hypotheses and extracting meaningful insights from data. Correlation tests, like the Pearson and Spearman methods, reveal the strength and direction of linear relationships between continuous variables, applied in fields like finance and epidemiology.\n",
        "Regression analysis, encompassing linear and logistic regression, empowers analysts to model relationships between variables. For example, linear regression predicts the impact of one variable on another, such as forecasting sales based on advertising expenditure.\n",
        "\n",
        "**PARAMETRIC AND NON-PARAMETRIC**\n",
        "\n",
        "Parametric tests assume specific data distributions and provide robust results when data aligns with assumptions, although they require substantial sample sizes and may not suit all data types. Nonparametric tests are distribution-free and robust in the presence of data distribution deviations, often more suitable for smaller samples, though they exhibit reduced statistical power.\n",
        "\n",
        "In conclusion, the choice between parametric and nonparametric tests depends on data characteristics and research objectives. Parametric tests excel under specific assumptions, offering enhanced power and precision. In contrast, nonparametric tests, versatile and robust, are well-suited to various research scenarios, especially when data distribution remains uncertain. Researchers must carefully evaluate the merits and limitations of each approach for informed and methodologically sound outcomes.\n"
      ]
    },
    {
      "cell_type": "markdown",
      "metadata": {
        "id": "7fm_r9b9NKXM"
      },
      "source": [
        "## Bonus Points"
      ]
    },
    {
      "cell_type": "markdown",
      "metadata": {
        "id": "A55zq12jNKXM"
      },
      "source": [
        "1.\n",
        "\n",
        "- Select one alternative library to Pandas (i.e., Dask, Polar, Vaex, Datatable, etc.), upload authors.json dataset, and filter authors with at least 100 reviews. Do the same using Pandas and compare performance in terms of milliseconds.\n",
        "\n",
        "- Select one alternative library to Pandas (i.e., Dask, Polar, Vaex, Datatable, etc.), upload books.json, and join them with authors.json based on author_id. How many books don’t have a match for the author?\n"
      ]
    },
    {
      "cell_type": "code",
      "execution_count": null,
      "metadata": {
        "id": "gVQUpGykNKXM"
      },
      "outputs": [],
      "source": [
        "import dask.dataframe as dd\n",
        "import pandas as pd\n",
        "import datetime\n"
      ]
    },
    {
      "cell_type": "code",
      "execution_count": null,
      "metadata": {
        "id": "Y3f37wvnNKXN",
        "outputId": "ff6ea89a-e7a6-45d6-8751-ae51d332232a"
      },
      "outputs": [
        {
          "name": "stdout",
          "output_type": "stream",
          "text": [
            "Milliseconds elapsed for DASK: 18348.268 ms\n"
          ]
        }
      ],
      "source": [
        "start_time = datetime.datetime.now()\n",
        "\n",
        "data_auth_dask = dd.read_json('lighter_authors.json',blocksize=16 * 1024 * 1024) #16MB chunks\n",
        "data_auth_dask.query(f'text_reviews_count > {100}').compute()\n",
        "\n",
        "end_time = datetime.datetime.now()\n",
        "\n",
        "time_diff = (end_time - start_time)\n",
        "execution_time = time_diff.total_seconds() * 1000\n",
        "print(\"Milliseconds elapsed for DASK:\",round(execution_time,2),\"ms\")"
      ]
    },
    {
      "cell_type": "code",
      "execution_count": null,
      "metadata": {
        "id": "Js3ie556NKXN",
        "outputId": "f487021d-db0a-4a10-d479-77a1591b93ab"
      },
      "outputs": [
        {
          "name": "stdout",
          "output_type": "stream",
          "text": [
            "MIlliseconds elapsed for PANDAS: 14451.841999999999 ms\n"
          ]
        }
      ],
      "source": [
        "start_time = datetime.datetime.now()\n",
        "\n",
        "data_auth = pd.read_json('lighter_authors.json',lines=True)\n",
        "data_auth.loc[data_auth.text_reviews_count > 100]\n",
        "\n",
        "end_time = datetime.datetime.now()\n",
        "\n",
        "time_diff = (end_time - start_time)\n",
        "execution_time = time_diff.total_seconds() * 1000\n",
        "print(\"MIlliseconds elapsed for PANDAS:\",round(execution_time,2),\"ms\")"
      ]
    },
    {
      "cell_type": "markdown",
      "metadata": {
        "id": "_KzKEgzlNKXN"
      },
      "source": [
        "The performance are comparable, however when it comes to load a large dataset, DASK is extremely fast"
      ]
    },
    {
      "cell_type": "code",
      "execution_count": null,
      "metadata": {
        "id": "9ruf-io9NKXO"
      },
      "outputs": [],
      "source": [
        "data_books_dask = dd.read_json('lighter_books.json',blocksize=32 * 1024 * 1024)\n",
        "data_auth_dask = data_auth_dask.rename(columns={\"id\":\"author_id\"})"
      ]
    },
    {
      "cell_type": "code",
      "execution_count": null,
      "metadata": {
        "id": "4Wd4cg8oNKXP",
        "outputId": "c3fb0ee0-f954-442f-9e21-c7c364b04bd8"
      },
      "outputs": [
        {
          "data": {
            "text/plain": [
              "<bound method _Frame.describe of Dask DataFrame Structure:\n",
              "               ratings_count average_rating text_reviews_count work_ids book_ids works_count author_id    name  gender image_url   about fans_count\n",
              "npartitions=32                                                                                                                                     \n",
              "                       int64        float64              int64   object   object       int64     int64  object  object    object  object      int64\n",
              "                         ...            ...                ...      ...      ...         ...       ...     ...     ...       ...     ...        ...\n",
              "...                      ...            ...                ...      ...      ...         ...       ...     ...     ...       ...     ...        ...\n",
              "                         ...            ...                ...      ...      ...         ...       ...     ...     ...       ...     ...        ...\n",
              "                         ...            ...                ...      ...      ...         ...       ...     ...     ...       ...     ...        ...\n",
              "Dask Name: rename, 70 graph layers>"
            ]
          },
          "execution_count": 82,
          "metadata": {},
          "output_type": "execute_result"
        }
      ],
      "source": [
        "data_auth_dask.describe"
      ]
    },
    {
      "cell_type": "code",
      "execution_count": null,
      "metadata": {
        "id": "E68qjeu9NKXP",
        "outputId": "4ee21563-0f01-4822-97da-4983164537af"
      },
      "outputs": [
        {
          "data": {
            "text/plain": [
              "<bound method _Frame.describe of Dask DataFrame Structure:\n",
              "                    id   title authors author_name author_id work_id    isbn  isbn13    asin language average_rating rating_dist ratings_count text_reviews_count publication_date original_publication_date  format edition_information image_url publisher num_pages series_id series_name series_position shelves description\n",
              "npartitions=480                                                                                                                                                                                                                                                                                                                 \n",
              "                 int64  object  object      object     int64   int64  object  object  object   object        float64      object         int64              int64           object                    object  object              object    object    object    object    object      object          object  object      object\n",
              "                   ...     ...     ...         ...       ...     ...     ...     ...     ...      ...            ...         ...           ...                ...              ...                       ...     ...                 ...       ...       ...       ...       ...         ...             ...     ...         ...\n",
              "...                ...     ...     ...         ...       ...     ...     ...     ...     ...      ...            ...         ...           ...                ...              ...                       ...     ...                 ...       ...       ...       ...       ...         ...             ...     ...         ...\n",
              "                   ...     ...     ...         ...       ...     ...     ...     ...     ...      ...            ...         ...           ...                ...              ...                       ...     ...                 ...       ...       ...       ...       ...         ...             ...     ...         ...\n",
              "                   ...     ...     ...         ...       ...     ...     ...     ...     ...      ...            ...         ...           ...                ...              ...                       ...     ...                 ...       ...       ...       ...       ...         ...             ...     ...         ...\n",
              "Dask Name: from-delayed, 961 graph layers>"
            ]
          },
          "execution_count": 83,
          "metadata": {},
          "output_type": "execute_result"
        }
      ],
      "source": [
        "data_books_dask.describe"
      ]
    },
    {
      "cell_type": "code",
      "execution_count": null,
      "metadata": {
        "id": "O14Sj4TFNKXQ"
      },
      "outputs": [],
      "source": [
        "join = data_books_dask.merge(data_auth_dask, on='author_id', how='inner')\n",
        "join.compute()\n"
      ]
    },
    {
      "cell_type": "markdown",
      "metadata": {
        "id": "yIwkXtEzNKXQ"
      },
      "source": [
        "## AWS Question (AWSQ)"
      ]
    },
    {
      "cell_type": "markdown",
      "metadata": {
        "id": "MNBi13cSNKXQ"
      },
      "source": [
        "#### Configuration of the EC2 instance on AWS\n",
        "\n",
        "- AMI (Amazon Machine Image) : Ubuntu Server 22.04 LTS, SSD Volume Type (The default choice when selecting a new Ubuntu image on AWS)\n",
        "- Istance Type : t2.micro with 1vCPU, 1 GiB of RAM\n",
        "- Storage : 20 GiB of generic use SSD (gp2)\n",
        "\n",
        "#### Command used to connect\n",
        "- For this task i've used puTTy and WinSCP. The first one is for connecting remotely to the machine whereas the second one is for data trasferring between the local machine and the EC2 instance. Once created, i opened puTTY and filled the blanks (\"Host Name\", Port, connection type) and under the category \"Connection/SSH/credentials\" i added the key-value-pair to connect to the instance.\n",
        "\n",
        "- WinSCP was used as a GUI interface to upload \"list.json\" and \"list_script.py\". No command were used since it was simply a drag and drop action from a folder in the local machine to a folder in the EC2 instance. The connection setup for WinSCP was exactly the same as puTTY.\n",
        "\n",
        "\n",
        "\n"
      ]
    },
    {
      "cell_type": "markdown",
      "metadata": {
        "id": "pseGa2VqNKXR"
      },
      "source": [
        "![image.png](attachment:image.png)\n"
      ]
    },
    {
      "cell_type": "markdown",
      "metadata": {},
      "source": [
        "\n",
        "![image-2.png](attachment:image-2.png)"
      ]
    },
    {
      "cell_type": "markdown",
      "metadata": {
        "id": "tbE1rQukNKXR"
      },
      "source": [
        "Once connected i typed the following commands to setup the machine for the python script:\n",
        "- sudo apt update && sudo apt upgrade     (generally used to update a new machine)\n",
        "- sudo apt install python3-pip            (pip for then downloading pandas library)\n",
        "- pip install pandas                      (download pandas library)\n"
      ]
    },
    {
      "cell_type": "markdown",
      "metadata": {
        "id": "5A4SkrgGNKXT"
      },
      "source": [
        "- The following two lines are the outputs (with system time) for both the local and aws machine\n",
        "\n",
        "\n",
        "\n",
        "('romance', 6001)\n",
        "('fiction', 5291)\n",
        "('young-adult', 5016)\n",
        "('fantasy', 3666)\n",
        "('science-fiction', 2779)\n",
        "Milliseconds elapsed for AWS_EC2_MACHINE: 49995.11 ms\n",
        "\n",
        "\n",
        "('romance', 6001)\n",
        "('fiction', 5291)\n",
        "('young-adult', 5016)\n",
        "('fantasy', 3666)\n",
        "('science-fiction', 2779)\n",
        "Milliseconds elapsed for LOCAL_MACHINE: 29105.07 ms\n",
        "\n",
        "- This is a prettier version of the output\n",
        "\n",
        "| Tag             | #usage |\n",
        "|-----------------|--------|\n",
        "| romance         | 6001   |  \n",
        "| fiction         | 5291   |\n",
        "| young-adult     | 5016   |\n",
        "| fantasy         | 3666   |\n",
        "| science-fiction | 2779   |\n",
        "\n",
        "\n",
        "| Machine | time elapsed (in ms) |\n",
        "|---------|------|\n",
        "| EC2 | 49995.11 ms|\n",
        "| Local | 29105.07 ms|\n",
        "\n",
        "And below the outputs from each terminal\n"
      ]
    },
    {
      "cell_type": "markdown",
      "metadata": {
        "id": "O6ScCcSkNKXT"
      },
      "source": [
        "![image.png](attachment:image.png)"
      ]
    },
    {
      "cell_type": "markdown",
      "metadata": {
        "id": "pvE5pTXkNKXV"
      },
      "source": [
        "![image.png](attachment:image.png)"
      ]
    },
    {
      "cell_type": "markdown",
      "metadata": {
        "id": "IqwEg3SlNKXY"
      },
      "source": [
        "#### Considerations and comments\n",
        "\n",
        "- The script was modified to fit the specifications of the EC2 instance, so the chunksize has been set to 200\n",
        "- The \"Local\" machine is considerably faster, but we have to keep in mind that a better ubuntu instance could be much faster"
      ]
    },
    {
      "cell_type": "markdown",
      "metadata": {
        "id": "_R7nLOAmNKXY"
      },
      "source": [
        "## Command Line Question (CLQ)"
      ]
    },
    {
      "cell_type": "markdown",
      "metadata": {
        "id": "OIp3U7drNKXa"
      },
      "source": [
        "For this task we used JQ as a Json parser (and as a command line tool). Below we find the 2 output, the \"original\" and the improved one"
      ]
    },
    {
      "cell_type": "markdown",
      "metadata": {
        "id": "kMhlAPnMNKXc"
      },
      "source": [
        "![image.png](attachment:image.png)"
      ]
    },
    {
      "cell_type": "markdown",
      "metadata": {
        "id": "VprK-ROvNKXc"
      },
      "source": [
        "![image.png](attachment:image.png)"
      ]
    },
    {
      "cell_type": "markdown",
      "metadata": {
        "id": "sHMHc40tNKXd"
      },
      "source": [
        "For the improved one we asked the following things:\n",
        "- How can i create a .sh file in less than 3 lines\n",
        "- If i don't want to specify the Json file i use in the terminal, is it possible to add it in the code"
      ]
    },
    {
      "cell_type": "markdown",
      "metadata": {
        "id": "UQVBUwXqNKXd"
      },
      "source": [
        "### Here is the explanation of the improved script from ChatGPT\n"
      ]
    },
    {
      "cell_type": "markdown",
      "metadata": {
        "id": "u0ZXDGOvNKXd"
      },
      "source": [
        "1. Set the JSON file path: json_file=\"series.json\"\n",
        "2. Check if jq is installed: jq -e . \"$json_file\" >/dev/null 2>&1 || { echo \"Error: jq is not installed or the JSON file is invalid.\"; exit 1; }\n",
        "3. This line checks if the jq command-line tool is installed and if the provided JSON file is valid. It does this by attempting to run jq -e . \"$json_file\". If jq is not installed or the JSON file is invalid, it will print an error message and exit with a status code of 1.\n",
        "4. Timing the execution: time. The time command is used to measure the execution time of the jq commands and provide information about how long they took to run.\n",
        "5. Process the JSON file: time jq -r '. | {id, title, total_books_count: [.works[]| (.books_count | tonumber)] | add}' \"$json_file\" | jq -s 'sort_by(-.total_books_count) | .[:5] | .[] | \"ID:\\(.id) | TITLE:\\(.title) | TOTAL_BOOKS_COUNT:\\(.total_books_count)\"'\n",
        "\n",
        "This is the main part of the script, where the JSON file is processed.\n",
        "\n",
        "Let's break down this line step by step:\n",
        "\n",
        "jq -r '. | {id, title, total_books_count: [.works[]| (.books_count | tonumber)] | add}' \"$json_file\":\n",
        "This part of the command uses jq to perform the following operations:\n",
        "\n",
        "It reads the contents of the JSON file specified by the json_file variable.\n",
        "It then extracts specific fields from the JSON data, creating a new JSON object for each entry in the array.\n",
        "The extracted fields are \"id,\" \"title,\" and \"total_books_count,\" where \"total_books_count\" is calculated by iterating over the \"works\" array and summing up the \"books_count\" values after converting them to numbers.\n",
        "jq -s 'sort_by(-.total_books_count) | .[:5] | .[] | \"ID:\\(.id) | TITLE:\\(.title) | TOTAL_BOOKS_COUNT:\\(.total_books_count)\"':\n",
        "This part of the command further processes the JSON data obtained from the previous jq command.\n",
        "\n",
        "It first sorts the JSON objects based on the \"total_books_count\" field in descending order (largest to smallest).\n",
        "It then selects the first five elements from the sorted array.\n",
        "Finally, it extracts the \"id,\" \"title,\" and \"total_books_count\" fields from each of the top five elements and formats them into a string with labels.\n",
        "\n"
      ]
    },
    {
      "cell_type": "markdown",
      "metadata": {
        "id": "CzEIUCb8NKXe"
      },
      "source": [
        "To check if it's correct we simply compare the two results we see in the images"
      ]
    },
    {
      "cell_type": "markdown",
      "metadata": {
        "id": "Ab6cZBKcNKXf"
      },
      "source": [
        "## Algorithmic Question (AQ)"
      ]
    },
    {
      "cell_type": "markdown",
      "metadata": {
        "id": "x-70hQaVNKXg"
      },
      "source": [
        "\n",
        "\n",
        "- Implement a code to answer the problem above.\n"
      ]
    },
    {
      "cell_type": "code",
      "execution_count": null,
      "metadata": {
        "id": "45brcbmpNKXg"
      },
      "outputs": [],
      "source": [
        "\n",
        "def supervisor_instructions(instructions):                        # We enter a function to process instructions from the supervisor\n",
        "    left_shelf = []  # Inside the function, we create a list to store books on the shelf on the left side of the function\n",
        "    right_shelf = [] # Inside the function, we create a list to store books on the shelf on the right side of the function\n",
        "    total_amount_of_books = 0  # Enter a variable to account for the total number of books on the shelf\n",
        "    keep_answers = []  # And also a list for storing responses to Type 3 instructions\n",
        "\n",
        "    for instruction in instructions:      # Let's start parsing each instruction in order, provided in the list of instructions\n",
        "        command, *params = instruction.split()\n",
        "        if command == \"L\":\n",
        "            # For \"L\" instructions, we add the book id to the left_shelf list, placing it to the left of the leftmost existing book\n",
        "            book_id = int(params[0])\n",
        "            left_shelf.append(book_id)\n",
        "        elif command == \"R\":\n",
        "            # For \"R\" instructions, we add the book ID to the right_shelf list, placing it to the right of the rightmost existing book\n",
        "            book_id = int(params[0])\n",
        "            right_shelf.append(book_id)\n",
        "        elif command == \"?\":\n",
        "            # For \"?\" instructions, we calculate the minimum number of books to retrieve from the left or right to make the book with the specified identifier the leftmost or rightmost book on the shelf.\n",
        "            #To do this, we find the position of the book in the corresponding shelf list (or the length of the list if the book is missing) and calculate the difference between the total number of books and the number of books on the left.\n",
        "            #Then the minimum of these two values is added to the list\n",
        "            book_id = int(params[0])\n",
        "            left_count = left_shelf.index(book_id) if book_id in left_shelf else len(left_shelf)\n",
        "            right_count = len(right_shelf) - right_shelf.index(book_id) if book_id in right_shelf else len(right_shelf) + total_amount_of_books - len(left_shelf)\n",
        "            keep_answers.append(min(left_count, right_count))\n",
        "\n",
        "        total_amount_of_books += 1 #Update the total_amount_of_books variable to track the total number of books\n",
        "\n",
        "    return keep_answers\n",
        "\n",
        "#Enter a number that represents the number of instructions the supervisor will provide\n",
        "number_of_instructions = int(input())\n",
        "instructions = [input() for _ in range(number_of_instructions)] #Generate a list of instructions, where each element of the list represents one instruction\n",
        "keep_answers = supervisor_instructions(instructions) # Answer the instructions\n",
        "\n",
        "# And display responses to supervisor's instructions\n",
        "for answer in keep_answers:\n",
        "    print(answer)\n",
        "\n",
        "def supervisor_instructions(instructions):                        # We enter a function to process instructions from the supervisor\n",
        "    left_shelf = []  # Inside the function, we create a list to store books on the shelf on the left side of the function\n",
        "    right_shelf = [] # Inside the function, we create a list to store books on the shelf on the right side of the function\n",
        "    total_amount_of_books = 0  # Enter a variable to account for the total number of books on the shelf\n",
        "    keep_answers = []  # And also a list for storing responses to Type 3 instructions\n",
        "\n",
        "    for instruction in instructions:      # Let's start parsing each instruction in order, provided in the list of instructions\n",
        "        command, *params = instruction.split()\n",
        "        if command == \"L\":\n",
        "            # For \"L\" instructions, we add the book id to the left_shelf list, placing it to the left of the leftmost existing book\n",
        "            book_id = int(params[0])\n",
        "            left_shelf.append(book_id)\n",
        "        elif command == \"R\":\n",
        "            # For \"R\" instructions, we add the book ID to the right_shelf list, placing it to the right of the rightmost existing book\n",
        "            book_id = int(params[0])\n",
        "            right_shelf.append(book_id)\n",
        "        elif command == \"?\":\n",
        "            # For \"?\" instructions, we calculate the minimum number of books to retrieve from the left or right to make the book with the specified identifier the leftmost or rightmost book on the shelf.\n",
        "            #To do this, we find the position of the book in the corresponding shelf list (or the length of the list if the book is missing) and calculate the difference between the total number of books and the number of books on the left.\n",
        "            #Then the minimum of these two values is added to the list\n",
        "            book_id = int(params[0])\n",
        "            left_count = left_shelf.index(book_id) if book_id in left_shelf else len(left_shelf)\n",
        "            right_count = len(right_shelf) - right_shelf.index(book_id) if book_id in right_shelf else len(right_shelf) + total_amount_of_books - len(left_shelf)\n",
        "            keep_answers.append(min(left_count, right_count))\n",
        "\n",
        "        total_amount_of_books += 1 #Update the total_amount_of_books variable to track the total number of books\n",
        "\n",
        "    return keep_answers\n",
        "\n",
        "number_of_instructions = int(input()) #Enter a number that represents the number of instructions the supervisor will provide\n",
        "instructions = [input() for _ in range(number_of_instructions)] #Generate a list of instructions, where each element of the list represents one instruction\n",
        "keep_answers = supervisor_instructions(instructions) # Answer the instructions\n",
        "\n",
        "# And display responses to supervisor's instructions\n",
        "for answer in keep_answers:\n",
        "    print(answer)\n"
      ]
    },
    {
      "cell_type": "markdown",
      "metadata": {
        "id": "m1OkcW6hNKXi"
      },
      "source": [
        "*   Ask ChatGPT or any other LLM chatbot tool to check your code's time complexity (the Big O notation).\n",
        "\n",
        "ChatGPT says: \"The code has a time complexity of O(n) where n is the number of instructions. It efficiently processes the instructions in a linear fashion, making it a reasonably efficient algorithm for this problem.\"\n",
        "\n",
        "\n",
        "*   Do you believe this is correct? How can you double-check it? Elaborate about your answer.\n",
        "\n",
        "The code processes instructions linearly and the code execution time directly depends on the size of the input data, i.e. the number of instructions. This means that as the number of instructions increases, the time required to process them also increases proportionally. The time complexity of the code is thus O(n), where 'n' is the number of instructions. This property is a characteristic for algorithms with linear time complexity. It is important to note that the code processes each instruction sequentially and the instruction processing occurs only once. Therefore, as the size of the input data increases, the total execution time of all instructions will increase proportionally.\n",
        "\n",
        "To double-check the analysis of the code's time complexity we can:\n",
        "Firstly, we must understand the code to make sure that it is linear, so to make sure that the code processes each instruction once. And that operations inside loops have constant complexity. Also, there should be no nested loops or complex recursive operations in the code.\n",
        "Secondly, we should test the code with large input data and observe how the execution time changes when the 'n' value increases linearly. If the execution time increases linearly, this is real evidence that the time complexity of the code is indeed O(n).\n",
        "Eventually we should assume then there may be a worse scenario, but the time complexity will still be bounded by O(n). Considering these conditions, we can make sure that the analysis of time complexity is correct and corresponds to the real time performance of the code.\n",
        "\n",
        "\n",
        "*   Is the algorithm proposed in (1.) the optimal one to produce the required output? If not, can you suggest a better algorithm to perform the same task?\n",
        "\n",
        "The algorithm proposed in (1.) can be better. Linear search in such lists takes time proportional to the number of books, which may be inefficient. We can use data structures such as dictionaries or sets, which provide faster searches based on book identifiers. This can significantly increase the time complexity of the code. The optimal solution is to choose efficient data structures that provide fast search and improve the overall performance of the algorithm.\n",
        "\n",
        "1. The more optimal time complexity of the algorithm is due to the use of `left_shelf` and `right_shelf` lists to represent the left and right sides of the shelf. These lists store book identifiers, and when a book identifier is searched using `left_shelf.indexing(an_id_of_the_book)` or `right_shelf.indexing(an_id_of_the_book)`. The linear search takes time proportional to the number of items in the list. In the worst case, when a book is not found on the shelf, the search may take O(k) time, where 'k' is the number of books placed on the shelf.\n",
        "\n",
        "\n",
        "\n",
        "2. The using of dictionaries/sets will help to provide O(1) time complexity for search operations. In case of dictionaries, keys can be book identifiers and values can be their positions on the shelf, which provides direct access.\n",
        "\"\"\""
      ]
    }
  ],
  "metadata": {
    "colab": {
      "provenance": []
    },
    "kernelspec": {
      "display_name": "base",
      "language": "python",
      "name": "python3"
    },
    "language_info": {
      "codemirror_mode": {
        "name": "ipython",
        "version": 3
      },
      "file_extension": ".py",
      "mimetype": "text/x-python",
      "name": "python",
      "nbconvert_exporter": "python",
      "pygments_lexer": "ipython3",
      "version": "3.8.18"
    }
  },
  "nbformat": 4,
  "nbformat_minor": 0
}
