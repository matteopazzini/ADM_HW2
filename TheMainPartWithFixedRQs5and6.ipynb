{
  "cells": [
    {
      "cell_type": "code",
      "execution_count": 2,
      "metadata": {
        "ExecuteTime": {
          "end_time": "2023-10-31T17:29:46.410713961Z",
          "start_time": "2023-10-31T17:29:45.759675479Z"
        },
        "id": "eHjQZ8KgNKV1"
      },
      "outputs": [],
      "source": [
        "import pandas as pd\n",
        "import numpy as np\n"
      ]
    },
    {
      "cell_type": "code",
      "source": [
        "from psutil import virtual_memory\n",
        "ram_gb = virtual_memory().total / 1e9\n",
        "print('Your runtime has {:.1f} gigabytes of available RAM\\n'.format(ram_gb))\n",
        "\n",
        "if ram_gb < 20:\n",
        "  print('Not using a high-RAM runtime')\n",
        "else:\n",
        "  print('You are using a high-RAM runtime!')"
      ],
      "metadata": {
        "colab": {
          "base_uri": "https://localhost:8080/"
        },
        "id": "RDsZQq5kOdXy",
        "outputId": "d066ab78-dc09-47fc-d8cb-43d14d6d8db1"
      },
      "execution_count": 1,
      "outputs": [
        {
          "output_type": "stream",
          "name": "stdout",
          "text": [
            "Your runtime has 54.8 gigabytes of available RAM\n",
            "\n",
            "You are using a high-RAM runtime!\n"
          ]
        }
      ]
    },
    {
      "cell_type": "code",
      "source": [
        "!wget https://adm2023.s3.amazonaws.com/lighter_books.json"
      ],
      "metadata": {
        "colab": {
          "base_uri": "https://localhost:8080/"
        },
        "id": "jQl5w2GsPEs8",
        "outputId": "e6369e3d-b9b7-42b6-cd49-7214740daab9"
      },
      "execution_count": 3,
      "outputs": [
        {
          "output_type": "stream",
          "name": "stdout",
          "text": [
            "--2023-11-06 20:02:09--  https://adm2023.s3.amazonaws.com/lighter_books.json\n",
            "Resolving adm2023.s3.amazonaws.com (adm2023.s3.amazonaws.com)... 52.216.137.124, 3.5.21.159, 52.216.213.49, ...\n",
            "Connecting to adm2023.s3.amazonaws.com (adm2023.s3.amazonaws.com)|52.216.137.124|:443... connected.\n",
            "HTTP request sent, awaiting response... 200 OK\n",
            "Length: 16123393395 (15G) [application/json]\n",
            "Saving to: ‘lighter_books.json’\n",
            "\n",
            "lighter_books.json  100%[===================>]  15.02G  39.7MB/s    in 6m 1s   \n",
            "\n",
            "2023-11-06 20:08:11 (42.6 MB/s) - ‘lighter_books.json’ saved [16123393395/16123393395]\n",
            "\n"
          ]
        }
      ]
    },
    {
      "cell_type": "code",
      "source": [
        "!wget https://adm2023.s3.amazonaws.com/lighter_authors.json"
      ],
      "metadata": {
        "colab": {
          "base_uri": "https://localhost:8080/"
        },
        "id": "SSn2eNWTPLhN",
        "outputId": "365ab51f-0531-4239-c547-82a8f80f1b85"
      },
      "execution_count": 4,
      "outputs": [
        {
          "output_type": "stream",
          "name": "stdout",
          "text": [
            "--2023-11-06 20:08:11--  https://adm2023.s3.amazonaws.com/lighter_authors.json\n",
            "Resolving adm2023.s3.amazonaws.com (adm2023.s3.amazonaws.com)... 54.231.128.57, 52.217.93.172, 16.182.107.225, ...\n",
            "Connecting to adm2023.s3.amazonaws.com (adm2023.s3.amazonaws.com)|54.231.128.57|:443... connected.\n",
            "HTTP request sent, awaiting response... 200 OK\n",
            "Length: 549013002 (524M) [application/json]\n",
            "Saving to: ‘lighter_authors.json’\n",
            "\n",
            "lighter_authors.jso 100%[===================>] 523.58M  41.8MB/s    in 12s     \n",
            "\n",
            "2023-11-06 20:08:23 (43.7 MB/s) - ‘lighter_authors.json’ saved [549013002/549013002]\n",
            "\n"
          ]
        }
      ]
    },
    {
      "cell_type": "markdown",
      "metadata": {
        "id": "PDUbgtK7NKWB"
      },
      "source": [
        "## [RQ1] Exploratory Data Analysis (EDA) - Before working on your research questions, you should provide meaningful statistical summaries through visualizations and tabular tools to understand your data."
      ]
    },
    {
      "cell_type": "markdown",
      "metadata": {
        "id": "o5LTXt_ENKWI"
      },
      "source": [
        "### Analyze the data"
      ]
    },
    {
      "cell_type": "markdown",
      "metadata": {
        "id": "wdab4JeONKWJ"
      },
      "source": [
        "First thing first, let's load the two datasets."
      ]
    },
    {
      "cell_type": "code",
      "execution_count": 5,
      "metadata": {
        "ExecuteTime": {
          "end_time": "2023-10-31T17:30:12.860464548Z",
          "start_time": "2023-10-31T17:29:50.905036176Z"
        },
        "id": "DYC0qwpMNKWK"
      },
      "outputs": [],
      "source": [
        "data_auth = pd.read_json('/content/lighter_authors.json',lines=True)\n",
        "data_auth.drop([\"about\",\"image_url\"],axis=1,inplace=True)"
      ]
    },
    {
      "cell_type": "code",
      "execution_count": 6,
      "metadata": {
        "ExecuteTime": {
          "end_time": "2023-10-31T17:19:04.627665408Z",
          "start_time": "2023-10-31T17:11:57.301746208Z"
        },
        "id": "rlDDJ05MNKWM"
      },
      "outputs": [],
      "source": [
        "data_books = pd.read_json('/content/lighter_books.json',lines=True,chunksize=100000)\n",
        "TOTAL_DF = pd.DataFrame()\n",
        "for chunk in data_books:  #drop columns that are not useful or that are redundant\n",
        "    PARTIAL_DATA = chunk[['id', 'title', 'authors', 'author_name', 'author_id', 'work_id','language', 'average_rating', 'rating_dist',\n",
        "       'ratings_count', 'text_reviews_count', 'publication_date',\n",
        "       'original_publication_date', 'format','num_pages']]\n",
        "    TOTAL_DF = pd.concat([TOTAL_DF,PARTIAL_DATA])\n"
      ]
    },
    {
      "cell_type": "markdown",
      "metadata": {
        "id": "58T6eZk-NKWS"
      },
      "source": [
        "As we can see, TOTAL_DF must be loaded in chunks since it's nearly impossible to read it in one go. Also, useless columns are dropped since they don't add anything to the data analysis. Columns containg descriptions or url (in general \"strings\") are extremely heavy on the memory, and unless we are performing operations on such columns we can drop them."
      ]
    },
    {
      "cell_type": "code",
      "execution_count": 7,
      "metadata": {
        "id": "DXNTf1PDNKWW",
        "colab": {
          "base_uri": "https://localhost:8080/",
          "height": 206
        },
        "outputId": "76fde5ac-3e67-48c2-b5da-76b2032de13b"
      },
      "outputs": [
        {
          "output_type": "execute_result",
          "data": {
            "text/plain": [
              "   ratings_count  average_rating  text_reviews_count  \\\n",
              "0        2862064            4.19               62681   \n",
              "1        1417316            4.02               84176   \n",
              "2          56159            4.53                 352   \n",
              "3           3302            3.79                 480   \n",
              "4           7979            3.60                 772   \n",
              "\n",
              "                                            work_ids  \\\n",
              "0  [3078186, 135328, 1877624, 74123, 3078120, 104...   \n",
              "1  [613469, 2305997, 940892, 2611786, 7800569, 31...   \n",
              "2  [17150, 808427, 20487307, 90550, 25460625, 171...   \n",
              "3  [4417, 14300808, 14780, 3796968, 44703121, 103...   \n",
              "4  [13330815, 19109351, 42306244, 72694240, 26291...   \n",
              "\n",
              "                                            book_ids  works_count  id  \\\n",
              "0  [386162, 13, 8695, 8694, 6091075, 365, 569429,...          106   4   \n",
              "1  [9791, 21, 28, 24, 7507825, 27, 10538, 25, 26,...           75   7   \n",
              "2  [349254, 15222, 14833682, 15221, 18126815, 152...           14  10   \n",
              "3  [40, 9416484, 12482, 3753106, 26889789, 104764...           45  12   \n",
              "4  [8466327, 15739968, 22756778, 51026133, 260451...           61  14   \n",
              "\n",
              "                      name  gender  fans_count  \n",
              "0            Douglas Adams    male       19826  \n",
              "1              Bill Bryson    male       16144  \n",
              "2              Jude Fisher  female          60  \n",
              "3  James Hamilton-Paterson    male          72  \n",
              "4              Mark Watson    male         179  "
            ],
            "text/html": [
              "\n",
              "  <div id=\"df-a97969e3-ba2e-46b6-b615-f5f43f52ed12\" class=\"colab-df-container\">\n",
              "    <div>\n",
              "<style scoped>\n",
              "    .dataframe tbody tr th:only-of-type {\n",
              "        vertical-align: middle;\n",
              "    }\n",
              "\n",
              "    .dataframe tbody tr th {\n",
              "        vertical-align: top;\n",
              "    }\n",
              "\n",
              "    .dataframe thead th {\n",
              "        text-align: right;\n",
              "    }\n",
              "</style>\n",
              "<table border=\"1\" class=\"dataframe\">\n",
              "  <thead>\n",
              "    <tr style=\"text-align: right;\">\n",
              "      <th></th>\n",
              "      <th>ratings_count</th>\n",
              "      <th>average_rating</th>\n",
              "      <th>text_reviews_count</th>\n",
              "      <th>work_ids</th>\n",
              "      <th>book_ids</th>\n",
              "      <th>works_count</th>\n",
              "      <th>id</th>\n",
              "      <th>name</th>\n",
              "      <th>gender</th>\n",
              "      <th>fans_count</th>\n",
              "    </tr>\n",
              "  </thead>\n",
              "  <tbody>\n",
              "    <tr>\n",
              "      <th>0</th>\n",
              "      <td>2862064</td>\n",
              "      <td>4.19</td>\n",
              "      <td>62681</td>\n",
              "      <td>[3078186, 135328, 1877624, 74123, 3078120, 104...</td>\n",
              "      <td>[386162, 13, 8695, 8694, 6091075, 365, 569429,...</td>\n",
              "      <td>106</td>\n",
              "      <td>4</td>\n",
              "      <td>Douglas Adams</td>\n",
              "      <td>male</td>\n",
              "      <td>19826</td>\n",
              "    </tr>\n",
              "    <tr>\n",
              "      <th>1</th>\n",
              "      <td>1417316</td>\n",
              "      <td>4.02</td>\n",
              "      <td>84176</td>\n",
              "      <td>[613469, 2305997, 940892, 2611786, 7800569, 31...</td>\n",
              "      <td>[9791, 21, 28, 24, 7507825, 27, 10538, 25, 26,...</td>\n",
              "      <td>75</td>\n",
              "      <td>7</td>\n",
              "      <td>Bill Bryson</td>\n",
              "      <td>male</td>\n",
              "      <td>16144</td>\n",
              "    </tr>\n",
              "    <tr>\n",
              "      <th>2</th>\n",
              "      <td>56159</td>\n",
              "      <td>4.53</td>\n",
              "      <td>352</td>\n",
              "      <td>[17150, 808427, 20487307, 90550, 25460625, 171...</td>\n",
              "      <td>[349254, 15222, 14833682, 15221, 18126815, 152...</td>\n",
              "      <td>14</td>\n",
              "      <td>10</td>\n",
              "      <td>Jude Fisher</td>\n",
              "      <td>female</td>\n",
              "      <td>60</td>\n",
              "    </tr>\n",
              "    <tr>\n",
              "      <th>3</th>\n",
              "      <td>3302</td>\n",
              "      <td>3.79</td>\n",
              "      <td>480</td>\n",
              "      <td>[4417, 14300808, 14780, 3796968, 44703121, 103...</td>\n",
              "      <td>[40, 9416484, 12482, 3753106, 26889789, 104764...</td>\n",
              "      <td>45</td>\n",
              "      <td>12</td>\n",
              "      <td>James Hamilton-Paterson</td>\n",
              "      <td>male</td>\n",
              "      <td>72</td>\n",
              "    </tr>\n",
              "    <tr>\n",
              "      <th>4</th>\n",
              "      <td>7979</td>\n",
              "      <td>3.60</td>\n",
              "      <td>772</td>\n",
              "      <td>[13330815, 19109351, 42306244, 72694240, 26291...</td>\n",
              "      <td>[8466327, 15739968, 22756778, 51026133, 260451...</td>\n",
              "      <td>61</td>\n",
              "      <td>14</td>\n",
              "      <td>Mark Watson</td>\n",
              "      <td>male</td>\n",
              "      <td>179</td>\n",
              "    </tr>\n",
              "  </tbody>\n",
              "</table>\n",
              "</div>\n",
              "    <div class=\"colab-df-buttons\">\n",
              "\n",
              "  <div class=\"colab-df-container\">\n",
              "    <button class=\"colab-df-convert\" onclick=\"convertToInteractive('df-a97969e3-ba2e-46b6-b615-f5f43f52ed12')\"\n",
              "            title=\"Convert this dataframe to an interactive table.\"\n",
              "            style=\"display:none;\">\n",
              "\n",
              "  <svg xmlns=\"http://www.w3.org/2000/svg\" height=\"24px\" viewBox=\"0 -960 960 960\">\n",
              "    <path d=\"M120-120v-720h720v720H120Zm60-500h600v-160H180v160Zm220 220h160v-160H400v160Zm0 220h160v-160H400v160ZM180-400h160v-160H180v160Zm440 0h160v-160H620v160ZM180-180h160v-160H180v160Zm440 0h160v-160H620v160Z\"/>\n",
              "  </svg>\n",
              "    </button>\n",
              "\n",
              "  <style>\n",
              "    .colab-df-container {\n",
              "      display:flex;\n",
              "      gap: 12px;\n",
              "    }\n",
              "\n",
              "    .colab-df-convert {\n",
              "      background-color: #E8F0FE;\n",
              "      border: none;\n",
              "      border-radius: 50%;\n",
              "      cursor: pointer;\n",
              "      display: none;\n",
              "      fill: #1967D2;\n",
              "      height: 32px;\n",
              "      padding: 0 0 0 0;\n",
              "      width: 32px;\n",
              "    }\n",
              "\n",
              "    .colab-df-convert:hover {\n",
              "      background-color: #E2EBFA;\n",
              "      box-shadow: 0px 1px 2px rgba(60, 64, 67, 0.3), 0px 1px 3px 1px rgba(60, 64, 67, 0.15);\n",
              "      fill: #174EA6;\n",
              "    }\n",
              "\n",
              "    .colab-df-buttons div {\n",
              "      margin-bottom: 4px;\n",
              "    }\n",
              "\n",
              "    [theme=dark] .colab-df-convert {\n",
              "      background-color: #3B4455;\n",
              "      fill: #D2E3FC;\n",
              "    }\n",
              "\n",
              "    [theme=dark] .colab-df-convert:hover {\n",
              "      background-color: #434B5C;\n",
              "      box-shadow: 0px 1px 3px 1px rgba(0, 0, 0, 0.15);\n",
              "      filter: drop-shadow(0px 1px 2px rgba(0, 0, 0, 0.3));\n",
              "      fill: #FFFFFF;\n",
              "    }\n",
              "  </style>\n",
              "\n",
              "    <script>\n",
              "      const buttonEl =\n",
              "        document.querySelector('#df-a97969e3-ba2e-46b6-b615-f5f43f52ed12 button.colab-df-convert');\n",
              "      buttonEl.style.display =\n",
              "        google.colab.kernel.accessAllowed ? 'block' : 'none';\n",
              "\n",
              "      async function convertToInteractive(key) {\n",
              "        const element = document.querySelector('#df-a97969e3-ba2e-46b6-b615-f5f43f52ed12');\n",
              "        const dataTable =\n",
              "          await google.colab.kernel.invokeFunction('convertToInteractive',\n",
              "                                                    [key], {});\n",
              "        if (!dataTable) return;\n",
              "\n",
              "        const docLinkHtml = 'Like what you see? Visit the ' +\n",
              "          '<a target=\"_blank\" href=https://colab.research.google.com/notebooks/data_table.ipynb>data table notebook</a>'\n",
              "          + ' to learn more about interactive tables.';\n",
              "        element.innerHTML = '';\n",
              "        dataTable['output_type'] = 'display_data';\n",
              "        await google.colab.output.renderOutput(dataTable, element);\n",
              "        const docLink = document.createElement('div');\n",
              "        docLink.innerHTML = docLinkHtml;\n",
              "        element.appendChild(docLink);\n",
              "      }\n",
              "    </script>\n",
              "  </div>\n",
              "\n",
              "\n",
              "<div id=\"df-56cf70c9-0f07-48fe-88dc-09a370820062\">\n",
              "  <button class=\"colab-df-quickchart\" onclick=\"quickchart('df-56cf70c9-0f07-48fe-88dc-09a370820062')\"\n",
              "            title=\"Suggest charts.\"\n",
              "            style=\"display:none;\">\n",
              "\n",
              "<svg xmlns=\"http://www.w3.org/2000/svg\" height=\"24px\"viewBox=\"0 0 24 24\"\n",
              "     width=\"24px\">\n",
              "    <g>\n",
              "        <path d=\"M19 3H5c-1.1 0-2 .9-2 2v14c0 1.1.9 2 2 2h14c1.1 0 2-.9 2-2V5c0-1.1-.9-2-2-2zM9 17H7v-7h2v7zm4 0h-2V7h2v10zm4 0h-2v-4h2v4z\"/>\n",
              "    </g>\n",
              "</svg>\n",
              "  </button>\n",
              "\n",
              "<style>\n",
              "  .colab-df-quickchart {\n",
              "      --bg-color: #E8F0FE;\n",
              "      --fill-color: #1967D2;\n",
              "      --hover-bg-color: #E2EBFA;\n",
              "      --hover-fill-color: #174EA6;\n",
              "      --disabled-fill-color: #AAA;\n",
              "      --disabled-bg-color: #DDD;\n",
              "  }\n",
              "\n",
              "  [theme=dark] .colab-df-quickchart {\n",
              "      --bg-color: #3B4455;\n",
              "      --fill-color: #D2E3FC;\n",
              "      --hover-bg-color: #434B5C;\n",
              "      --hover-fill-color: #FFFFFF;\n",
              "      --disabled-bg-color: #3B4455;\n",
              "      --disabled-fill-color: #666;\n",
              "  }\n",
              "\n",
              "  .colab-df-quickchart {\n",
              "    background-color: var(--bg-color);\n",
              "    border: none;\n",
              "    border-radius: 50%;\n",
              "    cursor: pointer;\n",
              "    display: none;\n",
              "    fill: var(--fill-color);\n",
              "    height: 32px;\n",
              "    padding: 0;\n",
              "    width: 32px;\n",
              "  }\n",
              "\n",
              "  .colab-df-quickchart:hover {\n",
              "    background-color: var(--hover-bg-color);\n",
              "    box-shadow: 0 1px 2px rgba(60, 64, 67, 0.3), 0 1px 3px 1px rgba(60, 64, 67, 0.15);\n",
              "    fill: var(--button-hover-fill-color);\n",
              "  }\n",
              "\n",
              "  .colab-df-quickchart-complete:disabled,\n",
              "  .colab-df-quickchart-complete:disabled:hover {\n",
              "    background-color: var(--disabled-bg-color);\n",
              "    fill: var(--disabled-fill-color);\n",
              "    box-shadow: none;\n",
              "  }\n",
              "\n",
              "  .colab-df-spinner {\n",
              "    border: 2px solid var(--fill-color);\n",
              "    border-color: transparent;\n",
              "    border-bottom-color: var(--fill-color);\n",
              "    animation:\n",
              "      spin 1s steps(1) infinite;\n",
              "  }\n",
              "\n",
              "  @keyframes spin {\n",
              "    0% {\n",
              "      border-color: transparent;\n",
              "      border-bottom-color: var(--fill-color);\n",
              "      border-left-color: var(--fill-color);\n",
              "    }\n",
              "    20% {\n",
              "      border-color: transparent;\n",
              "      border-left-color: var(--fill-color);\n",
              "      border-top-color: var(--fill-color);\n",
              "    }\n",
              "    30% {\n",
              "      border-color: transparent;\n",
              "      border-left-color: var(--fill-color);\n",
              "      border-top-color: var(--fill-color);\n",
              "      border-right-color: var(--fill-color);\n",
              "    }\n",
              "    40% {\n",
              "      border-color: transparent;\n",
              "      border-right-color: var(--fill-color);\n",
              "      border-top-color: var(--fill-color);\n",
              "    }\n",
              "    60% {\n",
              "      border-color: transparent;\n",
              "      border-right-color: var(--fill-color);\n",
              "    }\n",
              "    80% {\n",
              "      border-color: transparent;\n",
              "      border-right-color: var(--fill-color);\n",
              "      border-bottom-color: var(--fill-color);\n",
              "    }\n",
              "    90% {\n",
              "      border-color: transparent;\n",
              "      border-bottom-color: var(--fill-color);\n",
              "    }\n",
              "  }\n",
              "</style>\n",
              "\n",
              "  <script>\n",
              "    async function quickchart(key) {\n",
              "      const quickchartButtonEl =\n",
              "        document.querySelector('#' + key + ' button');\n",
              "      quickchartButtonEl.disabled = true;  // To prevent multiple clicks.\n",
              "      quickchartButtonEl.classList.add('colab-df-spinner');\n",
              "      try {\n",
              "        const charts = await google.colab.kernel.invokeFunction(\n",
              "            'suggestCharts', [key], {});\n",
              "      } catch (error) {\n",
              "        console.error('Error during call to suggestCharts:', error);\n",
              "      }\n",
              "      quickchartButtonEl.classList.remove('colab-df-spinner');\n",
              "      quickchartButtonEl.classList.add('colab-df-quickchart-complete');\n",
              "    }\n",
              "    (() => {\n",
              "      let quickchartButtonEl =\n",
              "        document.querySelector('#df-56cf70c9-0f07-48fe-88dc-09a370820062 button');\n",
              "      quickchartButtonEl.style.display =\n",
              "        google.colab.kernel.accessAllowed ? 'block' : 'none';\n",
              "    })();\n",
              "  </script>\n",
              "</div>\n",
              "    </div>\n",
              "  </div>\n"
            ]
          },
          "metadata": {},
          "execution_count": 7
        }
      ],
      "source": [
        "data_auth.head()"
      ]
    },
    {
      "cell_type": "code",
      "execution_count": 8,
      "metadata": {
        "id": "E4rO_6IkNKWa",
        "colab": {
          "base_uri": "https://localhost:8080/",
          "height": 712
        },
        "outputId": "91a605cb-2957-4642-fcf7-274be2e1f03b"
      },
      "outputs": [
        {
          "output_type": "execute_result",
          "data": {
            "text/plain": [
              "   id                                              title  \\\n",
              "0   2  Harry Potter and the Order of the Phoenix (Har...   \n",
              "1   3  Harry Potter and the Sorcerer's Stone (Harry P...   \n",
              "2   4  Harry Potter and the Chamber of Secrets (Harry...   \n",
              "3   5  Harry Potter and the Prisoner of Azkaban (Harr...   \n",
              "4   6  Harry Potter and the Goblet of Fire (Harry Pot...   \n",
              "\n",
              "                                             authors   author_name  author_id  \\\n",
              "0  [{'id': '1077326', 'name': 'J.K. Rowling', 'ro...  J.K. Rowling    1077326   \n",
              "1  [{'id': '1077326', 'name': 'J.K. Rowling', 'ro...  J.K. Rowling    1077326   \n",
              "2                                               None  J.K. Rowling    1077326   \n",
              "3  [{'id': '1077326', 'name': 'J.K. Rowling', 'ro...  J.K. Rowling    1077326   \n",
              "4  [{'id': '1077326', 'name': 'J.K. Rowling', 'ro...  J.K. Rowling    1077326   \n",
              "\n",
              "   work_id language  average_rating  \\\n",
              "0  2809203      eng            4.50   \n",
              "1  4640799      eng            4.48   \n",
              "2  6231171      eng            4.43   \n",
              "3  2402163      eng            4.57   \n",
              "4  3046572      eng            4.56   \n",
              "\n",
              "                                         rating_dist  ratings_count  \\\n",
              "0  5:1674064|4:664833|3:231195|2:41699|1:16215|to...        2628006   \n",
              "1  5:4801606|4:1681521|3:623286|2:145898|1:125040...        7377351   \n",
              "2  5:1690166|4:781011|3:313727|2:54687|1:15453|to...        2855044   \n",
              "3  5:1994597|4:696545|3:212678|2:28915|1:13959|to...        2946694   \n",
              "4  5:1808039|4:663849|3:193604|2:27759|1:12425|to...        2705676   \n",
              "\n",
              "   text_reviews_count publication_date original_publication_date  \\\n",
              "0               44716          2004-09                2003-06-21   \n",
              "1              116930       2003-11-01                1997-06-26   \n",
              "2               55286       2003-11-01                1998-07-02   \n",
              "3               58023       2004-05-01                1999-07-08   \n",
              "4               48637       2002-09-28                2000-07-08   \n",
              "\n",
              "                  format num_pages  \n",
              "0              Paperback       870  \n",
              "1              Hardcover       309  \n",
              "2              Hardcover       352  \n",
              "3  Mass Market Paperback       435  \n",
              "4              Paperback       734  "
            ],
            "text/html": [
              "\n",
              "  <div id=\"df-52508b06-4330-4cd4-8a35-9bac6f589242\" class=\"colab-df-container\">\n",
              "    <div>\n",
              "<style scoped>\n",
              "    .dataframe tbody tr th:only-of-type {\n",
              "        vertical-align: middle;\n",
              "    }\n",
              "\n",
              "    .dataframe tbody tr th {\n",
              "        vertical-align: top;\n",
              "    }\n",
              "\n",
              "    .dataframe thead th {\n",
              "        text-align: right;\n",
              "    }\n",
              "</style>\n",
              "<table border=\"1\" class=\"dataframe\">\n",
              "  <thead>\n",
              "    <tr style=\"text-align: right;\">\n",
              "      <th></th>\n",
              "      <th>id</th>\n",
              "      <th>title</th>\n",
              "      <th>authors</th>\n",
              "      <th>author_name</th>\n",
              "      <th>author_id</th>\n",
              "      <th>work_id</th>\n",
              "      <th>language</th>\n",
              "      <th>average_rating</th>\n",
              "      <th>rating_dist</th>\n",
              "      <th>ratings_count</th>\n",
              "      <th>text_reviews_count</th>\n",
              "      <th>publication_date</th>\n",
              "      <th>original_publication_date</th>\n",
              "      <th>format</th>\n",
              "      <th>num_pages</th>\n",
              "    </tr>\n",
              "  </thead>\n",
              "  <tbody>\n",
              "    <tr>\n",
              "      <th>0</th>\n",
              "      <td>2</td>\n",
              "      <td>Harry Potter and the Order of the Phoenix (Har...</td>\n",
              "      <td>[{'id': '1077326', 'name': 'J.K. Rowling', 'ro...</td>\n",
              "      <td>J.K. Rowling</td>\n",
              "      <td>1077326</td>\n",
              "      <td>2809203</td>\n",
              "      <td>eng</td>\n",
              "      <td>4.50</td>\n",
              "      <td>5:1674064|4:664833|3:231195|2:41699|1:16215|to...</td>\n",
              "      <td>2628006</td>\n",
              "      <td>44716</td>\n",
              "      <td>2004-09</td>\n",
              "      <td>2003-06-21</td>\n",
              "      <td>Paperback</td>\n",
              "      <td>870</td>\n",
              "    </tr>\n",
              "    <tr>\n",
              "      <th>1</th>\n",
              "      <td>3</td>\n",
              "      <td>Harry Potter and the Sorcerer's Stone (Harry P...</td>\n",
              "      <td>[{'id': '1077326', 'name': 'J.K. Rowling', 'ro...</td>\n",
              "      <td>J.K. Rowling</td>\n",
              "      <td>1077326</td>\n",
              "      <td>4640799</td>\n",
              "      <td>eng</td>\n",
              "      <td>4.48</td>\n",
              "      <td>5:4801606|4:1681521|3:623286|2:145898|1:125040...</td>\n",
              "      <td>7377351</td>\n",
              "      <td>116930</td>\n",
              "      <td>2003-11-01</td>\n",
              "      <td>1997-06-26</td>\n",
              "      <td>Hardcover</td>\n",
              "      <td>309</td>\n",
              "    </tr>\n",
              "    <tr>\n",
              "      <th>2</th>\n",
              "      <td>4</td>\n",
              "      <td>Harry Potter and the Chamber of Secrets (Harry...</td>\n",
              "      <td>None</td>\n",
              "      <td>J.K. Rowling</td>\n",
              "      <td>1077326</td>\n",
              "      <td>6231171</td>\n",
              "      <td>eng</td>\n",
              "      <td>4.43</td>\n",
              "      <td>5:1690166|4:781011|3:313727|2:54687|1:15453|to...</td>\n",
              "      <td>2855044</td>\n",
              "      <td>55286</td>\n",
              "      <td>2003-11-01</td>\n",
              "      <td>1998-07-02</td>\n",
              "      <td>Hardcover</td>\n",
              "      <td>352</td>\n",
              "    </tr>\n",
              "    <tr>\n",
              "      <th>3</th>\n",
              "      <td>5</td>\n",
              "      <td>Harry Potter and the Prisoner of Azkaban (Harr...</td>\n",
              "      <td>[{'id': '1077326', 'name': 'J.K. Rowling', 'ro...</td>\n",
              "      <td>J.K. Rowling</td>\n",
              "      <td>1077326</td>\n",
              "      <td>2402163</td>\n",
              "      <td>eng</td>\n",
              "      <td>4.57</td>\n",
              "      <td>5:1994597|4:696545|3:212678|2:28915|1:13959|to...</td>\n",
              "      <td>2946694</td>\n",
              "      <td>58023</td>\n",
              "      <td>2004-05-01</td>\n",
              "      <td>1999-07-08</td>\n",
              "      <td>Mass Market Paperback</td>\n",
              "      <td>435</td>\n",
              "    </tr>\n",
              "    <tr>\n",
              "      <th>4</th>\n",
              "      <td>6</td>\n",
              "      <td>Harry Potter and the Goblet of Fire (Harry Pot...</td>\n",
              "      <td>[{'id': '1077326', 'name': 'J.K. Rowling', 'ro...</td>\n",
              "      <td>J.K. Rowling</td>\n",
              "      <td>1077326</td>\n",
              "      <td>3046572</td>\n",
              "      <td>eng</td>\n",
              "      <td>4.56</td>\n",
              "      <td>5:1808039|4:663849|3:193604|2:27759|1:12425|to...</td>\n",
              "      <td>2705676</td>\n",
              "      <td>48637</td>\n",
              "      <td>2002-09-28</td>\n",
              "      <td>2000-07-08</td>\n",
              "      <td>Paperback</td>\n",
              "      <td>734</td>\n",
              "    </tr>\n",
              "  </tbody>\n",
              "</table>\n",
              "</div>\n",
              "    <div class=\"colab-df-buttons\">\n",
              "\n",
              "  <div class=\"colab-df-container\">\n",
              "    <button class=\"colab-df-convert\" onclick=\"convertToInteractive('df-52508b06-4330-4cd4-8a35-9bac6f589242')\"\n",
              "            title=\"Convert this dataframe to an interactive table.\"\n",
              "            style=\"display:none;\">\n",
              "\n",
              "  <svg xmlns=\"http://www.w3.org/2000/svg\" height=\"24px\" viewBox=\"0 -960 960 960\">\n",
              "    <path d=\"M120-120v-720h720v720H120Zm60-500h600v-160H180v160Zm220 220h160v-160H400v160Zm0 220h160v-160H400v160ZM180-400h160v-160H180v160Zm440 0h160v-160H620v160ZM180-180h160v-160H180v160Zm440 0h160v-160H620v160Z\"/>\n",
              "  </svg>\n",
              "    </button>\n",
              "\n",
              "  <style>\n",
              "    .colab-df-container {\n",
              "      display:flex;\n",
              "      gap: 12px;\n",
              "    }\n",
              "\n",
              "    .colab-df-convert {\n",
              "      background-color: #E8F0FE;\n",
              "      border: none;\n",
              "      border-radius: 50%;\n",
              "      cursor: pointer;\n",
              "      display: none;\n",
              "      fill: #1967D2;\n",
              "      height: 32px;\n",
              "      padding: 0 0 0 0;\n",
              "      width: 32px;\n",
              "    }\n",
              "\n",
              "    .colab-df-convert:hover {\n",
              "      background-color: #E2EBFA;\n",
              "      box-shadow: 0px 1px 2px rgba(60, 64, 67, 0.3), 0px 1px 3px 1px rgba(60, 64, 67, 0.15);\n",
              "      fill: #174EA6;\n",
              "    }\n",
              "\n",
              "    .colab-df-buttons div {\n",
              "      margin-bottom: 4px;\n",
              "    }\n",
              "\n",
              "    [theme=dark] .colab-df-convert {\n",
              "      background-color: #3B4455;\n",
              "      fill: #D2E3FC;\n",
              "    }\n",
              "\n",
              "    [theme=dark] .colab-df-convert:hover {\n",
              "      background-color: #434B5C;\n",
              "      box-shadow: 0px 1px 3px 1px rgba(0, 0, 0, 0.15);\n",
              "      filter: drop-shadow(0px 1px 2px rgba(0, 0, 0, 0.3));\n",
              "      fill: #FFFFFF;\n",
              "    }\n",
              "  </style>\n",
              "\n",
              "    <script>\n",
              "      const buttonEl =\n",
              "        document.querySelector('#df-52508b06-4330-4cd4-8a35-9bac6f589242 button.colab-df-convert');\n",
              "      buttonEl.style.display =\n",
              "        google.colab.kernel.accessAllowed ? 'block' : 'none';\n",
              "\n",
              "      async function convertToInteractive(key) {\n",
              "        const element = document.querySelector('#df-52508b06-4330-4cd4-8a35-9bac6f589242');\n",
              "        const dataTable =\n",
              "          await google.colab.kernel.invokeFunction('convertToInteractive',\n",
              "                                                    [key], {});\n",
              "        if (!dataTable) return;\n",
              "\n",
              "        const docLinkHtml = 'Like what you see? Visit the ' +\n",
              "          '<a target=\"_blank\" href=https://colab.research.google.com/notebooks/data_table.ipynb>data table notebook</a>'\n",
              "          + ' to learn more about interactive tables.';\n",
              "        element.innerHTML = '';\n",
              "        dataTable['output_type'] = 'display_data';\n",
              "        await google.colab.output.renderOutput(dataTable, element);\n",
              "        const docLink = document.createElement('div');\n",
              "        docLink.innerHTML = docLinkHtml;\n",
              "        element.appendChild(docLink);\n",
              "      }\n",
              "    </script>\n",
              "  </div>\n",
              "\n",
              "\n",
              "<div id=\"df-2c12172b-3d63-4812-a5d9-1b88a2adb509\">\n",
              "  <button class=\"colab-df-quickchart\" onclick=\"quickchart('df-2c12172b-3d63-4812-a5d9-1b88a2adb509')\"\n",
              "            title=\"Suggest charts.\"\n",
              "            style=\"display:none;\">\n",
              "\n",
              "<svg xmlns=\"http://www.w3.org/2000/svg\" height=\"24px\"viewBox=\"0 0 24 24\"\n",
              "     width=\"24px\">\n",
              "    <g>\n",
              "        <path d=\"M19 3H5c-1.1 0-2 .9-2 2v14c0 1.1.9 2 2 2h14c1.1 0 2-.9 2-2V5c0-1.1-.9-2-2-2zM9 17H7v-7h2v7zm4 0h-2V7h2v10zm4 0h-2v-4h2v4z\"/>\n",
              "    </g>\n",
              "</svg>\n",
              "  </button>\n",
              "\n",
              "<style>\n",
              "  .colab-df-quickchart {\n",
              "      --bg-color: #E8F0FE;\n",
              "      --fill-color: #1967D2;\n",
              "      --hover-bg-color: #E2EBFA;\n",
              "      --hover-fill-color: #174EA6;\n",
              "      --disabled-fill-color: #AAA;\n",
              "      --disabled-bg-color: #DDD;\n",
              "  }\n",
              "\n",
              "  [theme=dark] .colab-df-quickchart {\n",
              "      --bg-color: #3B4455;\n",
              "      --fill-color: #D2E3FC;\n",
              "      --hover-bg-color: #434B5C;\n",
              "      --hover-fill-color: #FFFFFF;\n",
              "      --disabled-bg-color: #3B4455;\n",
              "      --disabled-fill-color: #666;\n",
              "  }\n",
              "\n",
              "  .colab-df-quickchart {\n",
              "    background-color: var(--bg-color);\n",
              "    border: none;\n",
              "    border-radius: 50%;\n",
              "    cursor: pointer;\n",
              "    display: none;\n",
              "    fill: var(--fill-color);\n",
              "    height: 32px;\n",
              "    padding: 0;\n",
              "    width: 32px;\n",
              "  }\n",
              "\n",
              "  .colab-df-quickchart:hover {\n",
              "    background-color: var(--hover-bg-color);\n",
              "    box-shadow: 0 1px 2px rgba(60, 64, 67, 0.3), 0 1px 3px 1px rgba(60, 64, 67, 0.15);\n",
              "    fill: var(--button-hover-fill-color);\n",
              "  }\n",
              "\n",
              "  .colab-df-quickchart-complete:disabled,\n",
              "  .colab-df-quickchart-complete:disabled:hover {\n",
              "    background-color: var(--disabled-bg-color);\n",
              "    fill: var(--disabled-fill-color);\n",
              "    box-shadow: none;\n",
              "  }\n",
              "\n",
              "  .colab-df-spinner {\n",
              "    border: 2px solid var(--fill-color);\n",
              "    border-color: transparent;\n",
              "    border-bottom-color: var(--fill-color);\n",
              "    animation:\n",
              "      spin 1s steps(1) infinite;\n",
              "  }\n",
              "\n",
              "  @keyframes spin {\n",
              "    0% {\n",
              "      border-color: transparent;\n",
              "      border-bottom-color: var(--fill-color);\n",
              "      border-left-color: var(--fill-color);\n",
              "    }\n",
              "    20% {\n",
              "      border-color: transparent;\n",
              "      border-left-color: var(--fill-color);\n",
              "      border-top-color: var(--fill-color);\n",
              "    }\n",
              "    30% {\n",
              "      border-color: transparent;\n",
              "      border-left-color: var(--fill-color);\n",
              "      border-top-color: var(--fill-color);\n",
              "      border-right-color: var(--fill-color);\n",
              "    }\n",
              "    40% {\n",
              "      border-color: transparent;\n",
              "      border-right-color: var(--fill-color);\n",
              "      border-top-color: var(--fill-color);\n",
              "    }\n",
              "    60% {\n",
              "      border-color: transparent;\n",
              "      border-right-color: var(--fill-color);\n",
              "    }\n",
              "    80% {\n",
              "      border-color: transparent;\n",
              "      border-right-color: var(--fill-color);\n",
              "      border-bottom-color: var(--fill-color);\n",
              "    }\n",
              "    90% {\n",
              "      border-color: transparent;\n",
              "      border-bottom-color: var(--fill-color);\n",
              "    }\n",
              "  }\n",
              "</style>\n",
              "\n",
              "  <script>\n",
              "    async function quickchart(key) {\n",
              "      const quickchartButtonEl =\n",
              "        document.querySelector('#' + key + ' button');\n",
              "      quickchartButtonEl.disabled = true;  // To prevent multiple clicks.\n",
              "      quickchartButtonEl.classList.add('colab-df-spinner');\n",
              "      try {\n",
              "        const charts = await google.colab.kernel.invokeFunction(\n",
              "            'suggestCharts', [key], {});\n",
              "      } catch (error) {\n",
              "        console.error('Error during call to suggestCharts:', error);\n",
              "      }\n",
              "      quickchartButtonEl.classList.remove('colab-df-spinner');\n",
              "      quickchartButtonEl.classList.add('colab-df-quickchart-complete');\n",
              "    }\n",
              "    (() => {\n",
              "      let quickchartButtonEl =\n",
              "        document.querySelector('#df-2c12172b-3d63-4812-a5d9-1b88a2adb509 button');\n",
              "      quickchartButtonEl.style.display =\n",
              "        google.colab.kernel.accessAllowed ? 'block' : 'none';\n",
              "    })();\n",
              "  </script>\n",
              "</div>\n",
              "    </div>\n",
              "  </div>\n"
            ]
          },
          "metadata": {},
          "execution_count": 8
        }
      ],
      "source": [
        "TOTAL_DF.head()"
      ]
    },
    {
      "cell_type": "code",
      "execution_count": 9,
      "metadata": {
        "id": "0KHZw43qNKWc",
        "colab": {
          "base_uri": "https://localhost:8080/"
        },
        "outputId": "87a0b2bd-7d8c-49fc-b7f4-c60d38d9d7e1"
      },
      "outputs": [
        {
          "output_type": "stream",
          "name": "stdout",
          "text": [
            "<class 'pandas.core.frame.DataFrame'>\n",
            "RangeIndex: 351767 entries, 0 to 351766\n",
            "Data columns (total 10 columns):\n",
            " #   Column              Non-Null Count   Dtype  \n",
            "---  ------              --------------   -----  \n",
            " 0   ratings_count       351767 non-null  int64  \n",
            " 1   average_rating      351767 non-null  float64\n",
            " 2   text_reviews_count  351767 non-null  int64  \n",
            " 3   work_ids            351767 non-null  object \n",
            " 4   book_ids            351767 non-null  object \n",
            " 5   works_count         351767 non-null  int64  \n",
            " 6   id                  351767 non-null  int64  \n",
            " 7   name                351767 non-null  object \n",
            " 8   gender              351767 non-null  object \n",
            " 9   fans_count          351767 non-null  int64  \n",
            "dtypes: float64(1), int64(5), object(4)\n",
            "memory usage: 26.8+ MB\n"
          ]
        }
      ],
      "source": [
        "data_auth.info()"
      ]
    },
    {
      "cell_type": "code",
      "execution_count": 10,
      "metadata": {
        "id": "PNuaETmXNKWd",
        "colab": {
          "base_uri": "https://localhost:8080/"
        },
        "outputId": "95bcc478-cea0-427e-c75a-e7a752f937db"
      },
      "outputs": [
        {
          "output_type": "stream",
          "name": "stdout",
          "text": [
            "<class 'pandas.core.frame.DataFrame'>\n",
            "RangeIndex: 7027431 entries, 0 to 7027430\n",
            "Data columns (total 15 columns):\n",
            " #   Column                     Dtype  \n",
            "---  ------                     -----  \n",
            " 0   id                         int64  \n",
            " 1   title                      object \n",
            " 2   authors                    object \n",
            " 3   author_name                object \n",
            " 4   author_id                  int64  \n",
            " 5   work_id                    int64  \n",
            " 6   language                   object \n",
            " 7   average_rating             float64\n",
            " 8   rating_dist                object \n",
            " 9   ratings_count              int64  \n",
            " 10  text_reviews_count         int64  \n",
            " 11  publication_date           object \n",
            " 12  original_publication_date  object \n",
            " 13  format                     object \n",
            " 14  num_pages                  object \n",
            "dtypes: float64(1), int64(5), object(9)\n",
            "memory usage: 804.2+ MB\n"
          ]
        }
      ],
      "source": [
        "TOTAL_DF.info()"
      ]
    },
    {
      "cell_type": "markdown",
      "metadata": {
        "id": "MTIO_RVqNKWe"
      },
      "source": [
        "Let's now take a look at the NAN values, if any"
      ]
    },
    {
      "cell_type": "code",
      "execution_count": 11,
      "metadata": {
        "id": "6DfPiEDcNKWe",
        "colab": {
          "base_uri": "https://localhost:8080/"
        },
        "outputId": "e5ed1628-16cf-471c-cab7-7f2d5010316a"
      },
      "outputs": [
        {
          "output_type": "execute_result",
          "data": {
            "text/plain": [
              "id                            0.000000\n",
              "title                         0.000000\n",
              "authors                      76.254253\n",
              "author_name                   0.000000\n",
              "author_id                     0.000000\n",
              "work_id                       0.000000\n",
              "language                      0.000000\n",
              "average_rating                0.000000\n",
              "rating_dist                   0.000000\n",
              "ratings_count                 0.000000\n",
              "text_reviews_count            0.000000\n",
              "publication_date              0.000000\n",
              "original_publication_date     0.000000\n",
              "format                        0.000000\n",
              "num_pages                     0.000000\n",
              "dtype: float64"
            ]
          },
          "metadata": {},
          "execution_count": 11
        }
      ],
      "source": [
        "(TOTAL_DF.isnull().sum()/len(TOTAL_DF))*100"
      ]
    },
    {
      "cell_type": "markdown",
      "metadata": {
        "id": "A6ZgA-IsNKWf"
      },
      "source": [
        "More than 76% of the \"authors\" are missing, but that column lists every author that has contributed to a specific book, so the percentage makes sense if we think that usually just one person works on a book"
      ]
    },
    {
      "cell_type": "markdown",
      "metadata": {
        "id": "lGPpvIzGNKWg"
      },
      "source": [
        "### Statistics summary"
      ]
    },
    {
      "cell_type": "code",
      "execution_count": 48,
      "metadata": {
        "id": "qJy2rjidNKWh",
        "colab": {
          "base_uri": "https://localhost:8080/",
          "height": 300
        },
        "outputId": "53e399ea-e658-4460-91d2-7b0128a503ef"
      },
      "outputs": [
        {
          "output_type": "execute_result",
          "data": {
            "text/plain": [
              "       ratings_count  average_rating  text_reviews_count   works_count  \\\n",
              "count   3.517670e+05   351767.000000       351767.000000  3.517670e+05   \n",
              "mean    4.770586e+03        3.651194          330.993243  2.593714e+01   \n",
              "std     9.769395e+04        1.211482         3857.539191  3.066083e+03   \n",
              "min    -4.100000e+01      -31.000000            0.000000  0.000000e+00   \n",
              "25%     6.000000e+00        3.600000            1.000000  2.000000e+00   \n",
              "50%     3.900000e+01        3.950000            8.000000  6.000000e+00   \n",
              "75%     3.100000e+02        4.250000           53.000000  1.500000e+01   \n",
              "max     2.700375e+07        5.000000       608956.000000  1.775176e+06   \n",
              "\n",
              "                 id     fans_count  \n",
              "count  3.517670e+05  351767.000000  \n",
              "mean   7.751861e+06     111.615731  \n",
              "std    6.578409e+06    2661.018139  \n",
              "min    4.000000e+00     -33.000000  \n",
              "25%    1.535315e+06       1.000000  \n",
              "50%    6.470396e+06       4.000000  \n",
              "75%    1.434041e+07      20.000000  \n",
              "max    2.124802e+07  766035.000000  "
            ],
            "text/html": [
              "\n",
              "  <div id=\"df-06c943ad-44b0-4824-9835-41a021bb65a4\" class=\"colab-df-container\">\n",
              "    <div>\n",
              "<style scoped>\n",
              "    .dataframe tbody tr th:only-of-type {\n",
              "        vertical-align: middle;\n",
              "    }\n",
              "\n",
              "    .dataframe tbody tr th {\n",
              "        vertical-align: top;\n",
              "    }\n",
              "\n",
              "    .dataframe thead th {\n",
              "        text-align: right;\n",
              "    }\n",
              "</style>\n",
              "<table border=\"1\" class=\"dataframe\">\n",
              "  <thead>\n",
              "    <tr style=\"text-align: right;\">\n",
              "      <th></th>\n",
              "      <th>ratings_count</th>\n",
              "      <th>average_rating</th>\n",
              "      <th>text_reviews_count</th>\n",
              "      <th>works_count</th>\n",
              "      <th>id</th>\n",
              "      <th>fans_count</th>\n",
              "    </tr>\n",
              "  </thead>\n",
              "  <tbody>\n",
              "    <tr>\n",
              "      <th>count</th>\n",
              "      <td>3.517670e+05</td>\n",
              "      <td>351767.000000</td>\n",
              "      <td>351767.000000</td>\n",
              "      <td>3.517670e+05</td>\n",
              "      <td>3.517670e+05</td>\n",
              "      <td>351767.000000</td>\n",
              "    </tr>\n",
              "    <tr>\n",
              "      <th>mean</th>\n",
              "      <td>4.770586e+03</td>\n",
              "      <td>3.651194</td>\n",
              "      <td>330.993243</td>\n",
              "      <td>2.593714e+01</td>\n",
              "      <td>7.751861e+06</td>\n",
              "      <td>111.615731</td>\n",
              "    </tr>\n",
              "    <tr>\n",
              "      <th>std</th>\n",
              "      <td>9.769395e+04</td>\n",
              "      <td>1.211482</td>\n",
              "      <td>3857.539191</td>\n",
              "      <td>3.066083e+03</td>\n",
              "      <td>6.578409e+06</td>\n",
              "      <td>2661.018139</td>\n",
              "    </tr>\n",
              "    <tr>\n",
              "      <th>min</th>\n",
              "      <td>-4.100000e+01</td>\n",
              "      <td>-31.000000</td>\n",
              "      <td>0.000000</td>\n",
              "      <td>0.000000e+00</td>\n",
              "      <td>4.000000e+00</td>\n",
              "      <td>-33.000000</td>\n",
              "    </tr>\n",
              "    <tr>\n",
              "      <th>25%</th>\n",
              "      <td>6.000000e+00</td>\n",
              "      <td>3.600000</td>\n",
              "      <td>1.000000</td>\n",
              "      <td>2.000000e+00</td>\n",
              "      <td>1.535315e+06</td>\n",
              "      <td>1.000000</td>\n",
              "    </tr>\n",
              "    <tr>\n",
              "      <th>50%</th>\n",
              "      <td>3.900000e+01</td>\n",
              "      <td>3.950000</td>\n",
              "      <td>8.000000</td>\n",
              "      <td>6.000000e+00</td>\n",
              "      <td>6.470396e+06</td>\n",
              "      <td>4.000000</td>\n",
              "    </tr>\n",
              "    <tr>\n",
              "      <th>75%</th>\n",
              "      <td>3.100000e+02</td>\n",
              "      <td>4.250000</td>\n",
              "      <td>53.000000</td>\n",
              "      <td>1.500000e+01</td>\n",
              "      <td>1.434041e+07</td>\n",
              "      <td>20.000000</td>\n",
              "    </tr>\n",
              "    <tr>\n",
              "      <th>max</th>\n",
              "      <td>2.700375e+07</td>\n",
              "      <td>5.000000</td>\n",
              "      <td>608956.000000</td>\n",
              "      <td>1.775176e+06</td>\n",
              "      <td>2.124802e+07</td>\n",
              "      <td>766035.000000</td>\n",
              "    </tr>\n",
              "  </tbody>\n",
              "</table>\n",
              "</div>\n",
              "    <div class=\"colab-df-buttons\">\n",
              "\n",
              "  <div class=\"colab-df-container\">\n",
              "    <button class=\"colab-df-convert\" onclick=\"convertToInteractive('df-06c943ad-44b0-4824-9835-41a021bb65a4')\"\n",
              "            title=\"Convert this dataframe to an interactive table.\"\n",
              "            style=\"display:none;\">\n",
              "\n",
              "  <svg xmlns=\"http://www.w3.org/2000/svg\" height=\"24px\" viewBox=\"0 -960 960 960\">\n",
              "    <path d=\"M120-120v-720h720v720H120Zm60-500h600v-160H180v160Zm220 220h160v-160H400v160Zm0 220h160v-160H400v160ZM180-400h160v-160H180v160Zm440 0h160v-160H620v160ZM180-180h160v-160H180v160Zm440 0h160v-160H620v160Z\"/>\n",
              "  </svg>\n",
              "    </button>\n",
              "\n",
              "  <style>\n",
              "    .colab-df-container {\n",
              "      display:flex;\n",
              "      gap: 12px;\n",
              "    }\n",
              "\n",
              "    .colab-df-convert {\n",
              "      background-color: #E8F0FE;\n",
              "      border: none;\n",
              "      border-radius: 50%;\n",
              "      cursor: pointer;\n",
              "      display: none;\n",
              "      fill: #1967D2;\n",
              "      height: 32px;\n",
              "      padding: 0 0 0 0;\n",
              "      width: 32px;\n",
              "    }\n",
              "\n",
              "    .colab-df-convert:hover {\n",
              "      background-color: #E2EBFA;\n",
              "      box-shadow: 0px 1px 2px rgba(60, 64, 67, 0.3), 0px 1px 3px 1px rgba(60, 64, 67, 0.15);\n",
              "      fill: #174EA6;\n",
              "    }\n",
              "\n",
              "    .colab-df-buttons div {\n",
              "      margin-bottom: 4px;\n",
              "    }\n",
              "\n",
              "    [theme=dark] .colab-df-convert {\n",
              "      background-color: #3B4455;\n",
              "      fill: #D2E3FC;\n",
              "    }\n",
              "\n",
              "    [theme=dark] .colab-df-convert:hover {\n",
              "      background-color: #434B5C;\n",
              "      box-shadow: 0px 1px 3px 1px rgba(0, 0, 0, 0.15);\n",
              "      filter: drop-shadow(0px 1px 2px rgba(0, 0, 0, 0.3));\n",
              "      fill: #FFFFFF;\n",
              "    }\n",
              "  </style>\n",
              "\n",
              "    <script>\n",
              "      const buttonEl =\n",
              "        document.querySelector('#df-06c943ad-44b0-4824-9835-41a021bb65a4 button.colab-df-convert');\n",
              "      buttonEl.style.display =\n",
              "        google.colab.kernel.accessAllowed ? 'block' : 'none';\n",
              "\n",
              "      async function convertToInteractive(key) {\n",
              "        const element = document.querySelector('#df-06c943ad-44b0-4824-9835-41a021bb65a4');\n",
              "        const dataTable =\n",
              "          await google.colab.kernel.invokeFunction('convertToInteractive',\n",
              "                                                    [key], {});\n",
              "        if (!dataTable) return;\n",
              "\n",
              "        const docLinkHtml = 'Like what you see? Visit the ' +\n",
              "          '<a target=\"_blank\" href=https://colab.research.google.com/notebooks/data_table.ipynb>data table notebook</a>'\n",
              "          + ' to learn more about interactive tables.';\n",
              "        element.innerHTML = '';\n",
              "        dataTable['output_type'] = 'display_data';\n",
              "        await google.colab.output.renderOutput(dataTable, element);\n",
              "        const docLink = document.createElement('div');\n",
              "        docLink.innerHTML = docLinkHtml;\n",
              "        element.appendChild(docLink);\n",
              "      }\n",
              "    </script>\n",
              "  </div>\n",
              "\n",
              "\n",
              "<div id=\"df-19df0410-e86f-4ed9-9016-c768804fd661\">\n",
              "  <button class=\"colab-df-quickchart\" onclick=\"quickchart('df-19df0410-e86f-4ed9-9016-c768804fd661')\"\n",
              "            title=\"Suggest charts.\"\n",
              "            style=\"display:none;\">\n",
              "\n",
              "<svg xmlns=\"http://www.w3.org/2000/svg\" height=\"24px\"viewBox=\"0 0 24 24\"\n",
              "     width=\"24px\">\n",
              "    <g>\n",
              "        <path d=\"M19 3H5c-1.1 0-2 .9-2 2v14c0 1.1.9 2 2 2h14c1.1 0 2-.9 2-2V5c0-1.1-.9-2-2-2zM9 17H7v-7h2v7zm4 0h-2V7h2v10zm4 0h-2v-4h2v4z\"/>\n",
              "    </g>\n",
              "</svg>\n",
              "  </button>\n",
              "\n",
              "<style>\n",
              "  .colab-df-quickchart {\n",
              "      --bg-color: #E8F0FE;\n",
              "      --fill-color: #1967D2;\n",
              "      --hover-bg-color: #E2EBFA;\n",
              "      --hover-fill-color: #174EA6;\n",
              "      --disabled-fill-color: #AAA;\n",
              "      --disabled-bg-color: #DDD;\n",
              "  }\n",
              "\n",
              "  [theme=dark] .colab-df-quickchart {\n",
              "      --bg-color: #3B4455;\n",
              "      --fill-color: #D2E3FC;\n",
              "      --hover-bg-color: #434B5C;\n",
              "      --hover-fill-color: #FFFFFF;\n",
              "      --disabled-bg-color: #3B4455;\n",
              "      --disabled-fill-color: #666;\n",
              "  }\n",
              "\n",
              "  .colab-df-quickchart {\n",
              "    background-color: var(--bg-color);\n",
              "    border: none;\n",
              "    border-radius: 50%;\n",
              "    cursor: pointer;\n",
              "    display: none;\n",
              "    fill: var(--fill-color);\n",
              "    height: 32px;\n",
              "    padding: 0;\n",
              "    width: 32px;\n",
              "  }\n",
              "\n",
              "  .colab-df-quickchart:hover {\n",
              "    background-color: var(--hover-bg-color);\n",
              "    box-shadow: 0 1px 2px rgba(60, 64, 67, 0.3), 0 1px 3px 1px rgba(60, 64, 67, 0.15);\n",
              "    fill: var(--button-hover-fill-color);\n",
              "  }\n",
              "\n",
              "  .colab-df-quickchart-complete:disabled,\n",
              "  .colab-df-quickchart-complete:disabled:hover {\n",
              "    background-color: var(--disabled-bg-color);\n",
              "    fill: var(--disabled-fill-color);\n",
              "    box-shadow: none;\n",
              "  }\n",
              "\n",
              "  .colab-df-spinner {\n",
              "    border: 2px solid var(--fill-color);\n",
              "    border-color: transparent;\n",
              "    border-bottom-color: var(--fill-color);\n",
              "    animation:\n",
              "      spin 1s steps(1) infinite;\n",
              "  }\n",
              "\n",
              "  @keyframes spin {\n",
              "    0% {\n",
              "      border-color: transparent;\n",
              "      border-bottom-color: var(--fill-color);\n",
              "      border-left-color: var(--fill-color);\n",
              "    }\n",
              "    20% {\n",
              "      border-color: transparent;\n",
              "      border-left-color: var(--fill-color);\n",
              "      border-top-color: var(--fill-color);\n",
              "    }\n",
              "    30% {\n",
              "      border-color: transparent;\n",
              "      border-left-color: var(--fill-color);\n",
              "      border-top-color: var(--fill-color);\n",
              "      border-right-color: var(--fill-color);\n",
              "    }\n",
              "    40% {\n",
              "      border-color: transparent;\n",
              "      border-right-color: var(--fill-color);\n",
              "      border-top-color: var(--fill-color);\n",
              "    }\n",
              "    60% {\n",
              "      border-color: transparent;\n",
              "      border-right-color: var(--fill-color);\n",
              "    }\n",
              "    80% {\n",
              "      border-color: transparent;\n",
              "      border-right-color: var(--fill-color);\n",
              "      border-bottom-color: var(--fill-color);\n",
              "    }\n",
              "    90% {\n",
              "      border-color: transparent;\n",
              "      border-bottom-color: var(--fill-color);\n",
              "    }\n",
              "  }\n",
              "</style>\n",
              "\n",
              "  <script>\n",
              "    async function quickchart(key) {\n",
              "      const quickchartButtonEl =\n",
              "        document.querySelector('#' + key + ' button');\n",
              "      quickchartButtonEl.disabled = true;  // To prevent multiple clicks.\n",
              "      quickchartButtonEl.classList.add('colab-df-spinner');\n",
              "      try {\n",
              "        const charts = await google.colab.kernel.invokeFunction(\n",
              "            'suggestCharts', [key], {});\n",
              "      } catch (error) {\n",
              "        console.error('Error during call to suggestCharts:', error);\n",
              "      }\n",
              "      quickchartButtonEl.classList.remove('colab-df-spinner');\n",
              "      quickchartButtonEl.classList.add('colab-df-quickchart-complete');\n",
              "    }\n",
              "    (() => {\n",
              "      let quickchartButtonEl =\n",
              "        document.querySelector('#df-19df0410-e86f-4ed9-9016-c768804fd661 button');\n",
              "      quickchartButtonEl.style.display =\n",
              "        google.colab.kernel.accessAllowed ? 'block' : 'none';\n",
              "    })();\n",
              "  </script>\n",
              "</div>\n",
              "    </div>\n",
              "  </div>\n"
            ]
          },
          "metadata": {},
          "execution_count": 48
        }
      ],
      "source": [
        "data_auth.describe()"
      ]
    },
    {
      "cell_type": "code",
      "execution_count": 49,
      "metadata": {
        "id": "4dKmurZmNKWi",
        "colab": {
          "base_uri": "https://localhost:8080/",
          "height": 300
        },
        "outputId": "fadeb07f-2a63-4af8-c2e3-49f74e8f82d9"
      },
      "outputs": [
        {
          "output_type": "execute_result",
          "data": {
            "text/plain": [
              "                 id     author_id       work_id  average_rating  \\\n",
              "count  7.027431e+06  7.027431e+06  7.027431e+06    7.027431e+06   \n",
              "mean   1.326720e+07  1.977793e+06  1.398533e+07    3.306188e+00   \n",
              "std    7.637922e+06  3.210660e+06  1.535637e+07    1.435734e+00   \n",
              "min    2.000000e+00  4.000000e+00  6.200000e+01    0.000000e+00   \n",
              "25%    6.937444e+06  3.368200e+04  1.564717e+06    3.360000e+00   \n",
              "50%    1.422732e+07  2.499460e+05  6.759579e+06    3.810000e+00   \n",
              "75%    1.953942e+07  3.239281e+06  2.198795e+07    4.080000e+00   \n",
              "max    2.552102e+07  2.124802e+07  8.972161e+07    5.000000e+00   \n",
              "\n",
              "       ratings_count  text_reviews_count  \n",
              "count   7.027431e+06        7.027431e+06  \n",
              "mean    1.945861e+04        6.417258e+02  \n",
              "std     1.609008e+05        4.169806e+03  \n",
              "min     0.000000e+00        0.000000e+00  \n",
              "25%     3.000000e+00        0.000000e+00  \n",
              "50%     4.500000e+01        5.000000e+00  \n",
              "75%     7.710000e+02        6.400000e+01  \n",
              "max     7.400639e+06        1.745240e+05  "
            ],
            "text/html": [
              "\n",
              "  <div id=\"df-7f7a7fd0-6642-4073-9133-48b7276f1a6c\" class=\"colab-df-container\">\n",
              "    <div>\n",
              "<style scoped>\n",
              "    .dataframe tbody tr th:only-of-type {\n",
              "        vertical-align: middle;\n",
              "    }\n",
              "\n",
              "    .dataframe tbody tr th {\n",
              "        vertical-align: top;\n",
              "    }\n",
              "\n",
              "    .dataframe thead th {\n",
              "        text-align: right;\n",
              "    }\n",
              "</style>\n",
              "<table border=\"1\" class=\"dataframe\">\n",
              "  <thead>\n",
              "    <tr style=\"text-align: right;\">\n",
              "      <th></th>\n",
              "      <th>id</th>\n",
              "      <th>author_id</th>\n",
              "      <th>work_id</th>\n",
              "      <th>average_rating</th>\n",
              "      <th>ratings_count</th>\n",
              "      <th>text_reviews_count</th>\n",
              "    </tr>\n",
              "  </thead>\n",
              "  <tbody>\n",
              "    <tr>\n",
              "      <th>count</th>\n",
              "      <td>7.027431e+06</td>\n",
              "      <td>7.027431e+06</td>\n",
              "      <td>7.027431e+06</td>\n",
              "      <td>7.027431e+06</td>\n",
              "      <td>7.027431e+06</td>\n",
              "      <td>7.027431e+06</td>\n",
              "    </tr>\n",
              "    <tr>\n",
              "      <th>mean</th>\n",
              "      <td>1.326720e+07</td>\n",
              "      <td>1.977793e+06</td>\n",
              "      <td>1.398533e+07</td>\n",
              "      <td>3.306188e+00</td>\n",
              "      <td>1.945861e+04</td>\n",
              "      <td>6.417258e+02</td>\n",
              "    </tr>\n",
              "    <tr>\n",
              "      <th>std</th>\n",
              "      <td>7.637922e+06</td>\n",
              "      <td>3.210660e+06</td>\n",
              "      <td>1.535637e+07</td>\n",
              "      <td>1.435734e+00</td>\n",
              "      <td>1.609008e+05</td>\n",
              "      <td>4.169806e+03</td>\n",
              "    </tr>\n",
              "    <tr>\n",
              "      <th>min</th>\n",
              "      <td>2.000000e+00</td>\n",
              "      <td>4.000000e+00</td>\n",
              "      <td>6.200000e+01</td>\n",
              "      <td>0.000000e+00</td>\n",
              "      <td>0.000000e+00</td>\n",
              "      <td>0.000000e+00</td>\n",
              "    </tr>\n",
              "    <tr>\n",
              "      <th>25%</th>\n",
              "      <td>6.937444e+06</td>\n",
              "      <td>3.368200e+04</td>\n",
              "      <td>1.564717e+06</td>\n",
              "      <td>3.360000e+00</td>\n",
              "      <td>3.000000e+00</td>\n",
              "      <td>0.000000e+00</td>\n",
              "    </tr>\n",
              "    <tr>\n",
              "      <th>50%</th>\n",
              "      <td>1.422732e+07</td>\n",
              "      <td>2.499460e+05</td>\n",
              "      <td>6.759579e+06</td>\n",
              "      <td>3.810000e+00</td>\n",
              "      <td>4.500000e+01</td>\n",
              "      <td>5.000000e+00</td>\n",
              "    </tr>\n",
              "    <tr>\n",
              "      <th>75%</th>\n",
              "      <td>1.953942e+07</td>\n",
              "      <td>3.239281e+06</td>\n",
              "      <td>2.198795e+07</td>\n",
              "      <td>4.080000e+00</td>\n",
              "      <td>7.710000e+02</td>\n",
              "      <td>6.400000e+01</td>\n",
              "    </tr>\n",
              "    <tr>\n",
              "      <th>max</th>\n",
              "      <td>2.552102e+07</td>\n",
              "      <td>2.124802e+07</td>\n",
              "      <td>8.972161e+07</td>\n",
              "      <td>5.000000e+00</td>\n",
              "      <td>7.400639e+06</td>\n",
              "      <td>1.745240e+05</td>\n",
              "    </tr>\n",
              "  </tbody>\n",
              "</table>\n",
              "</div>\n",
              "    <div class=\"colab-df-buttons\">\n",
              "\n",
              "  <div class=\"colab-df-container\">\n",
              "    <button class=\"colab-df-convert\" onclick=\"convertToInteractive('df-7f7a7fd0-6642-4073-9133-48b7276f1a6c')\"\n",
              "            title=\"Convert this dataframe to an interactive table.\"\n",
              "            style=\"display:none;\">\n",
              "\n",
              "  <svg xmlns=\"http://www.w3.org/2000/svg\" height=\"24px\" viewBox=\"0 -960 960 960\">\n",
              "    <path d=\"M120-120v-720h720v720H120Zm60-500h600v-160H180v160Zm220 220h160v-160H400v160Zm0 220h160v-160H400v160ZM180-400h160v-160H180v160Zm440 0h160v-160H620v160ZM180-180h160v-160H180v160Zm440 0h160v-160H620v160Z\"/>\n",
              "  </svg>\n",
              "    </button>\n",
              "\n",
              "  <style>\n",
              "    .colab-df-container {\n",
              "      display:flex;\n",
              "      gap: 12px;\n",
              "    }\n",
              "\n",
              "    .colab-df-convert {\n",
              "      background-color: #E8F0FE;\n",
              "      border: none;\n",
              "      border-radius: 50%;\n",
              "      cursor: pointer;\n",
              "      display: none;\n",
              "      fill: #1967D2;\n",
              "      height: 32px;\n",
              "      padding: 0 0 0 0;\n",
              "      width: 32px;\n",
              "    }\n",
              "\n",
              "    .colab-df-convert:hover {\n",
              "      background-color: #E2EBFA;\n",
              "      box-shadow: 0px 1px 2px rgba(60, 64, 67, 0.3), 0px 1px 3px 1px rgba(60, 64, 67, 0.15);\n",
              "      fill: #174EA6;\n",
              "    }\n",
              "\n",
              "    .colab-df-buttons div {\n",
              "      margin-bottom: 4px;\n",
              "    }\n",
              "\n",
              "    [theme=dark] .colab-df-convert {\n",
              "      background-color: #3B4455;\n",
              "      fill: #D2E3FC;\n",
              "    }\n",
              "\n",
              "    [theme=dark] .colab-df-convert:hover {\n",
              "      background-color: #434B5C;\n",
              "      box-shadow: 0px 1px 3px 1px rgba(0, 0, 0, 0.15);\n",
              "      filter: drop-shadow(0px 1px 2px rgba(0, 0, 0, 0.3));\n",
              "      fill: #FFFFFF;\n",
              "    }\n",
              "  </style>\n",
              "\n",
              "    <script>\n",
              "      const buttonEl =\n",
              "        document.querySelector('#df-7f7a7fd0-6642-4073-9133-48b7276f1a6c button.colab-df-convert');\n",
              "      buttonEl.style.display =\n",
              "        google.colab.kernel.accessAllowed ? 'block' : 'none';\n",
              "\n",
              "      async function convertToInteractive(key) {\n",
              "        const element = document.querySelector('#df-7f7a7fd0-6642-4073-9133-48b7276f1a6c');\n",
              "        const dataTable =\n",
              "          await google.colab.kernel.invokeFunction('convertToInteractive',\n",
              "                                                    [key], {});\n",
              "        if (!dataTable) return;\n",
              "\n",
              "        const docLinkHtml = 'Like what you see? Visit the ' +\n",
              "          '<a target=\"_blank\" href=https://colab.research.google.com/notebooks/data_table.ipynb>data table notebook</a>'\n",
              "          + ' to learn more about interactive tables.';\n",
              "        element.innerHTML = '';\n",
              "        dataTable['output_type'] = 'display_data';\n",
              "        await google.colab.output.renderOutput(dataTable, element);\n",
              "        const docLink = document.createElement('div');\n",
              "        docLink.innerHTML = docLinkHtml;\n",
              "        element.appendChild(docLink);\n",
              "      }\n",
              "    </script>\n",
              "  </div>\n",
              "\n",
              "\n",
              "<div id=\"df-8da449b7-4b11-4e82-b7a0-3cbc0af1eb41\">\n",
              "  <button class=\"colab-df-quickchart\" onclick=\"quickchart('df-8da449b7-4b11-4e82-b7a0-3cbc0af1eb41')\"\n",
              "            title=\"Suggest charts.\"\n",
              "            style=\"display:none;\">\n",
              "\n",
              "<svg xmlns=\"http://www.w3.org/2000/svg\" height=\"24px\"viewBox=\"0 0 24 24\"\n",
              "     width=\"24px\">\n",
              "    <g>\n",
              "        <path d=\"M19 3H5c-1.1 0-2 .9-2 2v14c0 1.1.9 2 2 2h14c1.1 0 2-.9 2-2V5c0-1.1-.9-2-2-2zM9 17H7v-7h2v7zm4 0h-2V7h2v10zm4 0h-2v-4h2v4z\"/>\n",
              "    </g>\n",
              "</svg>\n",
              "  </button>\n",
              "\n",
              "<style>\n",
              "  .colab-df-quickchart {\n",
              "      --bg-color: #E8F0FE;\n",
              "      --fill-color: #1967D2;\n",
              "      --hover-bg-color: #E2EBFA;\n",
              "      --hover-fill-color: #174EA6;\n",
              "      --disabled-fill-color: #AAA;\n",
              "      --disabled-bg-color: #DDD;\n",
              "  }\n",
              "\n",
              "  [theme=dark] .colab-df-quickchart {\n",
              "      --bg-color: #3B4455;\n",
              "      --fill-color: #D2E3FC;\n",
              "      --hover-bg-color: #434B5C;\n",
              "      --hover-fill-color: #FFFFFF;\n",
              "      --disabled-bg-color: #3B4455;\n",
              "      --disabled-fill-color: #666;\n",
              "  }\n",
              "\n",
              "  .colab-df-quickchart {\n",
              "    background-color: var(--bg-color);\n",
              "    border: none;\n",
              "    border-radius: 50%;\n",
              "    cursor: pointer;\n",
              "    display: none;\n",
              "    fill: var(--fill-color);\n",
              "    height: 32px;\n",
              "    padding: 0;\n",
              "    width: 32px;\n",
              "  }\n",
              "\n",
              "  .colab-df-quickchart:hover {\n",
              "    background-color: var(--hover-bg-color);\n",
              "    box-shadow: 0 1px 2px rgba(60, 64, 67, 0.3), 0 1px 3px 1px rgba(60, 64, 67, 0.15);\n",
              "    fill: var(--button-hover-fill-color);\n",
              "  }\n",
              "\n",
              "  .colab-df-quickchart-complete:disabled,\n",
              "  .colab-df-quickchart-complete:disabled:hover {\n",
              "    background-color: var(--disabled-bg-color);\n",
              "    fill: var(--disabled-fill-color);\n",
              "    box-shadow: none;\n",
              "  }\n",
              "\n",
              "  .colab-df-spinner {\n",
              "    border: 2px solid var(--fill-color);\n",
              "    border-color: transparent;\n",
              "    border-bottom-color: var(--fill-color);\n",
              "    animation:\n",
              "      spin 1s steps(1) infinite;\n",
              "  }\n",
              "\n",
              "  @keyframes spin {\n",
              "    0% {\n",
              "      border-color: transparent;\n",
              "      border-bottom-color: var(--fill-color);\n",
              "      border-left-color: var(--fill-color);\n",
              "    }\n",
              "    20% {\n",
              "      border-color: transparent;\n",
              "      border-left-color: var(--fill-color);\n",
              "      border-top-color: var(--fill-color);\n",
              "    }\n",
              "    30% {\n",
              "      border-color: transparent;\n",
              "      border-left-color: var(--fill-color);\n",
              "      border-top-color: var(--fill-color);\n",
              "      border-right-color: var(--fill-color);\n",
              "    }\n",
              "    40% {\n",
              "      border-color: transparent;\n",
              "      border-right-color: var(--fill-color);\n",
              "      border-top-color: var(--fill-color);\n",
              "    }\n",
              "    60% {\n",
              "      border-color: transparent;\n",
              "      border-right-color: var(--fill-color);\n",
              "    }\n",
              "    80% {\n",
              "      border-color: transparent;\n",
              "      border-right-color: var(--fill-color);\n",
              "      border-bottom-color: var(--fill-color);\n",
              "    }\n",
              "    90% {\n",
              "      border-color: transparent;\n",
              "      border-bottom-color: var(--fill-color);\n",
              "    }\n",
              "  }\n",
              "</style>\n",
              "\n",
              "  <script>\n",
              "    async function quickchart(key) {\n",
              "      const quickchartButtonEl =\n",
              "        document.querySelector('#' + key + ' button');\n",
              "      quickchartButtonEl.disabled = true;  // To prevent multiple clicks.\n",
              "      quickchartButtonEl.classList.add('colab-df-spinner');\n",
              "      try {\n",
              "        const charts = await google.colab.kernel.invokeFunction(\n",
              "            'suggestCharts', [key], {});\n",
              "      } catch (error) {\n",
              "        console.error('Error during call to suggestCharts:', error);\n",
              "      }\n",
              "      quickchartButtonEl.classList.remove('colab-df-spinner');\n",
              "      quickchartButtonEl.classList.add('colab-df-quickchart-complete');\n",
              "    }\n",
              "    (() => {\n",
              "      let quickchartButtonEl =\n",
              "        document.querySelector('#df-8da449b7-4b11-4e82-b7a0-3cbc0af1eb41 button');\n",
              "      quickchartButtonEl.style.display =\n",
              "        google.colab.kernel.accessAllowed ? 'block' : 'none';\n",
              "    })();\n",
              "  </script>\n",
              "</div>\n",
              "    </div>\n",
              "  </div>\n"
            ]
          },
          "metadata": {},
          "execution_count": 49
        }
      ],
      "source": [
        "TOTAL_DF.describe()"
      ]
    },
    {
      "cell_type": "code",
      "execution_count": 50,
      "metadata": {
        "id": "0oo_gMn4NKWj"
      },
      "outputs": [],
      "source": [
        "USABLE_DF = TOTAL_DF.copy() #create a copy of the dataset\n"
      ]
    },
    {
      "cell_type": "markdown",
      "metadata": {
        "id": "bwnsvcUnNKWj"
      },
      "source": [
        "In data_auth there's something wrong with the min, so we need to drop some values"
      ]
    },
    {
      "cell_type": "code",
      "execution_count": 51,
      "metadata": {
        "id": "VoAt2B0hNKWj"
      },
      "outputs": [],
      "source": [
        "data_auth = data_auth.loc[(data_auth[\"ratings_count\"]>=0) & (data_auth[\"average_rating\"] >=1) & (data_auth[\"fans_count\"] >=0)]"
      ]
    },
    {
      "cell_type": "markdown",
      "metadata": {
        "id": "OHDDqdiWNKWk"
      },
      "source": [
        "The dataset will be cleaned more during each and every question"
      ]
    },
    {
      "cell_type": "markdown",
      "metadata": {
        "id": "xO4rOkF9NKWk"
      },
      "source": [
        "## [RQ2] Let’s finally dig into this vast dataset, retrieving some vital information:"
      ]
    },
    {
      "cell_type": "markdown",
      "metadata": {
        "id": "YW0wDtl8NKWl"
      },
      "source": [
        "Plot the number of books for each author in descending order"
      ]
    },
    {
      "cell_type": "code",
      "execution_count": 52,
      "metadata": {
        "ExecuteTime": {
          "end_time": "2023-10-31T17:30:14.741616216Z",
          "start_time": "2023-10-31T17:30:12.959444661Z"
        },
        "id": "5sAFI1cqNKWl",
        "colab": {
          "base_uri": "https://localhost:8080/",
          "height": 862
        },
        "outputId": "46c12569-4b46-4183-e5f3-6ae36cdf72df"
      },
      "outputs": [
        {
          "output_type": "execute_result",
          "data": {
            "text/plain": [
              "<Axes: xlabel='name'>"
            ]
          },
          "metadata": {},
          "execution_count": 52
        },
        {
          "output_type": "display_data",
          "data": {
            "text/plain": [
              "<Figure size 640x480 with 1 Axes>"
            ],
            "image/png": "[encoded data removed]"
          },
          "metadata": {}
        }
      ],
      "source": [
        "nb_books = data_auth[[\"name\",\"works_count\"]]\n",
        "nb_books = nb_books.sort_values(by=\"works_count\",ascending=False).iloc[1:21]\n",
        "nb_books.plot(x=\"name\",kind=\"bar\")"
      ]
    },
    {
      "cell_type": "markdown",
      "metadata": {
        "id": "7Sx-bKQnNKWm"
      },
      "source": [
        "As we can see, not every author is a person(some are Institutions). Also, we printed the first 20 in descending order to give an idea of the scale. Technically the first author was \"NOT A BOOK\" with more than 1.5 million books, but as specified in the \"about\" section, \"this profile was created to segregate those items which have ISBNs or ASINs but are not considered part of our catalog\""
      ]
    },
    {
      "cell_type": "markdown",
      "metadata": {
        "id": "FNB1NWnqNKWm"
      },
      "source": [
        "Which book has the highest number of reviews?"
      ]
    },
    {
      "cell_type": "code",
      "execution_count": 53,
      "metadata": {
        "id": "CNDrl-fyNKWm"
      },
      "outputs": [],
      "source": [
        "USABLE_DF = USABLE_DF.loc[USABLE_DF[\"average_rating\"] >=1]"
      ]
    },
    {
      "cell_type": "code",
      "execution_count": 54,
      "metadata": {
        "ExecuteTime": {
          "end_time": "2023-10-31T17:30:31.279627964Z",
          "start_time": "2023-10-31T17:30:30.304610699Z"
        },
        "id": "MBIHIblHNKWm",
        "colab": {
          "base_uri": "https://localhost:8080/"
        },
        "outputId": "372d9ba6-cb34-45bf-c766-d7ecfd8e8f9f"
      },
      "outputs": [
        {
          "output_type": "stream",
          "name": "stdout",
          "text": [
            "The book with the highest number of reviews is Harry Potter und der Stein der Weisen (Harry Potter,#1)\n"
          ]
        }
      ],
      "source": [
        "rating_counts_book = USABLE_DF[[\"title\",\"ratings_count\"]]\n",
        "rating_counts_book = rating_counts_book.sort_values(by=\"ratings_count\",ascending=False).iloc[0][0]\n",
        "print(\"The book with the highest number of reviews is\", rating_counts_book)"
      ]
    },
    {
      "cell_type": "markdown",
      "metadata": {
        "id": "Y5MV6_MyNKWn"
      },
      "source": [
        "Which are the top ten and ten worst books concerning the average score?"
      ]
    },
    {
      "cell_type": "code",
      "execution_count": 55,
      "metadata": {
        "id": "y7GW22JfNKWn",
        "colab": {
          "base_uri": "https://localhost:8080/"
        },
        "outputId": "f32e0aa5-863f-45c0-c6bb-9de6ec1d3358"
      },
      "outputs": [
        {
          "output_type": "stream",
          "name": "stdout",
          "text": [
            "                                                     title  average_rating\n",
            "2877874                                         Sin Killer             5.0\n",
            "3667969                                          White Oak             5.0\n",
            "318798   Bratty Brothers and Selfish Sisters: All about...             5.0\n",
            "5340272                        The Princess and the Popper             5.0\n",
            "1604861                                             D.N.A.             5.0\n",
            "6084871                                   Jahrhundertspiel             5.0\n",
            "6084876                                     Ties that bind             5.0\n",
            "6084885                                      Rund der Hund             5.0\n",
            "5340260                              Medieval Tile Designs             5.0\n",
            "1604840  Life Application Bible: New Testament: The Liv...             5.0\n",
            "                                                     title  average_rating\n",
            "2524320                            Sensual Phrase Chapters             1.0\n",
            "5739507       Successful Affiliate Marketing for Merchants             1.0\n",
            "3259488  Trace Diagram: Mathematics, Linear Algebra, Mu...             1.0\n",
            "3259489  Spin network: Physics, Quantum Mechanics, Matr...             1.0\n",
            "1992060  Fantastic Brain Games: Develop Your Mental Agi...             1.0\n",
            "4498524      Job Jabs: A 'Gotcha' Book-Book #1 in a Series             1.0\n",
            "345377   Strange Visitors (Stories for the Telling (Big...             1.0\n",
            "3259527                                       The Big Race             1.0\n",
            "5739185  Good Questions Have Small Groups Talking -- James             1.0\n",
            "2632510                                    The God of Love             1.0\n"
          ]
        }
      ],
      "source": [
        "Highest_score = USABLE_DF.sort_values(by=\"average_rating\",ascending=False).iloc[:10]\n",
        "Lowest_score = USABLE_DF.sort_values(by=\"average_rating\").iloc[:10]\n",
        "#Highest_score[[\"name\",\"average_score\"]].\n",
        "print(Highest_score[[\"title\",\"average_rating\"]])\n",
        "print(Lowest_score[[\"title\",\"average_rating\"]])"
      ]
    },
    {
      "cell_type": "markdown",
      "metadata": {
        "id": "icqSJdIwNKWo"
      },
      "source": [
        "As we can see, 1 and 5 ratings are present and taken into consideration"
      ]
    },
    {
      "cell_type": "markdown",
      "metadata": {
        "id": "DtlCfHi1NKWo"
      },
      "source": [
        "Explore the different languages in the book’s dataset, providing a proper chart summarizing how these languages are distributed throughout our virtual library."
      ]
    },
    {
      "cell_type": "code",
      "execution_count": 56,
      "metadata": {
        "id": "qqv3kkA9NKWo",
        "colab": {
          "base_uri": "https://localhost:8080/",
          "height": 425
        },
        "outputId": "1f5c632b-cc07-45dc-b677-6027fc0536fe"
      },
      "outputs": [
        {
          "output_type": "execute_result",
          "data": {
            "text/plain": [
              "<Axes: ylabel='language'>"
            ]
          },
          "metadata": {},
          "execution_count": 56
        },
        {
          "output_type": "display_data",
          "data": {
            "text/plain": [
              "<Figure size 640x480 with 1 Axes>"
            ],
            "image/png": "[encoded data removed]"
          },
          "metadata": {}
        }
      ],
      "source": [
        "languages = USABLE_DF.loc[USABLE_DF[\"language\"]!='',:]\n",
        "languages = languages[\"language\"]\n",
        "languages.value_counts()[:10].plot.pie()"
      ]
    },
    {
      "cell_type": "markdown",
      "metadata": {
        "id": "LIgttsLhNKWp"
      },
      "source": [
        "With a pie chart it's easy to see that the majority of books are written in english"
      ]
    },
    {
      "cell_type": "markdown",
      "metadata": {
        "id": "mvhZ4XORNKWp"
      },
      "source": [
        "How many books have more than 250 pages?"
      ]
    },
    {
      "cell_type": "code",
      "execution_count": 57,
      "metadata": {
        "id": "ybfqVnWxNKWq",
        "colab": {
          "base_uri": "https://localhost:8080/"
        },
        "outputId": "93a5ca14-4603-4b82-ae7d-1942197225aa"
      },
      "outputs": [
        {
          "output_type": "stream",
          "name": "stdout",
          "text": [
            "The number of books with over 250 pages is 1651330\n"
          ]
        }
      ],
      "source": [
        "Number_books = USABLE_DF.loc[USABLE_DF[\"num_pages\"]!='',:]  #with this, we filter out everything that is not a number\n",
        "\n",
        "filtered = Number_books[Number_books[\"num_pages\"] > 250]\n",
        "print(\"The number of books with over 250 pages is\",filtered[\"num_pages\"].count())"
      ]
    },
    {
      "cell_type": "markdown",
      "metadata": {
        "id": "gJ_xIqDvNKWq"
      },
      "source": [
        "Plot the distribution of the fans count for the 50 most prolific authors (the ones who have written more books)"
      ]
    },
    {
      "cell_type": "code",
      "execution_count": 58,
      "metadata": {
        "id": "LIqAfYsJNKWq",
        "colab": {
          "base_uri": "https://localhost:8080/",
          "height": 877
        },
        "outputId": "05b951d9-32fc-4f90-de78-3b3ddd2f577f"
      },
      "outputs": [
        {
          "output_type": "execute_result",
          "data": {
            "text/plain": [
              "<Axes: xlabel='name'>"
            ]
          },
          "metadata": {},
          "execution_count": 58
        },
        {
          "output_type": "display_data",
          "data": {
            "text/plain": [
              "<Figure size 2000x500 with 1 Axes>"
            ],
            "image/png": "[encoded data removed]"
          },
          "metadata": {}
        }
      ],
      "source": [
        "p_o = data_auth[[\"name\",\"works_count\",\"fans_count\"]]\n",
        "Prolific_authors = p_o.sort_values(by=\"works_count\",ascending=False).iloc[1:51]\n",
        "Prolific_authors[[\"name\",\"fans_count\"]].plot(x=\"name\",y=\"fans_count\",kind=\"bar\",figsize=(20,5))\n"
      ]
    },
    {
      "cell_type": "markdown",
      "metadata": {
        "id": "2Kty7oipNKWr"
      },
      "source": [
        "Even though they have more books, we notice that the amount of fans of \"U.S Congress\" is way less than (for instance) \"William Shakespeare\""
      ]
    },
    {
      "cell_type": "markdown",
      "metadata": {
        "id": "ix3Jx1yGNKW0"
      },
      "source": [
        "## [RQ3] Let’s have a historical look at the dataset!\n",
        "\n",
        "Write a function that takes as input a year and returns as output the following information:\n",
        "\n",
        "   - The number of books published that year.\n",
        "\n",
        "   - The total number of pages written that year.\n",
        "\n",
        "   - The most prolific month of that year.\n",
        "\n",
        "   - The longest book written that year.\n",
        "\n",
        "\n",
        "\n"
      ]
    },
    {
      "cell_type": "code",
      "execution_count": 59,
      "metadata": {
        "id": "3i19NMZHNKW0"
      },
      "outputs": [],
      "source": [
        "TOTAL_DF['num_pages'] = TOTAL_DF['num_pages'].replace(\"\", np.nan) # turns the \"\" values into nan in the column num_pages\n",
        "TOTAL_DF['num_pages'] = TOTAL_DF['num_pages'].astype('Int64') # turns the STRING MM into INT\n",
        "TOTAL_DF['average_rating'] = TOTAL_DF['average_rating'].replace(0, np.nan) # turns the 0 values into nan in the column average_rating"
      ]
    },
    {
      "cell_type": "code",
      "execution_count": 60,
      "metadata": {
        "id": "aV8s24bfNKW0"
      },
      "outputs": [],
      "source": [
        "import calendar\n",
        "def year_info(year):\n",
        "    year_df = TOTAL_DF[TOTAL_DF['year'] == year]\n",
        "    num_books = year_df['title'].count() # number of books published that year\n",
        "    total_pages = year_df['num_pages'].astype('Int64').fillna(0).sum() # total number of pages written that year considering NA as 0\n",
        "    most_prolific_month = year_df['month'].value_counts().idxmax() #most prolific month of that year.\n",
        "    longest_book = year_df.loc[year_df['num_pages'].idxmax()]['title'] # longest book written that year.\n",
        "    month_name = calendar.month_name[most_prolific_month]\n",
        "\n",
        "    print(f\"In the year {year} a total of {num_books} books have been published.\\n The total number of pages written in that year is {total_pages}, the most prolific month was {month_name}. \\n Lastly, the longest book was '{longest_book}'\")"
      ]
    },
    {
      "cell_type": "code",
      "execution_count": 61,
      "metadata": {
        "id": "tFkFxxdcNKW1"
      },
      "outputs": [],
      "source": [
        "TOTAL_DF = TOTAL_DF.loc[TOTAL_DF[\"publication_date\"]!='',:] #we take all the rows besides the empty ones\n",
        "#only YYYY,YYY,YY,Y,YYYY-MM-DD,YYY-MM-DD,YYYY-MM, YYY-MM\n",
        "TOTAL_DF = TOTAL_DF[TOTAL_DF.publication_date.str.contains(r'^\\d{1}$|^\\d{2}$|^\\d{3}$|^\\d{4}$|^\\d{4}-\\d{2}-\\d{2}$|^\\d{3}-\\d{2}-\\d{2}$|^\\d{4}-\\d{2}$|^\\d{3}-\\d{2}$')]"
      ]
    },
    {
      "cell_type": "code",
      "execution_count": 62,
      "metadata": {
        "id": "2mJPCM4SNKW2"
      },
      "outputs": [],
      "source": [
        "TOTAL_DF['year'] = TOTAL_DF['publication_date'].str.split('-').str[0] #take only the years out of the Regex\n",
        "TOTAL_DF['year'] = TOTAL_DF['year'].astype(int) # turns the STRING YYYY into INT\n",
        "TOTAL_DF = TOTAL_DF[TOTAL_DF['year'] < 2023] #takes the values before 2023"
      ]
    },
    {
      "cell_type": "code",
      "execution_count": 63,
      "metadata": {
        "id": "VJmkKDySNKW3"
      },
      "outputs": [],
      "source": [
        "TOTAL_DF['month'] = TOTAL_DF['publication_date'].str.split('-').str[1] #take only the months out of the Regex\n",
        "TOTAL_DF['month'] = TOTAL_DF['month'].astype('Int64') # turns the STRING MM into INT\n",
        "TOTAL_DF = TOTAL_DF[(TOTAL_DF['month'] >= 1) & (TOTAL_DF['month'] <= 12)] #takes the values between 1 and 12"
      ]
    },
    {
      "cell_type": "markdown",
      "metadata": {
        "id": "yIHRMj-yNKW3"
      },
      "source": [
        "Use this function to build your data frame: the primary key will be a year, and the required information will be the attributes within the row. Finally, show the head and the tail of this new data frame considering the first ten years registered and the last ten years.\n",
        "\n",
        "Ask ChatGPT or any other LLM chatbot tool to implement this function and compare your work with the one the bot gave you as an answer. Does the chatbot implementation work? Please test it out and verify the correctness of the implementation, explaining the process you followed to prove it."
      ]
    },
    {
      "cell_type": "code",
      "execution_count": 64,
      "metadata": {
        "id": "vB8ItVJONKW4"
      },
      "outputs": [],
      "source": [
        "#Here is the same function as before but without the long print and just a return\n",
        "def year_info(year):\n",
        "    year_df = TOTAL_DF[TOTAL_DF['year'] == year]\n",
        "    num_books = year_df['title'].count() # number of books published that year\n",
        "    total_pages = year_df['num_pages'].astype('Int64').fillna(0).sum() # total number of pages written that year considering NA as 0\n",
        "    most_prolific_month = year_df['month'].value_counts().idxmax() #most prolific month of that year.\n",
        "    longest_book = year_df.loc[year_df['num_pages'].idxmax()]['title'] # longest book written that year.\n",
        "\n",
        "    return num_books, total_pages, most_prolific_month, longest_book"
      ]
    },
    {
      "cell_type": "code",
      "execution_count": 65,
      "metadata": {
        "id": "rqltgQXNNKW5"
      },
      "outputs": [],
      "source": [
        "def add_to_df():\n",
        "    n = int(input(\"How many years would you like to write? \"))\n",
        "    data_dict = {}\n",
        "    for i in range(n):\n",
        "        new_year = int(input(\"Please give me a year: \"))\n",
        "        year_data = year_info(new_year)\n",
        "        data_dict[new_year] = {\n",
        "            'num_books': year_data[0],\n",
        "            'total_pages': year_data[1],\n",
        "            'most_prolific_month': year_data[2],\n",
        "            'longest_book': year_data[3]\n",
        "        }\n",
        "    new_df = pd.DataFrame.from_dict(data_dict, orient='index') #create a dataframe from the dictionary\n",
        "    new_df.index.name = 'Year' #name of the index is 'Year'\n",
        "    print(f\"Congrats, you created this DataFrame:\\n{new_df}\\n\\n Here is head(10):\\n{new_df.head(10)}\\n\\n And here is the tail(10): \\n{new_df.tail(10)}\")"
      ]
    },
    {
      "cell_type": "code",
      "execution_count": null,
      "metadata": {
        "id": "Pc4AayIdNKW7"
      },
      "outputs": [],
      "source": [
        "add_to_df()\n"
      ]
    },
    {
      "cell_type": "markdown",
      "metadata": {
        "id": "pvuGuke8NKW7"
      },
      "source": [
        "## [RQ4] Quirks questions about consistency. In most cases, we will not have a consistent dataset, and the one we are dealing with is no exception. So, let's enhance our analysis."
      ]
    },
    {
      "cell_type": "markdown",
      "metadata": {
        "id": "9DiDDbs5NKW8"
      },
      "source": [
        "- You should be sure there are no eponymous (different authors who have precisely the same name) in the author's dataset. Is it true?\n"
      ]
    },
    {
      "cell_type": "code",
      "execution_count": 67,
      "metadata": {
        "id": "s1B3dF0uNKW8"
      },
      "outputs": [],
      "source": [
        "import difflib\n",
        "\n",
        "\n",
        "def remove_similar_names(data_auth):                                         # Using difflib we can compute the difference between two hashable strings. The higher the ratio, the\n",
        "                                                                             # more similar the strings are. If the threshold is extremely high (95% in this case), then the name is\n",
        "                                                                             # pretty much the same. By creating a list of similar name, we can drop that list from the original df.\n",
        "    similar_names = set()\n",
        "    Unique = data_auth[\"name\"].drop_duplicates().dropna().tolist()\n",
        "\n",
        "\n",
        "    for name1, name2 in zip(Unique, Unique[1:]):\n",
        "       # id1 = USABLE_DF.loc[USABLE_DF.author_name==name1].author_id.values[0]\n",
        "       # id2 = USABLE_DF.loc[USABLE_DF.author_name==name2].author_id.values[0]\n",
        "\n",
        "        similarity = difflib.SequenceMatcher(None, name1, name2).ratio()\n",
        "\n",
        "        if (similarity > 0.95):\n",
        "            similar_names.add(name1)\n",
        "            similar_names.add(name2)\n",
        "\n",
        "    filtered_data = data_auth[~data_auth['name'].isin(similar_names)]\n",
        "\n",
        "    return filtered_data\n",
        "\n",
        "data_auth = remove_similar_names(data_auth)\n",
        "\n"
      ]
    },
    {
      "cell_type": "markdown",
      "metadata": {
        "id": "epgtmv3vNKW9"
      },
      "source": [
        "The answer is no. There are eponymous in our dataset"
      ]
    },
    {
      "cell_type": "markdown",
      "metadata": {
        "id": "mlIBLmalNKW9"
      },
      "source": [
        "- Write a function that, given a list of author_id, outputs a dictionary where each author_id is a key, and the related value is a list with the names of all the books the author has written."
      ]
    },
    {
      "cell_type": "code",
      "execution_count": 68,
      "metadata": {
        "is_executing": true,
        "id": "d4Y9XralNKW9",
        "colab": {
          "base_uri": "https://localhost:8080/"
        },
        "outputId": "5c931bbd-9d54-41da-d306-6203751a04b5"
      },
      "outputs": [
        {
          "output_type": "stream",
          "name": "stdout",
          "text": [
            "{1077326: ['Harry Potter and the Order of the Phoenix (Harry Potter, #5)', \"Harry Potter and the Sorcerer's Stone (Harry Potter, #1)\", 'Harry Potter and the Chamber of Secrets (Harry Potter, #2)', 'Harry Potter and the Prisoner of Azkaban (Harry Potter, #3)', 'Harry Potter and the Goblet of Fire (Harry Potter, #4)', 'The Harry Potter Collection (Harry Potter, #1-6)', 'Harry Potter Boxed Set, Books 1-5 (Harry Potter, #1-5)', 'Harry Potter Collection (Harry Potter, #1-6)', 'Harry Potter Schoolbooks Box Set: Two Classic Books from the Library of Hogwarts School of Witchcraft and Wizardry', 'Harry Potter and the Half-Blood Prince (Harry Potter, #6)', 'Harry Potter et la Chambre des Secrets (Harry Potter, #2)', 'Harry Potter y la piedra filosofal (Harry Potter, #1)', 'Harry Potter Y La Piedra Filosofal (Harry Potter, #1)', \"Harry Potter and the Philosopher's Stone\", 'Harry Potter and the Prisoner of Azkaban (Harry Potter, #3)', '混血王子的背叛 (哈利波特, #6)', '火盃的考驗 (哈利波特, #4)', 'Harry Potter y la piedra filosofal (Harry Potter, #1)', \"Harry Potter à l'école des sorciers (Harry Potter, #1)\", 'Harry Potter y el misterio del príncipe (Harry Potter, #6)', 'Harry Potter y la cámara secreta (Harry Potter, #2)', 'Harry Potter y la Orden del Fénix (Harry Potter, #5)', 'Harrius Potter et Philosophi Lapis', 'Harry Potter and the Chamber of Secrets (Harry Potter, #2)', 'Harrius Potter et Camera Secretorum', 'Harry Potter et la Chambre des Secrets (Harry Potter, #2)', 'Harry Potter and the Order of the Phoenix', 'Harry Potter y la Orden del Fénix (Harry Potter, #5)', \"Harry Potter Et L'ordre De Phenix (Harry Potter, #5)\", 'Гарри Поттер и Орден Феникса (Гарри Поттер #5)', '해리포터와 불사조 기사단 [Part 1 of 5]', \"Harry Potter and the Sorcerer's Stone (Harry Potter, #1)\", 'Harry Potter and the Goblet of Fire (Harry Potter, #4)', 'Harry Potter und die Kammer des Schreckens (Harry Potter, #2)', 'Harry Potter und der Gefangene von Askaban (Harry Potter, #3)', 'Harry Potter ve Sırlar Odası (Harry Potter, #2)', 'Harry Potter und der Feuerkelch (Harry Potter, #4)', 'Harry Potter und der Gefangene von Askaban (Harry Potter, #3)', 'Harry Potter ve Felsefe Taşı', \"Harry Potter and the Philosopher's Stone (Harry Potter, #1)\", 'Harry Potter y la piedra filosofal (Harry Potter, #1)', 'Гарри Поттер и философский камень (Гарри Поттер #1)', 'Harry Potter e il Calice di Fuoco (Harry Potter, #4)', 'Harry Potter and the Goblet of Fire (Harry Potter, #4)', 'Harry Potter und der Stein der Weisen (Harry Potter, #1)', 'Harry Potter Boxed Set (Harry Potter, #1-4)', 'Harry Potter y el prisionero de Azkaban (Harry Potter, #3)', 'Ἄρειος Ποτὴρ καὶ ἡ τοῦ φιλοσόφου λίθος (Ἅρειος Ποτῆρ #1)', 'Harry Potter y el cáliz de fuego (Harry Potter, #4)', \"Harry Potter et le Prisonnier d'Azkaban (Harry Potter, #3)\", 'Harry Potter and the Prisoner of Azkaban (Harry Potter, #3)', 'Harry Potter and the Goblet of Fire (Harry Potter, #4)', 'Harry Potter and the Chamber of Secrets (Harry Potter, #2)', 'Harry Potter and the Chamber of Secrets (Harry Potter, #2)', \"Harry Potter and the Philosopher's Stone (Harry Potter, #1)\", 'Harri Potter a Maen yr Athronydd (Harry Potter, #1)', 'Harry Potter e la Pietra Filosofale', \"Harry Potter and the Philosopher's Stone (Harry Potter, #1)\", '해리 포터와 마법사의 돌 2 (Harry Potter #1, part 2 of 2)', \"Harry Potter and the Philosopher's Stone (Harry Potter, #1)\", 'Harrius Potter et Philosophi Lapis', \"Harry Potter and the Philosopher's Stone (Harry Potter, #1)\", \"Harry Potter and the Philosopher's Stone (Harry Potter, #1)\", 'הארי פוטר ואבן החכמים (Harry Potter, #1)', '해리 포터와 마법사의 돌 1 (Harry Potter #1, part 1 of 2)', \"Harry Potter and the Philosopher's Stone\", \"Harry Potter and the Philosopher's Stone (Harry Potter, #1)\", \"Harry Potter and the Philosopher's Stone (Harry Potter, #1)\", \"Harry Potter and the Philosopher's Stone (Harry Potter, #1)\", 'Harry Potter and the Goblet of Fire (Harry Potter, #4)', 'Гарри Поттер и Кубок огня (Гарри Поттер #4)', 'هاري بوتر وكأس النار (Harry Potter, #4)', 'Harry Potter y el cáliz de fuego (Harry Potter, #4)', 'Harry Potter and the Half-Blood Prince (Harry Potter, #6)', 'هاري بوتر وسجين أزكابان (Harry Potter, #3)', \"Harry Potter Et Le Prisonnier D'azkaban (Harry Potter, #3)\", 'Harry Potter aur Azkaban ka Qaidi (Harry Potter, #3)', 'Haris Poteris ir Azkabano kalinys (Haris Poteris, #3)', 'Harry Potter and the Chamber of Secrets (Harry Potter, #2)', 'Harry Potter and the Chamber of Secrets (Harry Potter, #2)', 'Harry Potter und der Feuerkelch (Harry Potter, #4)', 'Harry Potter agus an Órchloch', 'Гарри Поттер и узник Азкабана (Гарри Поттер #3)', \"Harry Potter et l'Ordre du Phénix (Harry Potter #5)\", 'هاري بوتر وجماعة العنقاء (Harry Potter, #5)', 'Harry Potter and the Order of the Phoenix', '해리포터와 불사조 기사단 [Part 5 of 5]', '해리포터와 불사조 기사단 [Part 3 of 5]', '해리포터와 불사조 기사단 [Part 2 of 5]', '해리포터와 불사조 기사단 [Part 4 of 5]', 'Harry Potter and the Order of the Phoenix', 'Harry Potter and the Order of the Phoenix (Harry Potter, #5)', '哈利·波特与凤凰社 (哈利·波特 #5)', 'Harry Potter y la Orden Del Fenix', 'Harry Potter und der Orden des Phoenix', \"Harry Potter e l'Ordine della Fenice\", 'Harry Potter and the Half-blood Prince (Harry Potter, #6)', 'Harry Potter et le Prince de Sang-Mêlé (Harry Potter, #6)', 'Harry Potter und der Halbblutprinz (Harry Potter, #6)', 'Harry Potter et le Prince de Sang Mele (Harry Potter, #6)', 'Гарри Поттер и Принц-полукровка (Гарри Поттер #6)', 'Harry Potter and the Half-Blood Prince (Harry Potter, #6)', '哈利·波特与混血王子 (哈利·波特 #6)', 'Harry Potter e il Principe Mezzosangue (Harry Potter, #6)', 'Harry Potter und der Halbblutprinz (Harry Potter, #6)', 'Harry Potter and the Deathly Hallows (Harry Potter, #7)', \"Harry Potter and the Sorcerer's Stone (Harry Potter, #1)\", 'Harry Potter and the Prisoner of Azkaban (Harry Potter, #3)', 'Harry Potter Boxed Set (Harry Potter, #1-3)', 'Harry Potter and the Chamber of Secrets (Harry Potter, #2)', \"Harry Potter and the Philosopher's Stone (Harry Potter, #1)\", 'Harry Potter et la chambre des secrets (Harry Potter, #2)', 'Harry Potter e a Câmara Secreta (Harry Potter, #2)', '해리 포터와 비밀의 방 1 (Harry Potter #2, part 1 of 2)', 'Harry Potter y la Camara Secreta (Harry Potter, #2)', 'Harry Potter aur Razon ka Kamra (Harry Potter, #2)', '해리 포터와 비밀의 방 2 (Harry Potter #2, part 2 of 2)', '해리포터와 아즈카반의 죄수 Vol. 2 of 2', \"Harry Potter et le prisonnier d'Azkaban\", 'Harry Potter y el prisionero de Azkabán (Harry Potter, #3)', 'Harry Potter and the Order of the Phoenix (Harry Potter, #5)', \"Harry Potter and the Sorcerer's Stone (Harry Potter, #1)\", 'هاري بوتر وحجر الفيلسوف (Harry Potter, #1)', 'Harry Potter y la piedra filosofal (Harry Potter, #1)', 'Harry Potter y la Cámara Secreta (Harry Potter, #2)', 'Harry Potter y el Prisionero de Azkaban (Harry Potter, #3)', 'Harry Potter y el Cáliz de Fuego (Harry Potter, #4)', 'Harry Potter y la Orden del Fénix (Harry Potter, #5)', 'Harry Potter y el misterio del príncipe (Harry Potter, #6)', 'Harry Potter and the Half-Blood Prince (Harry Potter, #6)', 'Harry Potter y El Prisionero de Azkaban (Harry Potter, #3)', 'The Harry Potter Collection 1-4 (Harry Potter, #1-4)', 'Quidditch Through The Ages And Fantastic Beasts And Where To Find Them', 'Harry Potter et la Coupe de Feu (Harry Potter, #4)', 'Harry Potter y el Caliz de Fuego (Harry Potter, #4)', 'Harry Potter y el cáliz de fuego (Harry Potter, #4)', '해리포터와 불의 잔 (Vol 2 of 4)', '해리포터와 불의 잔 (Vol 4 of 4)', '해리포터와 불의 잔 (Vol 3 of 4)', 'Haris Poteris ir Ugnies Taurė (Haris Poteris, #4)', '해리포터와 불의 잔 (Vol 1 of 4)', '哈利·波特与火焰杯 (哈利·波特 #4)', 'Harry Potter y el misterio del principe (Harry Potter, #6)', 'The Harry Potter Collection (Harry Potter, #1-4)', 'Harry Potter and the Order of the Phoenix', 'Harry Potter and the Order of the Phoenix (Harry Potter, #5)', 'Harry Potter and the Order of the Phoenix (Harry Potter, #5)', 'Harry Potter et la Chambre des Secrets (Harry Potter, #2)', \"Harry Potter and the Sorcerer's Stone (Harry Potter, #1)\", \"Harry Potter et l'Ordre du Phénix (Harry Potter, #5)\", 'Harry Potter and the Deathly Hallows (Harry Potter, #7)', 'Harry Potter und der Stein der Weisen (Harry Potter, #1)', 'Harry Potter Y El Prisionero De Azkaban (Harry Potter, #3)', 'Harry Potter and the Half-Blood Prince (Harry Potter, #6)', 'Harry Potter und der Stein der Weisen (Harry Potter, #1)', 'Harry Potter und der Stein der Weisen (Harry Potter, #1)', 'Harry Potter und die Kammer des Schreckens (Harry Potter, #2)', 'Harry Potter und die Kammer des Schreckens (Harry Potter, #2)', 'Harry Potter und die Kammer des Schreckens (Harry Potter, #2)', 'Harry Potter und der Gefangene von Askaban (Harry Potter, #3)', 'Harry Potter und der Feuerkelch (Harry Potter, #4)', 'Harry Potter Y La Orden Del Fenix (Harry Potter, #5)', 'Harry Potter y La Orden del Fénix (Harry Potter, #5)', 'Harry Potter und der Stein der Weisen (Harry Potter, #1)', 'Harry Potter und die Kammer des Schreckens (Harry Potter, #2)', 'Harry Potter y la piedra filosofal (Harry Potter, #1)', \"Harry Potter and the Sorcerer's Stone (Harry Potter, #1)\", \"Harry Potter et l'Ordre du Phénix (Harry Potter, #5)\", 'Harry Potter e a Ordem da Fênix (Harry Potter, #5)', 'Harry Potter Aur Aag Ka Piyalah (Harry Potter, #4)', 'Harry Potter en die Towenaar se Steen (Harry Potter, #1)', \"Harry Potter and the Philosopher's Stone (Harry Potter, #1)\", 'Harry Potter e il Prigioniero di Azkaban', 'Harry Potter and the Half-Blood Prince (Harry Potter, #6)', 'Harry Potter and the Chamber of Secrets (Harry Potter, #2)', \"Harry Potter and the Sorcerer's Stone (Harry Potter, #1)\", \"Harry Potter and the Sorcerer's Stone (Harry Potter, #1)\", '哈利·波特与密室 (哈利·波特 #2)', 'Harry Potter and the Chamber of Secrets (Harry Potter, #2)', '해리포터와 혼혈왕자 2 (해리포터 #6, Vol. 2 of 4)', 'Harry Potter and the Prisoner of Azkaban (Harry Potter, #3)', 'Harry Potter e il prigioniero di Azkaban (Harry Potter, #3)', \"Harry Potter à l'école des sorciers (Harry Potter, #1)\", 'हैरी पॉटर और पारस पत्थर (हैरी पॉटर #1)', '神秘的魔法石 (哈利波特, #1)', '해리포터와 아즈카반의 죄수 Vol. 1 of 2', 'Harry Potter Boxed Set (Harry Potter, #1-5)', 'Harry Potter and the Chamber of Secrets (Harry Potter, #2)', \"Harry Potter and the Philosopher's Stone (Harry Potter, #1)\", 'Harry Potter e la camera dei segreti (Harry Potter, #2)', \"Harry Potter et le prisonnier d'Azkaban (Harry Potter, #3)\", 'Harry Potter and the Prisoner of Azkaban (Harry Potter, #3)', 'Harry Potter a vězeň z Azkabanu (Harry Potter, #3)', 'Harry Potter y la piedra filosofal (Harry Potter, #1)', 'Harry Potter y La Piedra Filosofal (Harry Potter, #1)', 'Harry Potter y la piedra filosofal (Harry Potter, #1)', 'Harry Potter y la piedra filosofal (Harry Potter, #1)', 'Harry Potter y la piedra filosofal (Harry Potter, #1)', 'Harry Potter and the Prisoner of Azkaban (Harry Potter, #3)', 'Harry Potter Box Set (Harry Potter, #1-3)', 'Harry Potter Boxed Set (Harry Potter, #1-5)', 'Harry Potter Box Set (Harry Potter, #1-5)', 'Harry Potter y el Caliz de Fuego (Harry Potter, #4)', 'Harry Potter y la Orden del Fénix (Harry Potter, #5)', 'Harry Potter y El Prisionero de Azkaban (Harry Potter, #3)', 'Harry Potter y la Cámara Secreta (Harry Potter, #2)', 'Harry Potter and the Order of the Phoenix', 'Harry Potter and the Prisoner of Azkaban (Harry Potter, #3)', 'Harry Potter and the Goblet of Fire (Harry Potter, #4)', 'Harry Potter and the Order of the Phoenix', 'Harry Potter, coffret 4 volumes (Harry Potter, #1-4)', 'Harry Potter Og Flammernes Pokal (Harry Potter, #4)', '해리포터와 혼혈왕자 1 (해리포터 #6, Vol. 1 of 4)', '해리포터와 혼혈왕자 3 (해리포터 #6, Vol. 3 of 4)', 'Harry Potter and the Half-Blood Prince (Harry Potter, #6)', 'Harry Potter and the Prisoner of Azkaban (Harry Potter, #3)', 'Harry Potter and the Chamber of Secrets (Harry Potter, #2)', 'Harry Potter and the Goblet of Fire (Harry Potter, #4)', \"Harry Potter and the Sorcerer's Stone (Harry Potter, #1)\", 'Harry Potter and the Prisoner of Azkaban (Harry Potter, #3)', 'Harry Potter and the Order of the Phoenix (Harry Potter, #5)', 'Harry Potter and the Chamber of Secrets', 'Harry Potter y El Prisionero de Azkaban (Harry Potter, #3)', 'Harry Potter y el cáliz de fuego (Harry Potter, #4)', 'Harry Potter y el Caliz de Fuego (Harry Potter, #4)', 'هاري بوتر و حرجة أل أسر (هاري بوتر #2)', 'Harry Potter and the Order of the Phoenix (Harry Potter, #5)', 'Harry Potter y la cámara secreta (Harry Potter #2)', 'Harry Potter y el prisionero de Azkaban (Harry Potter, #3)', 'Harry Potter and the Prisoner of Azkaban (Harry Potter, #3)', 'Harry Potter Ve Azkaban Tutsağı (Harry Potter, #3)', 'Harry Potter and the Goblet of Fire (Harry Potter, #4)', 'Harry Potter e o Prisioneiro de Azkaban (Harry Potter, #3)', \"Harry Potter: Harry Potter à L'Ecole Des Sorciers / Harry Potter Et La Chambre Des Secrets / Harry Potter Et Le Prisonnaire D'Azkaban / Harry Potter et la Coupe de Feu (Harry Potter, #1-4)\", 'Гарри Поттер и Тайная комната (Гарри Поттер #2)', 'Haris Poteris ir Paslapčių Kambarys (Haris Poteris, #2)', 'Harry Potter et la Chambre des Secrets (Harry Potter, #2)', 'Harry Potter y la cámara secreta', 'Harry Potter e o Enigma do Príncipe (Harry Potter, #6)', \"Harry Potter à l'école des sorciers (Harry Potter, #1)\", 'Harry Potter Y El Prisionero De Azkaban (Harry Potter, #3)', 'Harry Potter and the Order of the Phoenix (Harry Potter, #5)', 'Harry Potter and the Order of the Phoenix (Harry Potter, #5)', 'Harry Potter and the Prisoner of Azkaban (Harry Potter, #3)', 'The Harry Potter Quartet Collection (Harry Potter, #1-4)', 'Harry Potter and the Prisoner of Azkaban (Harry Potter, #3)', 'Harry Potter y la Orden del Fenix', 'Harry Potter y la cámara secreta (Harry Potter, #2)', 'Harry Potter and the Deathly Hallows (Harry Potter, #7)', 'Harry Potter and the Deathly Hallows (Harry Potter, #7)', 'Harry Potter and the Chamber of Secrets (Harry Potter, #2)', 'Haris Poteris ir Išminties Akmuo (Haris Poteris, #1)', 'Quidditch Through the Ages & Fantastic Beasts and Where to Find Them', 'Harry Potter. Magisches Tagebuch. Ausgabe Grün', 'Harry Potter und der Stein der Weisen (Harry Potter, #1)', 'Harry Potter and the Order of the Phoenix (Harry Potter, #5)', 'Harry Potter and the Deathly Hallows (Harry Potter, #7)', 'Harry Potter and the Order of the Phoenix (Harry Potter, #5)', 'Harry Potter and the Goblet of Fire (Harry Potter, #4)', '鳳凰會的密令 (哈利波特, #5)', 'Harry Potter et la Coupe de Feu (Harry Potter, #4)', 'Harry Potter and the Chamber of Secrets (Harry Potter, #2)', \"Harry Potter and the Sorcerer's Stone (Harry Potter, #1)\", \"Harry Potter and the Philosopher's Stone (Harry Potter, #1)\", 'Harry Potter and the Chamber of Secrets (Harry Potter, #2)', 'Harry Potter and the Goblet of Fire (Harry Potter, #4)', 'Harry Potter and the Prisoner of Azkaban (Harry Potter, #3)', 'Harry Potter and the Chamber of Secrets (Harry Potter, #2)', 'Harry Potter und die Kammer des Schreckens (Harry Potter, #2)', \"Harry Potter and the Sorcerer's Stone (Harry Potter, #1)\", 'Harry Potter and the Half-Blood Prince (Harry Potter, #6)', '哈利·波特与魔法石 (哈利·波特 #1)', '哈利·波特与阿兹卡班的囚徒 (哈利·波特 #3)', 'Harry Potter y el Caliz de Fuego (Harry Potter, #4)', 'Harry Potter und der Feuerkelch (Harry Potter, #4)', 'Harry Potter Boxed Set (Harry Potter, #1-4)', 'Harry Potter et la Chambre des Secrets (Harry Potter, #2)', 'Harry Potter Boxed Set (Harry Potter, #1-6)', 'Harry Potter Boxed Set (Harry Potter, #1-6)', 'Harry Potter and the Chamber of Secrets (Harry Potter, #2)', 'Harry Potter y el misterio del príncipe', \"Harry Potter and the Sorcerer's Stone (Harry Potter, #1)\", 'Harry Potter agus an Órchloch', \"Harry Potter and the Philosopher's Stone (Harry Potter, #1)\", \"Harry Potter et le prisonnier d'Azkaban (Harry Potter, #3)\", 'Harry Potter et la Coupe de Feu (Harry Potter, #4)', 'Harry Potter y la cámara secreta (Harry Potter, #2)', 'Harry Potter and the Prisoner of Azkaban (Harry Potter, #3)', 'Harry Potter and the Goblet of Fire (Harry Potter, #4)', 'Harry Potter und der Feuerkelch (Harry Potter, #4)', 'Harry Potter and the Goblet of Fire (Harry Potter, #4)', 'Harry Potter and the Order of the Phoenix', 'Harry Potter und der Stein der Weisen (Harry Potter, #1)', 'Harry Potter and the Deathly Hallows (Harry Potter, #7)', 'Harry Potter and the Deathly Hallows (Harry Potter, #7)', 'Harry Potter and the Half-Blood Prince (Harry Potter, #6)', 'Harry Potter (Harry Potter, #1-6)', \"Harry Potter and the Philosopher's Stone\", 'Harry Potter and the Half-Blood Prince (Harry Potter, #6)', 'Harry Potter and the Order of the Phoenix (Harry Potter, #5)', 'Harry Potter and the Deathly Hallows (Harry Potter, #7)', 'Harry Potter and the Chamber of Secrets (Harry Potter, #2)', 'Harry Potter and the Order of the Phoenix (Harry Potter, #5)', 'Harry Potter and the Goblet of Fire (Harry Potter, #4)', 'Harry Potter and the Prisoner of Azkaban (Harry Potter, #3)', 'Harry Potter and the Prisoner of Azkaban (Harry Potter, #3)', 'Harry Potter and the Prisoner of Azkaban (Harry Potter, #3)', 'Harry Potter and the Prisoner of Azkaban (Harry Potter, #3)', 'Harry Potter and the Deathly Hallows (Harry Potter, #7)', 'Harry Potter and the Deathly Hallows (Harry Potter, #7)', 'Harry Potter and the Deathly Hallows (Harry Potter, #7)', \"Harry Potter and the Philosopher's Stone\", 'Harry Potter and the Chamber of Secrets (Harry Potter, #2)', 'Harry Potter and the Chamber of Secrets (Harry Potter, #2)', 'Harry Potter and the Chamber of Secrets (Harry Potter, #2)', 'Harrius Potter et Camera Secretorum', 'Harry Potter and the Chamber of Secrets', 'Harry Potter and the Chamber of Secrets (Harry Potter, #2)', 'Harry Potter and the Chamber of Secrets (Harry Potter, #2)', 'Harry Potter and the Chamber of Secrets (Harry Potter, #2)', 'Harry Potter and the Prisoner of Azkaban (Harry Potter, #3)', 'Harry Potter und der Halbblutprinz (Harry Potter, #6)', 'Harry Potter und der Halbblutprinz (Harry Potter, #6)', 'Harry Potter und der Gefangene von Askaban (Harry Potter, #3)', 'Harry Potter und der Stein der Weisen (Harry Potter, #1)', 'Harry Potter und der Orden des Phönix (Harry Potter, #5)', 'Harry Potter und die Kammer des Schreckens (Harry Potter, #2)', 'Harry Potter et le Prince de Sang-Mêlé (Harry Potter, #6)', 'Harry Potter et le Prince de Sang-Mêlé (Harry Potter, #6)', 'Harry Potter und der Gefangene von Askaban (Harry Potter, #3)', 'Harry Potter und die Kammer des Schreckens (Harry Potter, #2)', 'Harry Potter und der Orden des Phönix (Harry Potter, #5)', 'Harry Potter und der Halbblutprinz (Harry Potter, #6)', 'Harry Potter und der Orden des Phönix', 'Harry Potter und der Feuerkelch (Harry Potter, #4)', 'Harry Potter und der Orden des Phönix (Harry Potter, #5)', 'Harry Potter und der Gefangene von Askaban (Harry Potter, #3)', 'Harry Potter und der Orden des Phönix (Harry Potter, #5)', 'Harry Potter un de Wunnersteen (Harry Potter, #1)', 'Harry Potter und der Orden des Phönix (Harry Potter, #5)', 'Harry Potter und die Kammer des Schreckens (Harry Potter, #2)', 'Harry Potter and the Half-Blood Prince (Harry Potter, #6)', 'Harry Potter and the Half-Blood Prince (Harry Potter, #6)', 'Harry Potter and the Half-Blood Prince (Harry Potter, #6)', 'Harry Potter and the Half-Blood Prince (Harry Potter, #6)', 'Harry Potter und der Stein der Weisen (Harry Potter, #1)', \"Harry Potter and the Philosopher's Stone (Harry Potter, #1)\", 'Ἅρειος Ποτῆρ καὶ ἡ τοῦ φιλοσόφου λίθος (Ἅρειος Ποτῆρ #1)', \"Harry Potter and the Philosopher's Stone (Harry Potter, #1)\", \"Harry Potter and the Philosopher's Stone (Harry Potter, #1)\", \"Harry Potter and the Philosopher's Stone (Harry Potter, #1)\", 'Harry Potter and the Order of the Phoenix', 'Harry Potter Series Box Set (Harry Potter, #1-7)', \"Harry Potter and the Sorcerer's Stone (Harry Potter, #1)\", \"Harry Potter and the Sorcerer's Stone (Harry Potter, #1)\", \"Harry Potter and the Sorcerer's Stone (Harry Potter, #1)\", 'Harry Potter and the Prisoner of Azkaban (Harry Potter, #3)', 'Harry Potter and the Goblet of Fire (Harry Potter, #4)', 'Harry Potter and the Half-Blood Prince (Harry Potter, #6)', 'Harry Potter and the Order of the Phoenix (Harry Potter, #5)', 'Harry Potter and the Prisoner of Azkaban (Harry Potter, #3)', 'Harry Potter and the Prisoner of Azkaban (Harry Potter, #3)', 'Harry Potter and the Prisoner of Azkaban (Harry Potter, #3)', 'Harry Potter and the Prisoner of Azkaban (Harry Potter, #3)', 'Harry Potter and the Goblet of Fire (Harry Potter, #4)', 'Harry Potter and the Goblet of Fire (Harry Potter, #4)', 'Harry Potter and the Goblet of Fire (Harry Potter, #4)', 'Harry Potter and the Goblet of Fire (Harry Potter, #4)', 'Harry Potter and the Order of the Phoenix (Harry Potter, #5)', 'Harry Potter and the Half-Blood Prince (Harry Potter, #6)', 'Harry Potter and the Half-Blood Prince (Harry Potter, #6)', 'Harry Potter and the Goblet of Fire (Harry Potter, #4)', 'Harry Potter Box Set (Harry Potter, #1-6)', \"Harry Potter and the Sorcerer's Stone (Harry Potter, #1)\", 'Harry Potter en de Gevangene van Azkaban (Harry Potter, #3)', 'Harry Potter and the Goblet of Fire (Harry Potter, #4)', 'Harry Potter and the Goblet of Fire (Harry Potter, #4)', 'ハリー・ポッターと賢者の石 (ハリー・ポッターシリーズ #1)', 'Harry Potter and the Prisoner of Azkaban (Harry Potter, #3)', 'Harry Potter and the Goblet of Fire (Harry Potter, #4)', 'Harry Potter and the Goblet of Fire (Harry Potter, #4)', 'Harry Potter and the Deathly Hallows (Harry Potter, #7)', \"Harry Potter à l'École des Sorciers (Harry Potter, #1)\", 'Harry Potter ja puoliverinen prinssi (Harry Potter, #6)', 'Harry Potter and the Deathly Hallows (Harry Potter, #7)', \"Harry Potter and the Sorcerer's Stone (Harry Potter, #1)\", 'Harry Potter and the Goblet of Fire (Harry Potter, #4)', 'Harry Potter and the Chamber of Secrets (Harry Potter, #2)', 'Harry Potter ja Feeniksin kilta (Harry Potter, #5)', \"Harry Potter à l'école des sorciers (Harry Potter, #1)\", \"Harry Potter and the Sorcerer's Stone (Harry Potter, #1)\", 'Harry Potter and the Prisoner of Azkaban (Harry Potter, #3)', \"Harry Potter and the Philosopher's Stone (Harry Potter, #1)\", 'Complete Harry Potter Boxed Set', 'Harry Potter and the Order of the Phoenix', 'Harry Potter and the Prisoner of Azkaban (Harry Potter, #3)', 'Harry Potter Adult Edition Box Set (Harry Potter, #1-4)', 'Harry Potter y El Prisionero de Azkaban (Harry Potter, #3)', 'Harry Potter y el prisionero de Azkaban (Harry Potter, #3)', 'Harry Potter y el prisionero de Azkaban (Harry Potter, #3)', 'Harry Potter y la Orden del Fénix', 'Harry Potter y El Misterio del Principe (Harry Potter, #6)', 'Harry Potter y la cámara secreta (Harry Potter, #2)', 'Harry Potter and the Chamber of Secrets (Harry Potter, #2)', \"Harry Potter a l'ecole des sorciers (Harry Potter, #1)\", 'Harry Potter and the Half-Blood Prince (Harry Potter, #6)', 'Harry Potter en de Steen der Wijzen (Harry Potter, #1)', 'Harry Potter and the Chamber of Secrets (Harry Potter, #2)', 'Harry Potter and the Chamber of Secrets (Harry Potter, #2)', 'Harry Potter and the Goblet of Fire (Harry Potter, #4)', 'Harry Potter and the Order of the Phoenix', 'Harry Potter and the Goblet of Fire', 'Harry Potter en de Vuurbeker (Harry Potter, #4)', 'Harry Potter and the Order of the Phoenix', 'Harry Potter and the Prisoner of Azkaban (Harry Potter, #3)', 'Harry Potter y la piedra filosofal (Harry Potter, #1)', \"Harry Potter et L'Ordre du Phenix (Harry Potter, #5)\", 'Harry Potter i Zakon Feniksa (Harry Potter, #5)', 'Harry Potter i Czara Ognia (Harry Potter, #4)', 'Harry Potter and the Prisoner of Azkaban (Harry Potter, #3)', 'Harry Potter and the Prisoner of Azkaban (Harry Potter, #3)', 'Harry Potter and the Half-Blood Prince (Harry Potter, #6)', \"Harry Potter à l'école des sorciers (Harry Potter, #1)\", 'Harry Potter and the Goblet of Fire (Harry Potter, #4)', 'Harry Potter and the Order of the Phoenix', 'Harry Potter and the Goblet of Fire (Harry Potter, #4)', 'Harry Potter et le Prince de Sang-Mêlé (Harry Potter, #6)', 'Harrys Zauberbox (Harry Potter, #1-4)', 'Harry Potter und die Heiligtümer des Todes (Harry Potter, #7)', 'Harry Potter und die Heiligtümer des Todes', 'Harry Potter und der Stein der Weisen (Harry Potter, #1)', 'Harry Potter und der Stein der Weisen (Harry Potter, #1)', 'Harry Potter und die Kammer des Schreckens (Harry Potter, #2)', 'Harry Potter und die Kammer des Schreckens (Harry Potter, #2)', 'Harry Potter och hemligheternas kammare (Harry Potter, #2)', 'Harry Potter und der Gefangene von Askaban (Harry Potter, #3)', 'Harry Potter und der Gefangene von Askaban (Harry Potter, #3)', 'Harry Potter und der Feuerkelch (Harry Potter, #4)', 'Harry Potter und der Feuerkelch (Harry Potter, #4)', 'Harry Potter und der Feuerkelch (Harry Potter, #4)', 'Harry Potter und der Feuerkelch (Harry Potter, #4)', 'Harry Potter and the Order of the Phoenix (Harry Potter, #5)', 'Harry Potter and the Half-Blood Prince (Harry Potter, #6)', 'Harry Potter and the Half-Blood Prince (Harry Potter, #6)', 'Harry Potter and the Order of the Phoenix (Harry Potter, #5)', 'Harry Potter i Kamień Filozoficzny (Harry Potter, #1)', 'هری پاتر و زندانی آزکابان', 'هري پاتر و جام آتش (جلد اول)', 'هری پاتر و محفل ققنوس - کتاب پنجم جلد یک از سه', 'هری پاتر و شاهزاده دورگه:  مجموعه دوجلدی', 'Harry Potter and the Goblet of Fire (Harry Potter, #4)', 'Harry Potter and the Chamber of Secrets (Harry Potter, #2)', 'Harry Potter and the Prisoner of Azkaban (Harry Potter, #3)', 'Harry Potter and the Chamber of Secrets (Harry Potter, #2)', 'Harry Potter and the Half-Blood Prince (Harry Potter, #6)', \"Harry Potter and the Philosopher's Stone (Harry Potter, #1)\", \"Harry Potter and the Sorcerer's Stone (Harry Potter, #1)\", 'Harry Potter and the Order of the Phoenix (Harry Potter, #5, Part 1)', \"Harry Potter and the Sorcerer's Stone (Harry Potter, #1)\", 'Harry Potter and the Chamber of Secrets (Harry Potter, #2)', 'Harry Potter Box Set (Harry Potter, #1-4)', 'Harry Potter Boxed Set (Harry Potter, #1-5)', 'Harry Potter et la Coupe de Feu (Harry Potter, #4)', 'Harry Potter y la piedra filosofal (Harry Potter, #1)', 'Harry Potter e la pietra filosofale (Harry Potter, #1)', 'Harry Potter et la Coupe de Feu : Épreuves pour jeunes sorciers', 'Harry Potter & the Half-Blood Prince (Harry Potter, #6)', 'Harry Potter i Komnata Tajemnic (Harry Potter, #2)', 'Harry Potter Un De Grulig Kamer', \"Harry Potter a l'ecole des sorciers ; Harry Potter et la chambre des secrets ; Harry Potter et le prisonnier d'Azkaban (Harry Potter, #1-3)\", 'Harry Potter and the Prisoner of Azkaban - Harry Potter dan Tawanan Azkaban (Harry Potter, #3)', 'Harry Potter and the Goblet of Fire - Harry Potter dan Piala Api (Harry Potter, #4)', 'Harry Potter and The Half-Blood Prince - Harry Potter dan Pangeran Berdarah-Campuran (Harry Potter, #6)', 'Harry Potter y la piedra filosofal', 'Harry Potter y la piedra filosofal (Harry Potter, #1)', 'Harry Potter und die Kammer des Schreckens (Harry Potter, #2)', 'Harry Potter und der Halbblutprinz (Harry Potter, #6)', 'Harry Potter e la Camera dei Segreti (Harry Potter, #2)', 'Гарри Поттер и тайная комната', 'Harry Potter y el Cáliz de Fuego (Harry Potter, #4)', 'Harry Potter and the Goblet of Fire (Harry Potter, #4)', 'Harry Potter und der Halbblutprinz (Harry Potter, #6)', 'Harry Potter og halvblodsprinsen (Harry Potter, #6)', 'Harry Potter e la pietra filosofale (Harry Potter, #1)', 'Harry Potter y la cámara secreta (Harry Potter, #2)', \"Harry Potter and the Philosopher's Stone (Harry Potter, #1)\", 'Гарри Поттер и философский камень (Harry Potter, #1)', 'Гарри Поттер и философский камень', 'Harry Potter and the Prisoner of Azkaban (Harry Potter, #3)', 'Harry Potter and the Deathly Hallows (Harry Potter, #7)', 'Harry Potter and the Deathly Hallows (Harry Potter, #7)', \"Harry Potter and the Sorcerer's Stone | dengan Batu Hikmat (Harry Potter, #1)\", 'Harry Potter Dan Bilik Rahsia (Harry Potter, #2)', 'Harry Potter and the Goblet of Fire (Harry Potter, #4)', 'Harry Potter y el cáliz de fuego (Harry Potter, #4)', \"Harry Potter and the Sorcerer's Stone - Harry Potter dan Batu Bertuah (Harry Potter, #1)\", 'Harry Potter and the Chamber of Secrets - Harry Potter dan Kamar Rahasia (Harry Potter, #2)', 'ハリー・ポッターと謎のプリンス [上下巻セット] (ハリー・ポッターシリーズ #第六巻)', 'ハリー・ポッターと不死鳥の騎士団  (ハリー・ポッターシリーズ #第五巻)', 'ハリー・ポッターと賢者の石 (ハリー・ポッターシリーズ #1)', 'ハリー・ポッターと秘密の部屋 (ハリー・ポッターシリーズ #2)', 'ハリー・ポッターとアズカバンの囚人 (ハリー・ポッターシリーズ #3)', 'ハリー・ポッターと炎のゴブレット [上下巻セット] (ハリー・ポッターシリーズ #第四巻)', 'Harry Potter und der Feuerkelch (Harry Potter, #4)', 'The Complete Harry Potter Collection Box Set (Harry Potter, #1-7)', 'Harry Potter Boxed Set (Harry Potter, #1-7)', 'Harry Potter en de Halfbloed Prins (Harry Potter, #6)', 'Harri Potter maen yr Athronydd', 'Harry Potter and the Goblet of Fire (Harry Potter, #4)', 'Harry Potter and the Order of the Phoenix (Harry Potter, #5)', 'Harry Potter and the Order of the Phoenix', 'Harry Potter and the Order of the Phoenix', 'هري پاتر و قديسين مرگبار', 'Harry Potter i Komnata Tajemnic (Harry Potter, #2)', 'Harry Potter i Książę Półkrwi (Harry Potter, #6)', 'Harry Potter i Kamień Filozoficzny (Harry Potter, #1)', 'Harry Potter i więzień Azkabanu (Harry Potter, #3)', 'Harry Potter i Czara Ognia (Harry Potter, #4)', 'Harry Potter i Zakon Feniksa (Harry Potter, #5)', 'ハリー・ポッターと炎のゴブレット (ハリー・ポッターシリーズ #4)', 'ハリー・ポッターとアズカバンの囚人 (ハリー・ポッターシリーズ #3)', 'ハリー・ポッターと秘密の部屋 (ハリー・ポッターシリーズ #2)', 'Harry Potter and the Goblet of Fire (Harry Potter, #4)', 'Harry Potter und der Orden des Phönix (Harry Potter, #5)', 'Harry Potter e o Cálice de Fogo (Harry Potter, #4)', \"Harry Potter and the Philosopher's Stone (Harry Potter, #1)\", 'Harry Potter e a Pedra Filosofal (Harry Potter, #1)', 'Harry Potter und die Heiligtümer des Todes', 'แฮร์รี่ พอตเตอร์กับเจ้าชายเลือดผสม (Harry Potter, #6)', 'Harry Potter and the Half-Blood Prince (Harry Potter, #6)', 'Harry Potter dan Orde Phoenix', 'Harry Potter and the Chamber of Secrets (Harry Potter, #2)', 'Harry Potter och fången från Azkaban (Harry Potter, #3)', 'Harry Potter och de vises sten (Harry Potter, #1)', 'Harry Potter och den flammande bägaren (Harry Potter, #4)', 'Harry Potter ve Ateş Kadehi (Harry Potter, #4)', 'Harry Potter og Fonixordenen', 'Harry Potter Tin: \"The Philosopher\\'s Stone\", \"The Chamber of Secrets\", \"The Prisoner of Azkaban\" (Harry Potter, #1-3)', 'Harry Potter y la Orden del Fenix', 'Harry Potter och Fenixorden (Harry Potter, #5)', 'Harry Potter och halvblodsprinsen (Harry Potter, #6)', 'Harry Potter and the Half-Blood Prince (Harry Potter, #6)', 'Harry Potter Box Set (Harry Potter, #1-4)', 'Harry Potter Adult Boxed Set (Harry Potter, #1-5)', 'Harry Potter och dödsrelikerna (Harry Potter, #7)', 'הארי פוטר וגביע האש (Harry Potter, #4)', 'Harry Potter et les Reliques de la Mort (Harry Potter #7)', 'هری پاتر و يادگاران مرگ: جلد اول', 'Harry Potter Audio Collection (Harry Potter, #1-7)', 'Harry Potter and the Chamber of Secrets (Harry Potter, #2)', \"Harry Potter i el pres d'Azkaban (Harry Potter, #3)\", 'Harry Potter and the Goblet of Fire (Harry Potter, #4)', 'Les Mondes Magiques de Harry Potter - du Livre 1 au Livre 7 Nouvelle Edition', 'Harry Potter en de Steen der Wijzen (Harry Potter, #1)', 'Harry Potter en de Gevangene van Azkaban (Harry Potter, #3)', 'Harry Potter und die Heiligtümer des Todes (Harry Potter, #7)', 'Harry Potter and the Chamber of Secrets (Harry Potter, #2)', 'Harry Potter and the Deathly Hallows (Harry Potter, #7)', 'Harry Potter and the Deathly Hallows (Harry Potter, #7)', 'Harry Potter and the Deathly Hallows (Harry Potter, #7)', \"Comic Relief Harry Potter's School Book Pack\", 'Harry Potter och de vises sten (Harry Potter, #1)', 'Harry Potter och de vises sten (Harry Potter, #1)', 'Harry Potter and the Deathly Hallows (Harry Potter, #7)', 'Harry Potter et les Reliques de la Mort (Harry Potter, #7)', 'Harry Potter and the Deathly Hallows (Harry Potter, #7)', \"Harry Potter and the Sorcerer's Stone (Harry Potter, #1)\", 'ハリー・ポッターと死の秘宝  [上下巻セット] (ハリー・ポッターシリーズ #第七巻)', 'Harry Potter and the Chamber of Secrets', 'Harry Potter i więzień Azkabanu (Harry Potter, #3)', 'Harry Potter and the Deathly Hallows (Harry Potter, #7)', 'Harry Potter und die Heiligtümer des Todes', 'Гарри Поттер и узник Азкабана (Harry Potter, #3)', 'Harry Potter and the Order of the Phoenix (Harry Potter, #5)', 'The Harry Potter trilogy (Harry Potter, #1-3)', '哈利·波特与死亡圣器 (哈利·波特 #7)', 'Harry Potter and the Deathly Hallows (Harry Potter, #7)', 'Harry Potter and the Deathly Hallows (Harry Potter, #7)', 'Harry Potter y La Camara Secreta (Harry Potter, #2)', \"Harry Potter and the Philosopher's Stone (Harry Potter, #1)\", 'Harry Potter y las Reliquias de la Muerte (Harry Potter, #7)', 'Harry Potter og Føniksordenen (Harry Potter, #5)', 'Harry Potter och hemligheternas kammare (Harry Potter, #2)', 'Harry Potter og mysteriekammeret', 'Harry Potter und der Gefangene von Askaban (Harry Potter, #3)', 'Harry Potter et la Coupe de Feu (Harry Potter, #4)', 'Harry Potter y las reliquias de la muerte (Harry Potter, #7)', 'Harry Potter e os Talismãs da Morte (Harry Potter, #7)', 'Harry Potter ve Zümrüdüanka Yoldaşlığı (Harry Potter, #5)', 'Harry Potter y La Camara Secreta (Harry Potter, #2)', 'Harry Potter and the Chamber of Secrets (Harry Potter, #2)', 'Harry Potter Audio Collection (Harry Potter, #1-5)', 'Harry Potter and the Order of the Phoenix (Harry Potter, #5)', 'Harry Potter and the Deathly Hallows (Harry Potter, #7)', 'Harry Potter dan Relikui Kematian (Harry Potter, #7)', 'Harry Potter i la Pedra Filosofal (Harry Potter, #1)', 'Harry Potter e a Ordem da Fénix (Harry Potter, #5)', \"Harry Potter and the Sorcerer's Stone (Harry Potter, #1)\", 'Harry Potter and the Deathly Hallows (Harry Potter, #7)', 'Harry Potter e a Câmara dos Segredos (Harry Potter, #2)', 'Harry Potter en de Geheime Kamer (Harry Potter, #2)', 'Harry Potter en de Vuurbeker (Harry Potter, #4)', 'Harry Potter en de Orde van de Feniks (Harry Potter, #5)', 'Harry Potter en de Halfbloed Prins (Harry Potter, #6)', 'Harry Potter en de Relieken van de Dood (Harry Potter, #7)', 'هری پاتر و پرنس نیمه اصیل', 'Harry Potter och fången från Azkaban (Harry Potter, #3)', 'Harry Potter og Føniksordenen (Harry Potter, #5)', 'Harry Potter en de Orde van de Feniks (Harry Potter, #5)', 'ハリー・ポッターと不死鳥の騎士団 [上下巻セット] (ハリー・ポッターシリーズ #5)', 'Harry Potter and the Chamber of Secrets (Harry Potter, #2)', \"Harry Potter and the Sorcerer's Stone (Harry Potter, #1)\", 'Harry Potter and the Prisoner of Azkaban', 'Harry Potter and the Chamber of Secrets (Harry Potter, #2)', 'Harry Potter Y La Piedra Filosofal (Harry Potter, #1)', 'Harry Potter and the Goblet of Fire (Harry Potter, #4)', 'Harry Potter ja kuoleman varjelukset (Harry Potter, #7)', 'Harry Potter y las Reliquias de la Muerte (Harry Potter, #7)', 'हैरी पॉटर और अज्काबान का कैदी (हैरी पॉटर #3)', 'Harry Potter Box Set (Harry Potter, #1-5)', 'Harry Potter and the Chamber of Secrets (Harry Potter, #2)', 'Harry Potter e i doni della morte (Harry Potter, #7)', 'Harry Potter and the Goblet of Fire (Harry Potter, #4)', 'Harry Potter ja viisasten kivi (Harry Potter, #1)', 'Harry Potter ja Azkabanin vanki (Harry Potter, #3)', 'Harry Potter ja salaisuuksien kammio (Harry Potter, #2)', 'Harry Potter ja liekehtivä pikari (Harry Potter, #4)', 'Harry Potter e il prigioniero di Azkaban', 'Harry Potter y La Piedra Filosofal (Harry Potter, #1)', 'Harry Potter en die Orde van die Feniks (Harry Potter, #5)', 'Harry Potter und die Kammer des Schreckens (Harry Potter, #2)', 'Гарри Поттер и дары смерти (Гарри Поттер #7)', 'Harry Potter e il Principe Mezzosangue (Harry Potter, #6)', \"Harry Potter e l'Ordine della Fenice (Harry Potter, #5)\", 'हैरी पॉटर और आग का प्याला (हैरी पॉटर #4)', '해리 포터와 죽음의 성물 1 (Harry Potter, #7)', '해리 포터와 죽음의 성물 4 (Harry Potter, #7)', '해리 포터와 죽음의 성물 2 (Harry Potter, #7)', '해리 포터와 죽음의 성물 3 (Harry Potter, #7)', 'Harry Potter e a Pedra Filosofal (Harry Potter, #1)', 'Harry Potter e o Prisioneiro de Azkaban (Harry Potter, #3)', 'Harry Potter e o Cálice de Fogo (Harry Potter, #4)', 'Harry Potter e o Príncipe Misterioso (Harry Potter, #6)', 'Harry Potter og De Vises Sten (Harry Potter, #1)', 'Harry Potter und der Halbblutprinz (Harry Potter, #6)', 'Harry Potter und der Orden des Phönix (Harry Potter, #5)', 'Harry Potter: 7 Bände im Schuber', 'Harry Potter et les Reliques de la Mort (Harry Potter, #7)', \"Harry Potter à l'école des sorciers (Harry Potter, #1)\", 'Harry Potter and the Prisoner of Azkaban (Harry Potter, #3)', 'Harry Potter - The Complete Story: Collected Audio Edition (Harry Potter, #1-7)', 'Harry Potter en de Geheime Kamer (Harry Potter, #2)', \"What's Your Story? (Postcard Collection)\", 'Harry Potter and the Half-Blood Prince (Harry Potter, #6)', 'Harry Potter and the Chamber of Secrets (Harry Potter, #2)', 'The Tales of Beedle the Bard', 'The Tales of Beedle the Bard (Hogwarts Library)', 'The Tales of Beedle the Bard', 'Harry Potter és a Halál Ereklyéi (Harry Potter, #7)', \"Harry Potter à l'école des sorciers (Harry Potter, #1)\", 'Harry Potter and the Chamber of Secrets (Harry Potter, #2)', 'Harry Potter and the Order of the Phoenix (Harry Potter, #5)', 'هری پاتر و تالار اسرار', 'هری پاتر و زندانی ازكابان', 'هري پاتر و جام آتش', 'Harry Potter And The Half Blood Prince (Harry Potter #6)', 'Harry Potter and the Chamber of Secrets (Harry Potter, #2)', 'Ο Χάρι Πότερ και η φιλοσοφική λίθος (Χάρι Πότερ, #1)', 'Ο Χάρι Πότερ και η κάμαρα με τα μυστικά (Χάρι Πότερ, #2)', 'Ο Χάρι Πότερ και ο αιχμάλωτος του Αζκαμπάν (Χάρι Πότερ, #3)', 'Ο Χάρι Πότερ και το κύπελλο της φωτιάς (Χάρι Πότερ, #4)', 'Ο Χάρι Πότερ και το τάγμα του Φοίνικα (Χάρι Πότερ, #5)', 'Ο Χάρι Πότερ και ο ημίαιμος πρίγκιψ (Χάρι Πότερ, #6)', 'Ο Χάρι Πότερ και οι κλήροι του θανάτου (Χάρι Πότερ, #7)', 'Harry Potter e as Relíquias da Morte (Harry Potter, #7)', 'Harry Potter und die Kammer des Schreckens (Harry Potter, #2)', 'Harry Potter Adult Boxed Set (Harry Potter, #1-7)', 'Harry Potter ve Büyülü Taş', 'Harry Potter and the Prisoner of Azkaban (Harry Potter, #3)', 'Harry Potter and the Goblet of Fire (Harry Potter, #4)', 'Harry Potter and the Half-Blood Prince (Harry Potter, #6)', 'Harry Potter and the Half-blood Prince (Harry Potter, #6)', 'Harry Potter Boxed Set (Harry Potter, #1-7)', 'Harry Potter and the Deathly Hallows (Harry Potter, #7)', 'Coffret Collector Harry Potter (Harry Potter, #1-7)', 'Harry Potter und der Stein der Weisen (Harry Potter, #1)', 'Die Märchen von Beedle dem Barden (Harry Potter Companion Books, #3)', \"Harry Potter and the Sorcerer's Stone (Harry Potter, #1)\", 'Harry Potter and the Order of the Phoenix - Harry Potter dan Orde Phoenix (Harry Potter, #5)', '死神的聖物 (哈利波特, #7)', 'Harry Potter und der Gefangene von Askaban (Harry Potter, #3)', 'Harry Potter und der Feuerkelch (Harry Potter, #4)', 'Harry Potter und der Orden des Phönix (Harry Potter, #5)', 'Les Contes de Beedle Le Barde', 'Harry Potter Boxset (Harry Potter, #1-7)', 'Harry Potter a vězeň z Azkabanu (Harry Potter, #3)', '해리 포터 1편-4편 세트 전10권', 'Harry Potter en de Vuurbeker (Harry Potter, #4)', 'Harry Potter i Insygnia Śmierci (Harry Potter, #7)', 'Harry Potter i Darovi Smrti (Harry Potter, #7)', 'Harry Potter and the Prisoner of Azkaban (Harry Potter, #3)', 'Los cuentos de Beedle el Bardo', 'Les Contes De Beedle Le Barde', 'Harry Potter y el Caliz de Fuego (Harry Potter, #4)', 'The Tales of Beedle the Bard', 'Os Contos de Beedle o Bardo', 'Harry Potter och de vises sten (Harry Potter, #1)', 'Harry Potter y las reliquias de la muerte', 'Les Contes de Beedle le Barde', 'The Tales of Beedle the Bard (Braille): Grade 2', 'The Tales of Beedle the Bard', 'Os Contos de Beedle, o Bardo', 'Сказки барда Бидля (Harry Potter Companion Books, #3)', 'Harry Potter and the Chamber of Secrets (Harry Potter, #2)', 'Harry Potter y la Orden del Fénix (Harry Potter, #5)', \"Harry Potter and the Sorcerer's Stone (Harry Potter, #1)\", \"Baśnie barda Beedle'a\", 'Harry Potter et la Chambre des Secrets (Harry Potter, #2)', 'Harry Potter und der Gefangene von Askaban', 'Bajky barda Beedleho', '吟遊詩人ビードルの物語', 'Harry Potter und der Stein der Weisen (Harry Potter, #1)', 'นิทานของบีเดิลยอดกวี', 'Os Contos de Beedle, o Bardo', 'هری پاتر و يادگاران مرگ، مجموعه دوجلدی', 'هری پاتر و یادگاران مرگ: جلد دوم', 'Harry Potter i Książę Półkrwi (Harry Potter, #6)', '吟遊詩人皮陀故事集', 'هری پاتر و سنگ جادو', 'هری پاتر و حُفره اسرارآمیز', 'هری پاتر و جام آتش', 'هری پاتر و شاهزاده ی دورگه: جلد 1 از 2', 'Harry Potter und die Heiligtümer des Todes', 'Harry Potter und die Heiligtümer des Todes', 'הארי פוטר והנסיך חצוי-הדם (Harry Potter, #6)', 'Harry Potter Boxset (Harry Potter, #1-7)', 'De Vertelsels van Baker de Bard (Uit de Schoolbibliotheek van Zweinstein, #3)', 'Harry Potter y El Caliz de Fuego (Harry Potter, #4)', 'Những Chuyện Kể Của Beedle Người Hát Rong', 'הארי פוטר ומסדר עוף החול', 'הארי פוטר ואוצרות המוות (Harry Potter, #7)', 'The Tales of Beedle The Bard: Kisah-Kisah Beedle Si Juru Cerita', 'Harry Potter i la cambra secreta (Harry Potter, #2)', 'Harry Potter a Fénixův řád (Harry Potter, #5)', 'Harry Potter a Kámen mudrců (Harry Potter, #1)', 'Harry Potter a Ohnivý pohár (Harry Potter, #4)', 'Harry Potter a princ dvojí krve (Harry Potter, #6)', 'Harry Potter a relikvie smrti (Harry Potter, #7)', 'Harry Potter a Tajemná komnata (Harry Potter, #2)', 'Harry Potter ve Ölüm Yadigârları (Harry Potter, #7)', 'هاري بوتر ومقدسات الموت', 'Harry Potter and the Order of the Phoenix (Harry Potter, #5)', 'Harry Potter et la Chambre des Secrets (Harry Potter, #2)', 'Harry Potter und die Heiligtümer des Todes', 'Harry Potter und der Feuerkelch (Harry Potter, #4)', 'Harry Potter og Fangen fra Azkaban (Harry Potter, #3)', 'Bajky barda Beedleho', '해리포터와 혼혈왕자 4 (해리포터 #6, Vol. 4 of 4)', 'Harry Potter et le Prince de Sang-Mêlé (Harry Potter #6)', 'Harry Potter and the Half-Blood Prince (Harry Potter, #6)', 'ハリー・ポッターと炎のゴブレット 上', 'Harry Potter ve Ateş Kadehi (Harry Potter, #4)', '음유시인비들이야기 : 룬문자로된원본을헤르미온느 그레인저가 번역하다', 'Harry Potter dan Pangeran Berdarah Campuran (Harry Potter, #6)', 'Harry Potter và Hoàng Tử Lai (Harry Potter, #6)', 'Harry Potter and the Deathly Hallows', 'הארי פוטר ואבן החכמים (הארי פוטר, #1)', 'Harry Potter and the Chamber of Secrets (Harry Potter, #2)', 'Harry Potter og ildbegeret (Harry Potter, #4)', 'Bajke barda Beedlea (Harry Potter)', 'Harry Potter and the Chamber of Secrets (Harry Potter, #2)', 'Harry Potter and the Goblet of Fire (Harry Potter, #4)', 'Harry Potter og de vises stein', 'Harry Potter En Die Skatte Van Die Dood', 'Harry Potter et la Coupe de Feu', 'Harry Potter et la Coupe de Feu', 'Harry Potter and the Order of the Phoenix', 'Harry Potter and the Order of the Phoenix (Harry Potter, #5)', \"Harry Potter et l'Ordre du Phénix (Harry Potter #5)\", 'Harry Potter og De Vises Sten', 'Harry Potter og fangen fra Azkaban', 'Harry Potter og Fønixordenen', 'Harry Potter a Tajemna komnata (Harry Potter, #2)', 'Die Märchen von Beedle dem Barden', 'Le Fiabe di Beda il Bardo', 'Harry Potter and the Deathly Hallows (Harry Potter, #7)', 'Harry Potter ve Sırlar Odası (Harry Potter, #2)', 'Harry Potter i Insygnia Śmierci (Harry Potter, #7)', 'Harry Potter a Ohnivý pohár (Harry Potter, #4)', 'Harry Potter a Kámen mudrců (Harry Potter, #1)', 'Harry Potter a Tajemná komnata (Harry Potter, #2)', 'Хари Потер и Ред феникса 2 [Hari Poter i red Feniksa 2] (Hari Poter/Хари Потер, #5)', 'Хари Потер и Ред феникса 1 [Hari Poter i red Feniksa 1] (Хари Потер/Hari Poter, #5)', 'Harry Potter i Dvorana tajni (Hari Poter, #2)', 'Harry Potter y la piedra filosofal (Harry Potter, #1)', 'Harry Potter a Dary Smrti', 'Harry Potter en de Relieken van de Dood (Harry Potter, #7)', \"Harry Potter et l'Ordre du Phénix\", 'Harry Potter en de Steen der Wijzen (Harry Potter, #1)', 'Harry Potter en de Steen der Wijzen', 'Harry Potter ja saladuste kamber (Harry Potter #2)', 'Harry Potter et la Chambre des Secrets (Harry Potter, #2)', 'Хари Потър и Философският камък (Хари Потър, #1)', 'Хари Потър и Стаята на тайните (Хари Потър, #2)', 'Хари Потър и Огненият бокал (Хари Потър, #4)', 'Harry Potter Und Der Orden Des Phönix (Harry Potter #5)', 'Harry Potter y el misterio del Príncipe (Harry Potter, #6)', 'Хари Потър и Орденът на феникса (Хари Потър, #5)', 'Хари Потър и Нечистокръвния принц (Хари Потър, #6)', 'Хари Потър и Даровете на смъртта (Хари Потър, #7)', 'Die Märchen von Beedle dem Barden', 'Harry Potter e o preso de Azkaban (Harry Potter, #3)', 'Harry Potter y las Reliquias de la Muerte (Harry Potter, #7)', 'Harry Potter og Hemmelighedernes Kammer (Harry Potter, #2)', 'Harry Potter and the Chamber of Secrets (Harry Potter #2)', 'Harry Potter Und Der Halbblutprinz', 'Harry Potter und der Halbblutprinz (Harry Potter, #6)', 'Harry Potter und der Halbblutprinz', 'Harry Potter e il calice di fuoco', 'Harry Potter Box Set (Harry Potter, #1-4)', 'قصه های بیدل نقال', \"Harry Potter à l'école des sorciers (Harry Potter, #1)\", 'Harry Potter and the Deathly Hallows (Harry Potter #7)', \"Harry Potter and the Philosopher's Stone (Harry Potter, #1)\", 'Гаррі Поттер і таємна кімната (Гаррі Поттер, #2)', 'Гаррі Поттер і в’язень Азкабану (Гаррі Поттер, #3)', 'Гаррі Поттер і келих вогню (Гаррі Поттер, #4)', 'Гаррі Поттер і Орден Фенікса (Гаррі Поттер, #5)', 'Гаррі Поттер і напівкровний Принц (Гаррі Поттер, #6)', 'Гаррі Поттер і смертельні реліквії (Гаррі Поттер, #7)', 'Harry Potter e a Pedra Filosofal (Harry Potter, #1)', 'Harry Potter e a Câmara dos Segredos (Harry Potter, #2)', 'Harry Potter och hemligheternas kammare (Harry Potter, #2)', 'Harry Potter and the Order of the Phoenix', 'Harry Potter and the Order of the Phoenix', 'هاري بوتر وحجرة الأسرار (Harry Potter, #2)', 'هاري بوتر والأمير الهجين', 'Harry Potter y la Orden del Fénix', \"Harry Potter and the Philosopher's Stone (Harry Potter, #1)\", 'Harry Potter and the Order of the Phoenix (Harry Potter, #5)', 'Harry Potter Set: Signature Edition (Harry Potter, #1-7)', 'แฮรี่ พ็อตเตอร์กับเครื่องรางยมทูต (Harry Potter, #7)', 'Harry Potter and the Goblet of Fire (Harry Potter, #4)', 'Harry Potter and the Chamber of Secrets (Harry Potter, #2)', 'Гарри Поттер и Тайная комната (Harry Potter, #2)', 'Гарри Поттер и узник Азкабана (Гарри Поттер #3)', \"Harry Potter and the Philosopher's Stone\", 'Harry Potter y el Prisionero de Askaban - Flipbook', 'Harry Potter en de Relieken van de dood', 'Harry Potter und die Heiligtümer des Todes (Harry Potter, #7)', 'Хари Потър и философският камък (Хари Потър, #1)', 'Хари Потър и затворникът от Азкабан (Хари Потър, #3)', 'Хари Потър и Орденът на феникса (Хари Потър, #5)', 'Приказките на барда Бийдъл', 'Harry Potter en de geheime kamer', 'Harry Potter en de Vuurbeker', 'Harry Potter en de Vuurbeker', 'Harry Potter en de orde van de Feniks', 'Harry Potter en de Orde van de Feniks', 'Harry Potter und die Heiligtümer des Todes (Harry Potter, #7)', '哈利·波特与阿兹喀班囚徒 (Harry Potter #3)', 'هری پاتر و اکسیر جاودانگی (Harry Potter, #1)', 'هری پاتر و محفل ققنوس - کتاب پنجم جلد دو از سه (Harry Potter #5-2)', 'هری پاتر و فرمان ققنوس - کتاب پنجم جلد سه از سه', 'هری پاتر و فرمان ققنوس - کتاب پنجم (Harry Potter, #5)', 'هری پاتر و شاهزاده ی دورگه کتاب 6: جلد دو از دو', 'Harry Potter y las reliquias de la muerte (Harry Potter, #7)', 'Los cuentos de Beedle el Bardo (Biblioteca de Hogwarts, #3)', 'Harry Potter og Fønixordenen (Harry Potter #5)', 'Harry Potter og Halvblodsprinsen (Harry Potter # 6)', 'Harry Potter og Dødsregalierne (Harry Potter # 7)', 'هري پاتر و تالار اسرار', 'Harijs Poters un noslēpumu kambaris (Harijs Poters, #2)', 'Harry Potter und der Halbblutprinz (Harry Potter, #6)', 'Harry Potter y el cáliz de fuego', 'แฮร์รี่ พอตเตอร์กับนักโทษแห่งอัซคาบัน (Harry Potter, #3)', 'Harry Potter och hemligheternas kammare (Harry Potter, #2)', 'Harry Potter och fången från Azkaban (Harry Potter, #3)', 'แฮร์รี่ พอตเตอร์กับเครื่องรางยมทูต (Harry Potter, #7)', 'แฮร์รี่ พอตเตอร์กับภาคีนกฟีนิกซ์ (Harry Potter, #5)', 'แฮร์รี่ พอตเตอร์กับห้องแห่งความลับ (Harry Potter, #2)', 'แฮร์รี่ พอตเตอร์กับศิลาอาถรรพ์ (Harry Potter, #1)', 'Harry Potter y la piedra filosofal (Harry Potter, #1)', 'Les contes de Beedle le barde', 'Harry Potter ve Felsefe Taşı (Harry Potter, #1)', 'Harry Potter and the Half-Blood Prince (Harry Potter, #6)', 'Harry Potter and the Prisoner of Azkaban (Harry Potter, #3)', 'Harry Potter and the Deathly Hallows (Harry Potter, #7)', \"Harry Potter and the Philosopher's Stone (Harry Potter, #1)\", 'Harry Potter Boxed Set 1-3 (Harry Potter, #1-3)', 'Harry Potter and the Deathly Hallows (Harry Potter, #7)', 'Harry Potter and the Half-Blood Prince (Harry Potter, #6)', 'Harry Potter: The Prequel (Harry Potter, #0.5)', 'Harry Potter und der Orden des Phönix', 'Harry Potter and the Chamber of Secrets (Harry Potter, #2)', 'Harry Potter a Kámen mudrců (Harry Potter, #1)', 'Harry Potter a Tajemná komnata (Harry Potter, #2)', 'Harry Potter og De vises stein', 'Harri Potter A Maen Yr Athronydd (Harry Potter #1)', 'Quidditch a través de los tiempos', 'Harry Potter und der Orden des Phönix (Harry Potter, #5)', 'Harry Potter and the Deathly Hallows (Harry Potter, #7)', 'Harry Potter und der Feuerkelch (Harry Potter, #4)', 'Harry Potter And The Chamber Of Secrets', 'Harry Potter: in 7 Bänden (Harry Potter, #1-7)', 'Harry Potter - Das große Hörbuch', 'แฮร์รี่ พอตเตอร์ กับถ้วยอัคนี', 'Гаррі Поттер і філософський камінь (Гаррі Поттер, #1)', 'Harry Potter i plameni pehar (Harry Potter, #4)', \"Harry Potter e l'Ordine della Fenice (Harry Potter, #5)\", 'Harry Potter und die Heiligtümer des Todes (Harry Potter, #7)', \"Harry Potter i l'orde del Fènix (Harry Potter, #5)\", 'Harry Potter e la camera dei segreti', 'Harry Potter e la pietra filosofale (Harry Potter, #1)', 'Harry Potter e la pietra filosofale', 'Harry Potter e il Principe Mezzosangue (Harry Potter, #6)', 'Harry Potter i el calze de foc (Harry Potter, #4)', 'Harry Potter i el misteri del Príncep (Harry Potter, #6)', 'Harry Potter i les relíquies de la Mort (Harry Potter, #7)', 'Harry Potter Audio Boxed Set', 'Harry Potter i Red Feniksa (Harry Potter, #5)', 'Harry Potter i Princ Miješane Krvi (Harry Potter, #6)', 'Harry Potter ja tulepeeker (Harry Potter #4)', 'Гарри Поттер и узник Азкабана (Гарри Поттер #3)', 'ハリー・ポッターと死の秘宝  [上下巻セット] (ハリー・ポッターシリーズ #7)', 'Harry Potter şi Pocalul de Foc (Harry Potter, #4)', 'Harry Potter and the Order of the Phoenix (#5)', 'Harry Potter y la cámara secreta', 'Harry Potter och de vises sten (Harry Potter, #1)', 'Harry Potter és az Azkabani Fogoly (Harry Potter, #3)', 'Harry Potter y la cámara secreta (Harry Potter, #2)', 'Harry Potter y el Prisionero de Azkaban', 'Harry Potter und der Orden des Phönix', 'Harry Potter e o Prisioneiro de Azkaban (Harry Potter, #3)', 'Harry Potter en die Kamer van Geheimenisse', 'Harry Potter e i doni della morte', '阿兹卡班的逃犯 (哈利波特, #3)', 'Harry Potter und der Gefangene von Askaban', '消失的密室 (哈利波特, #2)', 'Harry Potter y El Caliz de Fuego', 'Harry Potter ve Azkaban Tutsağı (Harry Potter, #3)', 'Harry Potter og dødstalismanene (Harry Potter, # 7)', 'Harry Potter ja liekehtivä pikari (Harry Potter, #4)', 'Harry Potter og fangen fra Azkaban', \"Harry Potter et Le Prisonnier d'Azkaban (Harry Potter #3)\", 'Harry Potter und die Heiligtümer des Todes (Harry Potter, #7)', 'Harry Potter i kamen mudraca (Harry Potter, #1)', 'Harry Potter i odaja tajni (Harry Potter, #2)', 'Harry Potter i zatočenik Azkabana (Harry Potter, #3)', 'هاري بوتر و مقدسات الموت', 'Harry Potter and the Half-Blood Prince (Harry Potter, #6)', 'Harry Potter og de vises stein (Harry Potter, #1)', 'Harry Potter i la Pedra Filosofal (Harry Potter, #1)', 'Harry Potter i la cambra secreta (Harry Potter, #2)', 'Haris Poteris ir Fenikso brolija (Haris Poteris, #5)', 'Haris Poteris ir Netikras Princas (Haris Poteris, #6)', 'Haris Poteris ir Mirties relikvijos (Haris Poteris, #7)', 'Harry Potter y el misterio del príncipe (Harry Potter, #6)', 'Harry Potter y la cámara secreta', 'Harry Potter and the Prisoner of Azkaban', 'Harry Potter Og Flammernes Pokal', 'Harry Potter Und Der Gefangene Von Askaban', 'Harry Potter and the Prisoner of Azkaban (Harry Potter, #3)', 'Harry Potter and the Goblet of Fire (Harry Potter, #4)', 'Harry Potter And The Prisoner Of Azkaban (Harry Potter)', 'Harry Potter Boxset (Harry Potter, #1-7)', 'Harry Potter şi Camera Secretelor (Harry Potter, #2)', 'Harry Potter and the Prisoner of Azkaban (Harry Potter, #3)', 'Harry Potter and the Chamber of Secrets', 'Harry Potter Và Hòn Đá Phù Thủy (Harry Potter, #1)', 'Harry Potter e as Relíquias da Morte (Harry Potter, #7)', 'Harry Potter ve Melez Prens (Harry Potter, #6)', 'Harry Potter e a Câmara Secreta (Harry Potter, #2)', 'Гарри Поттер и Кубок огня (Гарри Поттер #4)', '哈利•波特 [共4册]', 'Harry Potter e la pietra filosofale (Harry Potter #1)', 'Harry Potter y la Piedra Filosofal (Harry Potter, #1)', 'Harry Potter e i doni della morte (Harry Potter, #7)', 'Harry Potter and the prisoner of Azkaban', 'Harry Potter and the Deathly Hallows', 'Harry Potter: Kamen modrosti  (Harry Potter, #1)', 'Harry Potter: Dvorana skrivnosti  (Harry Potter, #2)', 'Harry Potter en die Beker vol Vuur', 'Harry Potter en die gevangene van Azkaban', 'Harry Potter en de Geheime Kamer (Harry Potter #2)', 'Harry Potter en de Orde van de Feniks (Harry Potter #5)', 'Harry Potter en de Gevangene van Azkaban (Harry Potter #3)', 'Harry Potter en de Halfbloed Prins (Harry Potter #6)', 'Harry Potter en de Vuurbeker (Harry Potter #4)', 'Harry Potter en de Steen der Wijzen', 'Harry Potter en de Relieken van de Dood (Harry Potter #7)', 'Harry Potter y el misterio del príncipe (Harry Potter, #6)', 'Harry Potter a Kameň mudrcov (Harry Potter, #1)', 'Harry Potter a Tajomná komnata', 'Harry Potter a Väzeň z Azkabanu', 'Harry Potter a Ohnivá čaša', 'Harry Potter a Fénixov rád', 'Harry Potter a Polovičný princ', 'Harry Potter and the Prisoner of Azkaban', 'Harry Potter y la cámara secreta', 'Harry Potter y la Cámara Secreta', 'Harry Potter şi Prizonierul din Azkaban (Harry Potter, #3)', 'Barden Beedles Eventyr', 'Harry Potter şi Piatra Filozofală (Harry Potter, #1)', 'Harry Potter Signature Boxed Set', 'Harry Potter et le Prince de Sang-Mêlé (Harry Potter, #6)', 'Harry Potter and the Chamber of Secrets', 'Harry Potter and the Prisoner of Azkaban', 'Harry Potter and the Goblet of Fire', 'Harry Potter e la pietra filosofale', 'Harry Potter und der Stein der Weisen', \"Ozan Beedle'ın Hikayeleri\", 'Harry Potter e a Pedra Filosofal', 'Harry Potter y la piedra filosofal (Harry Potter, #1)', 'Harry Potter y El Misterio del Príncipe (Harry Potter, #6)', 'Harry Potter and the Order of the Phoenix', 'Harry Potter és a Főnix Rendje (Harry Potter, #5)', 'Harry Potter and the Half-Blood Prince', 'Harry Potter Và Hội Phượng Hoàng (Harry Potter, #5)', 'Harry Potter Và Chiếc Cốc Lửa (Harry Potter, #4)', 'Harry Potter Và Phòng Chứa Bí Mật  (Harry Potter, #2)', 'Harry Potter Và Bảo Bối Tử Thần (Harry Potter, #7)', 'Harry Potter and the Deathly Hallows', 'Harry Potter i zatvorenik iz Askabana', 'Harry Potter e a pedra filosofal (Harry Potter, #1)', 'Harry Potter e la pietra filosofale', 'Harry Potter et la Chambre des Secrets (Harry Potter, #2)', 'Harry Potter Et La Chambre Des Secrets', \"Harry Potter et l'Ordre du Phénix\", \"Harry Potter à l'école des sorciers (Harry Potter, #1)\", 'Harry Potter e la camera dei segreti', 'Harry Potter e la camera dei segreti', 'Harry Potter: La pietra filosofale-La camera dei segreti-Il prigioniero di Azkaban', 'Harry Potter et les Reliques de la Mort', 'Harry Potter ja tarkade kivi (Harry Potter, #1)', 'Harry Potter ja Azkabani vang (Harry Potter, #3)', 'Harry Potter ja Fööniksi Ordu (Harry Potter, #5)', 'Harry Potter ja segavereline prints (Harry Potter, #6)', 'Harry Potter ja surma vägised (Harry Potter #7)', 'Harry Potter et la Coupe de Fe', 'Harry Potter og ildbegeret (Harry Potter #4)', \"Harry Potter and The Sorcerer's Stone\", 'हैरी पॉटर और रहस्यमयी तहख़ाना (हैरी पॉटर #2)', 'Гарри Поттер и Принц-полукровка  (Гарри Поттер #6)', 'Harry Potter és a Titkok Kamrája', 'Harry Potter és a Bölcsek Köve (Harry Potter, #1)', 'Harry Potter és a Tűz Serlege (Harry Potter, #4)', 'Harry Potter és a Félvér Herceg (Harry Potter, #6)', 'Harry Potter şi Camera Secretelor (Harry Potter, #2)', \"Harry Potter et le Prisonnier d'Azkaban\", 'Harry Potter și Prințul Semipur (Harry Potter, #6)', 'Harry Potter et la Coupe de Feu', 'Harry Potter og Halvblodsprinsen', 'Harijs Poters un Jauktasiņu princis', '诗翁彼豆故事集 : 赫敏・格兰杰译自如尼文', 'Harry Potter e la camera dei segreti', 'Harry Potter. Cofanetto', 'Harry Potter And The Prisoner Of Azkaban', 'Harijs Poters un filozofu akmens', 'Harijs Poters un Azkabanas gūsteknis', 'Harijs Poters un Uguns biķeris', 'Harry Potter en de gevangene van Azkaban', 'Harry Potter og mysteriekammeret', 'Harry Potter și Talismanele Morții (Harry Potter, #7)', \"Harry Potter and the Sorcerer's Stone\", 'Harry Potter i Relikvije Smrti (Harry Potter, #7)', 'Harry Potter and the Order of the Phoenix  (Harry Potter, #5)', 'Harry Potter and the Deathly Hallows: Harry Potter dan Relikui Kematian (Harry Potter, #7)', 'Οι ιστορίες του Μπιντλ του Βάρδου', \"Harry Potter and the Philosopher's Stone (Harry Potter, #1)\", 'Harry Potter og fanginn frá Azkaban', 'Гарри Поттер и философский камень (Гарри Поттер #1)', 'Harry Potter Và Tên Tù Nhân Ngục Azkaban (Harry Potter, #3)', 'Harry Potter şi Ordinul Phoenix  (Harry Potter, #5)', 'Harry Potter i el misteri del Príncep', \"Harry Potter i l'orde del Fènix\", 'Harry Potter i el calze de foc', \"Harry Potter i el pres d'Azkaban\", 'Harijs Poters un Nāves Dāvesti (Harry Potter, #7)', 'Harry Potter ja puoliverinen prinssi  (Harry Potter, #6)', 'The Casual Vacancy', 'Harry Potter y la cámara secreta (Harry Potter, #2)', 'Harry Potter eta Azkabango presoa', 'Hari Poter i Kamen mudrosti (Harry Potter, #1)', 'Harry Potter eta Suaren Kopa', 'Harry Potter and the Deathly Hallows (Harry Potter, #7)', 'Harry Potter and the Half-blood Prince (Harry Potter, #6)', 'Harry Potter and the Goblet of Fire (Harry Potter, #4)', 'Harry Potter and the Order of the Phoenix (Harry Potter, #5)', 'Harry Potter and the Prisoner of Azkaban (Harry Potter, #3)', \"Harry Potter and the Philosopher's Stone (Harry Potter, #1)\", 'Harry Potter and the Chamber of Secrets (Harry Potter, #2)', \"Harry Potter and the Sorcerer's Stone (Harry Potter, # 1)\", 'Harry Potter and the Order of the Phoenix', \"Harry Potter and the Sorcerer's Stone (Harry Potter, #1)\", 'Harry Potter and the Chamber of Secrets (Harry Potter, #2)', 'Harry Potter and the Prisoner of Azkaban (Harry Potter, #3)', 'Harry Potter and the Goblet of Fire (Harry Potter, #4)', 'Harry Potter and the Order of the Phoenix (Harry Potter, #5)', 'Harry Potter and the Half-Blood Prince (Harry Potter, #6)', 'Harry Potter and the Deathly Hallows (Harry Potter, #7)', 'Harry Potter and the Order of the Phoenix (Harry Potter, #5)', 'Harry Potter and the Prisoner of Azkaban (Harry Potter, #3)', 'Harry Potter and the Deathly Hallows (Harry Potter, #7)', 'Harry Potter and the Goblet of Fire (Harry Potter, #4)', 'Harry Potter and the Half-Blood Prince (Harry Potter, #6)', 'Harry Potter and the Chamber of Secrets (Harry Potter, #2)', \"Harry Potter and the Philosopher's Stone (Harry Potter, # 1)\", 'Harry Potter and the Chamber of Secrets', 'Harry Potter and the Prisoner of Azkaban', 'Harry Potter and the Goblet of Fire (Harry Potter, #4)', 'Harry Potter and the Order of the Phoenix (Harry Potter #5)', 'Harry Potter and the Half-Blood Prince', 'Harry Potter and the Deathly Hallows', '哈利•波特 [套装共7册]', 'Harry Potter och fången från Azkaban (Harry Potter, #3)', \"Harry Potter and the Philosopher's Stone (Harry Potter, #1)\", 'The Casual Vacancy', \"Harry Potter and the Sorcerer's Stone (Harry Potter, #1)\", 'The Casual Vacancy', 'Siuntio Silosäkeen tarinat', 'The Casual Vacancy', 'The Casual Vacancy', 'The Casual Vacancy', 'Harry Potter and the Order of the Phoenix Book 5 Part 1', 'Harry Potter and the Chamber of Secrets (Harry Potter, #2)', 'Harry Potter and the Goblet of Fire (Harry Potter #4)', 'Harry Potter and the Prisoner of Azkaban (Harry Potter, #3)', \"Harry Potter and the Philosopher's Stone\", 'Harry Potter and the Chamber of Secrets', 'Harry Potter and the Prisoner of Azkaban', 'Harry Potter and the Goblet of Fire', 'Harry Potter and the Half-Blood Prince', 'Harry Potter and the Deathly Hallows', 'Harry Potter and the Order of the Phoenix (Harry Potter, #5)', 'Harry Potter and the Prisoner of Azkaban (Harry Potter, #3)', 'הארי פוטר וחדר הסודות', \"Harry Potter and the Sorcerer's Stone (Harry Potter, #1)\", 'The Casual Vacancy', \"Harry Potter à l'école des sorciers (Harry Potter, #1)\", 'Harry Potter y la Cámara Secreta (Harry Potter #2)', 'Harry Potter y el Prisionero de Azkaban', \"Bard Beedle'i lood\", 'Harry Potter and the Deathly Hallows', 'הארי פוטר והאסיר מאזקבאן (Harry Potter, #3)', 'The Casual Vacancy', \"Harry Potter and the Philosopher's Stone (Harry Potter, #1)\", 'Harry Potter y la Cámara de los secretos', 'Harry Potter y la orden del fénix', 'Poveştile Bardului Beedle', 'Harry Potter şi Piatra Filozofală (Harry Potter, #1)', 'Harry Potter e il prigioniero di Azkaban', 'Harry Potter og Hemmelighedernes Kammer (Harry Potter #2)', 'Harry Potter og Fangen fra Azkaban (Harry Potter #3)', 'Harry Potter og Flammernes Pokal (Harry Potter #4)', 'Harry Potter e os Talismas da Morte (Harry Potter, #7)', 'Harry Potter and the Goblet of Fire', 'Harry Potter and the Chamber of Secrets (Harry Potter, #2)', 'Harry Potter y El Caliz de Fuego', \"Harry Potter Et le Prisonnier D'Azkaban\", 'Harry Potter og Flammernes Pokal (Harry Potter, #4)', 'Harry Potter og De Vises Sten (Harry Potter, #1)', 'Ein plötzlicher Todesfall', \"Harry Potter and the Philosopher's Stone (Harry Potter, #1)\", 'Хари Потер и Реликвиите на Смртта (Harry Potter #7)', \"Harry Potter à l'École des Sorciers\", 'Harry Potter e il calice di fuoco', 'Harry Potter and the Goblet of Fire (Harry Potter, #4)', 'Harry Potter and the Order of the Phoenix (Harry Potter, #5)', \"Harry Potter and the Sorcerer's Stone (Harry Potter, #1)\", 'Harry Potter and the Prisoner of Azkaban (Harry Potter, #3)', 'Harry Potter y la piedra filosofal', \"Harry Potter en de Stien fan 'e Wizen\", 'The Casual Vacancy', 'Harry Potter e la pietra filosofale (Harry Potter, #1)', 'Harry Potter e la camera dei segreti (Harry Potter, #2)', 'Harry Potter e il prigioniero di Azkaban (Harry Potter, #3)', 'Harry Potter e il calice di fuoco (Harry Potter, #4)', \"Harry Potter e l'Ordine della Fenice (Harry Potter, #5)\", 'Harry Potter e il Principe Mezzosangue (Harry Potter, #6)', 'Harry Potter e i doni della morte', 'Harry Potter y la Cámara Secreta (Harry Potter, #2)', 'Harry Potter and the Chamber of Secrets (Harry Potter, #2)', 'Вакантен пост', 'Een goede raad', 'Harry Potter and the Deathly Hallows (Harry Potter, #7)', 'Harry Potter and the Goblet of Fire (Harry Potter, #4)', 'Rozprávky barda Beedla', 'Une place à prendre', 'The Casual Vacancy', 'The Casual Vacancy', 'هری پاتر و زندانی آزکابان', 'Harry Potter i Czara Ognia (Harry Potter, #4)', 'Harry Potter y la piedra filosofal', 'Harry Potter e la Pietra Filosofale', 'The Casual Vacancy', 'Las Llaves Voladoras', 'Harry Potter i Komnata Tajemnic (Harry Potter, #2)', 'Las 142 Escaleras de Hogwarts', 'Harry Potter y el misterio del príncipe (Harry Potter, #6)', 'Harry Potter y las Reliquias de la Muerte (Harry Potter #7)', 'Hari Poter i Dvorana tajni (Harry Potter, #2)', 'Hari Poter i Red feniksa (Harry Potter, #5)', 'Harry Potter i Polukrvni princ (Harry Potter, #6)', 'Hari Poter i Vatreni pehar (Harry Potter, #4)', 'Hari Poter i Zatvorenik iz Askabana (Harry Potter, #3)', 'Een goede raad', 'Harry Potter and the Order of the Phoenix (Harry Potter, #5)', 'Trafny wybór', 'Harry Potter und der Stein der Weisen (Harry Potter, #1)', 'Harry Potter a Ohnivý pohár (Harry Potter, #4)', 'Harry Potter a vězeň z Azkabanu (Harry Potter, #3)', 'מעשיות בידל הפייטן', 'Une place à prendre', 'Une place à prendre', 'Ein plötzlicher Todesfall', 'Ein plötzlicher Todesfall', 'Ein plötzlicher Todesfall', 'Een goede raad', 'Harry Potter og Fønixordenen (Harry Potter, #5)', 'Harry Potter és a bölcsek köve (Harry Potter, #1)', 'Ένας ξαφνικός θάνατος', 'Harry Potter og Halvblodsprinsen (Harry Potter, #6)', 'Uma Morte Súbita', 'Harry Potter og fangen fra Azkaban (Harry Potter, #3)', 'Harry Potter og dødsregalierne (Harry Potter #7)', 'Harijs Poters un Fēniksa Ordenis (Harry Potter #5)', 'Harijs Poters un Fēniksa Ordenis (2. daļa)', 'Harry Potter és a Bölcsek Köve (Harry Potter, #1)', 'ハリー・ポッターと賢者の石 1-1 (ハリー・ポッター文庫)', 'Harry Potter and the Prisoner of Azkaban (Harry Potter, #3)', 'Morte Súbita', 'Upražnjeno mesto', 'The Tales of Beedle the Bard (Hogwarts Library)', 'Harry Potter i Zakon Feniksa (Harry Potter, #5)', 'Harry Potter i Zakon Feniksa (Harry Potter, #5)', 'Paikka vapaana', 'Harry Potter e a Câmara Secreta (Harry Potter, #2)', 'Moarte subită', 'Harry Potter e o Prisioneiro de  Azkaban (Harry Potter, #3)', 'Harry Potter e o Cálice de Fogo (Harry Potter, #4)', 'Den tomme stolen', 'Harry Potter e a Ordem da Fênix', 'Harry Potter e o Enigma do Príncipe (Harry Potter, #6)', 'Harry Potter e as Relíquias da Morte (Harry Potter, #7)', 'Ein plötzlicher Todesfall', 'Harry Potter és a Titkok Kamrája (Harry Potter, #2)', 'Harry Potter és a Tűz Serlege (Harry Potter, #4)', 'Trafny wybór', 'Il seggio vacante', 'ハリー・ポッターと賢者の石 [オーディオブック第１巻]', 'ハリー・ポッターと秘密の部屋\\u3000[オーディオブック第二巻]', 'Harry Potter és a Főnix Rendje', 'Den tomma stolen', 'Harry Potter y El Prisionero de Azkaban (Harry Potter, #3)', 'The Tales of Beedle the Bard', 'Trafny wybór', 'Una vacante imprevista', 'Harry Potter és a Félvér Herceg (Harry Potter, #6)', 'Harry Potter y la Cámara Secreta', 'The Casual Vacancy - Perebutan Kursi Kosong', 'The Hogwarts Library', 'La vacant imprevista', 'Harry Potter and the Prisoner of Azkaban (Harry Potter, #3)', 'Harry Potter e a Pedra Filosofal', 'Il seggio vacante', 'Harry Potter and the Half-Blood Prince (Harry Potter, #6)', 'Harry Potter y la piedra filosofal (Harry Potter #1)', 'Den Tomme Plads', \"Harry Potter e l'Ordine della Fenice\", 'هارى بوتر و الأمير الهجين', '(#هارى بوتر ومقدسات الموت (هارى بوتر, 7', 'The Casual Vacancy', 'Una vacante imprevista', 'Una vacante imprevista', 'La vacant imprevista', 'La vacant imprevista', 'Una vacante imprevista', 'Bardo Bidlio poringės', 'Harry Potter and the Order of the Phoenix (Harry Potter, #5)', 'Átmeneti üresedés', 'Una vacante imprevista', 'Harry Potter y la Orden del Fénix (Harry Potter, #5)', 'Hlaupið í skarðið', 'Harry Potter és a Bölcsek Köve (Harry Potter, #1)', 'Harry Potter és az azkabani fogoly (Harry Potter, #3)', 'Harry Potter és a Tűz Serlege (Harry Potter, #4)', 'Harry Potter and the Deathly Hallows (Harry Potter, #7)', 'Prijevremeni izbori', 'Harry Potter und die Kammer des Schreckens', 'Harry Potter und der Gefangene von Askaban (Harry Potter, #3)', 'Harry Potter e as reliquias da morte (Harry Potter, #7)', 'Harry Potter y la piedra filosofal', 'Il seggio vacante', 'Dziesminieka Ķestera pasakas', 'Harry Potter eta sorgin-harria (Harry Potter, #1)', 'The Casual Vacancy', 'Upražnjeno mjesto', 'Harry Potter i odaja tajni (Harry Potter, #2)', 'Harry Potter ja Viisasten Kivi (Harry Potter, #1)', 'A kviddics évszázadai', 'Harry Potter y la camara secreta', 'The Casual Vacancy', 'Nejaušā vakance', 'כיסא פנוי', 'Harry Potter a Dary smrti (Harry Potter, #7)', 'Harry Potter and the Deathly Hallows (Harry Potter, #7)', 'Harry Potter and the Half-Blood Prince (Harry Potter, #6)', 'Harry Potter and the Half-Blood Prince (Harry Potter, #6)', 'Harry Potter și Pocalul de Foc (Harry Potter, #4)', 'Harry Potter și Ordinul Phoenix', 'Harry Potter e a Câmara dos Segredos (Harry Potter, #2)', 'The Tales of Beedle the Bard', 'Harry Potter and the Deathly Hallows (Harry Potter, #7)', 'Harry Potter and the Half-Blood Prince (Harry Potter, #6)', 'Harry Potter and the Order of the Phoenix (Harry Potter, #5)', 'Harry Potter and the Goblet of Fire (Harry Potter, #4)', 'Harry Potter and the Prisoner of Azkaban (Harry Potter, #3)', 'Harry Potter and the Chamber of Secrets (Harry Potter, #2)', \"Harry Potter and the Sorcerer's Stone (Harry Potter, #1)\", 'Случайная вакансия', 'Случайная вакансия', 'Harry Potter og Dødsregalierne (Harry Potter, #7)', 'Harry Potter og Halvblodsprinsen (Harry Potter, #6)', 'Prázdné místo', 'მგოსანი ბიდლის ზღაპრები', 'Harry Potter og Dødsregalierne (Harry Potter #7)', 'Prázdne miesto', 'The Casual Vacancy', 'The Tales of Beedle the Bard', 'Harry Potter dengan Banduan Azkaban', 'Harry Potter og de vises sten (Harry Potter #1)', 'Harry Potter: Jetnik iz Azkabana (Harry Potter, #3)', 'Harry Potter: Ognjeni kelih (Harry Potter, #4)', 'Harry Potter: Feniksov red (Harry Potter, #5)', 'Harry Potter: Polkrvni princ (Harry Potter, #6)', 'Harry Potter: Svetinje smrti (Harry Potter, #7)', '臨時空缺', 'Harry Potter a kámen mudrců', 'Harry Potter a Tajemná komnata (Harry Potter, #2)', 'Harry Potter a vězeň z Azkabanu', 'Boş Koltuk', 'Harry Potter și camera secretelor', 'Несподівана вакансія', 'Harry Potter e a Câmara Secreta', 'هاري بوتر و الأمير الهجين', 'Harry Potter and the Order of the Phoenix (Harry Potter, #5)', \"Harry Potter à l'école des sorciers (Harry Potter #1)\", 'Harry Potter et la Chambre des Secrets', \"Harry Potter et le Prisonnier d'Azkaban (Harry Potter, #3)\", 'เก้าอี้ว่าง', 'Harry Potter y la cámara secreta (Harry Potter, #2)', 'Harry Potter und der Gefangene von Askaban (Harry Potter, #3)', 'The Casual Vacancy', 'Harry Potter and the Deathly Hallows (Harry Potter, #7)', 'Khoảng trống', 'Harry Potter et la Coupe de Feu (Harry Potter, #4)', 'Harry Potter ja Viisasten Kivi (Harry Potter, #1)', 'Harry Potter und die Kammer des Schreckens (Harry Potter, #2)', 'Harry Potter i la pedra filosofal (Harry Potter, #1)', 'Harry Potter and the Goblet of Fire (Harry Potter, #4)', 'Harry Potter and the Deathly Hallows (Harry Potter, #7)', 'Harry Potter and the Deathly Hallows (Harry Potter, #7)', 'Harry Potter-Schuber (Harry Potter, #1-7)', 'Harry Potter y la piedra filosofal (Harry Potter, #1)', 'Harry Potter dhe Guri Filozofal (Harry Potter, #1)', 'Harry Potter dhe i Burgosuri i Azkabanit (Harry Potter, #3)', 'Harry Potter dhe Kupa e Zjarrit (Harry Potter, #4)', 'Harry Potter dhe Urdhri i Feniksit', 'Harry Potter and the Half-Blood Prince (Harry Potter, #6)', 'Harry Potter dhe Dhoma e të fshehtave (Harry Potter, #2)', 'Harry Potter dhe i burgosuri i Azkabanit, (Harry Potter, #3)', 'Harry Potter and the Deathly Hallows', 'Harry Potter ha maen ar furien', \"Harry Potter and the Philosopher's Stone (Harry Potter, #1)\", 'Harry Potter and the Chamber of Secrets', 'The Casual Vacancy', \"Harry Potter and the Sorcerer's Stone\", 'Harry Potter and the Chamber of Secrets', 'Harry Potter and the Prisoner of Azkaban', 'Harry Potter and the Goblet of Fire', 'Harry Potter and the Order of the Phoenix', 'Harry Potter and the Half-Blood Prince', 'Harry Potter and the Deathly Hallows', 'Ootamatu võimalus', 'Harry Potter i kamen mudrosti (Harry Potter, #1)', 'Harry Potter og De Vises Sten (Harry Potter, #1)', 'Harry Potter og Hemmelighedernes Kammer (Harry Potter, #2)', 'Harry Potter og Fangen fra Azkaban (Harry Potter, #3)', 'Harry Potter og Flammernes Pokal (Harry Potter, #4)', 'Harry Potter og Fønixordenen', 'Harry Potter e il Principe Mezzosangue (Harry Potter, #6)', \"Harry Potter à l'école des sorciers (Harry Potter, #1)\", 'Казки Барда Бідла (Harry Potter Companion Books #3)', 'Nadomestne volitve', 'منصب شاغر', 'Ein plötzlicher Todesfall', 'Harry Potter i Komnata Tajemnic (Harry Potter, #2)', 'Harry Potter and the Prisoner of Azkaban (Harry Potter, #3)', 'Harry Potter en de Relieken van de Dood (Harry Potter #7)', 'Harry Potter and the Goblet of Fire (Harry Potter, #4)', 'Harry Potter y el cáliz de fuego (Harry Potter, #4)', 'Harry Potter dalam Piala Api', 'Harry Potter dengan Putera Berdarah Kacukan (Harry Potter, #6)', 'Harry Potter dengan Azimat Maut (Harry Potter, #7)', 'Il seggio vacante', 'Harry Potter e a Pedra Filosofal (Harry Potter, #1)', 'افسانه های بیدل قصه گو', 'هری پاتر و نبرد عشق و خشم', \"Harry Potter and the Philosopher's Stone\", 'Harry Potter and the Prisoner of Azkaban (Harry Potter, #3)', 'Harry Potter and the Chamber of Secrets (Harry Potter, #2)', 'Harry Potter: The magical adventure begins . . .  (Harry Potter, #1-3)', 'Harry Potter y la piedra filosofal (Harry Potter, #1)', 'Harry Potter i Czara Ognia (Harry Potter, #4)', 'The Casual Vacancy', 'Der Ruf des Kuckucks (Cormoran Strike, #1)', 'ჰარი პოტერი და ფილოსოფიური ქვა (ჰარი პოტერი, #1)', 'Paikka vapaana', 'Harry Potter and the Goblet of Fire (Harry Potter, #4)', 'Harry Potter Box Set, Books 1 - 7 : Adult Cloth', 'کوییدیچ در گذر زمان', 'Harry Potter and the Order of the Phoenix (Harry Potter, #5)', 'Harry Potter y las Reliquias de la Muerte (Harry Potter #7)', 'Harry Potter e i Doni della Morte (Harry Potter, #7)', 'Harry Potter and the Half-Blood Prince (Harry Potter, #6)', 'Una vacante imprevista', 'แฮร์รี่ พอตเตอร์กับนักโทษอัซคาบัน', \"Harry Potter and the Philosopher's Stone\", 'Harry Potter ve Sırlar Odası (Harry Potter, #2)', 'Harry Potter: The Complete Series (Harry Potter, #1-7)', 'Harry Potter ja Tarkade Kivi (Harry Potter, #1)', 'Harry Potter ja Azkabani Vang (Harry Potter, #3)', 'Coleção Harry Potter (Harry Potter, #1-7)', 'Harry Potter and the Prisoner of Azkaban (Harry Potter, #3)', 'Harry Potter e o Cálice de Fogo (Harry Potter, #4)', 'Harry Potter e a Ordem da Fênix (Harry Potter, #5)', 'Harry Potter and the Deathly Hallows (Harry Potter, #7)', 'Harry Potter a Kámen mudrců (Harry Potter #1)', 'Harry Potter e la pietra filosofale (Harry Potter, #1)', 'Une place à prendre', 'เก้าอี้ว่าง', 'Harry Potter and the Chamber of Secrets (Harry Potter, #2)', 'Harry Potter and the Half-Blood Prince (Harry Potter, #6)', 'Harry Potter und der Kammer des Schreckens (Harry Potter, #2)', 'Bogar bárd meséi', 'Harry Potter és a Bölcsek Köve (Harry Potter, #1)', 'Harry Potter and the Goblet of Fire (Harry Potter, #4)', 'Harry Potter and the Prisoner of Azkaban (Harry Potter, #3)', 'Harry Potter and the Chamber of Secrets (Harry Potter, #2)', 'Harry Potter a Ohnivý pohár (Harry Potter, #4)', \"Harry Potter and the Sorcerer's Stone (Harry Potter, #1)\", 'Harry Potter and the Goblet of Fire (Harry Potter, #4)', 'Harry Potter i Insygnia Śmierci', 'แฮร์รี่ พอตเตอร์กับเจ้าชายเลือดผสม (Harry Potter #6)', 'خلأ موقت', 'Harry Potter and the Chamber of Secrets (Harry Potter, #2)', 'Harry Potter and the Prisoner of Azkaban (Harry Potter, #3)', 'Harry Potter and the Half-Blood Prince (Harry Potter, #6)', 'Harry Potter and the Deathly Hallows (Harry Potter, #7)', 'ハリー・ポッターとアズカバンの囚人 3-1', 'The Casual Vacancy', 'Harry Potter and the Order of the Phoenix (Harry Potter, #5)', 'Harry Potter: The Complete Collection (Harry Potter, #1-7)', 'The Tales of Beedle the Bard', 'Harry Potter und der Stein der Weisen', 'منصب شاغر', 'Harry Potter şi Piatra Filozofală (Harry Potter, #1)', 'ﻫیری پوٹر اور پارس پتھر', \"L'Appel du coucou\", 'Harry Potter und die Heiligtümer des Todes (Harry Potter #7)', 'Harry Potter si camera secretelor (Harry Potter, #2)', \"Harry Potter i l'Ordre del Fènix (Harry Potter, #5)\", 'Harry Potter i la cambra secreta (Harry Potter, #2)', \"Harry Potter i el pres d'Azkaban (Harry Potter, #3)\", 'Harry Potter și prizonierul din Azkaban (Harry Potter, #3)', 'Harry Potter y la piedra filosofal', '캐주얼 베이컨시 1', '캐주얼 베이컨시 2', 'Chemarea cucului (Cormoran Strike, #1)', 'Hogwarts Library', 'Harry Potter si pocalul de foc (Harry Potter, #4)', 'ハリー・ポッターと賢者の石 (ハリー・ポッターシリーズ #1)', 'カジュアル・ベイカンシー\\u3000突然の空席\\u30001', 'カジュアル・ベイカンシー\\u3000突然の空席\\u30002', '哈利·波特与凤凰社', 'Harry Potter und der Halbblutprinz (Buch 6)', \"Harry Potter et le Prisonnier d'Azkaban (Harry Potter, #3)\", 'Die Märchen von Beedle dem Barden', 'Harry Potter und der Feuerkelch', 'Harry Potter und der Orden des Phönix (Harry Potter #5)', 'Harry Potter und der Stein der Weisen', 'Harry Potter und die Kammer des Schreckens (Buch 2)', 'Harry Potter si Ordinul Phoenix', 'Harry Potter e o Príncipe Misterioso (livro 6)', 'Harry Potter e o Prisioneiro de Azkaban (Harry Potter, #3)', 'Harry Potter e o Cálice de Fogo (Harry Potter, #4)', 'Harry Potter e a Ordem da Fénix (Harry Potter, #5)', 'Harry Potter e o Príncipe Misterioso (Harry Potter, #6)', 'O Chamado do Cuco', 'Harry Potter y la cámara secreta', 'Harry Potter Box Set', 'Fantastic Beasts and Where to Find Them', 'Quidditch Through the Ages', 'ハリー・ポッターと賢者の石 (Harry Potter, #1)', 'ハリー・ポッターとアズカバンの囚人 (ハリー・ポッターシリーズ #3)', 'ハリー・ポッターと不死鳥の騎士団', 'カジュアル・ベイカンシー\\u3000突然の空席\\u3000Ｉ・ＩＩ', 'ハリー・ポッターと秘密の部屋', 'ハリー・ポッターと炎のゴブレット (ハリー・ポッターシリーズ #4)', 'ハリー・ポッターと謎のプリンス (ハリー・ポッターシリーズ #6)', 'ハリー・ポッターと死の秘宝 (ハリー・ポッターシリーズ #7)', 'Harry Potter y el prisionero de Azkaban (Libro 3)', 'Harry Potter y el cáliz de fuego (Harry Potter, #4)', 'Wołanie kukułki (Cormoran Strike, #1)', 'Harry Potter şi Prinţul Semipur (Harry Potter, #6)', 'The Tales of Beedle the Bard', 'Harry Potter et la Chambre des Secrets (Tome 2)', 'Netikėta vakansija', 'Harry Potter i dvorana tajni (Harry Potter, #2)', 'Harry Potter i Zatvorenik iz Askabana (Hari Poter, #3)', 'Harry Potter i Vatreni pehar (Hari Poter, #4)', 'Harry Potter et les Reliques de la Mort', 'Harry Potter i Red feniksa (Hari Poter, #5)', 'Harry Potter i Polukrvni Princ (Hari Poter, #6)', 'Ein plötzlicher Todesfall', \"Harry Potter et l'Ordre du Phénix (Harry Potter #5)\", 'Harry Potter e a Pedra Filosofal (Harry Potter, #1)', 'Morte Súbita', 'Harry Potter si Talismanele mortii (Harry Potter, #7)', \"L'Appel du coucou\", 'Harry Potter e a Ordem da Fênix', 'Harry Potter et le Prince de Sang-Mêlé (Harry Potter #6)', 'Harry Potter y la Orden del Fénix', 'Harry Potter e a Pedra Filosofal (Harry Potter, #1)', 'Les Contes de Beedle le Barde', 'Harry Potter og de Vises Stein (Harry Potter, #1)', 'Animales fantásticos y dónde encontrarlos', 'Harry Potter e o enigma do Príncipe', 'Harry Potter e o prisioneiro de Azkaban', 'Harry Potter e o Cálice de Fogo', 'Harry Potter e a Câmara Secreta (Harry Potter, #2)', 'Nadomestne volitve', 'Harry Potter e as Relíquias da Morte (Harry Potter #7)', 'Monstros Fantásticos e Onde Encontrá-los', \"Harry Potter - L'intégrale\", '해리포터와 불사조 기사단 [Part 1 of 5]', 'The Hogwarts Library', 'Harry Potter und der Stein der Weisen (Harry Potter,#1)', 'Den tomma stolen', 'Harry Potter and the Deathly Hallows (Harry Potter, #7)', 'Harry Potter and the Prisoner of Azkaban', 'Harry Potter and the Deathly Hallows (Harry Potter #7)', 'Harry Potter and the Deathly Hallows (Harry Potter, #7)', 'Harry Potter and the Deathly Hallows', 'Harry Potter Box Set', 'Harry Potter und der Feuerkelch (Harry Potter, #4)', 'Harry Potter Box Set', \"Harry Potter and the Philosopher's Stone, Chamber of Secrets, Prisoner of Azkaban\", 'Harry Potter Boxed Set', 'Harry Potter and the Goblet of Fire', 'Harry Potter and the Goblet of Fire (Harry Potter, #4)', 'Harry Potter and the Prisoner of Azkaban (Harry Potter, #3)', 'Harry Potter und der Orden des Phönix', 'Гарри Поттер и дары смерти (Гарри Поттер #7)', '哈利·波特与死亡圣器 (哈利·波特 #7)', 'Ο Χάρι Πότερ και οι κλήροι του θανάτου (Χάρι Πότερ, #7)', 'The Casual Vacancy', 'Harry Potter a Kámen mudrců (Harry Potter, #1)', 'Harry Potter a Tajemná komnata (Harry Potter, #2)', 'Harry Potter und der Halbblutprinz (Harry Potter, #6)', 'ハリー・ポッターと謎のプリンス [上下巻セット] (ハリー・ポッターシリーズ #6)', 'Harry Potter och fången från Azkaban (Harry Potter, #3)', 'Os Contos de Beedle, o Bardo', 'Il seggio vacante', 'Harry Potter et le Prince de Sang-Mêlé', 'Harry Potter e o Prisioneiro de Azkaban (livro 3)', \"Harry Potter and the Sorcerer's Stone\", 'Harry Potter és a bölcsek köve (Harry Potter, #1)', 'Harry Potter és a Titkok Kamrája (Harry Potter, #2)', 'Harry Potter and the Prisoner of Azkaban (Harry Potter, #3)', 'Harry Potter en de Geheime Kamer', 'Harry Potter e a Pedra Filosofal (Harry Potter, #1)', 'Harry Potter e o Enigma do Príncipe (Harry Potter, #6)', 'Harry Potter and the Order of the Phoenix', \"Harry Potter et le Prisonnier d'Azkaban (Harry Potter #3)\", 'Harry Potters Schatkluis (Harry Potter, #1-7)', 'Harry Potter en de Vuurbeker', 'Harry Potter Boxed Set (Harry Potter, #1-4)', 'Haris Poteris ir Azkabano kalinys (Harry Potter, #3)', 'Harry Potter en de Orde van de Feniks', 'Rastësisht një vend bosh', 'Harrius Potter et Camera Secretorum', 'Hārī Būtir wa-kaʼs al-nār', 'Harry Potter and the Goblet of Fire', 'Гарри Поттер и Философский камень (Harry Potter, # 1)', 'Harry Potter Box Set, Books 1-7', 'Harry Potter i la pedra filosofal', 'Trafny Wybór', '吟遊詩人ビードルの物語', 'Harry Potter and the Half-Blood Prince', 'Harry Potter and the Deathly Hallows', 'Harry Potter and the Goblet of Fire (Harry Potter, #4)', 'Harry Potter & the Order of the Phoenix', 'Harry Potter and the Half-Blood Prince', 'Harry Potter and the Half-Blood Prince', 'Harry Potter and the Chamber of Secrets', 'Harry Potter and the Prisoner of Azkaban', 'Harry Potter and the Goblet of Fire (Book 4 Part 2)', 'Harry Potter and the Order of the Phoenix (Book 5 - Part 2)', 'Harry Potter and the Deathly Hallows', 'Harry Potter and the Chamber of Secrets', 'Harry Potter & the Deathly Hallows', 'Harry Potter and the Half-Blood Prince', 'Harry Potter and the Goblet of Fire', 'Harry Potter og dødstalismanene (Harry Potter, # 7)', 'Harry Potter en de Halfbloed Prins', 'Harry Potter en de Relieken van de Dood', 'De Vertelsels van Baker de Bard', 'Harry Potter And The Goblet Of Fire', 'Harry Potter en de relieken van de dood (Harry Potter #7)', 'Harry Potter und der Gefangene von Askaban', 'Harry Potter and the Deathly Hallows (Harry Potter #7)', \"Harry Potter and the Philosopher's Stone (Harry Potter, #1)\", 'Гарри Поттер. 7 волшебных книг', 'Harry Potter and the Deathly Hallows (Harry Potter, #7)', 'harry potter y la camera secreta', 'Boş Koltuk', 'Harry Potter y el cáliz de fuego (Harry Potter, #4)', 'The Casual Vacancy', 'Los cuentos de Beedle el bardo', \"Harry Potter à l'École des Sorciers (Harry Potter, #1)\", 'แฮร์รี่ พอตเตอร์ กับศิลาอาถรรพ์', 'แฮร์รี่ พอตเตอร์ กับเครื่องรางยมทูต', 'แฮร์รี่ พอตเตอร์ กับห้องแห่งความลับ', 'แฮร์รี่ พอตเตอร์ กับนักโทษแห่งอัซคาบัน', 'แฮร์รี่ พอตเตอร์ กับถ้วยอัคนี', 'แฮร์รี่ พอตเตอร์ กับเจ้าชายเลือดผสม', 'แฮร์รี่ พอตเตอร์ กับภาคีนกฟีนิกซ์', 'Harry Potter and the Prisoner of Azkaban (Harry Potter, #3)', 'Гарри Поттер и Тайная комната (Harry Potter #2)', \"Harry Potter et le Prisonnier d'Azkaban\", 'Den tomma stolen', 'Harry Potter and the Chamber of Secrets (Harry Potter, #2)', 'Harry Potter and the Prisoner of Azkaban (Harry Potter, #3)', 'Harry Potter and the Goblet of Fire (Harry Potter, #4)', 'Harry Potter and the Order of the Phoenix (Harry Potter, #5)', 'Harry Potter and the Half-Blood Prince (Harry Potter, #6)', 'Harry Potter and the Deathly Hallows (Harry Potter, #7)', 'Harry Potter Boxed Set: The Complete Collection', 'Harry Potter og Halvblodsprinsen (Harry Potter #6)', 'The Tales of Beedle the Bard (Hogwarts Library)', \"Harry Potter and the Sorcerer's Stone (Harry Potter #1)\", 'Harry Potter e la Pietra Filosofale (Harry Potter, #1)', 'Harry Potter e la Camera dei Segreti (Harry Potter, #2)', 'Harry Potter e il Prigioniero di Azkaban (Harry Potter, #3)', 'Harry Potter e il Calice di Fuoco (Harry Potter, #4)', \"Harry Potter e l'Ordine della Fenice (Harry Potter, #5)\", 'Harry Potter e il Principe Mezzosangue (Harry Potter, #6)', 'Harry Potter e i Doni della Morte (Harry Potter, #7)', 'Harry Potter et les Reliques de la Mort', 'Harry Potter e a Câmara Secreta (Harry Potter, #2)', 'Harry Potter e o Prisioneiro de Azkaban (Harry Potter, #3)', 'Harry Potter e o Cálice De Fogo (Harry Potter, #4)', 'Harry Potter e a Ordem da Fênix (Harry Potter, #5)', 'Harry Potter e o Enigma do Príncipe (Harry Potter, #6)', 'Harry Potter e As Relíquias da Morte (Harry Potter, #7)', 'Harry Potter and the Prisoner of Azkaban (Harry Potter, #3)', \"Harry Potter and the Sorcerer's Stone; and the Chamber of Secrets; and the Prisoner of Azkaban (Volumes 1-3)\", 'Harry Potter and the Goblet of Fire', 'Harry Potter och den flammande bägaren (Harry Potter, #4)', 'Harry Potter and the Prisoner of Azkaban', 'Harry Potter and the Prisoner of Azkaban', 'Casual Vacancy', 'ハリー・ポッターと賢者の石 1-2', 'Гарри Поттер и Философский камень (Гарри Поттер #1)', 'Harry Potter et la Coupe de Feu (Harry Potter, #4)', 'Harry Potter och de vises sten (Harry Potter 1)', 'The Tales of Beedle the Bard', 'হ্যারি পটার অ্যান্ড দি ফিলসফারস স্টোন (হ্যারি পটার, #১)', 'Harry Potter and the Half-Blood Prince', 'Harry Potter e la pietra filosofale (Harry Potter, #1)', 'Harry Potter e la camera dei segreti (Harry Potter, #2)', 'Harry Potter e il prigioniero di Azkaban', 'Harry Potter e il calice di fuoco', \"Harry Potter e l'ordine della fenice\", 'Harry Potter e il principe mezzosangue', 'Harry Potter e i doni della morte', 'Harry Potter és a bölcsek köve', 'The Casual Vacancy', 'هاري بوتر والأمير الهجين [Hārī Būtir wa-al-amīr al-hajīn]', 'Harry Potter et la Chambre des Secrets (Harry Potter #2)', 'Harry Potter 1-5 box set', 'Harry Potter And The Order Of The Phoenix', 'Harry Potter und die Heiligtümer des Todes (Harry Potter, #7)', 'Harry Potter and the Half-Blood Prince (Harry Potter, #6)', 'ჰარი პოტერი და საიდუმლო ოთახი (Harry Potter, #2)', 'ჰარი პოტერი და აზკაბანის ტყვე (Harry Potter, #3)', 'ჰარი პოტერი და ცეცხლოვანი თასი (Harry Potter, #4)', 'ჰარი პოტერი და ფენიქსის ორდენი', 'Harry Potter and the Prisoner of Azkaban', 'Гарри Поттер и узник Азкабана (Harry Potter #3)', 'Harry Potter und der Orden des Phoenix', 'Harry Potter and the Half-Blood Prince', 'Harry Potter und die Heiligtümer des Todes (Harry Potter, #7)', 'Harry Potter and the Deathly Hallows (Harry potter #7)', 'The Complete Harry Potter Collection', 'Harry Potter E-Book-Gesamtausgabe, Band 1 bis 7', 'Hogvortska Biblioteka', 'Pripovesti Barda Bidla', 'Los cuentos de Beedle el Bardo', 'Harry Potter e la Pietra Filosofale (Harry Potter, #1)', 'Harry Potter Boxed Set (Volumes 1-4)', 'Harry Potter y la cámara secreta (Harry Potter, #2)', 'Harry Potter and the Goblet of Fire', 'ハリー・ポッターと賢者の石 (Harry Potter, #1)', 'Harry Potter y la Orden del Fénix (Harry Potter, #5)', 'Harry Potter et la Chambre des Secrets (Harry Potter, #2)', \"Harry Potter and the Philosopher's Stone (Harry Potter, #1)\", 'Harry Potter and the Chamber of Secrets (Harry Potter, #2)', 'Harry Potter and the Prisoner of Azkaban (Harry Potter, #3)', 'Harry Potter and the Goblet of Fire (Harry Potter, #4)', 'Harry Potter and the Order of the Phoenix (Harry Potter, #5)', 'Harry Potter and the Half-Blood Prince (Harry Potter, #6)', 'Harry Potter and the Deathly Hallows (Harry Potter, #7)', 'Harry Potter, Tome : Coffret collector', 'Harry Potter és az azkabani fogoly (Harry Potter, #3)', 'Harry Potter y la Piedra Filosofal (Harry Potter, #1)', 'Хари Потер и Kамен мудрости (књига 1)', 'Хари Потер и Дворана тајни (књига 2)', 'Хари Потер и затвореник из Аскабана  (књига 3)', 'Хари Потер и Ватрени пехар (књига 4)', 'Хари Потер и Ред феникса 1  (књига 5, том 1)', 'Хари Потер и Ред феникса 2 (књига 5, том 2)', 'Morte Súbita', 'Harry Potter i kamen mudraca (Harry Potter, #1)', 'Harry Potter and the Prisoner of Azkaban (Harry Potter, #3)', 'Harry Potter Dalam Piala Api (Harry Potter, #4)', 'Harry Potter Dalam Kumpulan Phoenix', 'Harry Potter Dengan Putera Berdarah Kacukan', 'Harry Potter Dengan Azimat Maut', 'Ο Χάρι Πότερ και η φιλοσοφική λίθος (Χάρι Πότερ, #1)', 'Ο Χάρι Πότερ και η κάμαρα με τα μυστικά (Χάρι Πότερ, #2)', 'Ο Χάρι Πότερ και ο αιχμάλωτος του Αζκαμπάν (Χάρι Πότερ, #3)', 'Ο Χάρι Πότερ και το κύπελλο της φωτιάς (Χάρι Πότερ, #4)', 'Ο Χάρι Πότερ και το τάγμα του Φοίνικα (Χάρι Πότερ, #5)', 'Ο Χάρι Πότερ και ο ημίαιμος πρίγκιψ (Χάρι Πότερ, #6)', 'Harry Potter og hemmelighedernes Kammer', 'Harry Potter i odaja tajni (Harry Potter, #2)', 'Гарри Поттер и Кубок Огня (Гарри Поттер #4)', 'Il seggio vacante', 'হ্যারি পটার অ্যান্ড দ্য হাফ-ব্লাড প্রিন্স (হ্যারি পটার, #৬)', 'The Casual Vacancy', 'Гарри Поттер и Кубок Огня (Harry Potter #4)', 'Harry Potter und der Stein der Weisen (Harry Potter, #1)', 'Harry Potter i zatočenik Azkabana (Harry Potter, #3)', 'ハリー・ポッターとアズカバンの囚人 (Harry Potter #3)', 'Harry Potter 1-5 Cloth Box Set', 'جلد اول)هري پاتر و جام آتش)', 'ハリー・ポッターとアズカバンの囚人 3-2', \"Harry Potter and the Philosopher's Stone (Harry Potter #1)\", 'De vertelsels van Baker de Bard', 'Harry Potter i plameni pehar (Harry Potter, #4)', 'ハリーポッターと秘密の部屋', 'Harry Potter e a Pedra Filosofal (Harry Potter, #1)', 'Harry Potter Boxed Set: The Complete Collection', 'Harry Potter og eldbikarinn (Harry Potter, #4)', 'Harry Potter i Red feniksa (Harry Potter, #5)', 'Harry Potter și Ordinul Phoenix (Harry Potter, #5)', 'Harry Potter e a Ordem da Fénix (Harry Potter, #5)', 'Harry Potter e o Cálice de Fogo (Harry Potter, #4)', 'Harry Potter e o Príncipe Misterioso (Harry Potter, #6)', 'Harry Potter e os Talismãs da Morte (Harry Potter, #7)', 'Harry Potter e a Câmara dos Segredos (Harry Potter, #2)', 'Harry Potter e o Prisioneiro de Azkaban (Harry Potter, #3)', 'Harry Potter e o Prisioneiro de Azkaban (Harry Potter, #3)', 'Harry Potter y la piedra filosofal (Harry Potter, #1)', 'Harry Potter y la cámara secreta (Harry Potter, #2)', 'Harry Potter i princ miješane krvi (Harry Potter, #6)', 'Harry Potter y la piedra filosofal (Harry Potter, #1)', 'Harry Potter e o Cálice de Fogo (Harry Potter, #4)', 'ハリー・ポッターと賢者の石 1-I', 'ハリー・ポッターと賢者の石 1-II', 'Harry Potter en de Steen der Wijzen', 'Very Good Lives: The Fringe Benefits of Failure and the Importance of Imagination', 'Harry Potter and the Chamber of Secrets', 'Harry Potter and the Prisoner of Azkaban', 'Harry Potter and the Goblet of Fire', 'Harry Potter and the Order of the Phoenix', 'Гарри Поттер и Орден Феникса', 'Harry Potter and the Half-Blood Prince', 'Harry Potter i Darovi smrti (Harry Potter, #7)', 'Harry Potter en de Geheime Kamer', 'Harry Potter en de Gevangene van Azkaban', 'Harry Potter en de Vuurbeker', 'Harry Potter en de Orde van de Feniks', 'Harry Potter en de Halfbloed Prins', 'Harry Potter en de Relieken van de Dood', 'Harry Potter and the Deathly Hallows', 'The Complete Harry Potter Collection', 'Les Contes de Beedle le Barde', 'Povestile Bardului Beedle', 'Harry Potter și Piatra Filozofală  (Harry Potter, #1)', 'Harry Potter şi Piatra Filozofală (Harry Potter, #1)', 'Harry Potter og viskusteinninn  (Harry Potter, #1)', 'Harry Potter og ildbegeret (Harry Potter #4)', 'Une place à prendre', 'هری پاتر و جام آتش 2', 'Harry Potter og De Vises Sten (Harry Potter, #1)', 'Le fiabe di Beda il Bardo', 'Harry Potter en de Vuurbeker', 'Eserleku Hutsa', \"Harry Potter and the Sorcerer's Stone (Harry Potter, #1)\", \"Harry Potter and the Philosopher's Stone (Harry Potter, #1)\", 'Átmeneti üresedés', 'The Casual Vacancy', 'Harry Potter and the Chamber of Secrets', 'The Casual Vacancy', 'Very Good Lives: The Fringe Benefits of Failure and the Importance of Imagination', 'Harry Potter and the Prisoner of Azkaban', 'The Casual Vacancy', 'Harry Potter: La serie completa (Harry Potter, #1-7)', 'Harry Potter ane Parasmani (Harry Potter, #1)', 'カジュアル・ベイカンシー 突然の空席 1', 'ハリー・ポッターと賢者の石 (Harry Potter, #1)', 'Harry Potter and the Order of the Phoenix (Harry Potter #5)', 'Harry Potter: la saga completa', 'Harry Potter: Magical Skies: Enchanted Scene with Transfers', \"Harry Potter and the Philosopher's Stone\", 'Harry Potter and the Half-Blood Prince', 'Harry Potter und die Kammer des Schreckens (Harry Potter, #2)', 'Harry Potter og Flammernes Pokal (Harry Potter, #4)', 'The Casual Vacancy', 'The Tales of Beedle the Bard : Structured Audiobook', 'Harry Potter ja saladuste kamber (Harry Potter, #2)', 'Harry Potter y el prisionero de Azkaban (Harry Potter, #3)', 'Harry Potter y el cáliz de fuego (Harry Potter, #4)', 'Harry Potter y la orden del fénix (Harry Potter, #5)', 'Harry Potter y el misterio del príncipe (Harry Potter, #6)', 'Harry Potter y las reliquias de la muerte (Harry Potter, #7)', 'Harry Potter ve Felsefe Taşı (Harry Potter, #1)', 'Harry Potter ve Ateş Kadehi (Harry Potter, #4)', 'Harry Potter ve Azkaban Tutsağı (Harry Potter, #3)', 'Harry Potter ve Zümrüdüanka Yoldaşlığı (Harry Potter, #5)', 'Harry Potter ve Melez Prens (Harry Potter, #6)', 'Harry Potter ve Ölüm Yadigarları (Harry Potter, #7)', 'Гарри Поттер и Принц-полукровка (Harry Potter #6)', 'Den Harry Potter an den Alchimistesteen (Harry Potter, #1)', 'Den Harry Potter an dem Salazar säi Sall (Harry Potter, #2)', \"Harry Potter and the Philosopher's Stone (Harry Potter #1)\", 'Harry Potter and the Order of the Phoenix (Harry Potter, #5)', 'Harry Potter et la Chambre des Secrets', 'Harry Potter e i doni de la morte', 'Harry Potter e la Camera des Segreti', 'हैरी पॉटर और मायापंछी का समूह (हैरी पॉटर #5)', 'هارى بوتر و حجر الفليسوف', 'هارى بوتر وسجين أزكابان', 'هارى بوتر و مقدسات الموت', 'Harry Potter and the Deathly Hallows (Harry Potter, #7)', 'Hari Poter kaj la Ŝtono de la Saĝuloj (Hari Potter, #1)', '해리포터와 마법사의 돌 (해리포터 #1)', 'Harry Potter y el misterio del principe (Harry Potter #6)', \"Harry Potter à l'école des sorciers\", \"Harry Potter et le Prisonnier d'Azkaban\", 'Harry Potter i Kamen mudrosti (Hari Poter, #1)', 'Harry Potter và hòn đá phù thủy (Harry Potter, #6)', 'Harry Potter und die Kammer des Schreckens (Harry Potter, #2)', 'Harry Potter und der Stein der Weisen (Harry Potter, #1)', 'Harry Potter und der Gefangene von Askaban (Harry Potter, #3)', '哈利·波特与魔法石 (哈利·波特 #1)', 'Harry Potter und der Stein der Weisen (Harry Potter, #1)', 'The Tales of Beedle the Bard', 'Den tomme stolen', 'Very Good Lives: The Fringe Benefits of Failure and the Importance of Imagination', 'La colección completa de libros electrónicos de Harry Potter', 'Een goede raad', 'Harry Potter and the Goblet of Fire (Book 4 - Part 1 - 9 Audio CD set)', 'Harry Potter e o Cálice de Fogo (livro 4)', 'Harry Potter e a Ordem da Fénix (Harry Potter #5)', 'Very Good Lives: The Fringe Benefits of Failure and the Importance of Imagination', 'Гарри Поттер и Дары Смерти (Harry Potter #7)', 'Harry Potter og de vises stein (Harry Potter, #1)', \"Harry Potter et le Prisonnier d'Azkaban (Harry Potter, #3)\", 'Harry Potter y la piedra filosofal (Harry Potter, #1)', \"Harry Potter and the Sorcerer's Stone (Harry Potter, #1)\", 'Harry Potter and the Chamber of Secrets (Harry Potter, #2)', 'Harry Potter and the Prisoner of Azkaban (Harry Potter, #3)', 'Very Good Lives: The Fringe Benefits of Failure and the Importance of Imagination', 'Harry Potter and the Deathly Hallows (Harry Potter, #7)', 'Harry Potter and the Chamber of Secrets (Harry Potter, #2)', 'Harry Potter and the Prisoner of Azkaban (Harry Potter, #3)', 'Harry Potter and the Goblet of Fire (Harry Potter, #4)', 'Harry Potter And The Order Of The Phoenix (Harry Potter, #5)', 'Harry Potter and the Half-Blood Prince (Harry Potter, #6)', 'Harry Potter og ildbegeret (Harry Potter, #4)', 'Harry Potter y el prisionero de Azkaban (Harry Potter, #3)', 'Harry Potter y el cáliz de fuego (Harry Potter, #4)', 'Harry Potter y la Orden del Fénix (Harry Potter, #5)', 'Harry Potter y el misterio del príncipe (Harry Potter, #6)', 'Harry Potter y las Reliquias de la Muerte (Harry Potter, #7)', 'Harry Potter Và Hòn Đá Phù Thủy (Harry Potter, #1)', 'Harry Potter Và Tên Tù Nhân Ngục Azkaban (Harry Potter, #3)', 'Harry Potter Và Chiếc Cốc Lửa (Harry Potter, #4)', 'Harry Potter và Hoàng Tử Lai (Harry Potter, #6)', 'Harry Potter Và Bảo Bối Tử Thần (Harry Potter, #7)', \"Harry Potter and the Philosopher's Stone (Harry Potter, #1)\", 'Harry Potter dan Batu Bertuah (Harry Potter, #1)', 'Harry Potter y la cámara secreta (Harry Potter, #2)', 'Harry Potter og Hemmelighedernes Kammer', 'Den Tomme Stolen', 'ハリー・ポッターシリーズコレクション', 'The Casual Vacancy', 'Harry Potter en de Gevangene van Azkaban (Harry Potter #3)', 'Une place à prendre']}\n"
          ]
        }
      ],
      "source": [
        "def Information(authors_id_list):   #author list in input\n",
        "    author_info = {}\n",
        "    for ids in authors_id_list:\n",
        "        infor = USABLE_DF[USABLE_DF.author_id==ids]  #filter only the id that we need from the USABLE_DF, and then create a list with the book names associated to that id\n",
        "        infor=infor[\"title\"].to_list()\n",
        "        author_info[ids] = infor #create the dictionary with id as key and list as value\n",
        "    return author_info\n",
        "\n",
        "test = Information([1077326])  #Just a test to check if works\n",
        "print(test)"
      ]
    },
    {
      "cell_type": "markdown",
      "metadata": {
        "id": "OG5wjFYXNKW-"
      },
      "source": [
        "- What is the longest book title among the books of the top 20 authors regarding their average rating? Is it the longest book title overall?"
      ]
    },
    {
      "cell_type": "code",
      "execution_count": 69,
      "metadata": {
        "id": "RFYCCCbINKW-",
        "colab": {
          "base_uri": "https://localhost:8080/"
        },
        "outputId": "4e846255-d091-4ce3-e570-3af251d9e6fe"
      },
      "outputs": [
        {
          "output_type": "execute_result",
          "data": {
            "text/plain": [
              "1106403    66\n",
              "318798     62\n",
              "1604840    55\n",
              "1604794    47\n",
              "5340239    44\n",
              "1604815    39\n",
              "6386361    33\n",
              "2734565    30\n",
              "5340272    27\n",
              "1604797    23\n",
              "5340260    21\n",
              "6084871    16\n",
              "6084876    14\n",
              "6662098    13\n",
              "6084885    13\n",
              "1604809    12\n",
              "6386378    10\n",
              "2877874    10\n",
              "3667969     9\n",
              "1604861     6\n",
              "Name: title, dtype: int64"
            ]
          },
          "metadata": {},
          "execution_count": 69
        }
      ],
      "source": [
        "Books_avg = USABLE_DF.sort_values(by=\"average_rating\",ascending=False).iloc[:20] #Sort by average rating and select the top 20\n",
        "\n",
        "def sorter(x):          #Use a sorter function to compute the string lenght\n",
        "    return sorted(x, key=len, reverse=True)\n",
        "\n",
        "Books_avg[\"title\"].apply(sorter).str.len().sort_values(ascending=False) #apply the sorter function defined before, compute the string lenght and then sort everything."
      ]
    },
    {
      "cell_type": "code",
      "execution_count": 70,
      "metadata": {
        "id": "BPL5gJ_MNKW_",
        "colab": {
          "base_uri": "https://localhost:8080/"
        },
        "outputId": "db0414bd-574e-41a7-aee4-39efd039fde8"
      },
      "outputs": [
        {
          "output_type": "execute_result",
          "data": {
            "text/plain": [
              "3130026    255\n",
              "3255694    255\n",
              "3242976    255\n",
              "5824179    255\n",
              "3243055    255\n",
              "3243056    255\n",
              "5819152    255\n",
              "4628083    255\n",
              "3244882    255\n",
              "3244997    255\n",
              "Name: title, dtype: int64"
            ]
          },
          "metadata": {},
          "execution_count": 70
        }
      ],
      "source": [
        "Books_avg = USABLE_DF.sort_values(by=\"average_rating\",ascending=False) #call Boooks_avg a second time, but on the entire dataset\n",
        "Books_avg[\"title\"].apply(sorter).str.len().sort_values(ascending=False).iloc[:10] #As we can see it's not the longest title (and the top 10 is truncated to 255)\n"
      ]
    },
    {
      "cell_type": "markdown",
      "metadata": {
        "id": "XmB0TafQNKW_"
      },
      "source": [
        "- What is the shortest overall book title in the dataset? If you find something strange, provide a comment on what happened and an alternative answer.\n"
      ]
    },
    {
      "cell_type": "code",
      "execution_count": 71,
      "metadata": {
        "id": "cQpez1sONKW_",
        "colab": {
          "base_uri": "https://localhost:8080/"
        },
        "outputId": "783e7043-8e7b-4833-9528-403ad284183c"
      },
      "outputs": [
        {
          "output_type": "execute_result",
          "data": {
            "text/plain": [
              "2551271    0\n",
              "3004231    0\n",
              "2455300    0\n",
              "3031872    0\n",
              "3031871    0\n",
              "2492844    1\n",
              "3409607    1\n",
              "56483      1\n",
              "710631     1\n",
              "863545     1\n",
              "Name: title, dtype: int64"
            ]
          },
          "metadata": {},
          "execution_count": 71
        }
      ],
      "source": [
        "Books_avg[\"title\"].apply(sorter).str.len().sort_values(ascending=True).iloc[:10]"
      ]
    },
    {
      "cell_type": "markdown",
      "metadata": {
        "id": "XbBOht2fNKXC"
      },
      "source": [
        "As we can see, the shortest book title lenght is 0. This is can happen if no title is provided for a book. This means that books with title lenght 1 are the shortest."
      ]
    },
    {
      "cell_type": "markdown",
      "source": [
        "# [RQ5] We can consider the authors with the most fans to be influential. Let’s have a deeper look."
      ],
      "metadata": {
        "id": "cW-6-MzLV5Qd"
      }
    },
    {
      "cell_type": "markdown",
      "source": [
        "*   Plot the top 10 most influential authors regarding their fan count and number of books. Who is the most influential author?\n",
        "\n",
        "\n"
      ],
      "metadata": {
        "id": "cN2NNf-VX7Fi"
      }
    },
    {
      "cell_type": "code",
      "source": [
        "import matplotlib.pyplot as plt\n",
        "\n",
        "# Group by author and calculate fan count and number of books\n",
        "author_group = TOTAL_DF.groupby('author_name').agg({'ratings_count': 'sum', 'id': 'count'}).reset_index()\n",
        "author_group.rename(columns={'ratings_count': 'total_fan_count', 'id': 'number_of_books'}, inplace=True)\n",
        "\n",
        "# Sorting the authors in descending order\n",
        "author_group = author_group.sort_values(by=['total_fan_count', 'number_of_books'], ascending=False)\n",
        "\n",
        "top_10_authors = author_group.head(10)\n",
        "\n",
        "plt.figure(figsize=(12, 6))\n",
        "plt.barh(top_10_authors['author_name'], top_10_authors['total_fan_count'], color='skyblue', label='Fan Count')\n",
        "plt.barh(top_10_authors['author_name'], top_10_authors['number_of_books'], color='lightcoral', label='Number of Books')\n",
        "plt.xlabel('Count')\n",
        "plt.title('Top 10 Most Influential Authors')\n",
        "plt.legend()\n",
        "plt.show()\n",
        "\n",
        "most_influential_author = top_10_authors.iloc[0]\n",
        "print(\"The most influential author is:\", most_influential_author['author_name'])\n"
      ],
      "metadata": {
        "id": "d_v76SWUX-oF",
        "colab": {
          "base_uri": "https://localhost:8080/",
          "height": 0
        },
        "outputId": "1c83c930-5fc3-4aee-d4cc-b74f0a75a021"
      },
      "execution_count": 72,
      "outputs": [
        {
          "output_type": "display_data",
          "data": {
            "text/plain": [
              "<Figure size 1200x600 with 1 Axes>"
            ],
            "image/png": "[encoded data removed]"
          },
          "metadata": {}
        },
        {
          "output_type": "stream",
          "name": "stdout",
          "text": [
            "The most influential author is: Jane Austen\n"
          ]
        }
      ]
    },
    {
      "cell_type": "markdown",
      "source": [
        "The most influential author is: Jane Austen"
      ],
      "metadata": {
        "id": "KxfDs5KLZcRm"
      }
    },
    {
      "cell_type": "markdown",
      "source": [
        "\n",
        "\n",
        "*   Have they published any series of books? If any, extract the longest series name among these authors.\n",
        "\n",
        "\n",
        "---\n",
        "\n",
        "\n",
        "\n",
        "\n",
        "\n"
      ],
      "metadata": {
        "id": "VOms8dVTZCL4"
      }
    },
    {
      "cell_type": "code",
      "source": [
        "# the list of top 10 influential authors\n",
        "top_10_author_names = top_10_authors['author_name'].tolist()\n",
        "\n",
        "# Filtering so that we could include books authored by the top 10 authors\n",
        "top_10_author_books = TOTAL_DF[TOTAL_DF['author_name'].isin(top_10_author_names)]\n",
        "\n",
        "series_names = top_10_author_books['title'].str.extract(r'\\((.*?)\\)', expand=False).dropna()\n",
        "if not series_names.empty:\n",
        "    longest_series_name = series_names[series_names.str.len().idxmax()]\n",
        "    print(\"The longest series name among the top 10 authors is:\", longest_series_name)\n",
        "else:\n",
        "    print(\"None of the top 10 authors have published a series of books.\")"
      ],
      "metadata": {
        "id": "xsaxEE-RZ2kS",
        "colab": {
          "base_uri": "https://localhost:8080/"
        },
        "outputId": "79381c34-3712-47a7-f45d-b3983122b246"
      },
      "execution_count": 73,
      "outputs": [
        {
          "output_type": "stream",
          "name": "stdout",
          "text": [
            "The longest series name among the top 10 authors is: L'Abbaye de Northanger - Le Coeur et la Raison - Orgueil et préjugé. Appendices : Lady Susan - Les Watson. Oeuvres de jeunesse : Amour et amitié - Histoire de l'Angleterre\n"
          ]
        }
      ]
    },
    {
      "cell_type": "markdown",
      "source": [
        "\n",
        "The longest series name among the top 10 authors is:\n",
        "\n",
        "\"L'Abbaye de Northanger - Le Coeur et la Raison - Orgueil et préjugé. Appendices : Lady Susan - Les Watson. Oeuvres de jeunesse : Amour et amitié - Histoire de l'Angleterre\""
      ],
      "metadata": {
        "id": "xG68hR69T_0p"
      }
    },
    {
      "cell_type": "markdown",
      "source": [
        "\n",
        "\n",
        "*  How many of these authors have been published in different formats? Provide a meaningful chart on the distribution of the formats and comment on it.\n",
        "\n",
        "\n"
      ],
      "metadata": {
        "id": "puxJuRMCaTNS"
      }
    },
    {
      "cell_type": "code",
      "source": [
        "top_10_author_books = TOTAL_DF[TOTAL_DF['author_name'].isin(top_10_author_names)]\n",
        "\n",
        "# Counting the number of unique formats for each author\n",
        "formats_count = top_10_author_books.groupby('author_name')['format'].nunique().reset_index()\n",
        "\n",
        "plt.figure(figsize=(10, 6))\n",
        "plt.bar(formats_count['author_name'], formats_count['format'], color='darkblue')\n",
        "plt.xlabel('Author')\n",
        "plt.ylabel('Number of Different Formats')\n",
        "plt.title('Distribution of Different Formats for Top 10 Authors')\n",
        "plt.xticks(rotation=45, ha='right')\n",
        "plt.show()\n",
        "\n",
        "# Counting the number of authors published in different formats\n",
        "authors_with_multiple_formats = (formats_count['format'] > 1).sum()\n",
        "\n",
        "print(\"Number of authors published in different formats:\", authors_with_multiple_formats)\n"
      ],
      "metadata": {
        "id": "MZXF75-ZaXD6",
        "colab": {
          "base_uri": "https://localhost:8080/",
          "height": 0
        },
        "outputId": "3925b4d0-cd75-460c-f4d0-89030883e584"
      },
      "execution_count": 74,
      "outputs": [
        {
          "output_type": "display_data",
          "data": {
            "text/plain": [
              "<Figure size 1000x600 with 1 Axes>"
            ],
            "image/png": "[encoded data removed]"
          },
          "metadata": {}
        },
        {
          "output_type": "stream",
          "name": "stdout",
          "text": [
            "Number of authors published in different formats: 10\n"
          ]
        }
      ]
    },
    {
      "cell_type": "markdown",
      "source": [
        "\n",
        "\n",
        "*   Provide information about the general response from readers (number of fans, average rating, number of reviews, etc.), divide the authors by gender, and comment about anything eventually related to “structural bias.” You may want to have a look at the following recommended readings:\n",
        "\n",
        "- https://bhm.scholasticahq.com/article/38021\n",
        "\n",
        "- https://priyanka-ddit.medium.com/how-to-deal-with-imbalanced-dataset-86de86c49\n",
        "\n",
        "- https://compass.onlinelibrary.wiley.com/doi/10.1111/soc4.12962\n",
        "\n"
      ],
      "metadata": {
        "id": "cA66LSKra78-"
      }
    },
    {
      "cell_type": "markdown",
      "source": [
        "Here's a prompt generated by ChatGPT:\n",
        "\n",
        "\"Can you provide information and insights on the topic of structural bias in data analysis? I'm interested in understanding what structural bias is, how it can affect data analysis, and best practices for identifying and mitigating bias in datasets and analysis processes.\"\n",
        "\n",
        "Response:\n",
        "\"Structural bias in data analysis refers to biases that are inherent in the data, data collection processes, or analytical methods, which can lead to unfair or inaccurate results. This bias can result from historical inequalities, data collection methods, or the framing of research questions. It is essential to recognize and address structural bias to ensure fair and unbiased analysis.\n",
        "\n",
        "Structural bias can manifest in various ways, such as underrepresentation of certain groups in the dataset, sampling biases, or biases in algorithmic decision-making. This can lead to unfair outcomes, such as discrimination or inequities in decision-making.\n",
        "\n",
        "To identify and mitigate structural bias, data analysts should:\n",
        "\n",
        "Be aware of potential biases in data sources and collection methods.\n",
        "Use diverse and representative datasets whenever possible.\n",
        "Implement fairness-aware algorithms and models to reduce bias.\n",
        "Regularly assess the impact of bias on analysis outcomes.\n",
        "Addressing structural bias is crucial for ethical and fair data analysis and decision-making.\""
      ],
      "metadata": {
        "id": "orL10lKBbn9l"
      }
    },
    {
      "cell_type": "markdown",
      "source": [
        "# [RQ6] For this question, consider the top 10 authors concerning the number of fans again."
      ],
      "metadata": {
        "id": "w7au2b3IWeCm"
      }
    },
    {
      "cell_type": "markdown",
      "source": [
        "\n",
        "\n",
        "*   Provide the average time gap between two subsequent publications for a series of books and those not belonging to a series. What do you expect to see, and what is the actual answer to this question?\n",
        "\n"
      ],
      "metadata": {
        "id": "tSMnr-N6bnJr"
      }
    },
    {
      "cell_type": "markdown",
      "source": [
        "\n",
        "\n",
        "*   For each of the authors, give a convenient plot showing how many books has the given author published UP TO a given year. Are these authors contemporary with each other? Can you notice a range of years where their production rate was higher?\n",
        "\n"
      ],
      "metadata": {
        "id": "cUxodXccc22t"
      }
    },
    {
      "cell_type": "code",
      "source": [
        "top_10_author_books = TOTAL_DF[TOTAL_DF['author_name'].isin(top_10_author_names)]\n",
        "\n",
        "# Converting the date column to a datetime object\n",
        "top_10_author_books['publication_date'] = pd.to_datetime(top_10_author_books['publication_date'], errors='coerce')\n",
        "\n",
        "# Create a plot for each author\n",
        "for author_name in top_10_author_names:\n",
        "    author_data = top_10_author_books[top_10_author_books['author_name'] == author_name]\n",
        "\n",
        "    # Group by year and count the number of books published each year\n",
        "    yearly_counts = author_data['publication_date'].dt.year.value_counts().sort_index().cumsum()\n",
        "    plt.plot(yearly_counts.index, yearly_counts.values, label=author_name)\n",
        "\n",
        "plt.xlabel('Year')\n",
        "plt.ylabel('Cumulative Count of Published Books')\n",
        "plt.legend()\n",
        "plt.title('Cumulative Count of Published Books Over Time for Top 10 Authors')\n",
        "plt.show()\n"
      ],
      "metadata": {
        "colab": {
          "base_uri": "https://localhost:8080/",
          "height": 585
        },
        "id": "MTdVlFSkc6eJ",
        "outputId": "6825800d-12de-4747-fefb-b0d3757a5988"
      },
      "execution_count": 75,
      "outputs": [
        {
          "output_type": "stream",
          "name": "stderr",
          "text": [
            "<ipython-input-75-b9d88fc8cb7a>:4: SettingWithCopyWarning: \n",
            "A value is trying to be set on a copy of a slice from a DataFrame.\n",
            "Try using .loc[row_indexer,col_indexer] = value instead\n",
            "\n",
            "See the caveats in the documentation: https://pandas.pydata.org/pandas-docs/stable/user_guide/indexing.html#returning-a-view-versus-a-copy\n",
            "  top_10_author_books['publication_date'] = pd.to_datetime(top_10_author_books['publication_date'], errors='coerce')\n"
          ]
        },
        {
          "output_type": "display_data",
          "data": {
            "text/plain": [
              "<Figure size 640x480 with 1 Axes>"
            ],
            "image/png": "[encoded data removed]"
          },
          "metadata": {}
        }
      ]
    },
    {
      "cell_type": "markdown",
      "source": [
        "To construct a graph showing the number of books published by each author up to a certain year and to assess whether these authors are contemporaries of each other, as well as to identify periods with higher levels of output, the following steps can be followed:\n",
        "\n",
        "Filter the dataset to include books by authors of interest.\n",
        "Group the data by author and year of publication to count the number of books published by each author in each year.\n",
        "Create a cumulative count of the number of books published for each author.\n",
        "Graph the cumulative count of books for each author over time."
      ],
      "metadata": {
        "id": "bLbF4Ra2drEy"
      }
    },
    {
      "cell_type": "markdown",
      "metadata": {
        "id": "symIx3yVNKXC"
      },
      "source": [
        "## [RQ7] Estimating probabilities is a core skill for a data scientist: show us your best!\n",
        "\n",
        "\n"
      ]
    },
    {
      "cell_type": "markdown",
      "metadata": {
        "id": "UzesNb-tNKXD"
      },
      "source": [
        "- Estimate the probability that a book has over 30% of the ratings above 4.\n"
      ]
    },
    {
      "cell_type": "code",
      "execution_count": 76,
      "metadata": {
        "id": "J6VrwC4MNKXE",
        "outputId": "e1ee909c-6dec-425c-bf21-76a9e94e917e",
        "colab": {
          "base_uri": "https://localhost:8080/"
        }
      },
      "outputs": [
        {
          "output_type": "stream",
          "name": "stdout",
          "text": [
            "The percentage of books that satisfy the request is 94.1\n"
          ]
        }
      ],
      "source": [
        "import re\n",
        "\n",
        "usable_ratings = USABLE_DF.loc[USABLE_DF[\"ratings_count\"]>0]  #To avoid division by zero\n",
        "\n",
        "ratings = usable_ratings[\"rating_dist\"]\n",
        "count = int()\n",
        "\n",
        "regex_pattern = r'(?<=\\:)[0-9]+' #positive lookbehind for special character \":\" and number identification\n",
        "for rating in ratings:\n",
        "    matched_list = re.findall(regex_pattern,rating)\n",
        "    if len(matched_list) == 6:\n",
        "        desired_rating_percentage = round(((int(matched_list[0])+int(matched_list[1]))/int(matched_list[5]))*100,2) #first and second element of the list are 5 and 4 rating\n",
        "    if desired_rating_percentage > 30:\n",
        "        count+=1\n",
        "\n",
        "print(\"The percentage of books that satisfy the request is\",round(count/len(ratings)*100,2) )\n",
        "\n",
        "#Read how the ratings are distributed, and the input should be something like 5:1000 | 4: 200 | 3: 100 | 2: 200 | 1: 50. Let us filter the number of rating\n",
        "#that are >=4 (so rating_45 = sum(rating 4 and 5)). Compute the percentage (rating_45 / total_ratings)*100 and that is for just one book. Compute it for every book and filter\n",
        "#how many books verify this condition. To estimate the final probabilty: (#number of books that verify the condition / #total books)*100"
      ]
    },
    {
      "cell_type": "markdown",
      "metadata": {
        "id": "cRXSGI0iNKXE"
      },
      "source": [
        "- Estimate the probability that an author publishes a new book within two years from its last work.\n"
      ]
    },
    {
      "cell_type": "code",
      "execution_count": 77,
      "metadata": {
        "id": "9d4Pao9sNKXF",
        "outputId": "95575fda-9445-4a65-d75e-115e4fd60475",
        "colab": {
          "base_uri": "https://localhost:8080/"
        }
      },
      "outputs": [
        {
          "output_type": "stream",
          "name": "stdout",
          "text": [
            "Probability of an author publishing a new book within two years from the last work: 73.68\n"
          ]
        }
      ],
      "source": [
        "\n",
        "USABLE_DF = USABLE_DF.loc[USABLE_DF[\"publication_date\"]!='',:] #we take all the rows besides the empty ones\n",
        "#only YYYY,YYY,YY,Y,YYYY-MM-DD,YYY-MM-DD,YYYY-MM, YYY-MM\n",
        "USABLE_DF = USABLE_DF[USABLE_DF.publication_date.str.contains(r'^\\d{1}$|^\\d{2}$|^\\d{3}$|^\\d{4}$|^\\d{4}-\\d{2}-\\d{2}$|^\\d{3}-\\d{2}-\\d{2}$|^\\d{4}-\\d{2}$|^\\d{3}-\\d{2}$')]\n",
        "#add a new column FROM RQ3 with the years\n",
        "USABLE_DF['year'] = USABLE_DF['publication_date'].str.split('-').str[0] #take only the years out of the Regex\n",
        "USABLE_DF['year'] = USABLE_DF['year'].astype(int) # turns the STRING YYYY into INT\n",
        "USABLE_DF = USABLE_DF[USABLE_DF['year'] < 2023] #takes the values before 2023\n",
        "\n",
        "# Sort the data by author and publication date\n",
        "USABLE_DF = USABLE_DF.sort_values(['author_id', 'year'])\n",
        "\n",
        "# Calculate time difference between consecutive works for each author\n",
        "USABLE_DF['Time_Difference'] = USABLE_DF.groupby('author_id')['year'].diff()\n",
        "\n",
        "# Determine authors with a time gap of <= 2 years\n",
        "authors_within_two_years = USABLE_DF[USABLE_DF['Time_Difference'] <= 2]['author_id'].unique()\n",
        "\n",
        "# Calculate the probability\n",
        "total_authors = USABLE_DF['author_id'].nunique()\n",
        "authors_within_two_years_count = len(authors_within_two_years)\n",
        "probability = (authors_within_two_years_count / total_authors) * 100\n",
        "\n",
        "print(f\"Probability of an author publishing a new book within two years from the last work: {probability:.2f}\")\n"
      ]
    },
    {
      "cell_type": "markdown",
      "metadata": {
        "id": "I98FHEY4NKXF"
      },
      "source": [
        "- In the file list.json, you will find a peculiar list named \"The Worst Books of All Time.\" Estimate the probability of a book being included in this list, knowing it has  more than 700 pages.\n"
      ]
    },
    {
      "cell_type": "code",
      "execution_count": 78,
      "metadata": {
        "id": "Tk0cZn_2NKXG",
        "colab": {
          "base_uri": "https://localhost:8080/",
          "height": 417
        },
        "outputId": "1141b623-ca54-4b20-b0e0-90f13742d897"
      },
      "outputs": [
        {
          "output_type": "error",
          "ename": "FileNotFoundError",
          "evalue": "ignored",
          "traceback": [
            "\u001b[0;31m---------------------------------------------------------------------------\u001b[0m",
            "\u001b[0;31mFileNotFoundError\u001b[0m                         Traceback (most recent call last)",
            "\u001b[0;32m<ipython-input-78-4c4dc83ffb47>\u001b[0m in \u001b[0;36m<cell line: 1>\u001b[0;34m()\u001b[0m\n\u001b[0;32m----> 1\u001b[0;31m \u001b[0mdata_list\u001b[0m \u001b[0;34m=\u001b[0m \u001b[0mpd\u001b[0m\u001b[0;34m.\u001b[0m\u001b[0mread_json\u001b[0m\u001b[0;34m(\u001b[0m\u001b[0;34m'list.json'\u001b[0m\u001b[0;34m,\u001b[0m\u001b[0mlines\u001b[0m\u001b[0;34m=\u001b[0m\u001b[0;32mTrue\u001b[0m\u001b[0;34m,\u001b[0m\u001b[0mchunksize\u001b[0m\u001b[0;34m=\u001b[0m\u001b[0;36m10000\u001b[0m\u001b[0;34m)\u001b[0m\u001b[0;34m\u001b[0m\u001b[0;34m\u001b[0m\u001b[0m\n\u001b[0m\u001b[1;32m      2\u001b[0m \u001b[0mtotal_data_list\u001b[0m \u001b[0;34m=\u001b[0m \u001b[0mpd\u001b[0m\u001b[0;34m.\u001b[0m\u001b[0mDataFrame\u001b[0m\u001b[0;34m(\u001b[0m\u001b[0;34m)\u001b[0m\u001b[0;34m\u001b[0m\u001b[0;34m\u001b[0m\u001b[0m\n\u001b[1;32m      3\u001b[0m \u001b[0;32mfor\u001b[0m \u001b[0mchunk\u001b[0m \u001b[0;32min\u001b[0m \u001b[0mdata_list\u001b[0m\u001b[0;34m:\u001b[0m  \u001b[0;31m#drop columns that are not useful or that are redundant\u001b[0m\u001b[0;34m\u001b[0m\u001b[0;34m\u001b[0m\u001b[0m\n\u001b[1;32m      4\u001b[0m     \u001b[0mPARTIAL_DATA\u001b[0m \u001b[0;34m=\u001b[0m \u001b[0mchunk\u001b[0m\u001b[0;34m[\u001b[0m\u001b[0;34m[\u001b[0m\u001b[0;34m'id'\u001b[0m\u001b[0;34m,\u001b[0m\u001b[0;34m'title'\u001b[0m\u001b[0;34m,\u001b[0m\u001b[0;34m'num_pages'\u001b[0m\u001b[0;34m,\u001b[0m\u001b[0;34m'num_books'\u001b[0m\u001b[0;34m,\u001b[0m\u001b[0;34m'books'\u001b[0m\u001b[0;34m]\u001b[0m\u001b[0;34m]\u001b[0m\u001b[0;34m\u001b[0m\u001b[0;34m\u001b[0m\u001b[0m\n\u001b[1;32m      5\u001b[0m     \u001b[0mtotal_data_list\u001b[0m \u001b[0;34m=\u001b[0m \u001b[0mpd\u001b[0m\u001b[0;34m.\u001b[0m\u001b[0mconcat\u001b[0m\u001b[0;34m(\u001b[0m\u001b[0;34m[\u001b[0m\u001b[0mtotal_data_list\u001b[0m\u001b[0;34m,\u001b[0m\u001b[0mPARTIAL_DATA\u001b[0m\u001b[0;34m]\u001b[0m\u001b[0;34m)\u001b[0m\u001b[0;34m\u001b[0m\u001b[0;34m\u001b[0m\u001b[0m\n",
            "\u001b[0;32m/usr/local/lib/python3.10/dist-packages/pandas/util/_decorators.py\u001b[0m in \u001b[0;36mwrapper\u001b[0;34m(*args, **kwargs)\u001b[0m\n\u001b[1;32m    209\u001b[0m                 \u001b[0;32melse\u001b[0m\u001b[0;34m:\u001b[0m\u001b[0;34m\u001b[0m\u001b[0;34m\u001b[0m\u001b[0m\n\u001b[1;32m    210\u001b[0m                     \u001b[0mkwargs\u001b[0m\u001b[0;34m[\u001b[0m\u001b[0mnew_arg_name\u001b[0m\u001b[0;34m]\u001b[0m \u001b[0;34m=\u001b[0m \u001b[0mnew_arg_value\u001b[0m\u001b[0;34m\u001b[0m\u001b[0;34m\u001b[0m\u001b[0m\n\u001b[0;32m--> 211\u001b[0;31m             \u001b[0;32mreturn\u001b[0m \u001b[0mfunc\u001b[0m\u001b[0;34m(\u001b[0m\u001b[0;34m*\u001b[0m\u001b[0margs\u001b[0m\u001b[0;34m,\u001b[0m \u001b[0;34m**\u001b[0m\u001b[0mkwargs\u001b[0m\u001b[0;34m)\u001b[0m\u001b[0;34m\u001b[0m\u001b[0;34m\u001b[0m\u001b[0m\n\u001b[0m\u001b[1;32m    212\u001b[0m \u001b[0;34m\u001b[0m\u001b[0m\n\u001b[1;32m    213\u001b[0m         \u001b[0;32mreturn\u001b[0m \u001b[0mcast\u001b[0m\u001b[0;34m(\u001b[0m\u001b[0mF\u001b[0m\u001b[0;34m,\u001b[0m \u001b[0mwrapper\u001b[0m\u001b[0;34m)\u001b[0m\u001b[0;34m\u001b[0m\u001b[0;34m\u001b[0m\u001b[0m\n",
            "\u001b[0;32m/usr/local/lib/python3.10/dist-packages/pandas/util/_decorators.py\u001b[0m in \u001b[0;36mwrapper\u001b[0;34m(*args, **kwargs)\u001b[0m\n\u001b[1;32m    329\u001b[0m                     \u001b[0mstacklevel\u001b[0m\u001b[0;34m=\u001b[0m\u001b[0mfind_stack_level\u001b[0m\u001b[0;34m(\u001b[0m\u001b[0;34m)\u001b[0m\u001b[0;34m,\u001b[0m\u001b[0;34m\u001b[0m\u001b[0;34m\u001b[0m\u001b[0m\n\u001b[1;32m    330\u001b[0m                 )\n\u001b[0;32m--> 331\u001b[0;31m             \u001b[0;32mreturn\u001b[0m \u001b[0mfunc\u001b[0m\u001b[0;34m(\u001b[0m\u001b[0;34m*\u001b[0m\u001b[0margs\u001b[0m\u001b[0;34m,\u001b[0m \u001b[0;34m**\u001b[0m\u001b[0mkwargs\u001b[0m\u001b[0;34m)\u001b[0m\u001b[0;34m\u001b[0m\u001b[0;34m\u001b[0m\u001b[0m\n\u001b[0m\u001b[1;32m    332\u001b[0m \u001b[0;34m\u001b[0m\u001b[0m\n\u001b[1;32m    333\u001b[0m         \u001b[0;31m# error: \"Callable[[VarArg(Any), KwArg(Any)], Any]\" has no\u001b[0m\u001b[0;34m\u001b[0m\u001b[0;34m\u001b[0m\u001b[0m\n",
            "\u001b[0;32m/usr/local/lib/python3.10/dist-packages/pandas/io/json/_json.py\u001b[0m in \u001b[0;36mread_json\u001b[0;34m(path_or_buf, orient, typ, dtype, convert_axes, convert_dates, keep_default_dates, numpy, precise_float, date_unit, encoding, encoding_errors, lines, chunksize, compression, nrows, storage_options)\u001b[0m\n\u001b[1;32m    731\u001b[0m         \u001b[0mconvert_axes\u001b[0m \u001b[0;34m=\u001b[0m \u001b[0;32mTrue\u001b[0m\u001b[0;34m\u001b[0m\u001b[0;34m\u001b[0m\u001b[0m\n\u001b[1;32m    732\u001b[0m \u001b[0;34m\u001b[0m\u001b[0m\n\u001b[0;32m--> 733\u001b[0;31m     json_reader = JsonReader(\n\u001b[0m\u001b[1;32m    734\u001b[0m         \u001b[0mpath_or_buf\u001b[0m\u001b[0;34m,\u001b[0m\u001b[0;34m\u001b[0m\u001b[0;34m\u001b[0m\u001b[0m\n\u001b[1;32m    735\u001b[0m         \u001b[0morient\u001b[0m\u001b[0;34m=\u001b[0m\u001b[0morient\u001b[0m\u001b[0;34m,\u001b[0m\u001b[0;34m\u001b[0m\u001b[0;34m\u001b[0m\u001b[0m\n",
            "\u001b[0;32m/usr/local/lib/python3.10/dist-packages/pandas/io/json/_json.py\u001b[0m in \u001b[0;36m__init__\u001b[0;34m(self, filepath_or_buffer, orient, typ, dtype, convert_axes, convert_dates, keep_default_dates, numpy, precise_float, date_unit, encoding, lines, chunksize, compression, nrows, storage_options, encoding_errors)\u001b[0m\n\u001b[1;32m    816\u001b[0m                 \u001b[0;32mraise\u001b[0m \u001b[0mValueError\u001b[0m\u001b[0;34m(\u001b[0m\u001b[0;34m\"nrows can only be passed if lines=True\"\u001b[0m\u001b[0;34m)\u001b[0m\u001b[0;34m\u001b[0m\u001b[0;34m\u001b[0m\u001b[0m\n\u001b[1;32m    817\u001b[0m \u001b[0;34m\u001b[0m\u001b[0m\n\u001b[0;32m--> 818\u001b[0;31m         \u001b[0mdata\u001b[0m \u001b[0;34m=\u001b[0m \u001b[0mself\u001b[0m\u001b[0;34m.\u001b[0m\u001b[0m_get_data_from_filepath\u001b[0m\u001b[0;34m(\u001b[0m\u001b[0mfilepath_or_buffer\u001b[0m\u001b[0;34m)\u001b[0m\u001b[0;34m\u001b[0m\u001b[0;34m\u001b[0m\u001b[0m\n\u001b[0m\u001b[1;32m    819\u001b[0m         \u001b[0mself\u001b[0m\u001b[0;34m.\u001b[0m\u001b[0mdata\u001b[0m \u001b[0;34m=\u001b[0m \u001b[0mself\u001b[0m\u001b[0;34m.\u001b[0m\u001b[0m_preprocess_data\u001b[0m\u001b[0;34m(\u001b[0m\u001b[0mdata\u001b[0m\u001b[0;34m)\u001b[0m\u001b[0;34m\u001b[0m\u001b[0;34m\u001b[0m\u001b[0m\n\u001b[1;32m    820\u001b[0m \u001b[0;34m\u001b[0m\u001b[0m\n",
            "\u001b[0;32m/usr/local/lib/python3.10/dist-packages/pandas/io/json/_json.py\u001b[0m in \u001b[0;36m_get_data_from_filepath\u001b[0;34m(self, filepath_or_buffer)\u001b[0m\n\u001b[1;32m    872\u001b[0m             \u001b[0;32mand\u001b[0m \u001b[0;32mnot\u001b[0m \u001b[0mfile_exists\u001b[0m\u001b[0;34m(\u001b[0m\u001b[0mfilepath_or_buffer\u001b[0m\u001b[0;34m)\u001b[0m\u001b[0;34m\u001b[0m\u001b[0;34m\u001b[0m\u001b[0m\n\u001b[1;32m    873\u001b[0m         ):\n\u001b[0;32m--> 874\u001b[0;31m             \u001b[0;32mraise\u001b[0m \u001b[0mFileNotFoundError\u001b[0m\u001b[0;34m(\u001b[0m\u001b[0;34mf\"File {filepath_or_buffer} does not exist\"\u001b[0m\u001b[0;34m)\u001b[0m\u001b[0;34m\u001b[0m\u001b[0;34m\u001b[0m\u001b[0m\n\u001b[0m\u001b[1;32m    875\u001b[0m \u001b[0;34m\u001b[0m\u001b[0m\n\u001b[1;32m    876\u001b[0m         \u001b[0;32mreturn\u001b[0m \u001b[0mfilepath_or_buffer\u001b[0m\u001b[0;34m\u001b[0m\u001b[0;34m\u001b[0m\u001b[0m\n",
            "\u001b[0;31mFileNotFoundError\u001b[0m: File list.json does not exist"
          ]
        }
      ],
      "source": [
        "data_list = pd.read_json('list.json',lines=True,chunksize=10000)\n",
        "total_data_list = pd.DataFrame()\n",
        "for chunk in data_list:  #drop columns that are not useful or that are redundant\n",
        "    PARTIAL_DATA = chunk[['id','title','num_pages','num_books','books']]\n",
        "    total_data_list = pd.concat([total_data_list,PARTIAL_DATA])"
      ]
    },
    {
      "cell_type": "markdown",
      "metadata": {
        "id": "R6oV_qDINKXG"
      },
      "source": [
        "First of all, we need to load the series.json (in chunks)"
      ]
    },
    {
      "cell_type": "markdown",
      "metadata": {
        "id": "phfWsTLPNKXH"
      },
      "source": [
        "Using the conditional probability formula, if $X$ and $Y$ are events,$P(X|Y) = P(X\\cap Y)/P(Y)$. We can compute all of the probabilities. $P(Y)$ is the number of books with more than 700 pages and $P(X \\cap Y)$ is the probability that a book has more than 700 page and that is in the list."
      ]
    },
    {
      "cell_type": "code",
      "execution_count": null,
      "metadata": {
        "id": "Q3fAjek1NKXI"
      },
      "outputs": [],
      "source": [
        "worst_books = total_data_list.loc[total_data_list.title == \"The Worst Books of All Time\"]\n",
        "\n",
        "over700_books = USABLE_DF[USABLE_DF[\"num_pages\"]>=700].work_id.tolist() #create a list of work_ids (books) that verify the condition\n",
        "\n",
        "books_count = int()\n",
        "\n",
        "for element in (worst_books.books[0]):      #for every element\n",
        "    control_id = int(element[\"book_id\"])\n",
        "    if control_id in over700_books:\n",
        "        books_count += 1\n",
        "print(books_count)\n",
        "\n",
        "#Compute the probability\n",
        "print(\"The probability of P(X|Y) is\",round(books_count/len(over700_books)*100,3),\"%\")"
      ]
    },
    {
      "cell_type": "markdown",
      "metadata": {
        "id": "YQ345xQ-NKXI"
      },
      "source": [
        "- Are the events X=’Being Included in The Worst Books of All Time list’ and Y=’Having more than 700 pages’ independent? Explain how you have obtained your answer.\n"
      ]
    },
    {
      "cell_type": "markdown",
      "metadata": {
        "id": "jTe-U_OZNKXK"
      },
      "source": [
        "By definition, if X and Y are events, then they are independent if $P(X \\cap Y) = P(X)*P(Y)$. We can compute both of this probabilities. $P(Y)$ is probability that a book has more than 700 pages, whereas $P(X)$ is the probability of being included in that specific list. We can compute the probability of the intersection $P(X \\cap Y)$ and check if the equality holds."
      ]
    },
    {
      "cell_type": "code",
      "execution_count": null,
      "metadata": {
        "id": "dYebOuIMNKXL"
      },
      "outputs": [],
      "source": [
        "print(\"The probability of the intersection is\", books_count/len(USABLE_DF))\n",
        "print(\"The probability of the product is\",len(worst_books)/len(USABLE_DF)*(len(over700_books)/len(USABLE_DF)))"
      ]
    },
    {
      "cell_type": "markdown",
      "metadata": {
        "id": "3xkJRR7NNKXL"
      },
      "source": [
        "As we can see, the two probabilities are different, so we can conclude that $X$ and $Y$ are not independent"
      ]
    },
    {
      "cell_type": "markdown",
      "metadata": {
        "id": "7fm_r9b9NKXM"
      },
      "source": [
        "## Bonus Points"
      ]
    },
    {
      "cell_type": "markdown",
      "metadata": {
        "id": "A55zq12jNKXM"
      },
      "source": [
        "1.\n",
        "\n",
        "- Select one alternative library to Pandas (i.e., Dask, Polar, Vaex, Datatable, etc.), upload authors.json dataset, and filter authors with at least 100 reviews. Do the same using Pandas and compare performance in terms of milliseconds.\n",
        "\n",
        "- Select one alternative library to Pandas (i.e., Dask, Polar, Vaex, Datatable, etc.), upload books.json, and join them with authors.json based on author_id. How many books don’t have a match for the author?\n"
      ]
    },
    {
      "cell_type": "code",
      "execution_count": null,
      "metadata": {
        "id": "gVQUpGykNKXM"
      },
      "outputs": [],
      "source": [
        "import dask.dataframe as dd\n",
        "import pandas as pd\n",
        "import datetime\n"
      ]
    },
    {
      "cell_type": "code",
      "execution_count": null,
      "metadata": {
        "id": "Y3f37wvnNKXN"
      },
      "outputs": [],
      "source": [
        "start_time = datetime.datetime.now()\n",
        "\n",
        "data_auth_dask = dd.read_json('/content/lighter_authors.json.1',blocksize=16 * 1024 * 1024) #16MB chunks\n",
        "data_auth_dask.query(f'text_reviews_count > {100}').compute()\n",
        "\n",
        "end_time = datetime.datetime.now()\n",
        "\n",
        "time_diff = (end_time - start_time)\n",
        "execution_time = time_diff.total_seconds() * 1000\n",
        "print(\"Milliseconds elapsed for DASK:\",round(execution_time,2),\"ms\")"
      ]
    },
    {
      "cell_type": "code",
      "execution_count": null,
      "metadata": {
        "id": "Js3ie556NKXN"
      },
      "outputs": [],
      "source": [
        "start_time = datetime.datetime.now()\n",
        "\n",
        "data_auth = pd.read_json('/content/lighter_authors.json.1',lines=True)\n",
        "data_auth.loc[data_auth.text_reviews_count > 100]\n",
        "\n",
        "end_time = datetime.datetime.now()\n",
        "\n",
        "time_diff = (end_time - start_time)\n",
        "execution_time = time_diff.total_seconds() * 1000\n",
        "print(\"MIlliseconds elapsed for PANDAS:\",round(execution_time,2),\"ms\")"
      ]
    },
    {
      "cell_type": "markdown",
      "metadata": {
        "id": "_KzKEgzlNKXN"
      },
      "source": [
        "The performance are comparable, however when it comes to load a large dataset, DASK is extremely fast"
      ]
    },
    {
      "cell_type": "code",
      "execution_count": null,
      "metadata": {
        "id": "9ruf-io9NKXO"
      },
      "outputs": [],
      "source": [
        "data_books_dask = dd.read_json('lighter_books.json',blocksize=32 * 1024 * 1024)\n",
        "data_auth_dask = data_auth_dask.rename(columns={\"id\":\"author_id\"})"
      ]
    },
    {
      "cell_type": "code",
      "execution_count": null,
      "metadata": {
        "id": "4Wd4cg8oNKXP"
      },
      "outputs": [],
      "source": [
        "data_auth_dask.describe"
      ]
    },
    {
      "cell_type": "code",
      "execution_count": null,
      "metadata": {
        "id": "E68qjeu9NKXP"
      },
      "outputs": [],
      "source": [
        "data_books_dask.describe"
      ]
    },
    {
      "cell_type": "code",
      "execution_count": null,
      "metadata": {
        "id": "O14Sj4TFNKXQ"
      },
      "outputs": [],
      "source": [
        "join = data_books_dask.merge(data_auth_dask, on='author_id', how='inner')\n",
        "join.compute()\n"
      ]
    },
    {
      "cell_type": "markdown",
      "metadata": {
        "id": "yIwkXtEzNKXQ"
      },
      "source": [
        "## AWS Question (AWSQ)"
      ]
    },
    {
      "cell_type": "markdown",
      "metadata": {
        "id": "MNBi13cSNKXQ"
      },
      "source": [
        "#### Configuration of the EC2 instance on AWS\n",
        "\n",
        "- AMI (Amazon Machine Image) : Ubuntu Server 22.04 LTS, SSD Volume Type (The default choice when selecting a new Ubuntu image on AWS)\n",
        "- Istance Type : t2.micro with 1vCPU, 1 GiB of RAM\n",
        "- Storage : 20 GiB of generic use SSD (gp2)\n",
        "\n",
        "#### Command used to connect\n",
        "- For this task i've used puTTy and WinSCP. The first one is for connecting remotely to the machine whereas the second one is for data trasferring between the local machine and the EC2 instance. Once created, i opened puTTY and filled the blanks (\"Host Name\", Port, connection type) and under the category \"Connection/SSH/credentials\" i added the key-value-pair to connect to the instance.\n",
        "\n",
        "- WinSCP was used as a GUI interface to upload \"list.json\" and \"list_script.py\". No command were used since it was simply a drag and drop action from a folder in the local machine to a folder in the EC2 instance. The connection setup for WinSCP was exactly the same as puTTY.\n",
        "\n",
        "\n",
        "\n"
      ]
    },
    {
      "cell_type": "markdown",
      "metadata": {
        "id": "pseGa2VqNKXR"
      },
      "source": [
        "![image.png](attachment:image.png)\n",
        "\n",
        "![image-2.png](attachment:image-2.png)"
      ]
    },
    {
      "cell_type": "markdown",
      "metadata": {
        "id": "tbE1rQukNKXR"
      },
      "source": [
        "Once connected i typed the following commands to setup the machine for the python script:\n",
        "- sudo apt update && sudo apt upgrade     (generally used to update a new machine)\n",
        "- sudo apt install python3-pip            (pip for then downloading pandas library)\n",
        "- pip install pandas                      (download pandas library)\n"
      ]
    },
    {
      "cell_type": "markdown",
      "metadata": {
        "id": "5A4SkrgGNKXT"
      },
      "source": [
        "- The following two lines are the outputs (with system time) for both the local and aws machine\n",
        "\n",
        "\n",
        "\n",
        "('romance', 6001)\n",
        "('fiction', 5291)\n",
        "('young-adult', 5016)\n",
        "('fantasy', 3666)\n",
        "('science-fiction', 2779)\n",
        "Milliseconds elapsed for AWS_EC2_MACHINE: 49995.11 ms\n",
        "\n",
        "\n",
        "('romance', 6001)\n",
        "('fiction', 5291)\n",
        "('young-adult', 5016)\n",
        "('fantasy', 3666)\n",
        "('science-fiction', 2779)\n",
        "Milliseconds elapsed for LOCAL_MACHINE: 29105.07 ms\n",
        "\n",
        "- This is a prettier version of the output\n",
        "\n",
        "| Tag             | #usage |\n",
        "|-----------------|--------|\n",
        "| romance         | 6001   |  \n",
        "| fiction         | 5291   |\n",
        "| young-adult     | 5016   |\n",
        "| fantasy         | 3666   |\n",
        "| science-fiction | 2779   |\n",
        "\n",
        "\n",
        "| Machine | time elapsed (in ms) |\n",
        "|---------|------|\n",
        "| EC2 | 49995.11 ms|\n",
        "| Local | 29105.07 ms|\n",
        "\n",
        "And below the outputs from each terminal\n"
      ]
    },
    {
      "cell_type": "markdown",
      "metadata": {
        "id": "O6ScCcSkNKXT"
      },
      "source": [
        "![image.png](attachment:image.png)"
      ]
    },
    {
      "cell_type": "markdown",
      "metadata": {
        "id": "pvE5pTXkNKXV"
      },
      "source": [
        "![image.png](attachment:image.png)"
      ]
    },
    {
      "cell_type": "markdown",
      "metadata": {
        "id": "IqwEg3SlNKXY"
      },
      "source": [
        "#### Considerations and comments\n",
        "\n",
        "- The script was modified to fit the specifications of the EC2 instance, so the chunksize has been set to 200\n",
        "- The \"Local\" machine is considerably faster, but we have to keep in mind that a better ubuntu instance could be much faster"
      ]
    },
    {
      "cell_type": "markdown",
      "metadata": {
        "id": "_R7nLOAmNKXY"
      },
      "source": [
        "## Command Line Question (CLQ)"
      ]
    },
    {
      "cell_type": "markdown",
      "metadata": {
        "id": "OIp3U7drNKXa"
      },
      "source": [
        "For this task we used JQ as a Json parser (and as a command line tool). Below we find the 2 output, the \"original\" and the improved one"
      ]
    },
    {
      "cell_type": "markdown",
      "metadata": {
        "id": "kMhlAPnMNKXc"
      },
      "source": [
        "![image.png](attachment:image.png)"
      ]
    },
    {
      "cell_type": "markdown",
      "metadata": {
        "id": "VprK-ROvNKXc"
      },
      "source": [
        "![image.png](attachment:image.png)"
      ]
    },
    {
      "cell_type": "markdown",
      "metadata": {
        "id": "sHMHc40tNKXd"
      },
      "source": [
        "For the improved one we asked the following things:\n",
        "- How can i create a .sh file in less than 3 lines\n",
        "- If i don't want to specify the Json file i use in the terminal, is it possible to add it in the code"
      ]
    },
    {
      "cell_type": "markdown",
      "metadata": {
        "id": "UQVBUwXqNKXd"
      },
      "source": [
        "### Here is the explanation of the improved script from ChatGPT\n"
      ]
    },
    {
      "cell_type": "markdown",
      "metadata": {
        "id": "u0ZXDGOvNKXd"
      },
      "source": [
        "1. Set the JSON file path: json_file=\"series.json\"\n",
        "2. Check if jq is installed: jq -e . \"$json_file\" >/dev/null 2>&1 || { echo \"Error: jq is not installed or the JSON file is invalid.\"; exit 1; }\n",
        "3. This line checks if the jq command-line tool is installed and if the provided JSON file is valid. It does this by attempting to run jq -e . \"$json_file\". If jq is not installed or the JSON file is invalid, it will print an error message and exit with a status code of 1.\n",
        "4. Timing the execution: time. The time command is used to measure the execution time of the jq commands and provide information about how long they took to run.\n",
        "5. Process the JSON file: time jq -r '. | {id, title, total_books_count: [.works[]| (.books_count | tonumber)] | add}' \"$json_file\" | jq -s 'sort_by(-.total_books_count) | .[:5] | .[] | \"ID:\\(.id) | TITLE:\\(.title) | TOTAL_BOOKS_COUNT:\\(.total_books_count)\"'\n",
        "\n",
        "This is the main part of the script, where the JSON file is processed.\n",
        "\n",
        "Let's break down this line step by step:\n",
        "\n",
        "jq -r '. | {id, title, total_books_count: [.works[]| (.books_count | tonumber)] | add}' \"$json_file\":\n",
        "This part of the command uses jq to perform the following operations:\n",
        "\n",
        "It reads the contents of the JSON file specified by the json_file variable.\n",
        "It then extracts specific fields from the JSON data, creating a new JSON object for each entry in the array.\n",
        "The extracted fields are \"id,\" \"title,\" and \"total_books_count,\" where \"total_books_count\" is calculated by iterating over the \"works\" array and summing up the \"books_count\" values after converting them to numbers.\n",
        "jq -s 'sort_by(-.total_books_count) | .[:5] | .[] | \"ID:\\(.id) | TITLE:\\(.title) | TOTAL_BOOKS_COUNT:\\(.total_books_count)\"':\n",
        "This part of the command further processes the JSON data obtained from the previous jq command.\n",
        "\n",
        "It first sorts the JSON objects based on the \"total_books_count\" field in descending order (largest to smallest).\n",
        "It then selects the first five elements from the sorted array.\n",
        "Finally, it extracts the \"id,\" \"title,\" and \"total_books_count\" fields from each of the top five elements and formats them into a string with labels.\n",
        "\n"
      ]
    },
    {
      "cell_type": "markdown",
      "metadata": {
        "id": "CzEIUCb8NKXe"
      },
      "source": [
        "To check if it's correct we simply compare the two results we see in the images"
      ]
    },
    {
      "cell_type": "markdown",
      "metadata": {
        "id": "Ab6cZBKcNKXf"
      },
      "source": [
        "## Algorithmic Question (AQ)"
      ]
    },
    {
      "cell_type": "markdown",
      "metadata": {
        "id": "x-70hQaVNKXg"
      },
      "source": [
        "\n",
        "\n",
        "- Implement a code to answer the problem above.\n"
      ]
    },
    {
      "cell_type": "code",
      "execution_count": null,
      "metadata": {
        "id": "45brcbmpNKXg"
      },
      "outputs": [],
      "source": [
        "\n",
        "def supervisor_instructions(instructions):                        # We enter a function to process instructions from the supervisor\n",
        "    left_shelf = []  # Inside the function, we create a list to store books on the shelf on the left side of the function\n",
        "    right_shelf = [] # Inside the function, we create a list to store books on the shelf on the right side of the function\n",
        "    total_amount_of_books = 0  # Enter a variable to account for the total number of books on the shelf\n",
        "    keep_answers = []  # And also a list for storing responses to Type 3 instructions\n",
        "\n",
        "    for instruction in instructions:      # Let's start parsing each instruction in order, provided in the list of instructions\n",
        "        command, *params = instruction.split()\n",
        "        if command == \"L\":\n",
        "            # For \"L\" instructions, we add the book id to the left_shelf list, placing it to the left of the leftmost existing book\n",
        "            book_id = int(params[0])\n",
        "            left_shelf.append(book_id)\n",
        "        elif command == \"R\":\n",
        "            # For \"R\" instructions, we add the book ID to the right_shelf list, placing it to the right of the rightmost existing book\n",
        "            book_id = int(params[0])\n",
        "            right_shelf.append(book_id)\n",
        "        elif command == \"?\":\n",
        "            # For \"?\" instructions, we calculate the minimum number of books to retrieve from the left or right to make the book with the specified identifier the leftmost or rightmost book on the shelf.\n",
        "            #To do this, we find the position of the book in the corresponding shelf list (or the length of the list if the book is missing) and calculate the difference between the total number of books and the number of books on the left.\n",
        "            #Then the minimum of these two values is added to the list\n",
        "            book_id = int(params[0])\n",
        "            left_count = left_shelf.index(book_id) if book_id in left_shelf else len(left_shelf)\n",
        "            right_count = len(right_shelf) - right_shelf.index(book_id) if book_id in right_shelf else len(right_shelf) + total_amount_of_books - len(left_shelf)\n",
        "            keep_answers.append(min(left_count, right_count))\n",
        "\n",
        "        total_amount_of_books += 1 #Update the total_amount_of_books variable to track the total number of books\n",
        "\n",
        "    return keep_answers\n",
        "\n",
        "#Enter a number that represents the number of instructions the supervisor will provide\n",
        "number_of_instructions = int(input())\n",
        "instructions = [input() for _ in range(number_of_instructions)] #Generate a list of instructions, where each element of the list represents one instruction\n",
        "keep_answers = supervisor_instructions(instructions) # Answer the instructions\n",
        "\n",
        "# And display responses to supervisor's instructions\n",
        "for answer in keep_answers:\n",
        "    print(answer)\n",
        "\n",
        "def supervisor_instructions(instructions):                        # We enter a function to process instructions from the supervisor\n",
        "    left_shelf = []  # Inside the function, we create a list to store books on the shelf on the left side of the function\n",
        "    right_shelf = [] # Inside the function, we create a list to store books on the shelf on the right side of the function\n",
        "    total_amount_of_books = 0  # Enter a variable to account for the total number of books on the shelf\n",
        "    keep_answers = []  # And also a list for storing responses to Type 3 instructions\n",
        "\n",
        "    for instruction in instructions:      # Let's start parsing each instruction in order, provided in the list of instructions\n",
        "        command, *params = instruction.split()\n",
        "        if command == \"L\":\n",
        "            # For \"L\" instructions, we add the book id to the left_shelf list, placing it to the left of the leftmost existing book\n",
        "            book_id = int(params[0])\n",
        "            left_shelf.append(book_id)\n",
        "        elif command == \"R\":\n",
        "            # For \"R\" instructions, we add the book ID to the right_shelf list, placing it to the right of the rightmost existing book\n",
        "            book_id = int(params[0])\n",
        "            right_shelf.append(book_id)\n",
        "        elif command == \"?\":\n",
        "            # For \"?\" instructions, we calculate the minimum number of books to retrieve from the left or right to make the book with the specified identifier the leftmost or rightmost book on the shelf.\n",
        "            #To do this, we find the position of the book in the corresponding shelf list (or the length of the list if the book is missing) and calculate the difference between the total number of books and the number of books on the left.\n",
        "            #Then the minimum of these two values is added to the list\n",
        "            book_id = int(params[0])\n",
        "            left_count = left_shelf.index(book_id) if book_id in left_shelf else len(left_shelf)\n",
        "            right_count = len(right_shelf) - right_shelf.index(book_id) if book_id in right_shelf else len(right_shelf) + total_amount_of_books - len(left_shelf)\n",
        "            keep_answers.append(min(left_count, right_count))\n",
        "\n",
        "        total_amount_of_books += 1 #Update the total_amount_of_books variable to track the total number of books\n",
        "\n",
        "    return keep_answers\n",
        "\n",
        "number_of_instructions = int(input()) #Enter a number that represents the number of instructions the supervisor will provide\n",
        "instructions = [input() for _ in range(number_of_instructions)] #Generate a list of instructions, where each element of the list represents one instruction\n",
        "keep_answers = supervisor_instructions(instructions) # Answer the instructions\n",
        "\n",
        "# And display responses to supervisor's instructions\n",
        "for answer in keep_answers:\n",
        "    print(answer)\n"
      ]
    },
    {
      "cell_type": "markdown",
      "metadata": {
        "id": "m1OkcW6hNKXi"
      },
      "source": [
        "*   Ask ChatGPT or any other LLM chatbot tool to check your code's time complexity (the Big O notation).\n",
        "\n",
        "ChatGPT says: \"The code has a time complexity of O(n) where n is the number of instructions. It efficiently processes the instructions in a linear fashion, making it a reasonably efficient algorithm for this problem.\"\n",
        "\n",
        "\n",
        "*   Do you believe this is correct? How can you double-check it? Elaborate about your answer.\n",
        "\n",
        "The code processes instructions linearly and the code execution time directly depends on the size of the input data, i.e. the number of instructions. This means that as the number of instructions increases, the time required to process them also increases proportionally. The time complexity of the code is thus O(n), where 'n' is the number of instructions. This property is a characteristic for algorithms with linear time complexity. It is important to note that the code processes each instruction sequentially and the instruction processing occurs only once. Therefore, as the size of the input data increases, the total execution time of all instructions will increase proportionally.\n",
        "\n",
        "To double-check the analysis of the code's time complexity we can:\n",
        "Firstly, we must understand the code to make sure that it is linear, so to make sure that the code processes each instruction once. And that operations inside loops have constant complexity. Also, there should be no nested loops or complex recursive operations in the code.\n",
        "Secondly, we should test the code with large input data and observe how the execution time changes when the 'n' value increases linearly. If the execution time increases linearly, this is real evidence that the time complexity of the code is indeed O(n).\n",
        "Eventually we should assume then there may be a worse scenario, but the time complexity will still be bounded by O(n). Considering these conditions, we can make sure that the analysis of time complexity is correct and corresponds to the real time performance of the code.\n",
        "\n",
        "\n",
        "*   Is the algorithm proposed in (1.) the optimal one to produce the required output? If not, can you suggest a better algorithm to perform the same task?\n",
        "\n",
        "The algorithm proposed in (1.) can be better. Linear search in such lists takes time proportional to the number of books, which may be inefficient. We can use data structures such as dictionaries or sets, which provide faster searches based on book identifiers. This can significantly increase the time complexity of the code. The optimal solution is to choose efficient data structures that provide fast search and improve the overall performance of the algorithm.\n",
        "\n",
        "1. The more optimal time complexity of the algorithm is due to the use of `left_shelf` and `right_shelf` lists to represent the left and right sides of the shelf. These lists store book identifiers, and when a book identifier is searched using `left_shelf.indexing(an_id_of_the_book)` or `right_shelf.indexing(an_id_of_the_book)`. The linear search takes time proportional to the number of items in the list. In the worst case, when a book is not found on the shelf, the search may take O(k) time, where 'k' is the number of books placed on the shelf.\n",
        "\n",
        "\n",
        "\n",
        "2. The using of dictionaries/sets will help to provide O(1) time complexity for search operations. In case of dictionaries, keys can be book identifiers and values can be their positions on the shelf, which provides direct access.\n",
        "\"\"\""
      ]
    }
  ],
  "metadata": {
    "kernelspec": {
      "display_name": "Python 3",
      "name": "python3"
    },
    "language_info": {
      "codemirror_mode": {
        "name": "ipython",
        "version": 3
      },
      "file_extension": ".py",
      "mimetype": "text/x-python",
      "name": "python",
      "nbconvert_exporter": "python",
      "pygments_lexer": "ipython3",
      "version": "3.8.18"
    },
    "colab": {
      "provenance": [],
      "collapsed_sections": [
        "xO4rOkF9NKWk",
        "ix3Jx1yGNKW0",
        "pvuGuke8NKW7",
        "symIx3yVNKXC",
        "7fm_r9b9NKXM",
        "yIwkXtEzNKXQ",
        "_R7nLOAmNKXY",
        "Ab6cZBKcNKXf"
      ],
      "machine_shape": "hm"
    }
  },
  "nbformat": 4,
  "nbformat_minor": 0
}